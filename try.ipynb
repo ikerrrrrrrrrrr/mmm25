{
 "cells": [
  {
   "cell_type": "code",
   "execution_count": 4,
   "metadata": {},
   "outputs": [
    {
     "name": "stdout",
     "output_type": "stream",
     "text": [
      "32 0.01 2 5 0.3 100\n"
     ]
    }
   ],
   "source": [
    "\n",
    "\n",
    "params = {\n",
    "'batch_size': 32,  # Set batch size\n",
    "'lr': 0.01,\n",
    "'n_layers': 2,\n",
    "'num_epochs': 5 , # Adjust the number of epochs based on performance\n",
    "'dropout_p': 0.3,\n",
    "'hidden_layers_count': 100\n",
    "}\n",
    "\n",
    "a,b,c,d,e,f = params.values()\n",
    "print(a,b,c,d,e,f)\n"
   ]
  }
 ],
 "metadata": {
  "kernelspec": {
   "display_name": "Python 3",
   "language": "python",
   "name": "python3"
  },
  "language_info": {
   "codemirror_mode": {
    "name": "ipython",
    "version": 3
   },
   "file_extension": ".py",
   "mimetype": "text/x-python",
   "name": "python",
   "nbconvert_exporter": "python",
   "pygments_lexer": "ipython3",
   "version": "3.9.21"
  }
 },
 "nbformat": 4,
 "nbformat_minor": 2
}
