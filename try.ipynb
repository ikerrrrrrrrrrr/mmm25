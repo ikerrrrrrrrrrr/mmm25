{
 "cells": [
  {
   "cell_type": "code",
   "execution_count": 1,
   "metadata": {},
   "outputs": [
    {
     "name": "stdout",
     "output_type": "stream",
     "text": [
      "[5, 2, 1, 0, 4, 3, 8, 7, 6, 10, 9]\n"
     ]
    }
   ],
   "source": [
    "def get_middle_values(arr):\n",
    "    result = []\n",
    "\n",
    "    def recursive_split(sub_arr):\n",
    "        # 如果子数组为空，直接返回\n",
    "        if not sub_arr:\n",
    "            return\n",
    "\n",
    "        # 计算中间索引\n",
    "        mid = len(sub_arr) // 2\n",
    "        result.append(sub_arr[mid])  # 添加中间值\n",
    "\n",
    "        # 如果子数组长度大于1，继续递归处理左右两部分\n",
    "        if len(sub_arr) > 1:\n",
    "            recursive_split(sub_arr[:mid])  # 左半部分\n",
    "            recursive_split(sub_arr[mid + 1:])  # 右半部分\n",
    "\n",
    "    # 从整个数组开始递归\n",
    "    recursive_split(arr)\n",
    "    return result\n",
    "\n",
    "\n",
    "# 测试数组\n",
    "arr = [0, 1, 2, 3, 4, 5, 6, 7, 8, 9, 10]\n",
    "result = get_middle_values(arr)\n",
    "print(result)\n"
   ]
  },
  {
   "cell_type": "code",
   "execution_count": 11,
   "metadata": {},
   "outputs": [
    {
     "name": "stdout",
     "output_type": "stream",
     "text": [
      "[5, 2, 8, 1, 4, 7, 10, 0, 3, 6, 9]\n"
     ]
    }
   ],
   "source": [
    "def get_middle_values(arr):\n",
    "    result = []\n",
    "    n = len(arr)\n",
    "    queue = [(0, n)]  # 使用队列存储当前需要处理的段的起始和结束索引\n",
    "\n",
    "    while queue:\n",
    "        new_queue = []  # 用于存储下一轮需要处理的段\n",
    "        for start, end in queue:\n",
    "            mid = (start + end) // 2  # 计算当前段的中间索引\n",
    "            result.append(arr[mid])  # 添加中间值\n",
    "            # 如果当前段可以继续分割，则将左右两部分加入队列\n",
    "            if mid > start:  # 左半部分\n",
    "                new_queue.append((start, mid))\n",
    "            if mid + 1 < end:  # 右半部分\n",
    "                new_queue.append((mid + 1, end))\n",
    "        queue = new_queue  # 更新队列\n",
    "\n",
    "    return result\n",
    "\n",
    "\n",
    "# 测试数组\n",
    "arr = [0, 1, 2, 3, 4, 5, 6, 7, 8, 9, 10]\n",
    "result = get_middle_values(arr)\n",
    "print(result)"
   ]
  },
  {
   "cell_type": "code",
   "execution_count": 10,
   "metadata": {},
   "outputs": [
    {
     "data": {
      "text/plain": [
       "10"
      ]
     },
     "execution_count": 10,
     "metadata": {},
     "output_type": "execute_result"
    }
   ],
   "source": [
    "arr = [0, 1, 2, 3, 4, 5, 6, 7, 8, 9, 10]\n",
    "len(arr)\n",
    "arr[len(arr)-1]"
   ]
  }
 ],
 "metadata": {
  "kernelspec": {
   "display_name": "Python 3",
   "language": "python",
   "name": "python3"
  },
  "language_info": {
   "codemirror_mode": {
    "name": "ipython",
    "version": 3
   },
   "file_extension": ".py",
   "mimetype": "text/x-python",
   "name": "python",
   "nbconvert_exporter": "python",
   "pygments_lexer": "ipython3",
   "version": "3.9.21"
  }
 },
 "nbformat": 4,
 "nbformat_minor": 2
}
