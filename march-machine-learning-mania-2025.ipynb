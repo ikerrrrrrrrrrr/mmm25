{
 "cells": [
  {
   "cell_type": "markdown",
   "id": "cfe72eb3",
   "metadata": {
    "papermill": {
     "duration": 0.005908,
     "end_time": "2025-02-25T13:25:28.357098",
     "exception": false,
     "start_time": "2025-02-25T13:25:28.351190",
     "status": "completed"
    },
    "tags": []
   },
   "source": [
    "### ***1/ import the library***"
   ]
  },
  {
   "cell_type": "code",
   "execution_count": 2,
   "id": "b49d8344",
   "metadata": {
    "execution": {
     "iopub.execute_input": "2025-02-25T13:25:28.368898Z",
     "iopub.status.busy": "2025-02-25T13:25:28.368529Z",
     "iopub.status.idle": "2025-02-25T13:25:34.591562Z",
     "shell.execute_reply": "2025-02-25T13:25:34.589868Z"
    },
    "papermill": {
     "duration": 6.231594,
     "end_time": "2025-02-25T13:25:34.593945",
     "exception": false,
     "start_time": "2025-02-25T13:25:28.362351",
     "status": "completed"
    },
    "tags": []
   },
   "outputs": [],
   "source": [
    "import pandas as pd\n",
    "import numpy as np\n",
    "import os\n",
    "from sklearn.model_selection import train_test_split\n",
    "from sklearn.pipeline import Pipeline\n",
    "from sklearn.preprocessing import StandardScaler\n",
    "from sklearn.impute import SimpleImputer\n",
    "from sklearn.ensemble import RandomForestClassifier\n",
    "from sklearn.metrics import brier_score_loss\n",
    "import lightgbm as lgb\n",
    "from sklearn.model_selection import RandomizedSearchCV"
   ]
  },
  {
   "cell_type": "markdown",
   "id": "a4e6dd54",
   "metadata": {
    "papermill": {
     "duration": 0.00487,
     "end_time": "2025-02-25T13:25:34.604436",
     "exception": false,
     "start_time": "2025-02-25T13:25:34.599566",
     "status": "completed"
    },
    "tags": []
   },
   "source": [
    "### ***2/ Path definition***"
   ]
  },
  {
   "cell_type": "code",
   "execution_count": 3,
   "id": "ae8a3f02",
   "metadata": {
    "execution": {
     "iopub.execute_input": "2025-02-25T13:25:34.616143Z",
     "iopub.status.busy": "2025-02-25T13:25:34.615413Z",
     "iopub.status.idle": "2025-02-25T13:25:35.219490Z",
     "shell.execute_reply": "2025-02-25T13:25:35.218243Z"
    },
    "papermill": {
     "duration": 0.612113,
     "end_time": "2025-02-25T13:25:35.221617",
     "exception": false,
     "start_time": "2025-02-25T13:25:34.609504",
     "status": "completed"
    },
    "tags": []
   },
   "outputs": [],
   "source": [
    "\n",
    "base_path = \"./kaggle/input/march-machine-learning-mania-2025/\"\n",
    "\n",
    "# Loading files\n",
    "df_season = pd.read_csv(os.path.join(base_path, \"MRegularSeasonDetailedResults.csv\"))\n",
    "df_submission = pd.read_csv(os.path.join(base_path, \"SampleSubmissionStage2.csv\"))\n",
    "\n",
    "# List of statistics used\n",
    "stat_cols = [\"WScore\", \"LScore\", \"WFGM\", \"WFGA\", \"WFGM3\", \"WFGA3\", \"WFTM\", \"WFTA\", \"WAst\", \"WTO\", \"WOR\", \"WDR\"]"
   ]
  },
  {
   "cell_type": "markdown",
   "id": "e5d30b5a",
   "metadata": {
    "papermill": {
     "duration": 0.004889,
     "end_time": "2025-02-25T13:25:35.232477",
     "exception": false,
     "start_time": "2025-02-25T13:25:35.227588",
     "status": "completed"
    },
    "tags": []
   },
   "source": [
    "### ***3/ Creation of average statistics per team***"
   ]
  },
  {
   "cell_type": "code",
   "execution_count": 4,
   "id": "c80bad58",
   "metadata": {
    "execution": {
     "iopub.execute_input": "2025-02-25T13:25:35.243712Z",
     "iopub.status.busy": "2025-02-25T13:25:35.243367Z",
     "iopub.status.idle": "2025-02-25T13:25:35.285227Z",
     "shell.execute_reply": "2025-02-25T13:25:35.283997Z"
    },
    "papermill": {
     "duration": 0.050676,
     "end_time": "2025-02-25T13:25:35.288117",
     "exception": false,
     "start_time": "2025-02-25T13:25:35.237441",
     "status": "completed"
    },
    "tags": []
   },
   "outputs": [],
   "source": [
    "team_stats = df_season.groupby(\"WTeamID\").agg({col: \"mean\" for col in stat_cols}).reset_index()\n",
    "team_stats.rename(columns={\"WTeamID\": \"TeamID\"}, inplace=True)"
   ]
  },
  {
   "cell_type": "code",
   "execution_count": 5,
   "id": "60bee59e",
   "metadata": {
    "execution": {
     "iopub.execute_input": "2025-02-25T13:25:35.299905Z",
     "iopub.status.busy": "2025-02-25T13:25:35.299561Z",
     "iopub.status.idle": "2025-02-25T13:25:35.327677Z",
     "shell.execute_reply": "2025-02-25T13:25:35.326322Z"
    },
    "papermill": {
     "duration": 0.036164,
     "end_time": "2025-02-25T13:25:35.329628",
     "exception": false,
     "start_time": "2025-02-25T13:25:35.293464",
     "status": "completed"
    },
    "tags": []
   },
   "outputs": [
    {
     "data": {
      "text/html": [
       "<div>\n",
       "<style scoped>\n",
       "    .dataframe tbody tr th:only-of-type {\n",
       "        vertical-align: middle;\n",
       "    }\n",
       "\n",
       "    .dataframe tbody tr th {\n",
       "        vertical-align: top;\n",
       "    }\n",
       "\n",
       "    .dataframe thead th {\n",
       "        text-align: right;\n",
       "    }\n",
       "</style>\n",
       "<table border=\"1\" class=\"dataframe\">\n",
       "  <thead>\n",
       "    <tr style=\"text-align: right;\">\n",
       "      <th></th>\n",
       "      <th>TeamID</th>\n",
       "      <th>WScore</th>\n",
       "      <th>LScore</th>\n",
       "      <th>WFGM</th>\n",
       "      <th>WFGA</th>\n",
       "      <th>WFGM3</th>\n",
       "      <th>WFGA3</th>\n",
       "      <th>WFTM</th>\n",
       "      <th>WFTA</th>\n",
       "      <th>WAst</th>\n",
       "      <th>WTO</th>\n",
       "      <th>WOR</th>\n",
       "      <th>WDR</th>\n",
       "    </tr>\n",
       "  </thead>\n",
       "  <tbody>\n",
       "    <tr>\n",
       "      <th>0</th>\n",
       "      <td>1101</td>\n",
       "      <td>76.608108</td>\n",
       "      <td>65.364865</td>\n",
       "      <td>26.398649</td>\n",
       "      <td>55.871622</td>\n",
       "      <td>7.222973</td>\n",
       "      <td>18.925676</td>\n",
       "      <td>16.587838</td>\n",
       "      <td>22.648649</td>\n",
       "      <td>15.162162</td>\n",
       "      <td>12.729730</td>\n",
       "      <td>8.675676</td>\n",
       "      <td>22.986486</td>\n",
       "    </tr>\n",
       "    <tr>\n",
       "      <th>1</th>\n",
       "      <td>1102</td>\n",
       "      <td>70.122807</td>\n",
       "      <td>57.308772</td>\n",
       "      <td>23.877193</td>\n",
       "      <td>48.561404</td>\n",
       "      <td>8.557895</td>\n",
       "      <td>21.214035</td>\n",
       "      <td>13.810526</td>\n",
       "      <td>19.157895</td>\n",
       "      <td>15.782456</td>\n",
       "      <td>11.284211</td>\n",
       "      <td>7.070175</td>\n",
       "      <td>22.957895</td>\n",
       "    </tr>\n",
       "    <tr>\n",
       "      <th>2</th>\n",
       "      <td>1103</td>\n",
       "      <td>75.768898</td>\n",
       "      <td>63.248380</td>\n",
       "      <td>26.049676</td>\n",
       "      <td>55.710583</td>\n",
       "      <td>8.604752</td>\n",
       "      <td>22.749460</td>\n",
       "      <td>15.064795</td>\n",
       "      <td>21.589633</td>\n",
       "      <td>14.853132</td>\n",
       "      <td>12.274298</td>\n",
       "      <td>10.362851</td>\n",
       "      <td>24.853132</td>\n",
       "    </tr>\n",
       "    <tr>\n",
       "      <th>3</th>\n",
       "      <td>1104</td>\n",
       "      <td>77.849658</td>\n",
       "      <td>64.198178</td>\n",
       "      <td>26.917995</td>\n",
       "      <td>57.485194</td>\n",
       "      <td>7.785877</td>\n",
       "      <td>21.580866</td>\n",
       "      <td>16.227790</td>\n",
       "      <td>23.015945</td>\n",
       "      <td>14.170843</td>\n",
       "      <td>13.173121</td>\n",
       "      <td>11.665148</td>\n",
       "      <td>26.961276</td>\n",
       "    </tr>\n",
       "    <tr>\n",
       "      <th>4</th>\n",
       "      <td>1105</td>\n",
       "      <td>73.000000</td>\n",
       "      <td>63.035354</td>\n",
       "      <td>24.595960</td>\n",
       "      <td>56.358586</td>\n",
       "      <td>6.060606</td>\n",
       "      <td>17.797980</td>\n",
       "      <td>17.747475</td>\n",
       "      <td>25.919192</td>\n",
       "      <td>13.434343</td>\n",
       "      <td>14.590909</td>\n",
       "      <td>11.878788</td>\n",
       "      <td>26.530303</td>\n",
       "    </tr>\n",
       "  </tbody>\n",
       "</table>\n",
       "</div>"
      ],
      "text/plain": [
       "   TeamID     WScore     LScore       WFGM       WFGA     WFGM3      WFGA3  \\\n",
       "0    1101  76.608108  65.364865  26.398649  55.871622  7.222973  18.925676   \n",
       "1    1102  70.122807  57.308772  23.877193  48.561404  8.557895  21.214035   \n",
       "2    1103  75.768898  63.248380  26.049676  55.710583  8.604752  22.749460   \n",
       "3    1104  77.849658  64.198178  26.917995  57.485194  7.785877  21.580866   \n",
       "4    1105  73.000000  63.035354  24.595960  56.358586  6.060606  17.797980   \n",
       "\n",
       "        WFTM       WFTA       WAst        WTO        WOR        WDR  \n",
       "0  16.587838  22.648649  15.162162  12.729730   8.675676  22.986486  \n",
       "1  13.810526  19.157895  15.782456  11.284211   7.070175  22.957895  \n",
       "2  15.064795  21.589633  14.853132  12.274298  10.362851  24.853132  \n",
       "3  16.227790  23.015945  14.170843  13.173121  11.665148  26.961276  \n",
       "4  17.747475  25.919192  13.434343  14.590909  11.878788  26.530303  "
      ]
     },
     "execution_count": 5,
     "metadata": {},
     "output_type": "execute_result"
    }
   ],
   "source": [
    "team_stats.head()"
   ]
  },
  {
   "cell_type": "code",
   "execution_count": 6,
   "id": "c8c15ddb",
   "metadata": {
    "execution": {
     "iopub.execute_input": "2025-02-25T13:25:35.341620Z",
     "iopub.status.busy": "2025-02-25T13:25:35.341224Z",
     "iopub.status.idle": "2025-02-25T13:25:35.364187Z",
     "shell.execute_reply": "2025-02-25T13:25:35.362610Z"
    },
    "papermill": {
     "duration": 0.03106,
     "end_time": "2025-02-25T13:25:35.366082",
     "exception": false,
     "start_time": "2025-02-25T13:25:35.335022",
     "status": "completed"
    },
    "tags": []
   },
   "outputs": [
    {
     "name": "stdout",
     "output_type": "stream",
     "text": [
      "<class 'pandas.core.frame.DataFrame'>\n",
      "RangeIndex: 371 entries, 0 to 370\n",
      "Data columns (total 13 columns):\n",
      " #   Column  Non-Null Count  Dtype  \n",
      "---  ------  --------------  -----  \n",
      " 0   TeamID  371 non-null    int64  \n",
      " 1   WScore  371 non-null    float64\n",
      " 2   LScore  371 non-null    float64\n",
      " 3   WFGM    371 non-null    float64\n",
      " 4   WFGA    371 non-null    float64\n",
      " 5   WFGM3   371 non-null    float64\n",
      " 6   WFGA3   371 non-null    float64\n",
      " 7   WFTM    371 non-null    float64\n",
      " 8   WFTA    371 non-null    float64\n",
      " 9   WAst    371 non-null    float64\n",
      " 10  WTO     371 non-null    float64\n",
      " 11  WOR     371 non-null    float64\n",
      " 12  WDR     371 non-null    float64\n",
      "dtypes: float64(12), int64(1)\n",
      "memory usage: 37.8 KB\n"
     ]
    }
   ],
   "source": [
    "team_stats.info()"
   ]
  },
  {
   "cell_type": "code",
   "execution_count": 7,
   "id": "4e53867e",
   "metadata": {
    "execution": {
     "iopub.execute_input": "2025-02-25T13:25:35.378704Z",
     "iopub.status.busy": "2025-02-25T13:25:35.378228Z",
     "iopub.status.idle": "2025-02-25T13:25:35.421717Z",
     "shell.execute_reply": "2025-02-25T13:25:35.420545Z"
    },
    "papermill": {
     "duration": 0.051994,
     "end_time": "2025-02-25T13:25:35.423664",
     "exception": false,
     "start_time": "2025-02-25T13:25:35.371670",
     "status": "completed"
    },
    "tags": []
   },
   "outputs": [
    {
     "data": {
      "text/html": [
       "<div>\n",
       "<style scoped>\n",
       "    .dataframe tbody tr th:only-of-type {\n",
       "        vertical-align: middle;\n",
       "    }\n",
       "\n",
       "    .dataframe tbody tr th {\n",
       "        vertical-align: top;\n",
       "    }\n",
       "\n",
       "    .dataframe thead th {\n",
       "        text-align: right;\n",
       "    }\n",
       "</style>\n",
       "<table border=\"1\" class=\"dataframe\">\n",
       "  <thead>\n",
       "    <tr style=\"text-align: right;\">\n",
       "      <th></th>\n",
       "      <th>count</th>\n",
       "      <th>mean</th>\n",
       "      <th>std</th>\n",
       "      <th>min</th>\n",
       "      <th>25%</th>\n",
       "      <th>50%</th>\n",
       "      <th>75%</th>\n",
       "      <th>max</th>\n",
       "    </tr>\n",
       "  </thead>\n",
       "  <tbody>\n",
       "    <tr>\n",
       "      <th>TeamID</th>\n",
       "      <td>371.0</td>\n",
       "      <td>1291.606469</td>\n",
       "      <td>109.110563</td>\n",
       "      <td>1101.000000</td>\n",
       "      <td>1197.500000</td>\n",
       "      <td>1291.000000</td>\n",
       "      <td>1385.500000</td>\n",
       "      <td>1480.000000</td>\n",
       "    </tr>\n",
       "    <tr>\n",
       "      <th>WScore</th>\n",
       "      <td>371.0</td>\n",
       "      <td>75.650485</td>\n",
       "      <td>2.669996</td>\n",
       "      <td>68.244444</td>\n",
       "      <td>73.828311</td>\n",
       "      <td>75.616216</td>\n",
       "      <td>77.265967</td>\n",
       "      <td>84.870000</td>\n",
       "    </tr>\n",
       "    <tr>\n",
       "      <th>LScore</th>\n",
       "      <td>371.0</td>\n",
       "      <td>64.278099</td>\n",
       "      <td>2.640583</td>\n",
       "      <td>56.512931</td>\n",
       "      <td>62.550010</td>\n",
       "      <td>64.186301</td>\n",
       "      <td>65.758303</td>\n",
       "      <td>74.680000</td>\n",
       "    </tr>\n",
       "    <tr>\n",
       "      <th>WFGM</th>\n",
       "      <td>371.0</td>\n",
       "      <td>26.268042</td>\n",
       "      <td>1.056027</td>\n",
       "      <td>23.400000</td>\n",
       "      <td>25.518731</td>\n",
       "      <td>26.315789</td>\n",
       "      <td>26.980099</td>\n",
       "      <td>30.289179</td>\n",
       "    </tr>\n",
       "    <tr>\n",
       "      <th>WFGA</th>\n",
       "      <td>371.0</td>\n",
       "      <td>55.602923</td>\n",
       "      <td>1.895163</td>\n",
       "      <td>48.500000</td>\n",
       "      <td>54.428277</td>\n",
       "      <td>55.714286</td>\n",
       "      <td>56.978552</td>\n",
       "      <td>62.897388</td>\n",
       "    </tr>\n",
       "    <tr>\n",
       "      <th>WFGM3</th>\n",
       "      <td>371.0</td>\n",
       "      <td>7.376709</td>\n",
       "      <td>0.791858</td>\n",
       "      <td>5.505300</td>\n",
       "      <td>6.865900</td>\n",
       "      <td>7.313580</td>\n",
       "      <td>7.820023</td>\n",
       "      <td>10.789474</td>\n",
       "    </tr>\n",
       "    <tr>\n",
       "      <th>WFGA3</th>\n",
       "      <td>371.0</td>\n",
       "      <td>19.380881</td>\n",
       "      <td>1.923654</td>\n",
       "      <td>14.947368</td>\n",
       "      <td>18.111554</td>\n",
       "      <td>19.201439</td>\n",
       "      <td>20.508167</td>\n",
       "      <td>28.630000</td>\n",
       "    </tr>\n",
       "    <tr>\n",
       "      <th>WFTM</th>\n",
       "      <td>371.0</td>\n",
       "      <td>15.737692</td>\n",
       "      <td>1.028530</td>\n",
       "      <td>11.891304</td>\n",
       "      <td>15.000474</td>\n",
       "      <td>15.736156</td>\n",
       "      <td>16.427708</td>\n",
       "      <td>18.505747</td>\n",
       "    </tr>\n",
       "    <tr>\n",
       "      <th>WFTA</th>\n",
       "      <td>371.0</td>\n",
       "      <td>21.998810</td>\n",
       "      <td>1.486734</td>\n",
       "      <td>15.260870</td>\n",
       "      <td>21.024010</td>\n",
       "      <td>22.016575</td>\n",
       "      <td>23.079185</td>\n",
       "      <td>26.148810</td>\n",
       "    </tr>\n",
       "    <tr>\n",
       "      <th>WAst</th>\n",
       "      <td>371.0</td>\n",
       "      <td>14.554526</td>\n",
       "      <td>1.067169</td>\n",
       "      <td>11.666667</td>\n",
       "      <td>13.812880</td>\n",
       "      <td>14.530364</td>\n",
       "      <td>15.252113</td>\n",
       "      <td>18.011583</td>\n",
       "    </tr>\n",
       "    <tr>\n",
       "      <th>WTO</th>\n",
       "      <td>371.0</td>\n",
       "      <td>12.622762</td>\n",
       "      <td>0.954247</td>\n",
       "      <td>8.758621</td>\n",
       "      <td>12.146775</td>\n",
       "      <td>12.625000</td>\n",
       "      <td>13.186237</td>\n",
       "      <td>15.730769</td>\n",
       "    </tr>\n",
       "    <tr>\n",
       "      <th>WOR</th>\n",
       "      <td>371.0</td>\n",
       "      <td>10.177077</td>\n",
       "      <td>1.227963</td>\n",
       "      <td>5.750000</td>\n",
       "      <td>9.512218</td>\n",
       "      <td>10.322581</td>\n",
       "      <td>10.927494</td>\n",
       "      <td>13.425373</td>\n",
       "    </tr>\n",
       "    <tr>\n",
       "      <th>WDR</th>\n",
       "      <td>371.0</td>\n",
       "      <td>25.494920</td>\n",
       "      <td>1.061257</td>\n",
       "      <td>19.100000</td>\n",
       "      <td>24.985283</td>\n",
       "      <td>25.573840</td>\n",
       "      <td>26.102443</td>\n",
       "      <td>28.307836</td>\n",
       "    </tr>\n",
       "  </tbody>\n",
       "</table>\n",
       "</div>"
      ],
      "text/plain": [
       "        count         mean         std          min          25%          50%  \\\n",
       "TeamID  371.0  1291.606469  109.110563  1101.000000  1197.500000  1291.000000   \n",
       "WScore  371.0    75.650485    2.669996    68.244444    73.828311    75.616216   \n",
       "LScore  371.0    64.278099    2.640583    56.512931    62.550010    64.186301   \n",
       "WFGM    371.0    26.268042    1.056027    23.400000    25.518731    26.315789   \n",
       "WFGA    371.0    55.602923    1.895163    48.500000    54.428277    55.714286   \n",
       "WFGM3   371.0     7.376709    0.791858     5.505300     6.865900     7.313580   \n",
       "WFGA3   371.0    19.380881    1.923654    14.947368    18.111554    19.201439   \n",
       "WFTM    371.0    15.737692    1.028530    11.891304    15.000474    15.736156   \n",
       "WFTA    371.0    21.998810    1.486734    15.260870    21.024010    22.016575   \n",
       "WAst    371.0    14.554526    1.067169    11.666667    13.812880    14.530364   \n",
       "WTO     371.0    12.622762    0.954247     8.758621    12.146775    12.625000   \n",
       "WOR     371.0    10.177077    1.227963     5.750000     9.512218    10.322581   \n",
       "WDR     371.0    25.494920    1.061257    19.100000    24.985283    25.573840   \n",
       "\n",
       "                75%          max  \n",
       "TeamID  1385.500000  1480.000000  \n",
       "WScore    77.265967    84.870000  \n",
       "LScore    65.758303    74.680000  \n",
       "WFGM      26.980099    30.289179  \n",
       "WFGA      56.978552    62.897388  \n",
       "WFGM3      7.820023    10.789474  \n",
       "WFGA3     20.508167    28.630000  \n",
       "WFTM      16.427708    18.505747  \n",
       "WFTA      23.079185    26.148810  \n",
       "WAst      15.252113    18.011583  \n",
       "WTO       13.186237    15.730769  \n",
       "WOR       10.927494    13.425373  \n",
       "WDR       26.102443    28.307836  "
      ]
     },
     "execution_count": 7,
     "metadata": {},
     "output_type": "execute_result"
    }
   ],
   "source": [
    "team_stats.describe().transpose()"
   ]
  },
  {
   "cell_type": "code",
   "execution_count": 8,
   "id": "6952b0e7",
   "metadata": {
    "execution": {
     "iopub.execute_input": "2025-02-25T13:25:35.436685Z",
     "iopub.status.busy": "2025-02-25T13:25:35.436284Z",
     "iopub.status.idle": "2025-02-25T13:25:35.467349Z",
     "shell.execute_reply": "2025-02-25T13:25:35.466200Z"
    },
    "papermill": {
     "duration": 0.039888,
     "end_time": "2025-02-25T13:25:35.469408",
     "exception": false,
     "start_time": "2025-02-25T13:25:35.429520",
     "status": "completed"
    },
    "tags": []
   },
   "outputs": [
    {
     "data": {
      "text/plain": [
       "count    4823.000000\n",
       "mean     1640.749395\n",
       "std       126.913744\n",
       "min      1390.537506\n",
       "25%      1535.284424\n",
       "50%      1640.152127\n",
       "75%      1745.786291\n",
       "max      1892.286159\n",
       "dtype: float64"
      ]
     },
     "execution_count": 8,
     "metadata": {},
     "output_type": "execute_result"
    }
   ],
   "source": [
    "team_stats.describe().transpose().sum()"
   ]
  },
  {
   "cell_type": "code",
   "execution_count": 9,
   "id": "64f5904a",
   "metadata": {
    "execution": {
     "iopub.execute_input": "2025-02-25T13:25:35.482607Z",
     "iopub.status.busy": "2025-02-25T13:25:35.482072Z",
     "iopub.status.idle": "2025-02-25T13:25:35.490201Z",
     "shell.execute_reply": "2025-02-25T13:25:35.488977Z"
    },
    "papermill": {
     "duration": 0.016554,
     "end_time": "2025-02-25T13:25:35.491839",
     "exception": false,
     "start_time": "2025-02-25T13:25:35.475285",
     "status": "completed"
    },
    "tags": []
   },
   "outputs": [
    {
     "data": {
      "text/plain": [
       "TeamID    0\n",
       "WScore    0\n",
       "LScore    0\n",
       "WFGM      0\n",
       "WFGA      0\n",
       "WFGM3     0\n",
       "WFGA3     0\n",
       "WFTM      0\n",
       "WFTA      0\n",
       "WAst      0\n",
       "WTO       0\n",
       "WOR       0\n",
       "WDR       0\n",
       "dtype: int64"
      ]
     },
     "execution_count": 9,
     "metadata": {},
     "output_type": "execute_result"
    }
   ],
   "source": [
    "team_stats.isnull().sum()"
   ]
  },
  {
   "cell_type": "code",
   "execution_count": 10,
   "id": "b92aa9ad",
   "metadata": {
    "execution": {
     "iopub.execute_input": "2025-02-25T13:25:35.505790Z",
     "iopub.status.busy": "2025-02-25T13:25:35.505429Z",
     "iopub.status.idle": "2025-02-25T13:25:36.583312Z",
     "shell.execute_reply": "2025-02-25T13:25:36.582054Z"
    },
    "papermill": {
     "duration": 1.087349,
     "end_time": "2025-02-25T13:25:36.585220",
     "exception": false,
     "start_time": "2025-02-25T13:25:35.497871",
     "status": "completed"
    },
    "tags": []
   },
   "outputs": [
    {
     "data": {
      "text/plain": [
       "<function matplotlib.pyplot.show(close=None, block=None)>"
      ]
     },
     "execution_count": 10,
     "metadata": {},
     "output_type": "execute_result"
    },
    {
     "data": {
      "image/png": "[encoded data removed]",
      "text/plain": [
       "<Figure size 1500x500 with 1 Axes>"
      ]
     },
     "metadata": {},
     "output_type": "display_data"
    }
   ],
   "source": [
    "import matplotlib.pyplot as plt\n",
    "import seaborn as sns\n",
    "plt.figure (figsize=(15, 5))\n",
    "sns.scatterplot(data = team_stats , x = 'TeamID', y = 'WScore',)\n",
    "\n",
    "plt.title('Average winning scores per team')\n",
    "plt.show"
   ]
  },
  {
   "cell_type": "markdown",
   "id": "9a135aa7",
   "metadata": {
    "papermill": {
     "duration": 0.007059,
     "end_time": "2025-02-25T13:25:36.599404",
     "exception": false,
     "start_time": "2025-02-25T13:25:36.592345",
     "status": "completed"
    },
    "tags": []
   },
   "source": [
    "### ***4/ creation of features for training***"
   ]
  },
  {
   "cell_type": "code",
   "execution_count": 11,
   "id": "d2a993e3",
   "metadata": {
    "execution": {
     "iopub.execute_input": "2025-02-25T13:25:36.616356Z",
     "iopub.status.busy": "2025-02-25T13:25:36.615627Z",
     "iopub.status.idle": "2025-02-25T13:25:36.624383Z",
     "shell.execute_reply": "2025-02-25T13:25:36.622995Z"
    },
    "papermill": {
     "duration": 0.01981,
     "end_time": "2025-02-25T13:25:36.626963",
     "exception": false,
     "start_time": "2025-02-25T13:25:36.607153",
     "status": "completed"
    },
    "tags": []
   },
   "outputs": [],
   "source": [
    "def create_features(df):\n",
    "    df[\"Team1\"] = df[[\"WTeamID\", \"LTeamID\"]].min(axis=1)\n",
    "    df[\"Team2\"] = df[[\"WTeamID\", \"LTeamID\"]].max(axis=1)\n",
    "    df[\"Label\"] = (df[\"WTeamID\"] == df[\"Team1\"]).astype(int)\n",
    "\n",
    "    df = df.drop(columns=stat_cols, errors=\"ignore\")\n",
    "\n",
    "    df = df.merge(team_stats, left_on=\"Team1\", right_on=\"TeamID\", how=\"left\")\n",
    "    rename_dict_T1 = {col: col + \"_T1\" for col in stat_cols}\n",
    "    df.rename(columns=rename_dict_T1, inplace=True)\n",
    "    df.drop(\"TeamID\", axis=1, inplace=True)\n",
    "\n",
    "    df = df.merge(team_stats, left_on=\"Team2\", right_on=\"TeamID\", how=\"left\", suffixes=(\"\", \"_T2\"))\n",
    "    rename_dict_T2 = {col: col + \"_T2\" for col in stat_cols}\n",
    "    df.rename(columns=rename_dict_T2, inplace=True)\n",
    "    df.drop(\"TeamID\", axis=1, inplace=True)\n",
    "\n",
    "    for col in stat_cols:\n",
    "        df[\"Diff_\" + col] = df[col + \"_T1\"] - df[col + \"_T2\"]\n",
    "\n",
    "    return df"
   ]
  },
  {
   "cell_type": "markdown",
   "id": "3acf2544",
   "metadata": {
    "papermill": {
     "duration": 0.006812,
     "end_time": "2025-02-25T13:25:36.641227",
     "exception": false,
     "start_time": "2025-02-25T13:25:36.634415",
     "status": "completed"
    },
    "tags": []
   },
   "source": [
    "### ***5/ Apply the function on the seasonal data***"
   ]
  },
  {
   "cell_type": "code",
   "execution_count": 12,
   "id": "a7baf8e1",
   "metadata": {
    "execution": {
     "iopub.execute_input": "2025-02-25T13:25:36.657749Z",
     "iopub.status.busy": "2025-02-25T13:25:36.657352Z",
     "iopub.status.idle": "2025-02-25T13:25:36.873159Z",
     "shell.execute_reply": "2025-02-25T13:25:36.872026Z"
    },
    "papermill": {
     "duration": 0.22611,
     "end_time": "2025-02-25T13:25:36.875108",
     "exception": false,
     "start_time": "2025-02-25T13:25:36.648998",
     "status": "completed"
    },
    "tags": []
   },
   "outputs": [],
   "source": [
    "df_train = create_features(df_season.copy())\n",
    "\n",
    "# 📌 Sélection des features et de la target\n",
    "feature_cols = [\"Diff_\" + col for col in stat_cols]\n",
    "X = df_train[feature_cols]\n",
    "y = df_train[\"Label\"]"
   ]
  },
  {
   "cell_type": "markdown",
   "id": "155adc19",
   "metadata": {
    "papermill": {
     "duration": 0.006636,
     "end_time": "2025-02-25T13:25:36.889035",
     "exception": false,
     "start_time": "2025-02-25T13:25:36.882399",
     "status": "completed"
    },
    "tags": []
   },
   "source": [
    "### ***6/ Transformation pipeline***"
   ]
  },
  {
   "cell_type": "code",
   "execution_count": null,
   "id": "60d84088",
   "metadata": {
    "execution": {
     "iopub.execute_input": "2025-02-25T13:25:36.904665Z",
     "iopub.status.busy": "2025-02-25T13:25:36.904270Z",
     "iopub.status.idle": "2025-02-25T13:29:31.452409Z",
     "shell.execute_reply": "2025-02-25T13:29:31.450962Z"
    },
    "papermill": {
     "duration": 234.558089,
     "end_time": "2025-02-25T13:29:31.454417",
     "exception": false,
     "start_time": "2025-02-25T13:25:36.896328",
     "status": "completed"
    },
    "tags": []
   },
   "outputs": [],
   "source": [
    "\n",
    "pipeline = Pipeline([\n",
    "    (\"imputer\", SimpleImputer(strategy=\"mean\")),\n",
    "    (\"scaler\", StandardScaler()),\n",
    "    (\"model\", lgb.LGBMClassifier(random_state=42))\n",
    "])\n",
    "\n",
    "# Hyperparameter optimization with RandomizedSearchCV\n",
    "param_grid = {\n",
    "    'model__n_estimators': [500, 1000, 1500],\n",
    "    'model__learning_rate': [0.01, 0.05, 0.1],\n",
    "    'model__max_depth': [5, 7, 10],\n",
    "    'model__num_leaves': [31, 50, 70],\n",
    "    'model__subsample': [0.7, 0.8, 0.9],\n",
    "    'model__colsample_bytree': [0.7, 0.8, 0.9]\n",
    "}\n",
    "\n",
    "search = RandomizedSearchCV(pipeline, param_grid, n_iter=10, cv=3, scoring='neg_brier_score', random_state=42, n_jobs=-1)\n",
    "X_train, X_val, y_train, y_val = train_test_split(X, y, test_size=0.2, random_state=42)\n",
    "\n",
    "search.fit(X_train, y_train)\n",
    "print(\"Meilleurs hyperparamètres :\", search.best_params_)"
   ]
  },
  {
   "cell_type": "markdown",
   "id": "f5494210",
   "metadata": {
    "papermill": {
     "duration": 0.007148,
     "end_time": "2025-02-25T13:29:31.469133",
     "exception": false,
     "start_time": "2025-02-25T13:29:31.461985",
     "status": "completed"
    },
    "tags": []
   },
   "source": [
    "#### ***7/ Evaluation***"
   ]
  },
  {
   "cell_type": "code",
   "execution_count": null,
   "id": "75feface",
   "metadata": {
    "execution": {
     "iopub.execute_input": "2025-02-25T13:29:31.484994Z",
     "iopub.status.busy": "2025-02-25T13:29:31.484576Z",
     "iopub.status.idle": "2025-02-25T13:29:33.285678Z",
     "shell.execute_reply": "2025-02-25T13:29:33.284356Z"
    },
    "papermill": {
     "duration": 1.812163,
     "end_time": "2025-02-25T13:29:33.288477",
     "exception": false,
     "start_time": "2025-02-25T13:29:31.476314",
     "status": "completed"
    },
    "tags": []
   },
   "outputs": [
    {
     "name": "stdout",
     "output_type": "stream",
     "text": [
      "Brier score loss sur validation: 0.21541581586406133\n"
     ]
    }
   ],
   "source": [
    "y_val_proba = search.best_estimator_.predict_proba(X_val)[:, 1]\n",
    "brier = brier_score_loss(y_val, y_val_proba)\n",
    "print(\"Brier score loss sur validation:\", brier)"
   ]
  },
  {
   "cell_type": "markdown",
   "id": "4682f35e",
   "metadata": {
    "papermill": {
     "duration": 0.006812,
     "end_time": "2025-02-25T13:29:33.302770",
     "exception": false,
     "start_time": "2025-02-25T13:29:33.295958",
     "status": "completed"
    },
    "tags": []
   },
   "source": [
    "### ***8/ Creation of features for submission***"
   ]
  },
  {
   "cell_type": "code",
   "execution_count": null,
   "id": "6402031d",
   "metadata": {
    "execution": {
     "iopub.execute_input": "2025-02-25T13:29:33.318517Z",
     "iopub.status.busy": "2025-02-25T13:29:33.318169Z",
     "iopub.status.idle": "2025-02-25T13:29:33.895333Z",
     "shell.execute_reply": "2025-02-25T13:29:33.893691Z"
    },
    "papermill": {
     "duration": 0.587713,
     "end_time": "2025-02-25T13:29:33.897666",
     "exception": false,
     "start_time": "2025-02-25T13:29:33.309953",
     "status": "completed"
    },
    "tags": []
   },
   "outputs": [],
   "source": [
    "def create_features_submission(df):\n",
    "    df[[\"Season\", \"Team1\", \"Team2\"]] = df[\"ID\"].str.split(\"_\", expand=True)\n",
    "    df[\"Team1\"] = df[\"Team1\"].astype(int)\n",
    "    df[\"Team2\"] = df[\"Team2\"].astype(int)\n",
    "\n",
    "    df = df.merge(team_stats, left_on=\"Team1\", right_on=\"TeamID\", how=\"left\")\n",
    "    rename_dict_T1 = {col: col + \"_T1\" for col in stat_cols}\n",
    "    df.rename(columns=rename_dict_T1, inplace=True)\n",
    "    df.drop(\"TeamID\", axis=1, inplace=True)\n",
    "\n",
    "    df = df.merge(team_stats, left_on=\"Team2\", right_on=\"TeamID\", how=\"left\", suffixes=(\"\", \"_T2\"))\n",
    "    rename_dict_T2 = {col: col + \"_T2\" for col in stat_cols}\n",
    "    df.rename(columns=rename_dict_T2, inplace=True)\n",
    "    df.drop(\"TeamID\", axis=1, inplace=True)\n",
    "\n",
    "    for col in stat_cols:\n",
    "        df[\"Diff_\" + col] = df[col + \"_T1\"] - df[col + \"_T2\"]\n",
    "\n",
    "    return df\n",
    "\n",
    "df_sub = create_features_submission(df_submission.copy())"
   ]
  },
  {
   "cell_type": "code",
   "execution_count": null,
   "id": "9f7cd097",
   "metadata": {
    "execution": {
     "iopub.execute_input": "2025-02-25T13:29:33.914589Z",
     "iopub.status.busy": "2025-02-25T13:29:33.914017Z",
     "iopub.status.idle": "2025-02-25T13:29:44.196968Z",
     "shell.execute_reply": "2025-02-25T13:29:44.195997Z"
    },
    "papermill": {
     "duration": 10.29367,
     "end_time": "2025-02-25T13:29:44.199320",
     "exception": false,
     "start_time": "2025-02-25T13:29:33.905650",
     "status": "completed"
    },
    "tags": []
   },
   "outputs": [],
   "source": [
    "# Selection of the same features as for training\n",
    "X_sub = df_sub[feature_cols]\n",
    "\n",
    "# Prediction for submission\n",
    "df_submission[\"Pred\"] = search.best_estimator_.predict_proba(X_sub)[:, 1]"
   ]
  },
  {
   "cell_type": "markdown",
   "id": "106961f9",
   "metadata": {
    "papermill": {
     "duration": 0.006743,
     "end_time": "2025-02-25T13:29:44.213357",
     "exception": false,
     "start_time": "2025-02-25T13:29:44.206614",
     "status": "completed"
    },
    "tags": []
   },
   "source": [
    "### ***9/ Saving the submission file***"
   ]
  },
  {
   "cell_type": "code",
   "execution_count": null,
   "id": "bf70542b",
   "metadata": {
    "execution": {
     "iopub.execute_input": "2025-02-25T13:29:44.229162Z",
     "iopub.status.busy": "2025-02-25T13:29:44.228746Z",
     "iopub.status.idle": "2025-02-25T13:29:44.506443Z",
     "shell.execute_reply": "2025-02-25T13:29:44.505251Z"
    },
    "papermill": {
     "duration": 0.287513,
     "end_time": "2025-02-25T13:29:44.508324",
     "exception": false,
     "start_time": "2025-02-25T13:29:44.220811",
     "status": "completed"
    },
    "tags": []
   },
   "outputs": [
    {
     "name": "stdout",
     "output_type": "stream",
     "text": [
      "Fichier de soumission généré avec succès !\n"
     ]
    }
   ],
   "source": [
    "df_submission[[\"ID\", \"Pred\"]].to_csv(\"submission.csv\", index=False)\n",
    "print(\"Fichier de soumission généré avec succès !\")"
   ]
  }
 ],
 "metadata": {
  "kaggle": {
   "accelerator": "none",
   "dataSources": [
    {
     "databundleVersionId": 11165145,
     "sourceId": 91497,
     "sourceType": "competition"
    }
   ],
   "dockerImageVersionId": 30886,
   "isGpuEnabled": false,
   "isInternetEnabled": true,
   "language": "python",
   "sourceType": "notebook"
  },
  "kernelspec": {
   "display_name": "Python 3",
   "language": "python",
   "name": "python3"
  },
  "language_info": {
   "codemirror_mode": {
    "name": "ipython",
    "version": 3
   },
   "file_extension": ".py",
   "mimetype": "text/x-python",
   "name": "python",
   "nbconvert_exporter": "python",
   "pygments_lexer": "ipython3",
   "version": "3.9.21"
  },
  "papermill": {
   "default_parameters": {},
   "duration": 260.397768,
   "end_time": "2025-02-25T13:29:45.638547",
   "environment_variables": {},
   "exception": null,
   "input_path": "__notebook__.ipynb",
   "output_path": "__notebook__.ipynb",
   "parameters": {},
   "start_time": "2025-02-25T13:25:25.240779",
   "version": "2.6.0"
  }
 },
 "nbformat": 4,
 "nbformat_minor": 5
}
