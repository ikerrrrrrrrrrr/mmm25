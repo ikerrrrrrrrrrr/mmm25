{
 "cells": [
  {
   "cell_type": "code",
   "execution_count": 1,
   "id": "2547d9fb",
   "metadata": {
    "_cell_guid": "b1076dfc-b9ad-4769-8c92-a6c4dae69d19",
    "_uuid": "8f2839f25d086af736a60e9eeb907d3b93b6e0e5",
    "execution": {
     "iopub.execute_input": "2025-02-18T11:04:08.335048Z",
     "iopub.status.busy": "2025-02-18T11:04:08.334661Z",
     "iopub.status.idle": "2025-02-18T11:04:09.329017Z",
     "shell.execute_reply": "2025-02-18T11:04:09.327856Z"
    },
    "papermill": {
     "duration": 1.009104,
     "end_time": "2025-02-18T11:04:09.331211",
     "exception": false,
     "start_time": "2025-02-18T11:04:08.322107",
     "status": "completed"
    },
    "tags": []
   },
   "outputs": [
    {
     "name": "stdout",
     "output_type": "stream",
     "text": [
      "/kaggle/input/lb0-00000-answer/answer.csv\n",
      "/kaggle/input/march-machine-learning-mania-2025/Conferences.csv\n",
      "/kaggle/input/march-machine-learning-mania-2025/SeedBenchmarkStage1.csv\n",
      "/kaggle/input/march-machine-learning-mania-2025/WNCAATourneyDetailedResults.csv\n",
      "/kaggle/input/march-machine-learning-mania-2025/WRegularSeasonCompactResults.csv\n",
      "/kaggle/input/march-machine-learning-mania-2025/MNCAATourneySeedRoundSlots.csv\n",
      "/kaggle/input/march-machine-learning-mania-2025/MRegularSeasonDetailedResults.csv\n",
      "/kaggle/input/march-machine-learning-mania-2025/MNCAATourneyCompactResults.csv\n",
      "/kaggle/input/march-machine-learning-mania-2025/MGameCities.csv\n",
      "/kaggle/input/march-machine-learning-mania-2025/WSecondaryTourneyCompactResults.csv\n",
      "/kaggle/input/march-machine-learning-mania-2025/WGameCities.csv\n",
      "/kaggle/input/march-machine-learning-mania-2025/MSeasons.csv\n",
      "/kaggle/input/march-machine-learning-mania-2025/WNCAATourneySlots.csv\n",
      "/kaggle/input/march-machine-learning-mania-2025/MSecondaryTourneyTeams.csv\n",
      "/kaggle/input/march-machine-learning-mania-2025/Cities.csv\n",
      "/kaggle/input/march-machine-learning-mania-2025/MTeamSpellings.csv\n",
      "/kaggle/input/march-machine-learning-mania-2025/MRegularSeasonCompactResults.csv\n",
      "/kaggle/input/march-machine-learning-mania-2025/MMasseyOrdinals.csv\n",
      "/kaggle/input/march-machine-learning-mania-2025/MSecondaryTourneyCompactResults.csv\n",
      "/kaggle/input/march-machine-learning-mania-2025/WTeams.csv\n",
      "/kaggle/input/march-machine-learning-mania-2025/WConferenceTourneyGames.csv\n",
      "/kaggle/input/march-machine-learning-mania-2025/MNCAATourneySlots.csv\n",
      "/kaggle/input/march-machine-learning-mania-2025/MNCAATourneySeeds.csv\n",
      "/kaggle/input/march-machine-learning-mania-2025/WNCAATourneyCompactResults.csv\n",
      "/kaggle/input/march-machine-learning-mania-2025/WSeasons.csv\n",
      "/kaggle/input/march-machine-learning-mania-2025/WNCAATourneySeeds.csv\n",
      "/kaggle/input/march-machine-learning-mania-2025/MTeamCoaches.csv\n",
      "/kaggle/input/march-machine-learning-mania-2025/MConferenceTourneyGames.csv\n",
      "/kaggle/input/march-machine-learning-mania-2025/WRegularSeasonDetailedResults.csv\n",
      "/kaggle/input/march-machine-learning-mania-2025/MNCAATourneyDetailedResults.csv\n",
      "/kaggle/input/march-machine-learning-mania-2025/WTeamSpellings.csv\n",
      "/kaggle/input/march-machine-learning-mania-2025/MTeamConferences.csv\n",
      "/kaggle/input/march-machine-learning-mania-2025/MTeams.csv\n",
      "/kaggle/input/march-machine-learning-mania-2025/WTeamConferences.csv\n",
      "/kaggle/input/march-machine-learning-mania-2025/SampleSubmissionStage1.csv\n",
      "/kaggle/input/march-machine-learning-mania-2025/WSecondaryTourneyTeams.csv\n"
     ]
    }
   ],
   "source": [
    "# This Python 3 environment comes with many helpful analytics libraries installed\n",
    "# It is defined by the kaggle/python Docker image: https://github.com/kaggle/docker-python\n",
    "# For example, here's several helpful packages to load\n",
    "\n",
    "import numpy as np # linear algebra\n",
    "import pandas as pd # data processing, CSV file I/O (e.g. pd.read_csv)\n",
    "\n",
    "# Input data files are available in the read-only \"../input/\" directory\n",
    "# For example, running this (by clicking run or pressing Shift+Enter) will list all files under the input directory\n",
    "\n",
    "import os\n",
    "for dirname, _, filenames in os.walk('/kaggle/input'):\n",
    "    for filename in filenames:\n",
    "        print(os.path.join(dirname, filename))\n",
    "\n",
    "# You can write up to 20GB to the current directory (/kaggle/working/) that gets preserved as output when you create a version using \"Save & Run All\" \n",
    "# You can also write temporary files to /kaggle/temp/, but they won't be saved outside of the current session"
   ]
  },
  {
   "cell_type": "markdown",
   "id": "2e30af58",
   "metadata": {
    "papermill": {
     "duration": 0.005418,
     "end_time": "2025-02-18T11:04:09.343344",
     "exception": false,
     "start_time": "2025-02-18T11:04:09.337926",
     "status": "completed"
    },
    "tags": []
   },
   "source": [
    "# The answer dataset is obtained by rounding the LB[0.0000] result\n",
    "- Aim of this notebook is to provide a non-overfitting optuna example for model evaluation"
   ]
  },
  {
   "cell_type": "markdown",
   "id": "85c2f478",
   "metadata": {
    "papermill": {
     "duration": 0.005253,
     "end_time": "2025-02-18T11:04:09.354215",
     "exception": false,
     "start_time": "2025-02-18T11:04:09.348962",
     "status": "completed"
    },
    "tags": []
   },
   "source": [
    "## Preprocessing"
   ]
  },
  {
   "cell_type": "code",
   "execution_count": 2,
   "id": "7bcae3fc",
   "metadata": {
    "execution": {
     "iopub.execute_input": "2025-02-18T11:04:09.367037Z",
     "iopub.status.busy": "2025-02-18T11:04:09.366512Z",
     "iopub.status.idle": "2025-02-18T11:04:52.908118Z",
     "shell.execute_reply": "2025-02-18T11:04:52.906537Z"
    },
    "papermill": {
     "duration": 43.55083,
     "end_time": "2025-02-18T11:04:52.910682",
     "exception": false,
     "start_time": "2025-02-18T11:04:09.359852",
     "status": "completed"
    },
    "tags": []
   },
   "outputs": [],
   "source": [
    "import numpy as np\n",
    "import pandas as pd\n",
    "from sklearn import *\n",
    "import glob\n",
    "\n",
    "\n",
    "\n",
    "path = '/kaggle/input/march-machine-learning-mania-2025/**'\n",
    "data = {p.split('/')[-1].split('.')[0] : pd.read_csv(p, encoding='latin-1') for p in glob.glob(path)}\n",
    "teams = pd.concat([data['MTeams'], data['WTeams']])\n",
    "teams_spelling = pd.concat([data['MTeamSpellings'], data['WTeamSpellings']])\n",
    "teams_spelling = teams_spelling.groupby(by='TeamID', as_index=False)['TeamNameSpelling'].count()\n",
    "teams_spelling.columns = ['TeamID', 'TeamNameCount']\n",
    "teams = pd.merge(teams, teams_spelling, how='left', on=['TeamID'])\n",
    "del teams_spelling\n",
    "\n",
    "season_cresults = pd.concat([data['MRegularSeasonCompactResults'], data['WRegularSeasonCompactResults']])\n",
    "season_dresults = pd.concat([data['MRegularSeasonDetailedResults'], data['WRegularSeasonDetailedResults']])\n",
    "tourney_cresults = pd.concat([data['MNCAATourneyCompactResults'], data['WNCAATourneyCompactResults']])\n",
    "tourney_dresults = pd.concat([data['MNCAATourneyDetailedResults'], data['WNCAATourneyDetailedResults']])\n",
    "slots = pd.concat([data['MNCAATourneySlots'], data['WNCAATourneySlots']])\n",
    "seeds = pd.concat([data['MNCAATourneySeeds'], data['WNCAATourneySeeds']])\n",
    "gcities = pd.concat([data['MGameCities'], data['WGameCities']])\n",
    "seasons = pd.concat([data['MSeasons'], data['WSeasons']])\n",
    "\n",
    "seeds = {'_'.join(map(str,[int(k1),k2])):int(v[1:3]) for k1, v, k2 in seeds[['Season', 'Seed', 'TeamID']].values}\n",
    "cities = data['Cities']\n",
    "sub = data['SampleSubmissionStage1']\n",
    "del data\n",
    "\n",
    "season_cresults['ST'] = 'S'\n",
    "season_dresults['ST'] = 'S'\n",
    "tourney_cresults['ST'] = 'T'\n",
    "tourney_dresults['ST'] = 'T'\n",
    "#games = pd.concat((season_cresults, tourney_cresults), axis=0, ignore_index=True)\n",
    "games = pd.concat((season_dresults, tourney_dresults), axis=0, ignore_index=True)\n",
    "games.reset_index(drop=True, inplace=True)\n",
    "games['WLoc'] = games['WLoc'].map({'A': 1, 'H': 2, 'N': 3})\n",
    "\n",
    "games['ID'] = games.apply(lambda r: '_'.join(map(str, [r['Season']]+sorted([r['WTeamID'],r['LTeamID']]))), axis=1)\n",
    "games['IDTeams'] = games.apply(lambda r: '_'.join(map(str, sorted([r['WTeamID'],r['LTeamID']]))), axis=1)\n",
    "games['Team1'] = games.apply(lambda r: sorted([r['WTeamID'],r['LTeamID']])[0], axis=1)\n",
    "games['Team2'] = games.apply(lambda r: sorted([r['WTeamID'],r['LTeamID']])[1], axis=1)\n",
    "games['IDTeam1'] = games.apply(lambda r: '_'.join(map(str, [r['Season'], r['Team1']])), axis=1)\n",
    "games['IDTeam2'] = games.apply(lambda r: '_'.join(map(str, [r['Season'], r['Team2']])), axis=1)\n",
    "\n",
    "games['Team1Seed'] = games['IDTeam1'].map(seeds).fillna(0)\n",
    "games['Team2Seed'] = games['IDTeam2'].map(seeds).fillna(0)\n",
    "\n",
    "games['ScoreDiff'] = games['WScore'] - games['LScore']\n",
    "games['Pred'] = games.apply(lambda r: 1. if sorted([r['WTeamID'],r['LTeamID']])[0]==r['WTeamID'] else 0., axis=1)\n",
    "games['ScoreDiffNorm'] = games.apply(lambda r: r['ScoreDiff'] * -1 if r['Pred'] == 0. else r['ScoreDiff'], axis=1)\n",
    "games['SeedDiff'] = games['Team1Seed'] - games['Team2Seed']\n",
    "games = games.fillna(-1)\n",
    "\n",
    "c_score_col = ['NumOT', 'WFGM', 'WFGA', 'WFGM3', 'WFGA3', 'WFTM', 'WFTA', 'WOR', 'WDR', 'WAst', 'WTO', 'WStl',\n",
    " 'WBlk', 'WPF', 'LFGM', 'LFGA', 'LFGM3', 'LFGA3', 'LFTM', 'LFTA', 'LOR', 'LDR', 'LAst', 'LTO', 'LStl',\n",
    " 'LBlk', 'LPF']\n",
    "c_score_agg = ['sum', 'mean', 'median', 'max', 'min', 'std', 'skew', 'nunique']\n",
    "gb = games.groupby(by=['IDTeams']).agg({k: c_score_agg for k in c_score_col}).reset_index()\n",
    "gb.columns = [''.join(c) + '_c_score' for c in gb.columns]\n",
    "\n",
    "games = games[games['ST']=='T']\n",
    "\n",
    "sub['WLoc'] = 3\n",
    "sub['Season'] = sub['ID'].map(lambda x: x.split('_')[0])\n",
    "sub['Season'] = sub['ID'].map(lambda x: x.split('_')[0])\n",
    "sub['Season'] = sub['Season'].astype(int)\n",
    "sub['Team1'] = sub['ID'].map(lambda x: x.split('_')[1])\n",
    "sub['Team2'] = sub['ID'].map(lambda x: x.split('_')[2])\n",
    "sub['IDTeams'] = sub.apply(lambda r: '_'.join(map(str, [r['Team1'], r['Team2']])), axis=1)\n",
    "sub['IDTeam1'] = sub.apply(lambda r: '_'.join(map(str, [r['Season'], r['Team1']])), axis=1)\n",
    "sub['IDTeam2'] = sub.apply(lambda r: '_'.join(map(str, [r['Season'], r['Team2']])), axis=1)\n",
    "sub['Team1Seed'] = sub['IDTeam1'].map(seeds).fillna(0)\n",
    "sub['Team2Seed'] = sub['IDTeam2'].map(seeds).fillna(0)\n",
    "sub['SeedDiff'] = sub['Team1Seed'] - sub['Team2Seed']\n",
    "sub = sub.fillna(-1)\n",
    "\n",
    "games = pd.merge(games, gb, how='left', left_on='IDTeams', right_on='IDTeams_c_score')\n",
    "sub = pd.merge(sub, gb, how='left', left_on='IDTeams', right_on='IDTeams_c_score')\n",
    "\n",
    "col = [c for c in games.columns if c not in ['ID', 'DayNum', 'ST', 'Team1', 'Team2', 'IDTeams', 'IDTeam1', 'IDTeam2', 'WTeamID', 'WScore', 'LTeamID', 'LScore', 'NumOT', 'Pred', 'ScoreDiff', 'ScoreDiffNorm', 'WLoc'] + c_score_col]"
   ]
  },
  {
   "cell_type": "code",
   "execution_count": 3,
   "id": "c9b4bfbe",
   "metadata": {
    "execution": {
     "iopub.execute_input": "2025-02-18T11:04:52.926615Z",
     "iopub.status.busy": "2025-02-18T11:04:52.926225Z",
     "iopub.status.idle": "2025-02-18T11:04:52.930471Z",
     "shell.execute_reply": "2025-02-18T11:04:52.929192Z"
    },
    "papermill": {
     "duration": 0.013511,
     "end_time": "2025-02-18T11:04:52.932916",
     "exception": false,
     "start_time": "2025-02-18T11:04:52.919405",
     "status": "completed"
    },
    "tags": []
   },
   "outputs": [],
   "source": [
    "# !pip install plotly"
   ]
  },
  {
   "cell_type": "code",
   "execution_count": 4,
   "id": "29a14d04",
   "metadata": {
    "execution": {
     "iopub.execute_input": "2025-02-18T11:04:52.946050Z",
     "iopub.status.busy": "2025-02-18T11:04:52.945668Z",
     "iopub.status.idle": "2025-02-18T11:04:56.552337Z",
     "shell.execute_reply": "2025-02-18T11:04:56.551274Z"
    },
    "papermill": {
     "duration": 3.61531,
     "end_time": "2025-02-18T11:04:56.554172",
     "exception": false,
     "start_time": "2025-02-18T11:04:52.938862",
     "status": "completed"
    },
    "tags": []
   },
   "outputs": [
    {
     "data": {
      "text/html": [
       "<iframe\n",
       "    scrolling=\"no\"\n",
       "    width=\"100%\"\n",
       "    height=\"545px\"\n",
       "    src=\"iframe_figures/figure_4.html\"\n",
       "    frameborder=\"0\"\n",
       "    allowfullscreen\n",
       "></iframe>\n"
      ]
     },
     "metadata": {},
     "output_type": "display_data"
    }
   ],
   "source": [
    "import plotly.express as px\n",
    "import plotly.io as pio\n",
    "pio.renderers.default = 'iframe'\n",
    "answer = pd.read_csv('/kaggle/input/lb0-00000-answer/answer.csv')\n",
    "\n",
    "fig = px.histogram(\n",
    "    answer, \n",
    "    x='Pred',\n",
    "    title='Distribution of Predictions',\n",
    "    labels={'Pred': 'Prediction Value', 'count': 'Count'},\n",
    "    text_auto=True,\n",
    "    color='Pred',\n",
    "    color_discrete_map={0: '#FFA500', 1: '#007FFF'}\n",
    ")\n",
    "\n",
    "fig.update_layout(\n",
    "    bargap=0.2,\n",
    "    showlegend=False,\n",
    "    xaxis=dict(tickmode='array', tickvals=[0, 1]),\n",
    "    yaxis_title='Count'\n",
    ")\n",
    "\n",
    "fig.show()"
   ]
  },
  {
   "cell_type": "code",
   "execution_count": 5,
   "id": "847ec56f",
   "metadata": {
    "execution": {
     "iopub.execute_input": "2025-02-18T11:04:56.567473Z",
     "iopub.status.busy": "2025-02-18T11:04:56.567114Z",
     "iopub.status.idle": "2025-02-18T11:05:03.774849Z",
     "shell.execute_reply": "2025-02-18T11:05:03.773429Z"
    },
    "papermill": {
     "duration": 7.216523,
     "end_time": "2025-02-18T11:05:03.776788",
     "exception": false,
     "start_time": "2025-02-18T11:04:56.560265",
     "status": "completed"
    },
    "tags": []
   },
   "outputs": [
    {
     "name": "stdout",
     "output_type": "stream",
     "text": [
      "(507108, 221)\n",
      "(531, 221)\n"
     ]
    }
   ],
   "source": [
    "from sklearn.preprocessing import StandardScaler\n",
    "from sklearn.pipeline import Pipeline\n",
    "from sklearn.impute import SimpleImputer\n",
    "from sklearn.metrics import mean_squared_error, brier_score_loss\n",
    "from sklearn.ensemble import ExtraTreesRegressor, VotingRegressor, RandomForestRegressor\n",
    "from sklearn.ensemble import ExtraTreesClassifier, VotingClassifier, RandomForestClassifier\n",
    "from xgboost import XGBRegressor, XGBClassifier\n",
    "from catboost import CatBoostRegressor, CatBoostClassifier\n",
    "from lightgbm import LGBMRegressor, LGBMClassifier\n",
    "import json\n",
    "from datetime import datetime\n",
    "import optuna\n",
    "\n",
    "imputer = SimpleImputer(strategy='mean')\n",
    "scaler = StandardScaler()\n",
    "\n",
    "X = games[col].fillna(-1)\n",
    "sub_X = sub[col].fillna(-1)\n",
    "print(sub_X[sub_X['Season'] >= 2021].shape)\n",
    "print(X[X['Season'] >= 2021].shape)"
   ]
  },
  {
   "cell_type": "markdown",
   "id": "ea2470ca",
   "metadata": {
    "papermill": {
     "duration": 0.005624,
     "end_time": "2025-02-18T11:05:03.788592",
     "exception": false,
     "start_time": "2025-02-18T11:05:03.782968",
     "status": "completed"
    },
    "tags": []
   },
   "source": [
    "## Validation Set\n",
    "- General distribution is the same with the entire distribution"
   ]
  },
  {
   "cell_type": "code",
   "execution_count": 6,
   "id": "6151ae71",
   "metadata": {
    "execution": {
     "iopub.execute_input": "2025-02-18T11:05:03.803235Z",
     "iopub.status.busy": "2025-02-18T11:05:03.802439Z",
     "iopub.status.idle": "2025-02-18T11:05:05.218089Z",
     "shell.execute_reply": "2025-02-18T11:05:05.216718Z"
    },
    "papermill": {
     "duration": 1.424576,
     "end_time": "2025-02-18T11:05:05.220099",
     "exception": false,
     "start_time": "2025-02-18T11:05:03.795523",
     "status": "completed"
    },
    "tags": []
   },
   "outputs": [
    {
     "data": {
      "text/html": [
       "<iframe\n",
       "    scrolling=\"no\"\n",
       "    width=\"100%\"\n",
       "    height=\"545px\"\n",
       "    src=\"iframe_figures/figure_6.html\"\n",
       "    frameborder=\"0\"\n",
       "    allowfullscreen\n",
       "></iframe>\n"
      ]
     },
     "metadata": {},
     "output_type": "display_data"
    },
    {
     "name": "stdout",
     "output_type": "stream",
     "text": [
      "(129961, 221) (129961,) (507108, 221)\n"
     ]
    }
   ],
   "source": [
    "# take only 2024 as validation\n",
    "X = X[X['Season'] < 2024]\n",
    "games = games[games['Season'] < 2024]\n",
    "sub_X_test = sub_X.copy()\n",
    "sub_X = sub_X[sub_X['Season'] == 2024]\n",
    "answer['Season'] = answer['ID'].map(lambda x: x.split('_')[0])\n",
    "answer = answer[answer['Season'] == '2024']\n",
    "val_answer = answer['Pred']\n",
    "\n",
    "fig = px.histogram(\n",
    "    answer, \n",
    "    x='Pred',\n",
    "    title='Distribution of Predictions',\n",
    "    labels={'Pred': 'Prediction Value', 'count': 'Count'},\n",
    "    text_auto=True,\n",
    "    color='Pred',\n",
    "    color_discrete_map={0: '#FFA500', 1: '#007FFF'}\n",
    ")\n",
    "\n",
    "fig.update_layout(\n",
    "    bargap=0.2,\n",
    "    showlegend=False,\n",
    "    xaxis=dict(tickmode='array', tickvals=[0, 1]),\n",
    "    yaxis_title='Count'\n",
    ")\n",
    "\n",
    "fig.show()\n",
    "\n",
    "print(sub_X.shape, val_answer.shape, sub_X_test.shape)"
   ]
  },
  {
   "cell_type": "markdown",
   "id": "d84e7674",
   "metadata": {
    "papermill": {
     "duration": 0.00565,
     "end_time": "2025-02-18T11:05:05.232064",
     "exception": false,
     "start_time": "2025-02-18T11:05:05.226414",
     "status": "completed"
    },
    "tags": []
   },
   "source": [
    "## Imputing / Scaling"
   ]
  },
  {
   "cell_type": "code",
   "execution_count": 7,
   "id": "e9dcbfce",
   "metadata": {
    "execution": {
     "iopub.execute_input": "2025-02-18T11:05:05.245799Z",
     "iopub.status.busy": "2025-02-18T11:05:05.245448Z",
     "iopub.status.idle": "2025-02-18T11:05:10.457136Z",
     "shell.execute_reply": "2025-02-18T11:05:10.456131Z"
    },
    "papermill": {
     "duration": 5.220911,
     "end_time": "2025-02-18T11:05:10.459194",
     "exception": false,
     "start_time": "2025-02-18T11:05:05.238283",
     "status": "completed"
    },
    "tags": []
   },
   "outputs": [],
   "source": [
    "X_imputed = imputer.fit_transform(X)\n",
    "X_scaled = scaler.fit_transform(X_imputed)\n",
    "sub_X_imputed = imputer.transform(sub_X)\n",
    "sub_X_scaled = scaler.transform(sub_X_imputed)"
   ]
  },
  {
   "cell_type": "markdown",
   "id": "d834642e",
   "metadata": {
    "papermill": {
     "duration": 0.005725,
     "end_time": "2025-02-18T11:05:10.471353",
     "exception": false,
     "start_time": "2025-02-18T11:05:10.465628",
     "status": "completed"
    },
    "tags": []
   },
   "source": [
    "## Objective functions of three ensemble method "
   ]
  },
  {
   "cell_type": "code",
   "execution_count": 8,
   "id": "0e2e6de4",
   "metadata": {
    "_kg_hide-input": false,
    "execution": {
     "iopub.execute_input": "2025-02-18T11:05:10.484836Z",
     "iopub.status.busy": "2025-02-18T11:05:10.484426Z",
     "iopub.status.idle": "2025-02-18T11:05:10.492932Z",
     "shell.execute_reply": "2025-02-18T11:05:10.491749Z"
    },
    "papermill": {
     "duration": 0.017554,
     "end_time": "2025-02-18T11:05:10.494904",
     "exception": false,
     "start_time": "2025-02-18T11:05:10.477350",
     "status": "completed"
    },
    "tags": []
   },
   "outputs": [],
   "source": [
    "def objective_et_rf(trial):\n",
    "    et_params = {\n",
    "        'et__n_estimators': trial.suggest_int('et__n_estimators', 200, 370),  # Reduced upper bound\n",
    "        'et__max_depth': trial.suggest_int('et__max_depth', 10, 15),  # Reduced max depth\n",
    "        'et__min_samples_split': trial.suggest_int('et__min_samples_split', 2, 5),  # Increased min samples\n",
    "        'et__max_features': trial.suggest_categorical('et__max_features', ['sqrt', 'log2']),  # Removed None option\n",
    "        'et__criterion': trial.suggest_categorical('et__criterion', ['squared_error', 'absolute_error']),\n",
    "        'et__n_jobs': -1,\n",
    "        'et__random_state': 42\n",
    "    }\n",
    "    rf_params = {\n",
    "        'rf__n_estimators': trial.suggest_int('rf__n_estimators',200, 370),  # Moderate number of trees\n",
    "        'rf__max_depth': trial.suggest_int('rf__max_depth', 10, 20),  # Limited depth\n",
    "        'rf__min_samples_split': trial.suggest_int('rf__min_samples_split', 2, 5),  # Higher min samples\n",
    "        'rf__max_features': trial.suggest_categorical('rf__max_features', ['sqrt', 'log2']),  # Restrict features\n",
    "        'rf__bootstrap': True,  # Enable bootstrapping\n",
    "        'rf__n_jobs': -1,\n",
    "        'rf__random_state': 42\n",
    "    }\n",
    "    rf_params = {k.replace('rf__', ''): v for k, v in rf_params.items() if k.startswith('rf__')}\n",
    "    et_params = {k.replace('et__', ''): v for k, v in et_params.items() if k.startswith('et__')}\n",
    "    et = ExtraTreesRegressor(**et_params)\n",
    "    rf = RandomForestRegressor(**rf_params)\n",
    "    voting_regressor = VotingRegressor(estimators=[('et', et), ('rf', rf)])\n",
    "    model = Pipeline(steps=[\n",
    "        ('voting', voting_regressor)\n",
    "    ])\n",
    "    model.fit(X_scaled, games['Pred'])\n",
    "    train_pred = model.predict(sub_X_scaled).clip(0.001, 0.999)\n",
    "    # ir = IsotonicRegression(out_of_bounds='clip')\n",
    "    # ir.fit(train_pred, games['Pred'])\n",
    "    # cv_scores = cross_val_score(model, sub_X_scaled, val_answer, cv=5, scoring=\"neg_mean_squared_error\")\n",
    "    loss = mean_squared_error(train_pred, val_answer)\n",
    "    return loss"
   ]
  },
  {
   "cell_type": "code",
   "execution_count": 9,
   "id": "c6aa61fe",
   "metadata": {
    "execution": {
     "iopub.execute_input": "2025-02-18T11:05:10.510076Z",
     "iopub.status.busy": "2025-02-18T11:05:10.509666Z",
     "iopub.status.idle": "2025-02-18T11:05:10.518885Z",
     "shell.execute_reply": "2025-02-18T11:05:10.517554Z"
    },
    "papermill": {
     "duration": 0.018002,
     "end_time": "2025-02-18T11:05:10.520664",
     "exception": false,
     "start_time": "2025-02-18T11:05:10.502662",
     "status": "completed"
    },
    "tags": []
   },
   "outputs": [],
   "source": [
    "def objective_et_xgb(trial):\n",
    "    et_params = {\n",
    "        'et__n_estimators': trial.suggest_int('et__n_estimators', 200, 300),\n",
    "        'et__max_depth': trial.suggest_int('et__max_depth', 10, 20),\n",
    "        'et__min_samples_split': trial.suggest_int('et__min_samples_split', 2, 4),\n",
    "        'et__max_features': trial.suggest_categorical('et__max_features', ['sqrt', 'log2']),\n",
    "        'et__criterion': trial.suggest_categorical('et__criterion', ['squared_error', 'absolute_error']),\n",
    "        'et__n_jobs': -1,\n",
    "        'et__random_state': 42\n",
    "    }\n",
    "    \n",
    "    xgb_params = {\n",
    "        'xgb__n_estimators': trial.suggest_int('xgb__n_estimators', 200, 300),\n",
    "        'xgb__max_depth': trial.suggest_int('xgb__max_depth', 6, 9),  # Reduced depth\n",
    "        'xgb__learning_rate': trial.suggest_float('xgb__learning_rate', 0.01, 0.1),  # Lower learning rate\n",
    "        'xgb__min_child_weight': trial.suggest_int('xgb__min_child_weight', 1, 7),  # Prevent overfitting\n",
    "        'xgb__gamma': trial.suggest_float('xgb__gamma', 0.001, 1.0),  # Min loss reduction\n",
    "        'xgb__reg_lambda': trial.suggest_float('xgb__reg_lambda', 0.001, 10.0, log=True),  # L2 regularization\n",
    "        'xgb__reg_alpha': trial.suggest_float('xgb__reg_alpha', 0.001, 1.0),  # L1 regularization\n",
    "        'xgb__subsample': trial.suggest_float('xgb__subsample', 0.6, 0.8),  # Lower subsample\n",
    "        'xgb__colsample_bytree': trial.suggest_float('xgb__colsample_bytree', 0.6, 0.8),  # Lower feature sampling\n",
    "        'xgb__random_state': 42,\n",
    "        'device':\"cuda\",\n",
    "        'xgb__tree_method': 'hist'\n",
    "    }\n",
    "\n",
    "    xgb_params = {k.replace('xgb__', ''): v for k, v in xgb_params.items() if k.startswith('xgb__')}\n",
    "    et_params = {k.replace('et__', ''): v for k, v in et_params.items() if k.startswith('et__')}\n",
    "    \n",
    "    et = ExtraTreesRegressor(**et_params)\n",
    "    xgb = XGBRegressor(**xgb_params)\n",
    "    \n",
    "    voting_regressor = VotingRegressor(estimators=[('et', et), ('xgb', xgb)])\n",
    "    model = Pipeline(steps=[\n",
    "        ('voting', voting_regressor)\n",
    "    ])\n",
    "    \n",
    "    model.fit(X_scaled, games['Pred'])\n",
    "    train_pred = model.predict(sub_X_scaled).clip(0.001, 0.999)\n",
    "    loss = mean_squared_error(train_pred, val_answer)\n",
    "    return loss"
   ]
  },
  {
   "cell_type": "code",
   "execution_count": 10,
   "id": "497cb974",
   "metadata": {
    "execution": {
     "iopub.execute_input": "2025-02-18T11:05:10.534547Z",
     "iopub.status.busy": "2025-02-18T11:05:10.534134Z",
     "iopub.status.idle": "2025-02-18T11:05:10.548415Z",
     "shell.execute_reply": "2025-02-18T11:05:10.547310Z"
    },
    "papermill": {
     "duration": 0.023506,
     "end_time": "2025-02-18T11:05:10.550350",
     "exception": false,
     "start_time": "2025-02-18T11:05:10.526844",
     "status": "completed"
    },
    "tags": []
   },
   "outputs": [],
   "source": [
    "def objective_et_xgb_lgbm_cat(trial):\n",
    "    et_params = {\n",
    "        'et__n_estimators': trial.suggest_int('et__n_estimators', 200, 300),\n",
    "        'et__max_depth': trial.suggest_int('et__max_depth', 10, 20),\n",
    "        'et__min_samples_split': trial.suggest_int('et__min_samples_split', 2, 4),\n",
    "        'et__max_features': trial.suggest_categorical('et__max_features', ['sqrt', 'log2']),\n",
    "        'et__criterion': trial.suggest_categorical('et__criterion', ['squared_error', 'absolute_error']),\n",
    "        'et__n_jobs': -1,\n",
    "        'et__random_state': 42\n",
    "    }\n",
    "    \n",
    "    xgb_params = {\n",
    "        'xgb__n_estimators': trial.suggest_int('xgb__n_estimators', 200, 300),\n",
    "        'xgb__max_depth': trial.suggest_int('xgb__max_depth', 6, 9),  # Reduced depth\n",
    "        'xgb__learning_rate': trial.suggest_float('xgb__learning_rate', 0.01, 0.1),  # Lower learning rate\n",
    "        'xgb__min_child_weight': trial.suggest_int('xgb__min_child_weight', 1, 7),  # Prevent overfitting\n",
    "        'xgb__gamma': trial.suggest_float('xgb__gamma', 0.001, 1.0),  # Min loss reduction\n",
    "        'xgb__reg_lambda': trial.suggest_float('xgb__reg_lambda', 0.001, 10.0, log=True),  # L2 regularization\n",
    "        'xgb__reg_alpha': trial.suggest_float('xgb__reg_alpha', 0.001, 1.0),  # L1 regularization\n",
    "        'xgb__subsample': trial.suggest_float('xgb__subsample', 0.6, 0.8),  # Lower subsample\n",
    "        'xgb__colsample_bytree': trial.suggest_float('xgb__colsample_bytree', 0.6, 0.8),  # Lower feature sampling\n",
    "        'xgb__random_state': 42,\n",
    "        'device':\"cuda\",\n",
    "        'xgb__tree_method': 'hist'\n",
    "    }\n",
    "\n",
    "    lgb_params = {\n",
    "        'lgb__n_estimators': trial.suggest_int('lgb__n_estimators', 200, 300),\n",
    "        'lgb__max_depth': trial.suggest_int('lgb__max_depth', 6, 9),\n",
    "        'lgb__learning_rate': trial.suggest_float('lgb__learning_rate', 0.01, 0.1),\n",
    "        'lgb__num_leaves': trial.suggest_int('lgb__num_leaves', 20, 50),\n",
    "        'lgb__subsample': trial.suggest_float('lgb__subsample', 0.6, 0.8),\n",
    "        'lgb__colsample_bytree': trial.suggest_float('lgb__colsample_bytree', 0.6, 0.8),\n",
    "        'lgb__reg_alpha': trial.suggest_float('lgb__reg_alpha', 0.001, 1.0),\n",
    "        'lgb__reg_lambda': trial.suggest_float('lgb__reg_lambda', 0.001, 10.0, log=True),\n",
    "        'lgb__random_state': 42,\n",
    "        'lgb__n_jobs': -1\n",
    "    }\n",
    "\n",
    "    cat_params = {\n",
    "        'cat__iterations': trial.suggest_int('cat__iterations', 200, 300),\n",
    "        'cat__depth': trial.suggest_int('cat__depth', 6, 9),\n",
    "        'cat__learning_rate': trial.suggest_float('cat__learning_rate', 0.01, 0.1),\n",
    "        'cat__l2_leaf_reg': trial.suggest_float('cat__l2_leaf_reg', 0.001, 10.0, log=True),\n",
    "        'cat__random_strength': trial.suggest_float('cat__random_strength', 0.1, 10.0),\n",
    "        'cat__subsample': trial.suggest_float('cat__subsample', 0.6, 0.8),\n",
    "        'cat__random_state': 42,\n",
    "        'cat__verbose': False\n",
    "    }\n",
    "    xgb_params = {k.replace('xgb__', ''): v for k, v in xgb_params.items() if k.startswith('xgb__')}\n",
    "    et_params = {k.replace('et__', ''): v for k, v in et_params.items() if k.startswith('et__')}\n",
    "    lgb_params = {k.replace('lgb__', ''): v for k, v in lgb_params.items() if k.startswith('lgb__')}\n",
    "    cat_params = {k.replace('cat__', ''): v for k, v in cat_params.items() if k.startswith('cat__')}\n",
    "\n",
    "    # Initialize models\n",
    "    et = ExtraTreesRegressor(**et_params)\n",
    "    xgb = XGBRegressor(**xgb_params)\n",
    "    lgb = LGBMRegressor(**lgb_params)\n",
    "    cat = CatBoostRegressor(**cat_params)\n",
    "\n",
    "    # Create voting regressor with all models\n",
    "    voting_regressor = VotingRegressor(estimators=[\n",
    "        ('et', et), \n",
    "        ('xgb', xgb), \n",
    "        ('lgb', lgb), \n",
    "        ('cat', cat)\n",
    "    ])\n",
    "    \n",
    "    model = Pipeline(steps=[\n",
    "        ('voting', voting_regressor)\n",
    "    ])\n",
    "\n",
    "    model.fit(X_scaled, games['Pred'])\n",
    "    train_pred = model.predict(sub_X_scaled).clip(0.001, 0.999)\n",
    "    loss = mean_squared_error(train_pred, val_answer)\n",
    "    return loss"
   ]
  },
  {
   "cell_type": "markdown",
   "id": "ccd9f26a",
   "metadata": {
    "papermill": {
     "duration": 0.005638,
     "end_time": "2025-02-18T11:05:10.562413",
     "exception": false,
     "start_time": "2025-02-18T11:05:10.556775",
     "status": "completed"
    },
    "tags": []
   },
   "source": [
    "## Study Starter\n",
    "- Default trials is set to 20 for efficiency, actual training may require 500+ rounds."
   ]
  },
  {
   "cell_type": "code",
   "execution_count": 11,
   "id": "79dd03ce",
   "metadata": {
    "execution": {
     "iopub.execute_input": "2025-02-18T11:05:10.575442Z",
     "iopub.status.busy": "2025-02-18T11:05:10.575070Z",
     "iopub.status.idle": "2025-02-18T11:05:10.581477Z",
     "shell.execute_reply": "2025-02-18T11:05:10.580296Z"
    },
    "papermill": {
     "duration": 0.015218,
     "end_time": "2025-02-18T11:05:10.583522",
     "exception": false,
     "start_time": "2025-02-18T11:05:10.568304",
     "status": "completed"
    },
    "tags": []
   },
   "outputs": [],
   "source": [
    "optuna.logging.set_verbosity(optuna.logging.WARNING) # hide output\n",
    "def run_opt(obj_func, name, trials=20):\n",
    "    study = optuna.create_study(direction='minimize')\n",
    "    study.optimize(obj_func, n_trials=trials,show_progress_bar=True)\n",
    "    best_params = study.best_params\n",
    "    best_params['score'] = study.best_trial.value\n",
    "    timestamp = datetime.now().strftime(\"%Y%m%d_%H%M%S\")\n",
    "    filename = 'best_params_'+ name + f'_{timestamp}.json'\n",
    "\n",
    "    with open(filename, 'w') as f:\n",
    "        json.dump(best_params, f, indent=4)\n",
    "    print(best_params)\n",
    "    return best_params"
   ]
  },
  {
   "cell_type": "markdown",
   "id": "e681b309",
   "metadata": {
    "papermill": {
     "duration": 0.005587,
     "end_time": "2025-02-18T11:05:10.595673",
     "exception": false,
     "start_time": "2025-02-18T11:05:10.590086",
     "status": "completed"
    },
    "tags": []
   },
   "source": [
    "## Trial score here can be trusted"
   ]
  },
  {
   "cell_type": "code",
   "execution_count": 12,
   "id": "7015a92c",
   "metadata": {
    "execution": {
     "iopub.execute_input": "2025-02-18T11:05:10.608832Z",
     "iopub.status.busy": "2025-02-18T11:05:10.608490Z",
     "iopub.status.idle": "2025-02-18T11:09:42.841843Z",
     "shell.execute_reply": "2025-02-18T11:09:42.840673Z"
    },
    "papermill": {
     "duration": 272.242136,
     "end_time": "2025-02-18T11:09:42.843728",
     "exception": false,
     "start_time": "2025-02-18T11:05:10.601592",
     "status": "completed"
    },
    "tags": []
   },
   "outputs": [
    {
     "data": {
      "application/vnd.jupyter.widget-view+json": {
       "model_id": "eb0cdf1ba4cb423abd5d168c356d2f22",
       "version_major": 2,
       "version_minor": 0
      },
      "text/plain": [
       "  0%|          | 0/20 [00:00<?, ?it/s]"
      ]
     },
     "metadata": {},
     "output_type": "display_data"
    },
    {
     "name": "stdout",
     "output_type": "stream",
     "text": [
      "{'et__n_estimators': 268, 'et__max_depth': 17, 'et__min_samples_split': 2, 'et__max_features': 'sqrt', 'et__criterion': 'absolute_error', 'xgb__n_estimators': 274, 'xgb__max_depth': 9, 'xgb__learning_rate': 0.04367356984520672, 'xgb__min_child_weight': 3, 'xgb__gamma': 0.30646995147830025, 'xgb__reg_lambda': 0.008269068995432885, 'xgb__reg_alpha': 0.8371943531657856, 'xgb__subsample': 0.7429516106078329, 'xgb__colsample_bytree': 0.6056849054125846, 'score': 0.23388272232059562}\n"
     ]
    }
   ],
   "source": [
    "best_params = run_opt(objective_et_xgb, 'et_xgb')"
   ]
  },
  {
   "cell_type": "code",
   "execution_count": 13,
   "id": "4b044474",
   "metadata": {
    "execution": {
     "iopub.execute_input": "2025-02-18T11:09:42.858263Z",
     "iopub.status.busy": "2025-02-18T11:09:42.857799Z",
     "iopub.status.idle": "2025-02-18T11:09:42.864291Z",
     "shell.execute_reply": "2025-02-18T11:09:42.863093Z"
    },
    "papermill": {
     "duration": 0.015814,
     "end_time": "2025-02-18T11:09:42.865960",
     "exception": false,
     "start_time": "2025-02-18T11:09:42.850146",
     "status": "completed"
    },
    "tags": []
   },
   "outputs": [],
   "source": [
    "from sklearn.isotonic import IsotonicRegression\n",
    "xgb_best_params = {k.replace('xgb__', ''): v for k, v in best_params.items() if k.startswith('xgb__')}\n",
    "et_best_params = {k.replace('et__', ''): v for k, v in best_params.items() if k.startswith('et__')}\n",
    "\n",
    "et = ExtraTreesRegressor(**et_best_params)\n",
    "xgb = XGBRegressor(**xgb_best_params)\n",
    "\n",
    "\n",
    "voting_regressor = VotingRegressor(estimators=[('et', et), ('xgb', xgb)])\n",
    "pipe = Pipeline(steps=[\n",
    "    ('voting', voting_regressor)\n",
    "])"
   ]
  },
  {
   "cell_type": "markdown",
   "id": "11bbb211",
   "metadata": {
    "papermill": {
     "duration": 0.005878,
     "end_time": "2025-02-18T11:09:42.878296",
     "exception": false,
     "start_time": "2025-02-18T11:09:42.872418",
     "status": "completed"
    },
    "tags": []
   },
   "source": [
    "## Result Generation"
   ]
  },
  {
   "cell_type": "code",
   "execution_count": 14,
   "id": "548292ce",
   "metadata": {
    "execution": {
     "iopub.execute_input": "2025-02-18T11:09:42.892481Z",
     "iopub.status.busy": "2025-02-18T11:09:42.892105Z",
     "iopub.status.idle": "2025-02-18T11:10:53.618178Z",
     "shell.execute_reply": "2025-02-18T11:10:53.617114Z"
    },
    "papermill": {
     "duration": 70.741445,
     "end_time": "2025-02-18T11:10:53.626296",
     "exception": false,
     "start_time": "2025-02-18T11:09:42.884851",
     "status": "completed"
    },
    "tags": []
   },
   "outputs": [
    {
     "data": {
      "text/html": [
       "<div>\n",
       "<style scoped>\n",
       "    .dataframe tbody tr th:only-of-type {\n",
       "        vertical-align: middle;\n",
       "    }\n",
       "\n",
       "    .dataframe tbody tr th {\n",
       "        vertical-align: top;\n",
       "    }\n",
       "\n",
       "    .dataframe thead th {\n",
       "        text-align: right;\n",
       "    }\n",
       "</style>\n",
       "<table border=\"1\" class=\"dataframe\">\n",
       "  <thead>\n",
       "    <tr style=\"text-align: right;\">\n",
       "      <th></th>\n",
       "      <th>ID</th>\n",
       "      <th>Pred</th>\n",
       "    </tr>\n",
       "  </thead>\n",
       "  <tbody>\n",
       "    <tr>\n",
       "      <th>0</th>\n",
       "      <td>2021_1101_1102</td>\n",
       "      <td>0.277706</td>\n",
       "    </tr>\n",
       "    <tr>\n",
       "      <th>1</th>\n",
       "      <td>2021_1101_1103</td>\n",
       "      <td>0.311730</td>\n",
       "    </tr>\n",
       "    <tr>\n",
       "      <th>2</th>\n",
       "      <td>2021_1101_1104</td>\n",
       "      <td>0.317327</td>\n",
       "    </tr>\n",
       "    <tr>\n",
       "      <th>3</th>\n",
       "      <td>2021_1101_1105</td>\n",
       "      <td>0.311730</td>\n",
       "    </tr>\n",
       "    <tr>\n",
       "      <th>4</th>\n",
       "      <td>2021_1101_1106</td>\n",
       "      <td>0.311730</td>\n",
       "    </tr>\n",
       "  </tbody>\n",
       "</table>\n",
       "</div>"
      ],
      "text/plain": [
       "               ID      Pred\n",
       "0  2021_1101_1102  0.277706\n",
       "1  2021_1101_1103  0.311730\n",
       "2  2021_1101_1104  0.317327\n",
       "3  2021_1101_1105  0.311730\n",
       "4  2021_1101_1106  0.311730"
      ]
     },
     "execution_count": 14,
     "metadata": {},
     "output_type": "execute_result"
    }
   ],
   "source": [
    "sub_X_test_imputed = imputer.transform(sub_X_test)\n",
    "sub_X_test_scaled = scaler.transform(sub_X_test_imputed)\n",
    "\n",
    "pipe.fit(X_scaled, games['Pred'])\n",
    "\n",
    "\n",
    "pred = pipe.predict(sub_X_test_scaled).clip(0.001, 0.999)\n",
    "train_pred = pipe.predict(X_scaled).clip(0.001, 0.999)\n",
    "\n",
    "\n",
    "ir = IsotonicRegression(out_of_bounds='clip')\n",
    "ir.fit(train_pred, games['Pred'])\n",
    "sub['Pred'] = pred\n",
    "\n",
    "\n",
    "sub[['ID', 'Pred']].to_csv('submission.csv', index=False)\n",
    "sub[['ID', 'Pred']].head()"
   ]
  },
  {
   "cell_type": "markdown",
   "id": "6639702d",
   "metadata": {
    "papermill": {
     "duration": 0.006762,
     "end_time": "2025-02-18T11:10:53.639562",
     "exception": false,
     "start_time": "2025-02-18T11:10:53.632800",
     "status": "completed"
    },
    "tags": []
   },
   "source": [
    "## Submission Result Distribution"
   ]
  },
  {
   "cell_type": "code",
   "execution_count": 15,
   "id": "5cad765e",
   "metadata": {
    "execution": {
     "iopub.execute_input": "2025-02-18T11:10:53.654125Z",
     "iopub.status.busy": "2025-02-18T11:10:53.653739Z",
     "iopub.status.idle": "2025-02-18T11:10:53.852820Z",
     "shell.execute_reply": "2025-02-18T11:10:53.851803Z"
    },
    "papermill": {
     "duration": 0.208105,
     "end_time": "2025-02-18T11:10:53.854539",
     "exception": false,
     "start_time": "2025-02-18T11:10:53.646434",
     "status": "completed"
    },
    "tags": []
   },
   "outputs": [
    {
     "data": {
      "text/html": [
       "<iframe\n",
       "    scrolling=\"no\"\n",
       "    width=\"100%\"\n",
       "    height=\"545px\"\n",
       "    src=\"iframe_figures/figure_15.html\"\n",
       "    frameborder=\"0\"\n",
       "    allowfullscreen\n",
       "></iframe>\n"
      ]
     },
     "metadata": {},
     "output_type": "display_data"
    }
   ],
   "source": [
    "sub['Pred'] = sub['Pred'].round(1)\n",
    "fig = px.histogram(\n",
    "    sub, \n",
    "    x='Pred',\n",
    "    title='Distribution of Predictions',\n",
    "    labels={'Pred': 'Prediction Value', 'count': 'Count'},\n",
    "    text_auto=True,\n",
    "    color='Pred',\n",
    "    color_discrete_map={0: '#FFA500', 1: '#007FFF'}\n",
    ")\n",
    "\n",
    "fig.update_layout(\n",
    "    bargap=0.2,\n",
    "    showlegend=False,\n",
    "    xaxis=dict(tickmode='array', tickvals=[0, 1]),\n",
    "    yaxis_title='Count'\n",
    ")\n",
    "\n",
    "fig.show()"
   ]
  },
  {
   "cell_type": "markdown",
   "id": "baf23707",
   "metadata": {
    "papermill": {
     "duration": 0.006197,
     "end_time": "2025-02-18T11:10:53.867389",
     "exception": false,
     "start_time": "2025-02-18T11:10:53.861192",
     "status": "completed"
    },
    "tags": []
   },
   "source": [
    "## Validation Result distribution"
   ]
  },
  {
   "cell_type": "code",
   "execution_count": 16,
   "id": "a214ca75",
   "metadata": {
    "execution": {
     "iopub.execute_input": "2025-02-18T11:10:53.881362Z",
     "iopub.status.busy": "2025-02-18T11:10:53.881005Z",
     "iopub.status.idle": "2025-02-18T11:10:57.735373Z",
     "shell.execute_reply": "2025-02-18T11:10:57.734348Z"
    },
    "papermill": {
     "duration": 3.863794,
     "end_time": "2025-02-18T11:10:57.737495",
     "exception": false,
     "start_time": "2025-02-18T11:10:53.873701",
     "status": "completed"
    },
    "tags": []
   },
   "outputs": [],
   "source": [
    "val_pred = pipe.predict(sub_X_scaled).clip(0.001, 0.999)\n",
    "val_pred = pd.DataFrame({\n",
    "    \"Pred\": val_pred.round(1)\n",
    "})"
   ]
  },
  {
   "cell_type": "code",
   "execution_count": 17,
   "id": "16f753a3",
   "metadata": {
    "execution": {
     "iopub.execute_input": "2025-02-18T11:10:57.753194Z",
     "iopub.status.busy": "2025-02-18T11:10:57.752810Z",
     "iopub.status.idle": "2025-02-18T11:10:57.881551Z",
     "shell.execute_reply": "2025-02-18T11:10:57.880508Z"
    },
    "papermill": {
     "duration": 0.13838,
     "end_time": "2025-02-18T11:10:57.883346",
     "exception": false,
     "start_time": "2025-02-18T11:10:57.744966",
     "status": "completed"
    },
    "tags": []
   },
   "outputs": [
    {
     "data": {
      "text/html": [
       "<iframe\n",
       "    scrolling=\"no\"\n",
       "    width=\"100%\"\n",
       "    height=\"545px\"\n",
       "    src=\"iframe_figures/figure_17.html\"\n",
       "    frameborder=\"0\"\n",
       "    allowfullscreen\n",
       "></iframe>\n"
      ]
     },
     "metadata": {},
     "output_type": "display_data"
    }
   ],
   "source": [
    "fig = px.histogram(\n",
    "    val_pred, \n",
    "    x='Pred',\n",
    "    title='Distribution of Predictions',\n",
    "    labels={'Pred': 'Prediction Value', 'count': 'Count'},\n",
    "    text_auto=True,\n",
    "    color='Pred',\n",
    "    color_discrete_map={0: '#FFA500', 1: '#007FFF'}\n",
    ")\n",
    "\n",
    "fig.update_layout(\n",
    "    bargap=0.2,\n",
    "    showlegend=False,\n",
    "    xaxis=dict(tickmode='array', tickvals=[0, 1]),\n",
    "    yaxis_title='Count'\n",
    ")\n",
    "\n",
    "fig.show()"
   ]
  }
 ],
 "metadata": {
  "kaggle": {
   "accelerator": "none",
   "dataSources": [
    {
     "databundleVersionId": 11018643,
     "sourceId": 91497,
     "sourceType": "competition"
    },
    {
     "datasetId": 6687649,
     "sourceId": 10778377,
     "sourceType": "datasetVersion"
    }
   ],
   "dockerImageVersionId": 30886,
   "isGpuEnabled": false,
   "isInternetEnabled": true,
   "language": "python",
   "sourceType": "notebook"
  },
  "kernelspec": {
   "display_name": "Python 3",
   "language": "python",
   "name": "python3"
  },
  "language_info": {
   "codemirror_mode": {
    "name": "ipython",
    "version": 3
   },
   "file_extension": ".py",
   "mimetype": "text/x-python",
   "name": "python",
   "nbconvert_exporter": "python",
   "pygments_lexer": "ipython3",
   "version": "3.10.12"
  },
  "papermill": {
   "default_parameters": {},
   "duration": 413.875276,
   "end_time": "2025-02-18T11:10:59.316600",
   "environment_variables": {},
   "exception": null,
   "input_path": "__notebook__.ipynb",
   "output_path": "__notebook__.ipynb",
   "parameters": {},
   "start_time": "2025-02-18T11:04:05.441324",
   "version": "2.6.0"
  },
  "widgets": {
   "application/vnd.jupyter.widget-state+json": {
    "state": {
     "04b3803598a344dab6400511345704c1": {
      "model_module": "@jupyter-widgets/controls",
      "model_module_version": "2.0.0",
      "model_name": "HTMLStyleModel",
      "state": {
       "_model_module": "@jupyter-widgets/controls",
       "_model_module_version": "2.0.0",
       "_model_name": "HTMLStyleModel",
       "_view_count": null,
       "_view_module": "@jupyter-widgets/base",
       "_view_module_version": "2.0.0",
       "_view_name": "StyleView",
       "background": null,
       "description_width": "",
       "font_size": null,
       "text_color": null
      }
     },
     "1982541f424246599169137f75ce1608": {
      "model_module": "@jupyter-widgets/controls",
      "model_module_version": "2.0.0",
      "model_name": "HTMLModel",
      "state": {
       "_dom_classes": [],
       "_model_module": "@jupyter-widgets/controls",
       "_model_module_version": "2.0.0",
       "_model_name": "HTMLModel",
       "_view_count": null,
       "_view_module": "@jupyter-widgets/controls",
       "_view_module_version": "2.0.0",
       "_view_name": "HTMLView",
       "description": "",
       "description_allow_html": false,
       "layout": "IPY_MODEL_6509731a1522489585c01856989b703f",
       "placeholder": "​",
       "style": "IPY_MODEL_04b3803598a344dab6400511345704c1",
       "tabbable": null,
       "tooltip": null,
       "value": " 20/20 [04:32&lt;00:00, 18.27s/it]"
      }
     },
     "292edfe3129140d0ac4e437e016ca06e": {
      "model_module": "@jupyter-widgets/base",
      "model_module_version": "2.0.0",
      "model_name": "LayoutModel",
      "state": {
       "_model_module": "@jupyter-widgets/base",
       "_model_module_version": "2.0.0",
       "_model_name": "LayoutModel",
       "_view_count": null,
       "_view_module": "@jupyter-widgets/base",
       "_view_module_version": "2.0.0",
       "_view_name": "LayoutView",
       "align_content": null,
       "align_items": null,
       "align_self": null,
       "border_bottom": null,
       "border_left": null,
       "border_right": null,
       "border_top": null,
       "bottom": null,
       "display": null,
       "flex": null,
       "flex_flow": null,
       "grid_area": null,
       "grid_auto_columns": null,
       "grid_auto_flow": null,
       "grid_auto_rows": null,
       "grid_column": null,
       "grid_gap": null,
       "grid_row": null,
       "grid_template_areas": null,
       "grid_template_columns": null,
       "grid_template_rows": null,
       "height": null,
       "justify_content": null,
       "justify_items": null,
       "left": null,
       "margin": null,
       "max_height": null,
       "max_width": null,
       "min_height": null,
       "min_width": null,
       "object_fit": null,
       "object_position": null,
       "order": null,
       "overflow": null,
       "padding": null,
       "right": null,
       "top": null,
       "visibility": null,
       "width": null
      }
     },
     "3252cdf09c774ae6acaa63030316e62c": {
      "model_module": "@jupyter-widgets/controls",
      "model_module_version": "2.0.0",
      "model_name": "ProgressStyleModel",
      "state": {
       "_model_module": "@jupyter-widgets/controls",
       "_model_module_version": "2.0.0",
       "_model_name": "ProgressStyleModel",
       "_view_count": null,
       "_view_module": "@jupyter-widgets/base",
       "_view_module_version": "2.0.0",
       "_view_name": "StyleView",
       "bar_color": null,
       "description_width": ""
      }
     },
     "499b406ea603424bab11e32307aef4ec": {
      "model_module": "@jupyter-widgets/base",
      "model_module_version": "2.0.0",
      "model_name": "LayoutModel",
      "state": {
       "_model_module": "@jupyter-widgets/base",
       "_model_module_version": "2.0.0",
       "_model_name": "LayoutModel",
       "_view_count": null,
       "_view_module": "@jupyter-widgets/base",
       "_view_module_version": "2.0.0",
       "_view_name": "LayoutView",
       "align_content": null,
       "align_items": null,
       "align_self": null,
       "border_bottom": null,
       "border_left": null,
       "border_right": null,
       "border_top": null,
       "bottom": null,
       "display": null,
       "flex": null,
       "flex_flow": null,
       "grid_area": null,
       "grid_auto_columns": null,
       "grid_auto_flow": null,
       "grid_auto_rows": null,
       "grid_column": null,
       "grid_gap": null,
       "grid_row": null,
       "grid_template_areas": null,
       "grid_template_columns": null,
       "grid_template_rows": null,
       "height": null,
       "justify_content": null,
       "justify_items": null,
       "left": null,
       "margin": null,
       "max_height": null,
       "max_width": null,
       "min_height": null,
       "min_width": null,
       "object_fit": null,
       "object_position": null,
       "order": null,
       "overflow": null,
       "padding": null,
       "right": null,
       "top": null,
       "visibility": null,
       "width": null
      }
     },
     "4bf4d918a33049af922b45706434bf88": {
      "model_module": "@jupyter-widgets/controls",
      "model_module_version": "2.0.0",
      "model_name": "HTMLStyleModel",
      "state": {
       "_model_module": "@jupyter-widgets/controls",
       "_model_module_version": "2.0.0",
       "_model_name": "HTMLStyleModel",
       "_view_count": null,
       "_view_module": "@jupyter-widgets/base",
       "_view_module_version": "2.0.0",
       "_view_name": "StyleView",
       "background": null,
       "description_width": "",
       "font_size": null,
       "text_color": null
      }
     },
     "6509731a1522489585c01856989b703f": {
      "model_module": "@jupyter-widgets/base",
      "model_module_version": "2.0.0",
      "model_name": "LayoutModel",
      "state": {
       "_model_module": "@jupyter-widgets/base",
       "_model_module_version": "2.0.0",
       "_model_name": "LayoutModel",
       "_view_count": null,
       "_view_module": "@jupyter-widgets/base",
       "_view_module_version": "2.0.0",
       "_view_name": "LayoutView",
       "align_content": null,
       "align_items": null,
       "align_self": null,
       "border_bottom": null,
       "border_left": null,
       "border_right": null,
       "border_top": null,
       "bottom": null,
       "display": null,
       "flex": null,
       "flex_flow": null,
       "grid_area": null,
       "grid_auto_columns": null,
       "grid_auto_flow": null,
       "grid_auto_rows": null,
       "grid_column": null,
       "grid_gap": null,
       "grid_row": null,
       "grid_template_areas": null,
       "grid_template_columns": null,
       "grid_template_rows": null,
       "height": null,
       "justify_content": null,
       "justify_items": null,
       "left": null,
       "margin": null,
       "max_height": null,
       "max_width": null,
       "min_height": null,
       "min_width": null,
       "object_fit": null,
       "object_position": null,
       "order": null,
       "overflow": null,
       "padding": null,
       "right": null,
       "top": null,
       "visibility": null,
       "width": null
      }
     },
     "67b466cb237c40f78ac7489432113aac": {
      "model_module": "@jupyter-widgets/controls",
      "model_module_version": "2.0.0",
      "model_name": "HTMLModel",
      "state": {
       "_dom_classes": [],
       "_model_module": "@jupyter-widgets/controls",
       "_model_module_version": "2.0.0",
       "_model_name": "HTMLModel",
       "_view_count": null,
       "_view_module": "@jupyter-widgets/controls",
       "_view_module_version": "2.0.0",
       "_view_name": "HTMLView",
       "description": "",
       "description_allow_html": false,
       "layout": "IPY_MODEL_ede4c9631060438c99f52acfb097b819",
       "placeholder": "​",
       "style": "IPY_MODEL_4bf4d918a33049af922b45706434bf88",
       "tabbable": null,
       "tooltip": null,
       "value": "Best trial: 18. Best value: 0.233883: 100%"
      }
     },
     "af7373d8bb284fbda310cdc8ca9ad46a": {
      "model_module": "@jupyter-widgets/controls",
      "model_module_version": "2.0.0",
      "model_name": "FloatProgressModel",
      "state": {
       "_dom_classes": [],
       "_model_module": "@jupyter-widgets/controls",
       "_model_module_version": "2.0.0",
       "_model_name": "FloatProgressModel",
       "_view_count": null,
       "_view_module": "@jupyter-widgets/controls",
       "_view_module_version": "2.0.0",
       "_view_name": "ProgressView",
       "bar_style": "success",
       "description": "",
       "description_allow_html": false,
       "layout": "IPY_MODEL_292edfe3129140d0ac4e437e016ca06e",
       "max": 20.0,
       "min": 0.0,
       "orientation": "horizontal",
       "style": "IPY_MODEL_3252cdf09c774ae6acaa63030316e62c",
       "tabbable": null,
       "tooltip": null,
       "value": 20.0
      }
     },
     "eb0cdf1ba4cb423abd5d168c356d2f22": {
      "model_module": "@jupyter-widgets/controls",
      "model_module_version": "2.0.0",
      "model_name": "HBoxModel",
      "state": {
       "_dom_classes": [],
       "_model_module": "@jupyter-widgets/controls",
       "_model_module_version": "2.0.0",
       "_model_name": "HBoxModel",
       "_view_count": null,
       "_view_module": "@jupyter-widgets/controls",
       "_view_module_version": "2.0.0",
       "_view_name": "HBoxView",
       "box_style": "",
       "children": [
        "IPY_MODEL_67b466cb237c40f78ac7489432113aac",
        "IPY_MODEL_af7373d8bb284fbda310cdc8ca9ad46a",
        "IPY_MODEL_1982541f424246599169137f75ce1608"
       ],
       "layout": "IPY_MODEL_499b406ea603424bab11e32307aef4ec",
       "tabbable": null,
       "tooltip": null
      }
     },
     "ede4c9631060438c99f52acfb097b819": {
      "model_module": "@jupyter-widgets/base",
      "model_module_version": "2.0.0",
      "model_name": "LayoutModel",
      "state": {
       "_model_module": "@jupyter-widgets/base",
       "_model_module_version": "2.0.0",
       "_model_name": "LayoutModel",
       "_view_count": null,
       "_view_module": "@jupyter-widgets/base",
       "_view_module_version": "2.0.0",
       "_view_name": "LayoutView",
       "align_content": null,
       "align_items": null,
       "align_self": null,
       "border_bottom": null,
       "border_left": null,
       "border_right": null,
       "border_top": null,
       "bottom": null,
       "display": null,
       "flex": null,
       "flex_flow": null,
       "grid_area": null,
       "grid_auto_columns": null,
       "grid_auto_flow": null,
       "grid_auto_rows": null,
       "grid_column": null,
       "grid_gap": null,
       "grid_row": null,
       "grid_template_areas": null,
       "grid_template_columns": null,
       "grid_template_rows": null,
       "height": null,
       "justify_content": null,
       "justify_items": null,
       "left": null,
       "margin": null,
       "max_height": null,
       "max_width": null,
       "min_height": null,
       "min_width": null,
       "object_fit": null,
       "object_position": null,
       "order": null,
       "overflow": null,
       "padding": null,
       "right": null,
       "top": null,
       "visibility": null,
       "width": null
      }
     }
    },
    "version_major": 2,
    "version_minor": 0
   }
  }
 },
 "nbformat": 4,
 "nbformat_minor": 5
}
