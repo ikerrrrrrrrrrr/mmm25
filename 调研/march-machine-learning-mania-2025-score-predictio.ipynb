{
 "cells": [
  {
   "cell_type": "code",
   "execution_count": null,
   "id": "d3b7cc79",
   "metadata": {
    "_cell_guid": "b1076dfc-b9ad-4769-8c92-a6c4dae69d19",
    "_uuid": "8f2839f25d086af736a60e9eeb907d3b93b6e0e5",
    "papermill": {
     "duration": 0.004661,
     "end_time": "2025-02-24T05:58:04.662888",
     "exception": false,
     "start_time": "2025-02-24T05:58:04.658227",
     "status": "completed"
    },
    "tags": []
   },
   "outputs": [],
   "source": []
  },
  {
   "cell_type": "code",
   "execution_count": null,
   "id": "3451e536",
   "metadata": {
    "papermill": {
     "duration": 0.003698,
     "end_time": "2025-02-24T05:58:04.670855",
     "exception": false,
     "start_time": "2025-02-24T05:58:04.667157",
     "status": "completed"
    },
    "tags": []
   },
   "outputs": [],
   "source": []
  },
  {
   "cell_type": "code",
   "execution_count": 1,
   "id": "f5cc3e59",
   "metadata": {
    "execution": {
     "iopub.execute_input": "2025-02-24T05:58:04.680591Z",
     "iopub.status.busy": "2025-02-24T05:58:04.680121Z",
     "iopub.status.idle": "2025-02-24T05:58:09.345134Z",
     "shell.execute_reply": "2025-02-24T05:58:09.343940Z"
    },
    "papermill": {
     "duration": 4.672144,
     "end_time": "2025-02-24T05:58:09.347091",
     "exception": false,
     "start_time": "2025-02-24T05:58:04.674947",
     "status": "completed"
    },
    "tags": []
   },
   "outputs": [],
   "source": [
    "# Required Libraries\n",
    "\n",
    "# Data Manipulation\n",
    "import pandas as pd\n",
    "import numpy as np\n",
    "\n",
    "# Data Visualization\n",
    "import matplotlib.pyplot as plt\n",
    "import seaborn as sns\n",
    "\n",
    "# Machine Learning\n",
    "from sklearn.model_selection import train_test_split\n",
    "from sklearn.preprocessing import StandardScaler\n",
    "from sklearn.ensemble import RandomForestClassifier\n",
    "from xgboost import XGBClassifier\n",
    "from sklearn.metrics import log_loss, accuracy_score\n",
    "\n",
    "# Feature Engineering & Data Processing\n",
    "from sklearn.decomposition import PCA\n",
    "from sklearn.impute import SimpleImputer\n",
    "\n",
    "# Tournament Simulation & Bracket Modeling\n",
    "import itertools \n",
    "import networkx as nx \n",
    "\n",
    "# Warnings Handling\n",
    "import warnings\n",
    "warnings.filterwarnings('ignore')"
   ]
  },
  {
   "cell_type": "code",
   "execution_count": 2,
   "id": "d5de95c8",
   "metadata": {
    "execution": {
     "iopub.execute_input": "2025-02-24T05:58:09.357278Z",
     "iopub.status.busy": "2025-02-24T05:58:09.356668Z",
     "iopub.status.idle": "2025-02-24T05:58:13.301073Z",
     "shell.execute_reply": "2025-02-24T05:58:13.299748Z"
    },
    "papermill": {
     "duration": 3.951834,
     "end_time": "2025-02-24T05:58:13.303298",
     "exception": false,
     "start_time": "2025-02-24T05:58:09.351464",
     "status": "completed"
    },
    "tags": []
   },
   "outputs": [
    {
     "name": "stdout",
     "output_type": "stream",
     "text": [
      "Regular Season Compact Results:\n",
      "    Season  DayNum  WTeamID  WScore  LTeamID  LScore WLoc  NumOT\n",
      "0    1985      20     1228      81     1328      64    N      0\n",
      "1    1985      25     1106      77     1354      70    H      0\n",
      "2    1985      25     1112      63     1223      56    H      0\n",
      "3    1985      25     1165      70     1432      54    H      0\n",
      "4    1985      25     1192      86     1447      74    H      0 \n",
      "\n",
      "NCAA Tournament Compact Results:\n",
      "    Season  DayNum  WTeamID  WScore  LTeamID  LScore WLoc  NumOT\n",
      "0    1985     136     1116      63     1234      54    N      0\n",
      "1    1985     136     1120      59     1345      58    N      0\n",
      "2    1985     136     1207      68     1250      43    N      0\n",
      "3    1985     136     1229      58     1425      55    N      0\n",
      "4    1985     136     1242      49     1325      38    N      0 \n",
      "\n",
      "Tournament Seeds:\n",
      "    Season Seed  TeamID\n",
      "0    1985  W01    1207\n",
      "1    1985  W02    1210\n",
      "2    1985  W03    1228\n",
      "3    1985  W04    1260\n",
      "4    1985  W05    1374 \n",
      "\n",
      "Rankings:\n",
      "    Season  RankingDayNum SystemName  TeamID  OrdinalRank\n",
      "0    2003             35        SEL    1102          159\n",
      "1    2003             35        SEL    1103          229\n",
      "2    2003             35        SEL    1104           12\n",
      "3    2003             35        SEL    1105          314\n",
      "4    2003             35        SEL    1106          260 \n",
      "\n",
      "Coaches:\n",
      "    Season  TeamID  FirstDayNum  LastDayNum       CoachName\n",
      "0    1985    1102            0         154   reggie_minton\n",
      "1    1985    1103            0         154     bob_huggins\n",
      "2    1985    1104            0         154  wimp_sanderson\n",
      "3    1985    1106            0         154    james_oliver\n",
      "4    1985    1108            0         154   davey_whitney \n",
      "\n",
      "Teams:\n",
      "    TeamID     TeamName  FirstD1Season  LastD1Season\n",
      "0    1101  Abilene Chr           2014          2025\n",
      "1    1102    Air Force           1985          2025\n",
      "2    1103        Akron           1985          2025\n",
      "3    1104      Alabama           1985          2025\n",
      "4    1105  Alabama A&M           2000          2025 \n",
      "\n",
      "Tournament Slots:\n",
      "    Season  Slot StrongSeed WeakSeed\n",
      "0    1985  R1W1        W01      W16\n",
      "1    1985  R1W2        W02      W15\n",
      "2    1985  R1W3        W03      W14\n",
      "3    1985  R1W4        W04      W13\n",
      "4    1985  R1W5        W05      W12 \n",
      "\n"
     ]
    }
   ],
   "source": [
    "# Data Path \n",
    "data_path = '/kaggle/input/march-machine-learning-mania-2025/'\n",
    "# Game Results (Regular Season & Tournament)\n",
    "\n",
    "df_regular_season_compact = pd.read_csv(data_path + \"MRegularSeasonCompactResults.csv\")\n",
    "df_regular_season_detailed = pd.read_csv(data_path + \"MRegularSeasonDetailedResults.csv\")\n",
    "df_tourney_compact = pd.read_csv(data_path + \"MNCAATourneyCompactResults.csv\")\n",
    "df_tourney_detailed = pd.read_csv(data_path + \"MNCAATourneyDetailedResults.csv\")\n",
    "\n",
    "# Tournament Seeding\n",
    "df_seeds = pd.read_csv(data_path + \"MNCAATourneySeeds.csv\")\n",
    "\n",
    "# Team Strength & Rankings\n",
    "df_rankings = pd.read_csv(data_path + \"MMasseyOrdinals.csv\")\n",
    "\n",
    "# Coaching Data\n",
    "df_coaches = pd.read_csv(data_path + \"MTeamCoaches.csv\")\n",
    "\n",
    "# Team Metadata\n",
    "df_teams = pd.read_csv(data_path + \"MTeams.csv\")\n",
    "df_team_spellings = pd.read_csv(data_path + \"MTeamSpellings.csv\", encoding=\"ISO-8859-1\")\n",
    "\n",
    "# Tournament Bracket Structure\n",
    "df_tourney_slots = pd.read_csv(data_path + \"MNCAATourneySlots.csv\")\n",
    "df_tourney_seed_round_slots = pd.read_csv(data_path + \"MNCAATourneySeedRoundSlots.csv\")\n",
    "\n",
    "# Display basic info about datasets\n",
    "print(\"Regular Season Compact Results:\\n\", df_regular_season_compact.head(), \"\\n\")\n",
    "print(\"NCAA Tournament Compact Results:\\n\", df_tourney_compact.head(), \"\\n\")\n",
    "print(\"Tournament Seeds:\\n\", df_seeds.head(), \"\\n\")\n",
    "print(\"Rankings:\\n\", df_rankings.head(), \"\\n\")\n",
    "print(\"Coaches:\\n\", df_coaches.head(), \"\\n\")\n",
    "print(\"Teams:\\n\", df_teams.head(), \"\\n\")\n",
    "print(\"Tournament Slots:\\n\", df_tourney_slots.head(), \"\\n\")"
   ]
  },
  {
   "cell_type": "code",
   "execution_count": 3,
   "id": "84fb255f",
   "metadata": {
    "execution": {
     "iopub.execute_input": "2025-02-24T05:58:13.321172Z",
     "iopub.status.busy": "2025-02-24T05:58:13.320714Z",
     "iopub.status.idle": "2025-02-24T05:58:13.649374Z",
     "shell.execute_reply": "2025-02-24T05:58:13.648103Z"
    },
    "papermill": {
     "duration": 0.339367,
     "end_time": "2025-02-24T05:58:13.651060",
     "exception": false,
     "start_time": "2025-02-24T05:58:13.311693",
     "status": "completed"
    },
    "tags": []
   },
   "outputs": [
    {
     "name": "stdout",
     "output_type": "stream",
     "text": [
      "Regular Season Compact Results:\n",
      " Season     0\n",
      "DayNum     0\n",
      "WTeamID    0\n",
      "WScore     0\n",
      "LTeamID    0\n",
      "LScore     0\n",
      "WLoc       0\n",
      "NumOT      0\n",
      "dtype: int64 \n",
      "\n",
      "NCAA Tournament Compact Results:\n",
      " Season     0\n",
      "DayNum     0\n",
      "WTeamID    0\n",
      "WScore     0\n",
      "LTeamID    0\n",
      "LScore     0\n",
      "WLoc       0\n",
      "NumOT      0\n",
      "dtype: int64 \n",
      "\n",
      "Tournament Seeds:\n",
      " Season    0\n",
      "Seed      0\n",
      "TeamID    0\n",
      "dtype: int64 \n",
      "\n",
      "Rankings:\n",
      " Season           0\n",
      "RankingDayNum    0\n",
      "SystemName       0\n",
      "TeamID           0\n",
      "OrdinalRank      0\n",
      "dtype: int64 \n",
      "\n",
      "Coaches:\n",
      " Season         0\n",
      "TeamID         0\n",
      "FirstDayNum    0\n",
      "LastDayNum     0\n",
      "CoachName      0\n",
      "dtype: int64 \n",
      "\n",
      "Teams:\n",
      " TeamID           0\n",
      "TeamName         0\n",
      "FirstD1Season    0\n",
      "LastD1Season     0\n",
      "dtype: int64 \n",
      "\n",
      "Tournament Slots:\n",
      " Season        0\n",
      "Slot          0\n",
      "StrongSeed    0\n",
      "WeakSeed      0\n",
      "dtype: int64 \n",
      "\n"
     ]
    }
   ],
   "source": [
    "# Basic Info of all the dataset\n",
    "print(\"Regular Season Compact Results:\\n\", df_regular_season_compact.isnull().sum(), \"\\n\")\n",
    "print(\"NCAA Tournament Compact Results:\\n\", df_tourney_compact.isnull().sum(), \"\\n\")\n",
    "print(\"Tournament Seeds:\\n\", df_seeds.isnull().sum(), \"\\n\")\n",
    "print(\"Rankings:\\n\", df_rankings.isnull().sum(), \"\\n\")\n",
    "print(\"Coaches:\\n\", df_coaches.isnull().sum(), \"\\n\")\n",
    "print(\"Teams:\\n\", df_teams.isnull().sum(), \"\\n\")\n",
    "print(\"Tournament Slots:\\n\", df_tourney_slots.isnull().sum(), \"\\n\")\n",
    "\n",
    "# There is no null values in these files"
   ]
  },
  {
   "cell_type": "code",
   "execution_count": 4,
   "id": "3e9c17dd",
   "metadata": {
    "execution": {
     "iopub.execute_input": "2025-02-24T05:58:13.662004Z",
     "iopub.status.busy": "2025-02-24T05:58:13.661635Z",
     "iopub.status.idle": "2025-02-24T05:58:13.665711Z",
     "shell.execute_reply": "2025-02-24T05:58:13.664697Z"
    },
    "papermill": {
     "duration": 0.011693,
     "end_time": "2025-02-24T05:58:13.667458",
     "exception": false,
     "start_time": "2025-02-24T05:58:13.655765",
     "status": "completed"
    },
    "tags": []
   },
   "outputs": [],
   "source": [
    "# Data Cleaning Process"
   ]
  },
  {
   "cell_type": "code",
   "execution_count": 5,
   "id": "e3400c13",
   "metadata": {
    "execution": {
     "iopub.execute_input": "2025-02-24T05:58:13.678012Z",
     "iopub.status.busy": "2025-02-24T05:58:13.677605Z",
     "iopub.status.idle": "2025-02-24T05:58:14.010306Z",
     "shell.execute_reply": "2025-02-24T05:58:14.009111Z"
    },
    "papermill": {
     "duration": 0.339827,
     "end_time": "2025-02-24T05:58:14.012088",
     "exception": false,
     "start_time": "2025-02-24T05:58:13.672261",
     "status": "completed"
    },
    "tags": []
   },
   "outputs": [
    {
     "name": "stdout",
     "output_type": "stream",
     "text": [
      "Missing Values in Regular Season Compact:\n",
      " Season     0\n",
      "DayNum     0\n",
      "WTeamID    0\n",
      "WScore     0\n",
      "LTeamID    0\n",
      "LScore     0\n",
      "WLoc       0\n",
      "NumOT      0\n",
      "dtype: int64 \n",
      "\n",
      "Missing Values in Regular Season Detailed:\n",
      " Season     0\n",
      "DayNum     0\n",
      "WTeamID    0\n",
      "WScore     0\n",
      "LTeamID    0\n",
      "LScore     0\n",
      "WLoc       0\n",
      "NumOT      0\n",
      "WFGM       0\n",
      "WFGA       0\n",
      "WFGM3      0\n",
      "WFGA3      0\n",
      "WFTM       0\n",
      "WFTA       0\n",
      "WOR        0\n",
      "WDR        0\n",
      "WAst       0\n",
      "WTO        0\n",
      "WStl       0\n",
      "WBlk       0\n",
      "WPF        0\n",
      "LFGM       0\n",
      "LFGA       0\n",
      "LFGM3      0\n",
      "LFGA3      0\n",
      "LFTM       0\n",
      "LFTA       0\n",
      "LOR        0\n",
      "LDR        0\n",
      "LAst       0\n",
      "LTO        0\n",
      "LStl       0\n",
      "LBlk       0\n",
      "LPF        0\n",
      "dtype: int64 \n",
      "\n",
      "Missing Values in Tournament Compact:\n",
      " Season     0\n",
      "DayNum     0\n",
      "WTeamID    0\n",
      "WScore     0\n",
      "LTeamID    0\n",
      "LScore     0\n",
      "WLoc       0\n",
      "NumOT      0\n",
      "dtype: int64 \n",
      "\n",
      "Missing Values in Tournament Detailed:\n",
      " Season     0\n",
      "DayNum     0\n",
      "WTeamID    0\n",
      "WScore     0\n",
      "LTeamID    0\n",
      "LScore     0\n",
      "WLoc       0\n",
      "NumOT      0\n",
      "WFGM       0\n",
      "WFGA       0\n",
      "WFGM3      0\n",
      "WFGA3      0\n",
      "WFTM       0\n",
      "WFTA       0\n",
      "WOR        0\n",
      "WDR        0\n",
      "WAst       0\n",
      "WTO        0\n",
      "WStl       0\n",
      "WBlk       0\n",
      "WPF        0\n",
      "LFGM       0\n",
      "LFGA       0\n",
      "LFGM3      0\n",
      "LFGA3      0\n",
      "LFTM       0\n",
      "LFTA       0\n",
      "LOR        0\n",
      "LDR        0\n",
      "LAst       0\n",
      "LTO        0\n",
      "LStl       0\n",
      "LBlk       0\n",
      "LPF        0\n",
      "dtype: int64 \n",
      "\n",
      "Missing Values in Tournament Seeds:\n",
      " Season    0\n",
      "Seed      0\n",
      "TeamID    0\n",
      "dtype: int64 \n",
      "\n",
      "Missing Values in Rankings:\n",
      " Season           0\n",
      "RankingDayNum    0\n",
      "SystemName       0\n",
      "TeamID           0\n",
      "OrdinalRank      0\n",
      "dtype: int64 \n",
      "\n",
      "Missing Values in Coaches:\n",
      " Season         0\n",
      "TeamID         0\n",
      "FirstDayNum    0\n",
      "LastDayNum     0\n",
      "CoachName      0\n",
      "dtype: int64 \n",
      "\n",
      "Missing Values in Teams:\n",
      " TeamID           0\n",
      "TeamName         0\n",
      "FirstD1Season    0\n",
      "LastD1Season     0\n",
      "dtype: int64 \n",
      "\n",
      "Missing Values in Team Spellings:\n",
      " TeamNameSpelling    0\n",
      "TeamID              0\n",
      "dtype: int64 \n",
      "\n",
      "Missing Values in Tournament Slots:\n",
      " Season        0\n",
      "Slot          0\n",
      "StrongSeed    0\n",
      "WeakSeed      0\n",
      "dtype: int64 \n",
      "\n",
      "Missing Values in Seed Round Slots:\n",
      " Seed           0\n",
      "GameRound      0\n",
      "GameSlot       0\n",
      "EarlyDayNum    0\n",
      "LateDayNum     0\n",
      "dtype: int64 \n",
      "\n"
     ]
    }
   ],
   "source": [
    "# Check missing values in all datasets\n",
    "datasets = {\n",
    "    \"Regular Season Compact\": df_regular_season_compact,\n",
    "    \"Regular Season Detailed\": df_regular_season_detailed,\n",
    "    \"Tournament Compact\": df_tourney_compact,\n",
    "    \"Tournament Detailed\": df_tourney_detailed,\n",
    "    \"Tournament Seeds\": df_seeds,\n",
    "    \"Rankings\": df_rankings,\n",
    "    \"Coaches\": df_coaches,\n",
    "    \"Teams\": df_teams,\n",
    "    \"Team Spellings\": df_team_spellings,\n",
    "    \"Tournament Slots\": df_tourney_slots,\n",
    "    \"Seed Round Slots\": df_tourney_seed_round_slots\n",
    "}\n",
    "\n",
    "# Display missing Values in each dataset\n",
    "for name, df in datasets.items():\n",
    "    print(f\"Missing Values in {name}:\\n\", df.isnull().sum(), \"\\n\")"
   ]
  },
  {
   "cell_type": "code",
   "execution_count": 6,
   "id": "e9f209cd",
   "metadata": {
    "execution": {
     "iopub.execute_input": "2025-02-24T05:58:14.023804Z",
     "iopub.status.busy": "2025-02-24T05:58:14.023464Z",
     "iopub.status.idle": "2025-02-24T05:58:14.027508Z",
     "shell.execute_reply": "2025-02-24T05:58:14.026363Z"
    },
    "papermill": {
     "duration": 0.011926,
     "end_time": "2025-02-24T05:58:14.029284",
     "exception": false,
     "start_time": "2025-02-24T05:58:14.017358",
     "status": "completed"
    },
    "tags": []
   },
   "outputs": [],
   "source": [
    "# Feature Engineering for NCAA Tournament Prediction"
   ]
  },
  {
   "cell_type": "code",
   "execution_count": 7,
   "id": "2fd33ba5",
   "metadata": {
    "execution": {
     "iopub.execute_input": "2025-02-24T05:58:14.040557Z",
     "iopub.status.busy": "2025-02-24T05:58:14.040179Z",
     "iopub.status.idle": "2025-02-24T05:58:14.154128Z",
     "shell.execute_reply": "2025-02-24T05:58:14.152610Z"
    },
    "papermill": {
     "duration": 0.121468,
     "end_time": "2025-02-24T05:58:14.155804",
     "exception": false,
     "start_time": "2025-02-24T05:58:14.034336",
     "status": "completed"
    },
    "tags": []
   },
   "outputs": [
    {
     "name": "stdout",
     "output_type": "stream",
     "text": [
      "✅ Team-level features created successfully!\n"
     ]
    }
   ],
   "source": [
    "\n",
    "\n",
    "# Load the dataset\n",
    "regular_season_detailed = df_regular_season_detailed\n",
    "\n",
    "# Compute team-level statistics\n",
    "winning_stats = regular_season_detailed.groupby(\"WTeamID\").agg({\n",
    "    \"WScore\": [\"mean\", \"sum\"],\n",
    "    \"WFGM\": \"mean\", \"WFGA\": \"mean\", \"WFGM3\": \"mean\", \"WFGA3\": \"mean\",\n",
    "    \"WFTM\": \"mean\", \"WFTA\": \"mean\", \"WOR\": \"mean\", \"WDR\": \"mean\",\n",
    "    \"WAst\": \"mean\", \"WTO\": \"mean\", \"WStl\": \"mean\", \"WBlk\": \"mean\", \"WPF\": \"mean\"\n",
    "}).reset_index()\n",
    "\n",
    "# Rename columns for clarity\n",
    "winning_stats.columns = [\"TeamID\", \"AvgPointsScored\", \"TotalPointsScored\",\n",
    "                         \"AvgFGM\", \"AvgFGA\", \"AvgFGM3\", \"AvgFGA3\", \n",
    "                         \"AvgFTM\", \"AvgFTA\", \"AvgOReb\", \"AvgDReb\", \n",
    "                         \"AvgAssists\", \"AvgTurnovers\", \"AvgSteals\", \n",
    "                         \"AvgBlocks\", \"AvgFouls\"]\n",
    "\n",
    "# Compute losing team stats similarly\n",
    "losing_stats = regular_season_detailed.groupby(\"LTeamID\").agg({\n",
    "    \"LScore\": [\"mean\", \"sum\"],\n",
    "    \"LFGM\": \"mean\", \"LFGA\": \"mean\", \"LFGM3\": \"mean\", \"LFGA3\": \"mean\",\n",
    "    \"LFTM\": \"mean\", \"LFTA\": \"mean\", \"LOR\": \"mean\", \"LDR\": \"mean\",\n",
    "    \"LAst\": \"mean\", \"LTO\": \"mean\", \"LStl\": \"mean\", \"LBlk\": \"mean\", \"LPF\": \"mean\"\n",
    "}).reset_index()\n",
    "\n",
    "# Rename columns for clarity\n",
    "losing_stats.columns = [\"TeamID\", \"AvgPointsAllowed\", \"TotalPointsAllowed\",\n",
    "                        \"AvgFGM_Allowed\", \"AvgFGA_Allowed\", \"AvgFGM3_Allowed\", \"AvgFGA3_Allowed\", \n",
    "                        \"AvgFTM_Allowed\", \"AvgFTA_Allowed\", \"AvgOReb_Allowed\", \"AvgDReb_Allowed\", \n",
    "                        \"AvgAssists_Allowed\", \"AvgTurnovers_Allowed\", \"AvgSteals_Allowed\", \n",
    "                        \"AvgBlocks_Allowed\", \"AvgFouls_Allowed\"]\n",
    "\n",
    "# Merge winning and losing stats to get full team stats\n",
    "team_stats = pd.merge(winning_stats, losing_stats, on=\"TeamID\", how=\"outer\").fillna(0)\n",
    "\n",
    "# Compute Win Percentage\n",
    "team_stats[\"WinRate\"] = team_stats[\"TotalPointsScored\"] / (team_stats[\"TotalPointsScored\"] + team_stats[\"TotalPointsAllowed\"])\n",
    "\n",
    "# Save the processed features\n",
    "team_stats.to_csv(\"Team_Stats.csv\", index=False)\n",
    "\n",
    "print(\"✅ Team-level features created successfully!\")\n"
   ]
  },
  {
   "cell_type": "code",
   "execution_count": 8,
   "id": "70914259",
   "metadata": {
    "execution": {
     "iopub.execute_input": "2025-02-24T05:58:14.166874Z",
     "iopub.status.busy": "2025-02-24T05:58:14.166509Z",
     "iopub.status.idle": "2025-02-24T05:58:14.179342Z",
     "shell.execute_reply": "2025-02-24T05:58:14.178348Z"
    },
    "papermill": {
     "duration": 0.0202,
     "end_time": "2025-02-24T05:58:14.180846",
     "exception": false,
     "start_time": "2025-02-24T05:58:14.160646",
     "status": "completed"
    },
    "tags": []
   },
   "outputs": [
    {
     "name": "stdout",
     "output_type": "stream",
     "text": [
      "✅ Tournament seeds extracted!\n"
     ]
    }
   ],
   "source": [
    "# Load tournament seed data\n",
    "tourney_seeds = df_seeds\n",
    "\n",
    "# Extract numerical seed\n",
    "tourney_seeds[\"SeedValue\"] = tourney_seeds[\"Seed\"].apply(lambda x: int(x[1:3]))\n",
    "\n",
    "# Save processed seeds\n",
    "tourney_seeds.to_csv(\"Processed_Seeds.csv\", index=False)\n",
    "\n",
    "print(\"✅ Tournament seeds extracted!\")"
   ]
  },
  {
   "cell_type": "code",
   "execution_count": 9,
   "id": "ccd30f49",
   "metadata": {
    "execution": {
     "iopub.execute_input": "2025-02-24T05:58:14.191843Z",
     "iopub.status.busy": "2025-02-24T05:58:14.191512Z",
     "iopub.status.idle": "2025-02-24T05:58:14.546336Z",
     "shell.execute_reply": "2025-02-24T05:58:14.545277Z"
    },
    "papermill": {
     "duration": 0.362237,
     "end_time": "2025-02-24T05:58:14.548063",
     "exception": false,
     "start_time": "2025-02-24T05:58:14.185826",
     "status": "completed"
    },
    "tags": []
   },
   "outputs": [
    {
     "name": "stdout",
     "output_type": "stream",
     "text": [
      "✅ Team rankings processed!\n"
     ]
    }
   ],
   "source": [
    "# Load rankings dataset\n",
    "rankings = df_rankings\n",
    "\n",
    "# Compute average ranking for each team per season\n",
    "avg_rankings = rankings.groupby([\"Season\", \"TeamID\"]).agg({\"OrdinalRank\": \"mean\"}).reset_index()\n",
    "avg_rankings.rename(columns={\"OrdinalRank\": \"AvgRank\"}, inplace=True)\n",
    "\n",
    "# Save processed rankings\n",
    "avg_rankings.to_csv(\"Processed_Rankings.csv\", index=False)\n",
    "\n",
    "print(\"✅ Team rankings processed!\")"
   ]
  },
  {
   "cell_type": "code",
   "execution_count": 10,
   "id": "92d19f7a",
   "metadata": {
    "execution": {
     "iopub.execute_input": "2025-02-24T05:58:14.559341Z",
     "iopub.status.busy": "2025-02-24T05:58:14.558895Z",
     "iopub.status.idle": "2025-02-24T05:58:14.563323Z",
     "shell.execute_reply": "2025-02-24T05:58:14.562135Z"
    },
    "papermill": {
     "duration": 0.012116,
     "end_time": "2025-02-24T05:58:14.565204",
     "exception": false,
     "start_time": "2025-02-24T05:58:14.553088",
     "status": "completed"
    },
    "tags": []
   },
   "outputs": [],
   "source": [
    "# Merge All Features"
   ]
  },
  {
   "cell_type": "code",
   "execution_count": 11,
   "id": "73d60977",
   "metadata": {
    "execution": {
     "iopub.execute_input": "2025-02-24T05:58:14.576773Z",
     "iopub.status.busy": "2025-02-24T05:58:14.576433Z",
     "iopub.status.idle": "2025-02-24T05:58:14.731471Z",
     "shell.execute_reply": "2025-02-24T05:58:14.729578Z"
    },
    "papermill": {
     "duration": 0.163147,
     "end_time": "2025-02-24T05:58:14.733384",
     "exception": false,
     "start_time": "2025-02-24T05:58:14.570237",
     "status": "completed"
    },
    "tags": []
   },
   "outputs": [
    {
     "name": "stdout",
     "output_type": "stream",
     "text": [
      "✅ Feature Engineering Completed!\n"
     ]
    }
   ],
   "source": [
    "# Merge team stats with seeds\n",
    "final_data = pd.merge(team_stats, tourney_seeds, on=\"TeamID\", how=\"left\")\n",
    "\n",
    "# Merge with rankings\n",
    "final_data = pd.merge(final_data, avg_rankings, on=[\"Season\", \"TeamID\"], how=\"left\")\n",
    "\n",
    "# Fill missing values\n",
    "final_data.fillna(0, inplace=True)\n",
    "\n",
    "# Save the final feature dataset\n",
    "final_data.to_csv(\"Final_Feature_Dataset.csv\", index=False)\n",
    "\n",
    "print(\"✅ Feature Engineering Completed!\")\n"
   ]
  },
  {
   "cell_type": "code",
   "execution_count": 12,
   "id": "5b6140db",
   "metadata": {
    "execution": {
     "iopub.execute_input": "2025-02-24T05:58:14.744775Z",
     "iopub.status.busy": "2025-02-24T05:58:14.744448Z",
     "iopub.status.idle": "2025-02-24T05:58:14.748503Z",
     "shell.execute_reply": "2025-02-24T05:58:14.747287Z"
    },
    "papermill": {
     "duration": 0.011736,
     "end_time": "2025-02-24T05:58:14.750272",
     "exception": false,
     "start_time": "2025-02-24T05:58:14.738536",
     "status": "completed"
    },
    "tags": []
   },
   "outputs": [],
   "source": [
    "#EDA"
   ]
  },
  {
   "cell_type": "code",
   "execution_count": 13,
   "id": "934a0f14",
   "metadata": {
    "execution": {
     "iopub.execute_input": "2025-02-24T05:58:14.761556Z",
     "iopub.status.busy": "2025-02-24T05:58:14.761217Z",
     "iopub.status.idle": "2025-02-24T05:58:14.979775Z",
     "shell.execute_reply": "2025-02-24T05:58:14.978414Z"
    },
    "papermill": {
     "duration": 0.226053,
     "end_time": "2025-02-24T05:58:14.981463",
     "exception": false,
     "start_time": "2025-02-24T05:58:14.755410",
     "status": "completed"
    },
    "tags": []
   },
   "outputs": [
    {
     "name": "stdout",
     "output_type": "stream",
     "text": [
      "<class 'pandas.core.frame.DataFrame'>\n",
      "RangeIndex: 117748 entries, 0 to 117747\n",
      "Data columns (total 34 columns):\n",
      " #   Column   Non-Null Count   Dtype \n",
      "---  ------   --------------   ----- \n",
      " 0   Season   117748 non-null  int64 \n",
      " 1   DayNum   117748 non-null  int64 \n",
      " 2   WTeamID  117748 non-null  int64 \n",
      " 3   WScore   117748 non-null  int64 \n",
      " 4   LTeamID  117748 non-null  int64 \n",
      " 5   LScore   117748 non-null  int64 \n",
      " 6   WLoc     117748 non-null  object\n",
      " 7   NumOT    117748 non-null  int64 \n",
      " 8   WFGM     117748 non-null  int64 \n",
      " 9   WFGA     117748 non-null  int64 \n",
      " 10  WFGM3    117748 non-null  int64 \n",
      " 11  WFGA3    117748 non-null  int64 \n",
      " 12  WFTM     117748 non-null  int64 \n",
      " 13  WFTA     117748 non-null  int64 \n",
      " 14  WOR      117748 non-null  int64 \n",
      " 15  WDR      117748 non-null  int64 \n",
      " 16  WAst     117748 non-null  int64 \n",
      " 17  WTO      117748 non-null  int64 \n",
      " 18  WStl     117748 non-null  int64 \n",
      " 19  WBlk     117748 non-null  int64 \n",
      " 20  WPF      117748 non-null  int64 \n",
      " 21  LFGM     117748 non-null  int64 \n",
      " 22  LFGA     117748 non-null  int64 \n",
      " 23  LFGM3    117748 non-null  int64 \n",
      " 24  LFGA3    117748 non-null  int64 \n",
      " 25  LFTM     117748 non-null  int64 \n",
      " 26  LFTA     117748 non-null  int64 \n",
      " 27  LOR      117748 non-null  int64 \n",
      " 28  LDR      117748 non-null  int64 \n",
      " 29  LAst     117748 non-null  int64 \n",
      " 30  LTO      117748 non-null  int64 \n",
      " 31  LStl     117748 non-null  int64 \n",
      " 32  LBlk     117748 non-null  int64 \n",
      " 33  LPF      117748 non-null  int64 \n",
      "dtypes: int64(33), object(1)\n",
      "memory usage: 30.5+ MB\n",
      "None\n",
      "              Season         DayNum       WTeamID         WScore  \\\n",
      "count  117748.000000  117748.000000  117748.00000  117748.000000   \n",
      "mean     2014.146355      70.294986    1288.25451      75.878936   \n",
      "std         6.515929      35.772556     105.34750      10.998547   \n",
      "min      2003.000000       0.000000    1101.00000      34.000000   \n",
      "25%      2009.000000      40.000000    1199.00000      68.000000   \n",
      "50%      2014.000000      73.000000    1287.00000      75.000000   \n",
      "75%      2020.000000     101.000000    1381.00000      83.000000   \n",
      "max      2025.000000     132.000000    1480.00000     149.000000   \n",
      "\n",
      "             LTeamID         LScore          NumOT           WFGM  \\\n",
      "count  117748.000000  117748.000000  117748.000000  117748.000000   \n",
      "mean     1283.138830      63.888287       0.068689      26.401824   \n",
      "std       104.795432      10.848767       0.305098       4.680314   \n",
      "min      1101.000000      20.000000       0.000000      10.000000   \n",
      "25%      1192.000000      57.000000       0.000000      23.000000   \n",
      "50%      1282.000000      64.000000       0.000000      26.000000   \n",
      "75%      1374.000000      71.000000       0.000000      29.000000   \n",
      "max      1480.000000     144.000000       6.000000      57.000000   \n",
      "\n",
      "                WFGA          WFGM3  ...          LFGA3           LFTM  \\\n",
      "count  117748.000000  117748.000000  ...  117748.000000  117748.000000   \n",
      "mean       55.760242       7.347445  ...      20.159790      12.073403   \n",
      "std         7.456374       3.119260  ...       6.068136       5.344049   \n",
      "min        26.000000       0.000000  ...       1.000000       0.000000   \n",
      "25%        51.000000       5.000000  ...      16.000000       8.000000   \n",
      "50%        55.000000       7.000000  ...      20.000000      12.000000   \n",
      "75%        60.000000       9.000000  ...      24.000000      15.000000   \n",
      "max       103.000000      26.000000  ...      59.000000      48.000000   \n",
      "\n",
      "                LFTA            LOR            LDR           LAst  \\\n",
      "count  117748.000000  117748.000000  117748.000000  117748.000000   \n",
      "mean       17.732454      10.461740      21.625650      11.409722   \n",
      "std         7.081056       4.221039       4.518197       3.724567   \n",
      "min         0.000000       0.000000       4.000000       0.000000   \n",
      "25%        13.000000       7.000000      19.000000       9.000000   \n",
      "50%        17.000000      10.000000      21.000000      11.000000   \n",
      "75%        22.000000      13.000000      25.000000      14.000000   \n",
      "max        65.000000      36.000000      49.000000      31.000000   \n",
      "\n",
      "                 LTO           LStl           LBlk            LPF  \n",
      "count  117748.000000  117748.000000  117748.000000  117748.000000  \n",
      "mean       13.888907       6.004739       2.868185      19.305780  \n",
      "std         4.382700       2.745969       2.019050       4.553353  \n",
      "min         0.000000       0.000000       0.000000       4.000000  \n",
      "25%        11.000000       4.000000       1.000000      16.000000  \n",
      "50%        14.000000       6.000000       3.000000      19.000000  \n",
      "75%        17.000000       8.000000       4.000000      22.000000  \n",
      "max        41.000000      22.000000      18.000000      45.000000  \n",
      "\n",
      "[8 rows x 33 columns]\n"
     ]
    }
   ],
   "source": [
    "#Basic Statistics and Overview\n",
    "\n",
    "# Load Dataset\n",
    "regular_season = df_regular_season_detailed\n",
    "tournament_results = df_tourney_detailed\n",
    "team_info = df_teams\n",
    "\n",
    "# Overview of Dataset\n",
    "print(regular_season.info())\n",
    "print(regular_season.describe())"
   ]
  },
  {
   "cell_type": "code",
   "execution_count": 14,
   "id": "c3acb1ab",
   "metadata": {
    "execution": {
     "iopub.execute_input": "2025-02-24T05:58:14.993141Z",
     "iopub.status.busy": "2025-02-24T05:58:14.992768Z",
     "iopub.status.idle": "2025-02-24T05:58:16.553649Z",
     "shell.execute_reply": "2025-02-24T05:58:16.552542Z"
    },
    "papermill": {
     "duration": 1.568927,
     "end_time": "2025-02-24T05:58:16.555752",
     "exception": false,
     "start_time": "2025-02-24T05:58:14.986825",
     "status": "completed"
    },
    "tags": []
   },
   "outputs": [
    {
     "data": {
      "image/png": "[encoded data removed]",
      "text/plain": [
       "<Figure size 1200x600 with 1 Axes>"
      ]
     },
     "metadata": {},
     "output_type": "display_data"
    }
   ],
   "source": [
    "# Distribution of Team Scores\n",
    "plt.figure(figsize=(12, 6))\n",
    "sns.histplot(regular_season['WScore'], bins=30, kde=True, label='Winning Team Score')\n",
    "sns.histplot(regular_season['LScore'], bins=30, kde=True, color='red', label='Losing Team Score')\n",
    "plt.xlabel(\"Score\")\n",
    "plt.ylabel(\"Frequency\")\n",
    "plt.title(\"Distribution of Winning & Losing Scores\")\n",
    "plt.legend()\n",
    "plt.show()"
   ]
  },
  {
   "cell_type": "code",
   "execution_count": 15,
   "id": "7bd116ee",
   "metadata": {
    "execution": {
     "iopub.execute_input": "2025-02-24T05:58:16.570882Z",
     "iopub.status.busy": "2025-02-24T05:58:16.570500Z",
     "iopub.status.idle": "2025-02-24T05:58:16.804896Z",
     "shell.execute_reply": "2025-02-24T05:58:16.803513Z"
    },
    "papermill": {
     "duration": 0.244047,
     "end_time": "2025-02-24T05:58:16.806803",
     "exception": false,
     "start_time": "2025-02-24T05:58:16.562756",
     "status": "completed"
    },
    "tags": []
   },
   "outputs": [
    {
     "data": {
      "image/png": "[encoded data removed]",
      "text/plain": [
       "<Figure size 1000x500 with 1 Axes>"
      ]
     },
     "metadata": {},
     "output_type": "display_data"
    }
   ],
   "source": [
    "# Win/Loss Trends (Checking which teams win more often)\n",
    "\n",
    "# Count wins per team\n",
    "winning_teams = regular_season['WTeamID'].value_counts()\n",
    "losing_teams = regular_season['LTeamID'].value_counts()\n",
    "\n",
    "# Plot top 10 winning teams\n",
    "plt.figure(figsize=(10, 5))\n",
    "sns.barplot(x=winning_teams[:10].index, y=winning_teams[:10].values, palette='viridis')\n",
    "plt.xlabel(\"Team ID\")\n",
    "plt.ylabel(\"Wins\")\n",
    "plt.title(\"Top 10 Winning Teams\")\n",
    "plt.show()\n"
   ]
  },
  {
   "cell_type": "code",
   "execution_count": null,
   "id": "2d703b06",
   "metadata": {
    "papermill": {
     "duration": 0.006878,
     "end_time": "2025-02-24T05:58:16.821181",
     "exception": false,
     "start_time": "2025-02-24T05:58:16.814303",
     "status": "completed"
    },
    "tags": []
   },
   "outputs": [],
   "source": []
  }
 ],
 "metadata": {
  "kaggle": {
   "accelerator": "none",
   "dataSources": [
    {
     "databundleVersionId": 11165145,
     "sourceId": 91497,
     "sourceType": "competition"
    }
   ],
   "dockerImageVersionId": 30918,
   "isGpuEnabled": false,
   "isInternetEnabled": true,
   "language": "python",
   "sourceType": "notebook"
  },
  "kernelspec": {
   "display_name": "Python 3",
   "language": "python",
   "name": "python3"
  },
  "language_info": {
   "codemirror_mode": {
    "name": "ipython",
    "version": 3
   },
   "file_extension": ".py",
   "mimetype": "text/x-python",
   "name": "python",
   "nbconvert_exporter": "python",
   "pygments_lexer": "ipython3",
   "version": "3.10.12"
  },
  "papermill": {
   "default_parameters": {},
   "duration": 15.828048,
   "end_time": "2025-02-24T05:58:17.650131",
   "environment_variables": {},
   "exception": null,
   "input_path": "__notebook__.ipynb",
   "output_path": "__notebook__.ipynb",
   "parameters": {},
   "start_time": "2025-02-24T05:58:01.822083",
   "version": "2.6.0"
  }
 },
 "nbformat": 4,
 "nbformat_minor": 5
}
