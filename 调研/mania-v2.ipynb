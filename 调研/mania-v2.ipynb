{
 "cells": [
  {
   "cell_type": "code",
   "execution_count": 1,
   "id": "ad3c712d",
   "metadata": {
    "_cell_guid": "b1076dfc-b9ad-4769-8c92-a6c4dae69d19",
    "_uuid": "8f2839f25d086af736a60e9eeb907d3b93b6e0e5",
    "execution": {
     "iopub.execute_input": "2025-02-26T19:01:00.404318Z",
     "iopub.status.busy": "2025-02-26T19:01:00.404017Z",
     "iopub.status.idle": "2025-02-26T19:01:01.570493Z",
     "shell.execute_reply": "2025-02-26T19:01:01.569621Z"
    },
    "papermill": {
     "duration": 1.172979,
     "end_time": "2025-02-26T19:01:01.572053",
     "exception": false,
     "start_time": "2025-02-26T19:01:00.399074",
     "status": "completed"
    },
    "tags": []
   },
   "outputs": [
    {
     "name": "stdout",
     "output_type": "stream",
     "text": [
      "/kaggle/input/march-machine-learning-mania-2025/Conferences.csv\n",
      "/kaggle/input/march-machine-learning-mania-2025/SeedBenchmarkStage1.csv\n",
      "/kaggle/input/march-machine-learning-mania-2025/WNCAATourneyDetailedResults.csv\n",
      "/kaggle/input/march-machine-learning-mania-2025/WRegularSeasonCompactResults.csv\n",
      "/kaggle/input/march-machine-learning-mania-2025/MNCAATourneySeedRoundSlots.csv\n",
      "/kaggle/input/march-machine-learning-mania-2025/MRegularSeasonDetailedResults.csv\n",
      "/kaggle/input/march-machine-learning-mania-2025/MNCAATourneyCompactResults.csv\n",
      "/kaggle/input/march-machine-learning-mania-2025/MGameCities.csv\n",
      "/kaggle/input/march-machine-learning-mania-2025/WSecondaryTourneyCompactResults.csv\n",
      "/kaggle/input/march-machine-learning-mania-2025/WGameCities.csv\n",
      "/kaggle/input/march-machine-learning-mania-2025/MSeasons.csv\n",
      "/kaggle/input/march-machine-learning-mania-2025/WNCAATourneySlots.csv\n",
      "/kaggle/input/march-machine-learning-mania-2025/MSecondaryTourneyTeams.csv\n",
      "/kaggle/input/march-machine-learning-mania-2025/SampleSubmissionStage2.csv\n",
      "/kaggle/input/march-machine-learning-mania-2025/Cities.csv\n",
      "/kaggle/input/march-machine-learning-mania-2025/MTeamSpellings.csv\n",
      "/kaggle/input/march-machine-learning-mania-2025/MRegularSeasonCompactResults.csv\n",
      "/kaggle/input/march-machine-learning-mania-2025/MMasseyOrdinals.csv\n",
      "/kaggle/input/march-machine-learning-mania-2025/MSecondaryTourneyCompactResults.csv\n",
      "/kaggle/input/march-machine-learning-mania-2025/WTeams.csv\n",
      "/kaggle/input/march-machine-learning-mania-2025/WConferenceTourneyGames.csv\n",
      "/kaggle/input/march-machine-learning-mania-2025/MNCAATourneySlots.csv\n",
      "/kaggle/input/march-machine-learning-mania-2025/MNCAATourneySeeds.csv\n",
      "/kaggle/input/march-machine-learning-mania-2025/WNCAATourneyCompactResults.csv\n",
      "/kaggle/input/march-machine-learning-mania-2025/WSeasons.csv\n",
      "/kaggle/input/march-machine-learning-mania-2025/WNCAATourneySeeds.csv\n",
      "/kaggle/input/march-machine-learning-mania-2025/MTeamCoaches.csv\n",
      "/kaggle/input/march-machine-learning-mania-2025/MConferenceTourneyGames.csv\n",
      "/kaggle/input/march-machine-learning-mania-2025/WRegularSeasonDetailedResults.csv\n",
      "/kaggle/input/march-machine-learning-mania-2025/MNCAATourneyDetailedResults.csv\n",
      "/kaggle/input/march-machine-learning-mania-2025/WTeamSpellings.csv\n",
      "/kaggle/input/march-machine-learning-mania-2025/MTeamConferences.csv\n",
      "/kaggle/input/march-machine-learning-mania-2025/MTeams.csv\n",
      "/kaggle/input/march-machine-learning-mania-2025/WTeamConferences.csv\n",
      "/kaggle/input/march-machine-learning-mania-2025/SampleSubmissionStage1.csv\n",
      "/kaggle/input/march-machine-learning-mania-2025/WSecondaryTourneyTeams.csv\n"
     ]
    }
   ],
   "source": [
    "# This Python 3 environment comes with many helpful analytics libraries installed\n",
    "# It is defined by the kaggle/python Docker image: https://github.com/kaggle/docker-python\n",
    "# For example, here's several helpful packages to load\n",
    "\n",
    "import numpy as np # linear algebra\n",
    "import pandas as pd # data processing, CSV file I/O (e.g. pd.read_csv)\n",
    "\n",
    "# Input data files are available in the read-only \"../input/\" directory\n",
    "# For example, running this (by clicking run or pressing Shift+Enter) will list all files under the input directory\n",
    "\n",
    "import os\n",
    "for dirname, _, filenames in os.walk('/kaggle/input'):\n",
    "    for filename in filenames:\n",
    "        print(os.path.join(dirname, filename))\n",
    "\n",
    "# You can write up to 20GB to the current directory (/kaggle/working/) that gets preserved as output when you create a version using \"Save & Run All\" \n",
    "# You can also write temporary files to /kaggle/temp/, but they won't be saved outside of the current session"
   ]
  },
  {
   "cell_type": "markdown",
   "id": "3514d221",
   "metadata": {
    "papermill": {
     "duration": 0.002956,
     "end_time": "2025-02-26T19:01:01.578980",
     "exception": false,
     "start_time": "2025-02-26T19:01:01.576024",
     "status": "completed"
    },
    "tags": []
   },
   "source": [
    "#  Importing Required Libraries"
   ]
  },
  {
   "cell_type": "code",
   "execution_count": 2,
   "id": "5996aee8",
   "metadata": {
    "execution": {
     "iopub.execute_input": "2025-02-26T19:01:01.586465Z",
     "iopub.status.busy": "2025-02-26T19:01:01.585975Z",
     "iopub.status.idle": "2025-02-26T19:01:04.144397Z",
     "shell.execute_reply": "2025-02-26T19:01:04.143083Z"
    },
    "papermill": {
     "duration": 2.564027,
     "end_time": "2025-02-26T19:01:04.146074",
     "exception": false,
     "start_time": "2025-02-26T19:01:01.582047",
     "status": "completed"
    },
    "tags": []
   },
   "outputs": [],
   "source": [
    "import numpy as np\n",
    "import pandas as pd\n",
    "import glob\n",
    "import os\n",
    "from sklearn.model_selection import train_test_split, cross_val_score\n",
    "from sklearn.preprocessing import StandardScaler\n",
    "from sklearn.impute import SimpleImputer\n",
    "from sklearn.metrics import log_loss, mean_absolute_error, brier_score_loss\n",
    "from sklearn.isotonic import IsotonicRegression\n",
    "import joblib\n",
    "import xgboost as xgb"
   ]
  },
  {
   "cell_type": "markdown",
   "id": "dc1dccd6",
   "metadata": {
    "papermill": {
     "duration": 0.002865,
     "end_time": "2025-02-26T19:01:04.152425",
     "exception": false,
     "start_time": "2025-02-26T19:01:04.149560",
     "status": "completed"
    },
    "tags": []
   },
   "source": [
    "# Setting Up Constants"
   ]
  },
  {
   "cell_type": "code",
   "execution_count": 3,
   "id": "7fd9e306",
   "metadata": {
    "execution": {
     "iopub.execute_input": "2025-02-26T19:01:04.159316Z",
     "iopub.status.busy": "2025-02-26T19:01:04.158892Z",
     "iopub.status.idle": "2025-02-26T19:01:04.162902Z",
     "shell.execute_reply": "2025-02-26T19:01:04.161731Z"
    },
    "papermill": {
     "duration": 0.009399,
     "end_time": "2025-02-26T19:01:04.164816",
     "exception": false,
     "start_time": "2025-02-26T19:01:04.155417",
     "status": "completed"
    },
    "tags": []
   },
   "outputs": [],
   "source": [
    "DATA_PATH = '/kaggle/input/march-machine-learning-mania-2025/**'"
   ]
  },
  {
   "cell_type": "markdown",
   "id": "460de11f",
   "metadata": {
    "papermill": {
     "duration": 0.003223,
     "end_time": "2025-02-26T19:01:04.171808",
     "exception": false,
     "start_time": "2025-02-26T19:01:04.168585",
     "status": "completed"
    },
    "tags": []
   },
   "source": [
    "# Loading Data"
   ]
  },
  {
   "cell_type": "code",
   "execution_count": 4,
   "id": "e7a2f5d6",
   "metadata": {
    "execution": {
     "iopub.execute_input": "2025-02-26T19:01:04.179132Z",
     "iopub.status.busy": "2025-02-26T19:01:04.178787Z",
     "iopub.status.idle": "2025-02-26T19:01:08.286139Z",
     "shell.execute_reply": "2025-02-26T19:01:08.285373Z"
    },
    "papermill": {
     "duration": 4.112914,
     "end_time": "2025-02-26T19:01:08.287762",
     "exception": false,
     "start_time": "2025-02-26T19:01:04.174848",
     "status": "completed"
    },
    "tags": []
   },
   "outputs": [],
   "source": [
    "def load_data(data_path):\n",
    "    files = glob.glob(data_path, recursive=True)\n",
    "    files = [f for f in files if os.path.isfile(f)]  # Filter out directories\n",
    "    data = {p.split('/')[-1].split('.')[0]: pd.read_csv(p, encoding='latin-1') for p in files}\n",
    "    return data\n",
    "\n",
    "data = load_data(DATA_PATH)"
   ]
  },
  {
   "cell_type": "markdown",
   "id": "c919fc44",
   "metadata": {
    "papermill": {
     "duration": 0.002808,
     "end_time": "2025-02-26T19:01:08.293727",
     "exception": false,
     "start_time": "2025-02-26T19:01:08.290919",
     "status": "completed"
    },
    "tags": []
   },
   "source": [
    "# Preprocessing Data"
   ]
  },
  {
   "cell_type": "code",
   "execution_count": 5,
   "id": "5b1ddfe7",
   "metadata": {
    "execution": {
     "iopub.execute_input": "2025-02-26T19:01:08.300084Z",
     "iopub.status.busy": "2025-02-26T19:01:08.299847Z",
     "iopub.status.idle": "2025-02-26T19:01:23.453181Z",
     "shell.execute_reply": "2025-02-26T19:01:23.451932Z"
    },
    "papermill": {
     "duration": 15.158129,
     "end_time": "2025-02-26T19:01:23.454584",
     "exception": false,
     "start_time": "2025-02-26T19:01:08.296455",
     "status": "completed"
    },
    "tags": []
   },
   "outputs": [
    {
     "name": "stdout",
     "output_type": "stream",
     "text": [
      "Data preprocessing completed.\n"
     ]
    }
   ],
   "source": [
    "def preprocess_data(data):\n",
    "    # Combine men's and women's data\n",
    "    teams = pd.concat([data['MTeams'], data['WTeams']])\n",
    "    teams_spelling = pd.concat([data['MTeamSpellings'], data['WTeamSpellings']])\n",
    "    teams_spelling = teams_spelling.groupby(by='TeamID', as_index=False)['TeamNameSpelling'].count()\n",
    "    teams_spelling.columns = ['TeamID', 'TeamNameCount']\n",
    "    teams = pd.merge(teams, teams_spelling, how='left', on=['TeamID'])\n",
    "    del teams_spelling\n",
    "\n",
    "    # Combine regular season and tournament results\n",
    "    season_cresults = pd.concat([data['MRegularSeasonCompactResults'], data['WRegularSeasonCompactResults']])\n",
    "    season_dresults = pd.concat([data['MRegularSeasonDetailedResults'], data['WRegularSeasonDetailedResults']])\n",
    "    tourney_cresults = pd.concat([data['MNCAATourneyCompactResults'], data['WNCAATourneyCompactResults']])\n",
    "    tourney_dresults = pd.concat([data['MNCAATourneyDetailedResults'], data['WNCAATourneyDetailedResults']])\n",
    "\n",
    "    # Process seeds\n",
    "    seeds_df = pd.concat([data['MNCAATourneySeeds'], data['WNCAATourneySeeds']])\n",
    "    seeds = {\n",
    "        '_'.join(map(str, [int(k1), k2])): int(v[1:3])\n",
    "        for k1, v, k2 in seeds_df[['Season', 'Seed', 'TeamID']].values\n",
    "    }\n",
    "\n",
    "    # Load submission file\n",
    "    sub = data['SampleSubmissionStage2']  # Load the correct sample submission file\n",
    "    del seeds_df\n",
    "\n",
    "    # Combine all games and preprocess\n",
    "    season_cresults['ST'] = 'S'\n",
    "    season_dresults['ST'] = 'S'\n",
    "    tourney_cresults['ST'] = 'T'\n",
    "    tourney_dresults['ST'] = 'T'\n",
    "\n",
    "    games = pd.concat((season_dresults, tourney_dresults), axis=0, ignore_index=True)\n",
    "    games.reset_index(drop=True, inplace=True)\n",
    "    games['WLoc'] = games['WLoc'].map({'A': 1, 'H': 2, 'N': 3})\n",
    "\n",
    "    # Create unique IDs for games and teams\n",
    "    games['ID'] = games.apply(\n",
    "        lambda r: '_'.join(map(str, [r['Season']] + sorted([r['WTeamID'], r['LTeamID']]))), axis=1\n",
    "    )\n",
    "    games['IDTeams'] = games.apply(\n",
    "        lambda r: '_'.join(map(str, sorted([r['WTeamID'], r['LTeamID']]))), axis=1\n",
    "    )\n",
    "    games['Team1'] = games.apply(\n",
    "        lambda r: sorted([r['WTeamID'], r['LTeamID']])[0], axis=1\n",
    "    )\n",
    "    games['Team2'] = games.apply(\n",
    "        lambda r: sorted([r['WTeamID'], r['LTeamID']])[1], axis=1\n",
    "    )\n",
    "    games['IDTeam1'] = games.apply(\n",
    "        lambda r: '_'.join(map(str, [r['Season'], r['Team1']])), axis=1\n",
    "    )\n",
    "    games['IDTeam2'] = games.apply(\n",
    "        lambda r: '_'.join(map(str, [r['Season'], r['Team2']])), axis=1\n",
    "    )\n",
    "    games['Team1Seed'] = games['IDTeam1'].map(seeds).fillna(0)\n",
    "    games['Team2Seed'] = games['IDTeam2'].map(seeds).fillna(0)\n",
    "\n",
    "    # Calculate additional features\n",
    "    games['ScoreDiff'] = games['WScore'] - games['LScore']\n",
    "    games['Pred'] = games.apply(\n",
    "        lambda r: 1.0 if sorted([r['WTeamID'], r['LTeamID']])[0] == r['WTeamID'] else 0.0, axis=1\n",
    "    )\n",
    "    games['ScoreDiffNorm'] = games.apply(\n",
    "        lambda r: r['ScoreDiff'] * -1 if r['Pred'] == 0.0 else r['ScoreDiff'], axis=1)\n",
    "    games['SeedDiff'] = games['Team1Seed'] - games['Team2Seed']\n",
    "    games = games.fillna(-1)\n",
    "\n",
    "    # Aggregate statistics\n",
    "    c_score_col = [\n",
    "        'NumOT', 'WFGM', 'WFGA', 'WFGM3', 'WFGA3', 'WFTM', 'WFTA', 'WOR', 'WDR', 'WAst',\n",
    "        'WTO', 'WStl', 'WBlk', 'WPF', 'LFGM', 'LFGA', 'LFGM3', 'LFGA3', 'LFTM', 'LFTA',\n",
    "        'LOR', 'LDR', 'LAst', 'LTO', 'LStl', 'LBlk', 'LPF'\n",
    "    ]\n",
    "    c_score_agg = ['sum', 'mean', 'median', 'max', 'min', 'std', 'skew', 'nunique']\n",
    "    gb = games.groupby(\"IDTeams\").agg({k: c_score_agg for k in c_score_col}).reset_index()\n",
    "    gb.columns = [\"\".join(c) + \"_c_score\" for c in gb.columns]\n",
    "\n",
    "    # Filter tournament games\n",
    "    games = games[games[\"ST\"] == \"T\"]\n",
    "\n",
    "    # Preprocess submission data\n",
    "    sub[\"WLoc\"] = 3\n",
    "    sub[\"Season\"] = sub[\"ID\"].map(lambda x: x.split(\"_\")[0]).astype(int)\n",
    "    sub[\"Team1\"] = sub[\"ID\"].map(lambda x: x.split(\"_\")[1])\n",
    "    sub[\"Team2\"] = sub[\"ID\"].map(lambda x: x.split(\"_\")[2])\n",
    "    sub[\"IDTeams\"] = sub.apply(\n",
    "        lambda r: \"_\".join(map(str, [r[\"Team1\"], r[\"Team2\"]])), axis=1)\n",
    "    sub[\"IDTeam1\"] = sub.apply(\n",
    "        lambda r: \"_\".join(map(str, [r[\"Season\"], r[\"Team1\"]])), axis=1)\n",
    "    sub[\"IDTeam2\"] = sub.apply(\n",
    "        lambda r: \"_\".join(map(str, [r[\"Season\"], r[\"Team2\"]])), axis=1)\n",
    "    sub[\"Team1Seed\"] = sub[\"IDTeam1\"].map(seeds).fillna(0)\n",
    "    sub[\"Team2Seed\"] = sub[\"IDTeam2\"].map(seeds).fillna(0)\n",
    "    sub[\"SeedDiff\"] = sub[\"Team1Seed\"] - sub[\"Team2Seed\"]\n",
    "    sub = sub.fillna(-1)\n",
    "\n",
    "    # Merge aggregated stats with games and submission data\n",
    "    games = pd.merge(games, gb, how=\"left\", left_on=\"IDTeams\", right_on=\"IDTeams_c_score\")\n",
    "    sub = pd.merge(sub, gb, how=\"left\", left_on=\"IDTeams\", right_on=\"IDTeams_c_score\")\n",
    "\n",
    "    # Define feature columns\n",
    "    exclude_cols = [\n",
    "        \"ID\", \"DayNum\", \"ST\", \"Team1\", \"Team2\", \"IDTeams\", \"IDTeam1\", \"IDTeam2\",\n",
    "        \"WTeamID\", \"WScore\", \"LTeamID\", \"LScore\", \"NumOT\", \"Pred\", \"ScoreDiff\",\n",
    "        \"ScoreDiffNorm\", \"WLoc\"\n",
    "    ] + c_score_col\n",
    "    col = [c for c in games.columns if c not in exclude_cols]\n",
    "\n",
    "    print(\"Data preprocessing completed.\")\n",
    "    return games, sub, col, seeds, gb\n",
    "\n",
    "games, sub, col, seeds, gb = preprocess_data(data)"
   ]
  },
  {
   "cell_type": "markdown",
   "id": "e7070b22",
   "metadata": {
    "papermill": {
     "duration": 0.003162,
     "end_time": "2025-02-26T19:01:23.461258",
     "exception": false,
     "start_time": "2025-02-26T19:01:23.458096",
     "status": "completed"
    },
    "tags": []
   },
   "source": [
    "# Training the Model"
   ]
  },
  {
   "cell_type": "code",
   "execution_count": 6,
   "id": "3a6d779e",
   "metadata": {
    "execution": {
     "iopub.execute_input": "2025-02-26T19:01:23.468363Z",
     "iopub.status.busy": "2025-02-26T19:01:23.468027Z",
     "iopub.status.idle": "2025-02-26T19:01:33.270663Z",
     "shell.execute_reply": "2025-02-26T19:01:33.269656Z"
    },
    "papermill": {
     "duration": 9.8075,
     "end_time": "2025-02-26T19:01:33.271786",
     "exception": false,
     "start_time": "2025-02-26T19:01:23.464286",
     "status": "completed"
    },
    "tags": []
   },
   "outputs": [
    {
     "name": "stdout",
     "output_type": "stream",
     "text": [
      "Log Loss: 0.00643106\n",
      "Mean Absolute Error: 0.00386155\n",
      "Brier Score: 0.00193078\n",
      "Cross-validated MSE: 0.31106613\n"
     ]
    }
   ],
   "source": [
    "def train_model(games, col):\n",
    "    imputer = SimpleImputer(strategy='mean')\n",
    "    scaler = StandardScaler()\n",
    "\n",
    "    X = games[col].fillna(-1)\n",
    "    X_imputed = imputer.fit_transform(X)\n",
    "    X_scaled = scaler.fit_transform(X_imputed)\n",
    "    y = games[\"Pred\"]\n",
    "\n",
    "    model = xgb.XGBClassifier(\n",
    "        n_estimators=300,\n",
    "        learning_rate=0.05,\n",
    "        max_depth=6,\n",
    "        min_child_weight=1,\n",
    "        gamma=0,\n",
    "        subsample=0.8,\n",
    "        colsample_bytree=0.8,\n",
    "        objective='binary:logistic',\n",
    "        nthread=4,\n",
    "        scale_pos_weight=1,\n",
    "        seed=42\n",
    "    )\n",
    "\n",
    "    model.fit(X_scaled, y)\n",
    "    pred = model.predict_proba(X_scaled)[:, 1].clip(0.001, 0.999)\n",
    "    ir = IsotonicRegression(out_of_bounds=\"clip\")\n",
    "    ir.fit(pred, y)\n",
    "    pred_cal = ir.transform(pred)\n",
    "\n",
    "    print(f\"Log Loss: {log_loss(y, pred_cal):.8f}\")\n",
    "    print(f\"Mean Absolute Error: {mean_absolute_error(y, pred_cal):.8f}\")\n",
    "    print(f\"Brier Score: {brier_score_loss(y, pred_cal):.8f}\")\n",
    "    cv_scores = cross_val_score(model, X_scaled, y, cv=5, scoring=\"neg_mean_squared_error\")\n",
    "    print(f\"Cross-validated MSE: {-cv_scores.mean():.8f}\")\n",
    "\n",
    "    return model, imputer, scaler, ir\n",
    "\n",
    "model, imputer, scaler, ir = train_model(games, col)"
   ]
  },
  {
   "cell_type": "markdown",
   "id": "ae55daf2",
   "metadata": {
    "papermill": {
     "duration": 0.002709,
     "end_time": "2025-02-26T19:01:33.278050",
     "exception": false,
     "start_time": "2025-02-26T19:01:33.275341",
     "status": "completed"
    },
    "tags": []
   },
   "source": [
    "# Making Predictions"
   ]
  },
  {
   "cell_type": "code",
   "execution_count": 7,
   "id": "584637b2",
   "metadata": {
    "execution": {
     "iopub.execute_input": "2025-02-26T19:01:33.284986Z",
     "iopub.status.busy": "2025-02-26T19:01:33.284575Z",
     "iopub.status.idle": "2025-02-26T19:01:37.884803Z",
     "shell.execute_reply": "2025-02-26T19:01:37.883311Z"
    },
    "papermill": {
     "duration": 4.605212,
     "end_time": "2025-02-26T19:01:37.886043",
     "exception": false,
     "start_time": "2025-02-26T19:01:33.280831",
     "status": "completed"
    },
    "tags": []
   },
   "outputs": [
    {
     "name": "stdout",
     "output_type": "stream",
     "text": [
      "Submission file saved to submission.csv\n"
     ]
    }
   ],
   "source": [
    "def predict_submission(sub, col, model, imputer, scaler, ir, output_file=\"submission.csv\"):\n",
    "    sub_X = sub[col].fillna(-1)\n",
    "    X_imputed = imputer.transform(sub_X)\n",
    "    X_scaled = scaler.transform(X_imputed)\n",
    "    preds = model.predict_proba(X_scaled)[:, 1].clip(0.01, 0.99)\n",
    "    preds_cal = ir.transform(preds)\n",
    "    sub[\"Pred\"] = preds_cal\n",
    "    sub[[\"ID\", \"Pred\"]].to_csv(output_file, index=False)\n",
    "    print(f\"Submission file saved to {output_file}\")\n",
    "\n",
    "predict_submission(sub, col, model, imputer, scaler, ir)"
   ]
  },
  {
   "cell_type": "markdown",
   "id": "498263e8",
   "metadata": {
    "papermill": {
     "duration": 0.003003,
     "end_time": "2025-02-26T19:01:37.893533",
     "exception": false,
     "start_time": "2025-02-26T19:01:37.890530",
     "status": "completed"
    },
    "tags": []
   },
   "source": [
    "# Saving the Model"
   ]
  },
  {
   "cell_type": "code",
   "execution_count": 8,
   "id": "ad63c460",
   "metadata": {
    "execution": {
     "iopub.execute_input": "2025-02-26T19:01:37.901024Z",
     "iopub.status.busy": "2025-02-26T19:01:37.900723Z",
     "iopub.status.idle": "2025-02-26T19:01:38.013669Z",
     "shell.execute_reply": "2025-02-26T19:01:38.012911Z"
    },
    "papermill": {
     "duration": 0.118231,
     "end_time": "2025-02-26T19:01:38.015065",
     "exception": false,
     "start_time": "2025-02-26T19:01:37.896834",
     "status": "completed"
    },
    "tags": []
   },
   "outputs": [
    {
     "name": "stdout",
     "output_type": "stream",
     "text": [
      "Model saved to tournament_model.pkl\n"
     ]
    }
   ],
   "source": [
    "def save_model(model, imputer, scaler, seeds, col, gb, ir, filename):\n",
    "    joblib.dump({\n",
    "        \"model\": model,\n",
    "        \"scaler\": scaler,\n",
    "        \"imputer\": imputer,\n",
    "        \"seeds\": seeds,\n",
    "        \"col\": col,\n",
    "        \"gb\": gb,\n",
    "        \"ir\": ir\n",
    "    }, filename)\n",
    "    print(f\"Model saved to {filename}\")\n",
    "\n",
    "save_model(model, imputer, scaler, seeds, col, gb, ir, \"tournament_model.pkl\")"
   ]
  },
  {
   "cell_type": "markdown",
   "id": "6126219f",
   "metadata": {
    "papermill": {
     "duration": 0.002776,
     "end_time": "2025-02-26T19:01:38.021312",
     "exception": false,
     "start_time": "2025-02-26T19:01:38.018536",
     "status": "completed"
    },
    "tags": []
   },
   "source": [
    "# Loading the Model"
   ]
  },
  {
   "cell_type": "code",
   "execution_count": 9,
   "id": "929b1d05",
   "metadata": {
    "execution": {
     "iopub.execute_input": "2025-02-26T19:01:38.028250Z",
     "iopub.status.busy": "2025-02-26T19:01:38.028007Z",
     "iopub.status.idle": "2025-02-26T19:01:38.068987Z",
     "shell.execute_reply": "2025-02-26T19:01:38.067773Z"
    },
    "papermill": {
     "duration": 0.046263,
     "end_time": "2025-02-26T19:01:38.070644",
     "exception": false,
     "start_time": "2025-02-26T19:01:38.024381",
     "status": "completed"
    },
    "tags": []
   },
   "outputs": [],
   "source": [
    "def load_model(filename):\n",
    "    data = joblib.load(filename)\n",
    "    return data[\"model\"], data[\"scaler\"], data[\"imputer\"], data[\"seeds\"], data[\"col\"], data[\"gb\"], data[\"ir\"]\n",
    "\n",
    "model, scaler, imputer, seeds, col, gb, ir = load_model(\"tournament_model.pkl\")"
   ]
  },
  {
   "cell_type": "markdown",
   "id": "80425d63",
   "metadata": {
    "papermill": {
     "duration": 0.003121,
     "end_time": "2025-02-26T19:01:38.077440",
     "exception": false,
     "start_time": "2025-02-26T19:01:38.074319",
     "status": "completed"
    },
    "tags": []
   },
   "source": [
    "# Main Execution"
   ]
  },
  {
   "cell_type": "code",
   "execution_count": 10,
   "id": "c2390fbd",
   "metadata": {
    "execution": {
     "iopub.execute_input": "2025-02-26T19:01:38.085025Z",
     "iopub.status.busy": "2025-02-26T19:01:38.084717Z",
     "iopub.status.idle": "2025-02-26T19:02:09.593313Z",
     "shell.execute_reply": "2025-02-26T19:02:09.591997Z"
    },
    "papermill": {
     "duration": 31.516972,
     "end_time": "2025-02-26T19:02:09.597637",
     "exception": false,
     "start_time": "2025-02-26T19:01:38.080665",
     "status": "completed"
    },
    "tags": []
   },
   "outputs": [
    {
     "name": "stdout",
     "output_type": "stream",
     "text": [
      "Data preprocessing completed.\n",
      "Log Loss: 0.00643106\n",
      "Mean Absolute Error: 0.00386155\n",
      "Brier Score: 0.00193078\n",
      "Cross-validated MSE: 0.31106613\n",
      "Submission file saved to submission.csv\n",
      "Model saved to tournament_model.pkl\n"
     ]
    }
   ],
   "source": [
    "if __name__ == \"__main__\":\n",
    "    data = load_data(DATA_PATH)\n",
    "    games, sub, col, seeds, gb = preprocess_data(data)\n",
    "    model, imputer, scaler, ir = train_model(games, col)\n",
    "    predict_submission(sub, col, model, imputer, scaler, ir)\n",
    "    save_model(model, imputer, scaler, seeds, col, gb, ir, \"tournament_model.pkl\")"
   ]
  },
  {
   "cell_type": "code",
   "execution_count": null,
   "id": "d6e3c2c8",
   "metadata": {
    "papermill": {
     "duration": 0.003642,
     "end_time": "2025-02-26T19:02:09.629879",
     "exception": false,
     "start_time": "2025-02-26T19:02:09.626237",
     "status": "completed"
    },
    "tags": []
   },
   "outputs": [],
   "source": []
  }
 ],
 "metadata": {
  "kaggle": {
   "accelerator": "none",
   "dataSources": [
    {
     "databundleVersionId": 11165145,
     "sourceId": 91497,
     "sourceType": "competition"
    }
   ],
   "dockerImageVersionId": 30918,
   "isGpuEnabled": false,
   "isInternetEnabled": true,
   "language": "python",
   "sourceType": "notebook"
  },
  "kernelspec": {
   "display_name": "Python 3",
   "language": "python",
   "name": "python3"
  },
  "language_info": {
   "codemirror_mode": {
    "name": "ipython",
    "version": 3
   },
   "file_extension": ".py",
   "mimetype": "text/x-python",
   "name": "python",
   "nbconvert_exporter": "python",
   "pygments_lexer": "ipython3",
   "version": "3.10.12"
  },
  "papermill": {
   "default_parameters": {},
   "duration": 72.468267,
   "end_time": "2025-02-26T19:02:10.454232",
   "environment_variables": {},
   "exception": null,
   "input_path": "__notebook__.ipynb",
   "output_path": "__notebook__.ipynb",
   "parameters": {},
   "start_time": "2025-02-26T19:00:57.985965",
   "version": "2.6.0"
  }
 },
 "nbformat": 4,
 "nbformat_minor": 5
}
