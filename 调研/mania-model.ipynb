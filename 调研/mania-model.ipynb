{
 "cells": [
  {
   "cell_type": "markdown",
   "id": "9bbc9a85",
   "metadata": {
    "papermill": {
     "duration": 0.003934,
     "end_time": "2025-03-02T12:29:19.036608",
     "exception": false,
     "start_time": "2025-03-02T12:29:19.032674",
     "status": "completed"
    },
    "tags": []
   },
   "source": [
    "\n",
    "\n",
    "# **March Machine Learning Mania 2025 - Model Explanation**  \n",
    "\n",
    "## **Overview**  \n",
    "This notebook is designed for predicting the outcomes of NCAA basketball tournament games. It processes historical game data, extracts features, and trains a machine learning model (Random Forest) to make predictions based on team statistics.  \n",
    "\n",
    "## **Dataset Description**  \n",
    "The dataset comes from Kaggle's *March Machine Learning Mania 2025* competition. It contains historical game results, team details, tournament seeds, and various match statistics for men's and women's NCAA basketball teams.  \n",
    "\n",
    "## **Steps in the Notebook**  \n",
    "\n",
    "### **1. Importing Libraries**  \n",
    "- Uses `numpy` and `pandas` for data manipulation.  \n",
    "- `sklearn` for machine learning tasks.  \n",
    "- `optuna` for hyperparameter tuning.  \n",
    "- `glob` to load multiple CSV files dynamically.  \n",
    "\n",
    "### **2. Data Loading**  \n",
    "- Reads multiple CSV files from the dataset folder.  \n",
    "- Stores each file in a dictionary for easy access.  \n",
    "\n",
    "### **3. Data Preprocessing**  \n",
    "- Extracts key tables for men’s and women’s tournaments.  \n",
    "- Merges relevant datasets like regular-season results, NCAA tournament results, and team seeds.  \n",
    "- Converts categorical tournament seed rankings into numerical values.  \n",
    "\n",
    "### **4. Feature Engineering**  \n",
    "- Creates unique game identifiers based on season and team matchups.  \n",
    "- Computes important features, such as:  \n",
    "  - **Seed Difference**: Difference between two teams' NCAA tournament seed rankings.  \n",
    "  - **Match Statistics Aggregation**: Summarizes stats (sum, mean, median, max, min, std, skew) from past games.  \n",
    "  - **Game Location Encoding**: Converts home, away, and neutral game locations into numeric values.  \n",
    "  - **Target Variable (`Pred`)**: Indicates whether the first team won the game.  \n",
    "\n",
    "### **5. Data Filtering**  \n",
    "- Filters the dataset to keep only NCAA tournament games for training the model.  \n",
    "\n",
    "## **Purpose of the Notebook**  \n",
    "This notebook sets up a machine learning pipeline for predicting NCAA tournament match outcomes based on past performance metrics and team seeds. It prepares a structured dataset, which can be used to train a machine learning model like **Random Forest**.  \n",
    "\n",
    "**Kaggle Profile Link:** https://www.kaggle.com/mushei\n",
    "\n",
    "**Kaggle Competition Link:** https://www.kaggle.com/competitions/march-machine-learning-mania-2025/data"
   ]
  },
  {
   "cell_type": "markdown",
   "id": "d00ccb17",
   "metadata": {
    "papermill": {
     "duration": 0.003037,
     "end_time": "2025-03-02T12:29:19.047300",
     "exception": false,
     "start_time": "2025-03-02T12:29:19.044263",
     "status": "completed"
    },
    "tags": []
   },
   "source": [
    "# **Took alot of help in Feature Engineering part from @CoreyMichaud Notebook**"
   ]
  },
  {
   "cell_type": "code",
   "execution_count": 1,
   "id": "88e6fa60",
   "metadata": {
    "execution": {
     "iopub.execute_input": "2025-03-02T12:29:19.054582Z",
     "iopub.status.busy": "2025-03-02T12:29:19.054280Z",
     "iopub.status.idle": "2025-03-02T12:29:22.717315Z",
     "shell.execute_reply": "2025-03-02T12:29:22.715971Z"
    },
    "papermill": {
     "duration": 3.668846,
     "end_time": "2025-03-02T12:29:22.719217",
     "exception": false,
     "start_time": "2025-03-02T12:29:19.050371",
     "status": "completed"
    },
    "tags": []
   },
   "outputs": [],
   "source": [
    "import numpy as np\n",
    "import pandas as pd\n",
    "from sklearn.preprocessing import StandardScaler\n",
    "from sklearn.metrics import mean_squared_error\n",
    "import numpy as np\n",
    "from sklearn.ensemble import RandomForestRegressor\n",
    "import optuna\n",
    "from sklearn.model_selection import KFold\n",
    "from sklearn.base import clone\n",
    "import glob\n",
    "import warnings \n",
    "\n",
    "warnings.filterwarnings('ignore')\n",
    "pd.set_option(\"display.max_rows\", None)\n",
    "pd.set_option(\"display.max_columns\", None)\n",
    "pd.set_option('display.width', None)\n",
    "pd.set_option('display.max_colwidth', None)"
   ]
  },
  {
   "cell_type": "code",
   "execution_count": 2,
   "id": "76fff57c",
   "metadata": {
    "execution": {
     "iopub.execute_input": "2025-03-02T12:29:22.726478Z",
     "iopub.status.busy": "2025-03-02T12:29:22.726042Z",
     "iopub.status.idle": "2025-03-02T12:29:26.952756Z",
     "shell.execute_reply": "2025-03-02T12:29:26.952050Z"
    },
    "papermill": {
     "duration": 4.231831,
     "end_time": "2025-03-02T12:29:26.954310",
     "exception": false,
     "start_time": "2025-03-02T12:29:22.722479",
     "status": "completed"
    },
    "tags": []
   },
   "outputs": [],
   "source": [
    "Path = \"/kaggle/input/march-machine-learning-mania-2025/*.csv\"\n",
    "data = {x.split('/')[-1].split('.')[0] : pd.read_csv(x, encoding=\"latin-1\") for x in glob.glob(Path)}"
   ]
  },
  {
   "cell_type": "code",
   "execution_count": 3,
   "id": "896a0d04",
   "metadata": {
    "execution": {
     "iopub.execute_input": "2025-03-02T12:29:26.960949Z",
     "iopub.status.busy": "2025-03-02T12:29:26.960710Z",
     "iopub.status.idle": "2025-03-02T12:29:26.991645Z",
     "shell.execute_reply": "2025-03-02T12:29:26.990596Z"
    },
    "papermill": {
     "duration": 0.035414,
     "end_time": "2025-03-02T12:29:26.992972",
     "exception": false,
     "start_time": "2025-03-02T12:29:26.957558",
     "status": "completed"
    },
    "tags": []
   },
   "outputs": [],
   "source": [
    "MTeams = data['MTeams']\n",
    "WTeams = data['WTeams']\n",
    "\n",
    "MTeamSpellings = data['MTeamSpellings']\n",
    "WTeamSpellings = data['WTeamSpellings']\n",
    "\n",
    "MRegularSeasonCompactResults = data['MRegularSeasonCompactResults']\n",
    "WRegularSeasonCompactResults = data['WRegularSeasonCompactResults']\n",
    "\n",
    "MRegularSeasonDetailedResults = data['MRegularSeasonDetailedResults']\n",
    "WRegularSeasonDetailedResults = data['WRegularSeasonDetailedResults']\n",
    "\n",
    "MNCAATourneyCompactResults = data['MNCAATourneyCompactResults']\n",
    "WNCAATourneyCompactResults = data['WNCAATourneyCompactResults']\n",
    "\n",
    "MNCAATourneyDetailedResults = data['MNCAATourneyDetailedResults']\n",
    "WNCAATourneyDetailedResults = data['WNCAATourneyDetailedResults']\n",
    "\n",
    "MGameCities = data['MGameCities']\n",
    "WGameCities = data['WGameCities']\n",
    "\n",
    "MSeasons = data['MSeasons']\n",
    "WSeasons = data['WSeasons']\n",
    "\n",
    "MNCAATourneySeeds = data['MNCAATourneySeeds']\n",
    "WNCAATourneySeeds = data['WNCAATourneySeeds']\n",
    "\n",
    "Cities = data['Cities']\n",
    "SampleSub = data['SampleSubmissionStage2']\n",
    "\n",
    "del data"
   ]
  },
  {
   "cell_type": "markdown",
   "id": "60247782",
   "metadata": {
    "papermill": {
     "duration": 0.002432,
     "end_time": "2025-03-02T12:29:26.998532",
     "exception": false,
     "start_time": "2025-03-02T12:29:26.996100",
     "status": "completed"
    },
    "tags": []
   },
   "source": [
    "**Feature Enginerring**"
   ]
  },
  {
   "cell_type": "code",
   "execution_count": 4,
   "id": "680d0cb5",
   "metadata": {
    "execution": {
     "iopub.execute_input": "2025-03-02T12:29:27.010171Z",
     "iopub.status.busy": "2025-03-02T12:29:27.009756Z",
     "iopub.status.idle": "2025-03-02T12:29:27.086269Z",
     "shell.execute_reply": "2025-03-02T12:29:27.085428Z"
    },
    "papermill": {
     "duration": 0.082689,
     "end_time": "2025-03-02T12:29:27.087955",
     "exception": false,
     "start_time": "2025-03-02T12:29:27.005266",
     "status": "completed"
    },
    "tags": []
   },
   "outputs": [],
   "source": [
    "Teams = pd.concat([MTeams, WTeams])\n",
    "TeamSpelling = pd.concat([MTeamSpellings, WTeamSpellings])\n",
    "TeamSpelling = TeamSpelling.groupby(by=\"TeamID\", as_index=False)['TeamNameSpelling'].count()\n",
    "TeamSpelling.columns = ['TeamID', 'TeamNameCount']\n",
    "Teams = pd.merge(Teams, TeamSpelling, how='left', on=['TeamID'])\n",
    "del TeamSpelling\n",
    "\n",
    "SeasonCompactResults = pd.concat([MRegularSeasonCompactResults, WRegularSeasonCompactResults])\n",
    "SeasonDetailedResults = pd.concat([MRegularSeasonDetailedResults, WRegularSeasonDetailedResults])\n",
    "\n",
    "TourneyCompactResults = pd.concat([MNCAATourneyCompactResults, WNCAATourneyCompactResults])\n",
    "TourneyDetailedResults = pd.concat([MNCAATourneyDetailedResults, WNCAATourneyDetailedResults])\n",
    "\n",
    "GameCities = pd.concat([MGameCities, WGameCities])\n",
    "Seasons = pd.concat([MSeasons,WSeasons])\n",
    "Seeds = pd.concat([MNCAATourneySeeds, WNCAATourneySeeds])\n",
    "\n",
    "Seeds = {'_'.join(map(str, [int (x1), x2])): int(v[1:3])  for x1, v, x2 in Seeds[['Season', 'Seed', 'TeamID']].values}\n",
    "\n",
    "SeasonCompactResults['ST'] = 'S'\n",
    "SeasonDetailedResults['ST'] = 'S'\n",
    "TourneyCompactResults['ST'] = 'T'\n",
    "TourneyDetailedResults['ST'] = 'T'\n",
    "\n",
    "Games = pd.concat((SeasonDetailedResults,TourneyDetailedResults), axis=0, ignore_index=True)\n",
    "Games.reset_index(drop=True, inplace=True)\n",
    "Games['WLoc'] = Games['WLoc'].map({'H': 0, 'A': 1, 'N': 2})"
   ]
  },
  {
   "cell_type": "code",
   "execution_count": 5,
   "id": "c776fd2a",
   "metadata": {
    "execution": {
     "iopub.execute_input": "2025-03-02T12:29:27.095119Z",
     "iopub.status.busy": "2025-03-02T12:29:27.094740Z",
     "iopub.status.idle": "2025-03-02T12:29:38.101748Z",
     "shell.execute_reply": "2025-03-02T12:29:38.100876Z"
    },
    "papermill": {
     "duration": 11.012304,
     "end_time": "2025-03-02T12:29:38.103479",
     "exception": false,
     "start_time": "2025-03-02T12:29:27.091175",
     "status": "completed"
    },
    "tags": []
   },
   "outputs": [],
   "source": [
    "Games['ID'] = Games.apply(lambda x: '_'.join(map(str, [x['Season']]+sorted([x['WTeamID'], x['LTeamID']]))), axis=1)\n",
    "Games['IDTeams'] = Games.apply(lambda x: '_'.join(map(str, sorted([x['WTeamID'], x['LTeamID']]))), axis=1)\n",
    "Games['Team1'] = Games.apply(lambda x:  sorted([x['WTeamID'], x['LTeamID']])[0], axis=1)\n",
    "Games['Team2'] = Games.apply(lambda x: sorted([x['WTeamID'], x['LTeamID']])[1], axis=1)\n",
    "Games['IDTeam1'] = Games.apply(lambda x: '_'.join(map(str, [x['Season'], x['Team1']])), axis=1)\n",
    "Games['IDTeam2'] = Games.apply(lambda x: '_'.join(map(str, [x['Season'], x['Team2']])), axis=1)\n",
    "\n",
    "Games['Team1Seed'] = Games['IDTeam1'].map(Seeds).fillna(0)\n",
    "Games['Team2Seed'] = Games['IDTeam2'].map(Seeds).fillna(0)\n",
    "\n",
    "# Games['Score_Difference'] = Games['WScore'] - Games['LScore']\n",
    "Games['Pred'] = Games.apply(lambda x: 1.0 if sorted([x['WTeamID'], x['LTeamID']])[0] == x['WTeamID'] else 0.0 , axis=1)\n",
    "# Games['ScoreDifferenceNorm'] = Games.apply(lambda x: x['Score_Difference'] * -1 if x['Pred'] == 0.0 \n",
    "#                                            else x['Score_Difference'], axis=1)\n",
    "Games['SeedDifference'] = Games['Team1Seed'] - Games['Team2Seed']\n",
    "\n",
    "columns = ['NumOT', 'WFGM', 'WFGA', 'WFGM3', 'WFGA3', 'WFTM', 'WFTA', 'WOR', 'WDR', 'WAst', 'WTO', 'WStl',\n",
    " 'WBlk', 'WPF', 'LFGM', 'LFGA', 'LFGM3', 'LFGA3', 'LFTM', 'LFTA', 'LOR', 'LDR', 'LAst', 'LTO', 'LStl',\n",
    " 'LBlk', 'LPF']\n",
    "agg = ['sum', 'mean', 'median', 'max', 'min', 'std', 'skew', 'nunique']\n",
    "gb = Games.groupby(by=('IDTeams')).agg({x: agg for x in columns }).reset_index()\n",
    "gb.columns = [''.join(x) + '_score' for x in gb.columns]\n",
    "Games = Games[Games['ST'] == 'T']"
   ]
  },
  {
   "cell_type": "code",
   "execution_count": 6,
   "id": "1a89f803",
   "metadata": {
    "execution": {
     "iopub.execute_input": "2025-03-02T12:29:38.110679Z",
     "iopub.status.busy": "2025-03-02T12:29:38.110378Z",
     "iopub.status.idle": "2025-03-02T12:29:41.138482Z",
     "shell.execute_reply": "2025-03-02T12:29:41.137613Z"
    },
    "papermill": {
     "duration": 3.033447,
     "end_time": "2025-03-02T12:29:41.140323",
     "exception": false,
     "start_time": "2025-03-02T12:29:38.106876",
     "status": "completed"
    },
    "tags": []
   },
   "outputs": [],
   "source": [
    "SampleSub['WLoc'] = 3\n",
    "SampleSub['Season'] = SampleSub['ID'].map(lambda x: x.split('_')[0])\n",
    "SampleSub['Season'] = SampleSub['Season'].astype(int)\n",
    "SampleSub['Team1'] = SampleSub['ID'].map(lambda x: x.split('_')[1])\n",
    "SampleSub['Team2'] = SampleSub['ID'].map(lambda x: x.split('_')[2])\n",
    "SampleSub['IDTeams'] = SampleSub.apply(lambda x: '_'.join(map(str, [x['Team1'], x['Team2']])), axis=1)\n",
    "SampleSub['IDTeam1'] = SampleSub.apply(lambda x: '_'.join(map(str, [x['Season'], x['Team1']])), axis=1)\n",
    "SampleSub['IDTeam2'] = SampleSub.apply(lambda x: '_'.join(map(str, [x['Season'], x['Team2']])), axis=1)\n",
    "SampleSub['Team1Seed'] = SampleSub['IDTeam1'].map(Seeds).fillna(0)\n",
    "SampleSub['Team2Seed'] = SampleSub['IDTeam2'].map(Seeds).fillna(0)\n",
    "SampleSub['SeedDifference'] = SampleSub['Team1Seed'] - SampleSub['Team2Seed']\n",
    "\n",
    "\n",
    "Games = pd.merge(Games,gb, how='left', left_on='IDTeams', right_on='IDTeams_score')\n",
    "SampleSub = pd.merge(SampleSub, gb, how='left', left_on='IDTeams', right_on='IDTeams_score')\n",
    "Games = Games.fillna(-1)\n",
    "SampleSub = SampleSub.fillna(-1)"
   ]
  },
  {
   "cell_type": "markdown",
   "id": "6fe220f0",
   "metadata": {
    "papermill": {
     "duration": 0.002554,
     "end_time": "2025-03-02T12:29:41.146255",
     "exception": false,
     "start_time": "2025-03-02T12:29:41.143701",
     "status": "completed"
    },
    "tags": []
   },
   "source": [
    "**Training and Testing Data**"
   ]
  },
  {
   "cell_type": "code",
   "execution_count": 7,
   "id": "8cbf2d21",
   "metadata": {
    "execution": {
     "iopub.execute_input": "2025-03-02T12:29:41.152952Z",
     "iopub.status.busy": "2025-03-02T12:29:41.152598Z",
     "iopub.status.idle": "2025-03-02T12:29:41.198793Z",
     "shell.execute_reply": "2025-03-02T12:29:41.197521Z"
    },
    "papermill": {
     "duration": 0.051646,
     "end_time": "2025-03-02T12:29:41.200572",
     "exception": false,
     "start_time": "2025-03-02T12:29:41.148926",
     "status": "completed"
    },
    "tags": []
   },
   "outputs": [],
   "source": [
    "cols = [c for c in Games.columns if c not in ['ID', 'DayNum', 'ST', 'Team1', 'Team2', 'IDTeams', 'IDTeam1', 'IDTeam2',\n",
    "                                             'WTeamID', 'WScore', 'LTeamID', 'LScore', 'NumOT', 'Pred', 'ScoreDiff', 'ScoreDiffNorm',\n",
    "                                             'WLoc'] + columns]\n",
    "\n",
    "train = Games[cols]\n",
    "X = train.drop(columns=['Pred'], errors='ignore')\n",
    "Y = Games['Pred']\n",
    "test = SampleSub[cols] "
   ]
  },
  {
   "cell_type": "markdown",
   "id": "9fb6cf10",
   "metadata": {
    "papermill": {
     "duration": 0.002581,
     "end_time": "2025-03-02T12:29:41.206643",
     "exception": false,
     "start_time": "2025-03-02T12:29:41.204062",
     "status": "completed"
    },
    "tags": []
   },
   "source": [
    "> **Standardize the data**"
   ]
  },
  {
   "cell_type": "code",
   "execution_count": 8,
   "id": "2773aa80",
   "metadata": {
    "execution": {
     "iopub.execute_input": "2025-03-02T12:29:41.213175Z",
     "iopub.status.busy": "2025-03-02T12:29:41.212738Z",
     "iopub.status.idle": "2025-03-02T12:29:45.094812Z",
     "shell.execute_reply": "2025-03-02T12:29:45.094102Z"
    },
    "papermill": {
     "duration": 3.886984,
     "end_time": "2025-03-02T12:29:45.096206",
     "exception": false,
     "start_time": "2025-03-02T12:29:41.209222",
     "status": "completed"
    },
    "tags": []
   },
   "outputs": [],
   "source": [
    "Scaler = StandardScaler()\n",
    "X_scaled = Scaler.fit_transform(X)\n",
    "X_test = Scaler.transform(test)"
   ]
  },
  {
   "cell_type": "code",
   "execution_count": 9,
   "id": "052a4875",
   "metadata": {
    "execution": {
     "iopub.execute_input": "2025-03-02T12:29:45.102795Z",
     "iopub.status.busy": "2025-03-02T12:29:45.102475Z",
     "iopub.status.idle": "2025-03-02T12:29:45.107777Z",
     "shell.execute_reply": "2025-03-02T12:29:45.107036Z"
    },
    "papermill": {
     "duration": 0.010411,
     "end_time": "2025-03-02T12:29:45.109501",
     "exception": false,
     "start_time": "2025-03-02T12:29:45.099090",
     "status": "completed"
    },
    "tags": []
   },
   "outputs": [],
   "source": [
    "def objective(trial):\n",
    "    params = {\n",
    "        'n_estimators': trial.suggest_int('n_estimators', 200, 1000),\n",
    "        'max_depth': trial.suggest_int('max_depth', 3, 20),\n",
    "        'min_samples_split': trial.suggest_int('min_samples_split', 2, 20),\n",
    "        'min_samples_leaf': trial.suggest_int('min_samples_leaf', 2, 20),\n",
    "        'max_features': trial.suggest_float('max_features', 0.3, 1.0),\n",
    "        # Fixed parameters\n",
    "        'criterion': 'squared_error',\n",
    "        'bootstrap': True,\n",
    "        'verbose': 0,\n",
    "        'random_state': 42\n",
    "    }\n",
    "\n",
    "    RandomForestModel = RandomForestRegressor(**params)\n",
    "    Error = []\n",
    "    kfold = KFold(n_splits=5, shuffle=True, random_state=42)\n",
    "    for train_idx, test_idx in kfold.split(X_scaled, Y):\n",
    "        X_train = X_scaled[train_idx]\n",
    "        X_test = X_scaled[test_idx]\n",
    "        Y_train = Y[train_idx]\n",
    "        Y_test = Y[test_idx]\n",
    "\n",
    "        model = clone(RandomForestModel)\n",
    "        model.fit(X_train, Y_train)\n",
    "        pred = model.predict(X_test)\n",
    "        error = mean_squared_error(Y_test, pred)\n",
    "        Error.append(error)\n",
    "\n",
    "    return np.mean(Error)"
   ]
  },
  {
   "cell_type": "code",
   "execution_count": 10,
   "id": "108d79c7",
   "metadata": {
    "execution": {
     "iopub.execute_input": "2025-03-02T12:29:45.116733Z",
     "iopub.status.busy": "2025-03-02T12:29:45.116388Z",
     "iopub.status.idle": "2025-03-02T12:29:45.120405Z",
     "shell.execute_reply": "2025-03-02T12:29:45.118787Z"
    },
    "papermill": {
     "duration": 0.00941,
     "end_time": "2025-03-02T12:29:45.122263",
     "exception": false,
     "start_time": "2025-03-02T12:29:45.112853",
     "status": "completed"
    },
    "tags": []
   },
   "outputs": [],
   "source": [
    "# study = optuna.create_study(direction='minimize')\n",
    "# study.optimize(objective, n_trials=50)\n",
    "# print(study.best_params)"
   ]
  },
  {
   "cell_type": "code",
   "execution_count": 11,
   "id": "3c35824d",
   "metadata": {
    "execution": {
     "iopub.execute_input": "2025-03-02T12:29:45.129888Z",
     "iopub.status.busy": "2025-03-02T12:29:45.129535Z",
     "iopub.status.idle": "2025-03-02T12:30:46.674268Z",
     "shell.execute_reply": "2025-03-02T12:30:46.673453Z"
    },
    "papermill": {
     "duration": 61.552417,
     "end_time": "2025-03-02T12:30:46.678160",
     "exception": false,
     "start_time": "2025-03-02T12:29:45.125743",
     "status": "completed"
    },
    "tags": []
   },
   "outputs": [
    {
     "name": "stdout",
     "output_type": "stream",
     "text": [
      "Submission File Saved Successfully\n"
     ]
    }
   ],
   "source": [
    "params = {'n_estimators': 1438, 'max_depth': 11,\n",
    "'min_samples_split': 8, 'min_samples_leaf': 27, 'max_features': 0.6005630225311747}\n",
    "\n",
    "Model = RandomForestRegressor(random_state=42, **params)\n",
    "Model.fit(X_scaled, Y)\n",
    "pred = Model.predict(X_test)\n",
    "\n",
    "Result = pd.DataFrame({\n",
    "    'ID': SampleSub['ID'],\n",
    "    'Pred': pred\n",
    "})\n",
    "Result.to_csv('Predictions.csv', index=False)\n",
    "print(\"Submission File Saved Successfully\")"
   ]
  }
 ],
 "metadata": {
  "kaggle": {
   "accelerator": "none",
   "dataSources": [
    {
     "databundleVersionId": 11165145,
     "sourceId": 91497,
     "sourceType": "competition"
    }
   ],
   "dockerImageVersionId": 30918,
   "isGpuEnabled": false,
   "isInternetEnabled": true,
   "language": "python",
   "sourceType": "notebook"
  },
  "kernelspec": {
   "display_name": "Python 3",
   "language": "python",
   "name": "python3"
  },
  "language_info": {
   "codemirror_mode": {
    "name": "ipython",
    "version": 3
   },
   "file_extension": ".py",
   "mimetype": "text/x-python",
   "name": "python",
   "nbconvert_exporter": "python",
   "pygments_lexer": "ipython3",
   "version": "3.10.12"
  },
  "papermill": {
   "default_parameters": {},
   "duration": 90.853225,
   "end_time": "2025-03-02T12:30:47.501457",
   "environment_variables": {},
   "exception": null,
   "input_path": "__notebook__.ipynb",
   "output_path": "__notebook__.ipynb",
   "parameters": {},
   "start_time": "2025-03-02T12:29:16.648232",
   "version": "2.6.0"
  }
 },
 "nbformat": 4,
 "nbformat_minor": 5
}
