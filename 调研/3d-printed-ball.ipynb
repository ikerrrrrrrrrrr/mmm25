{
 "cells": [
  {
   "cell_type": "code",
   "execution_count": 1,
   "id": "e835d40f",
   "metadata": {
    "_cell_guid": "b1076dfc-b9ad-4769-8c92-a6c4dae69d19",
    "_uuid": "8f2839f25d086af736a60e9eeb907d3b93b6e0e5",
    "execution": {
     "iopub.execute_input": "2025-02-23T13:09:01.525574Z",
     "iopub.status.busy": "2025-02-23T13:09:01.525198Z",
     "iopub.status.idle": "2025-02-23T13:09:10.348006Z",
     "shell.execute_reply": "2025-02-23T13:09:10.347178Z"
    },
    "papermill": {
     "duration": 8.830088,
     "end_time": "2025-02-23T13:09:10.350014",
     "exception": false,
     "start_time": "2025-02-23T13:09:01.519926",
     "status": "completed"
    },
    "tags": []
   },
   "outputs": [],
   "source": [
    "import numpy as np\n",
    "import pandas as pd\n",
    "from sklearn import *\n",
    "\n",
    "p = '/kaggle/input/march-machine-learning-mania-2025/'\n",
    "ads = ['Cities', 'Conferences', 'MMasseyOrdinals', 'MNCAATourneySeedRoundSlots', 'MTeamCoaches', 'SampleSubmissionStage1', 'SampleSubmissionStage2', 'SeedBenchmarkStage1',]\n",
    "mf = ['M','W']\n",
    "mfds = ['ConferenceTourneyGames', 'GameCities', 'NCAATourneyCompactResults', 'NCAATourneyDetailedResults', 'NCAATourneySeeds', 'NCAATourneySlots', 'RegularSeasonCompactResults', 'RegularSeasonDetailedResults', 'Seasons', 'SecondaryTourneyCompactResults', 'SecondaryTourneyTeams', 'TeamConferences', 'TeamSpellings', 'Teams']\n",
    "notused = []\n",
    "def getFile(f):\n",
    "    d = pd.read_csv(p + f + '.csv', encoding='latin-1')\n",
    "    return d\n",
    "\n",
    "ds = {f:getFile(f) for f in ads}\n",
    "for f in mfds:\n",
    "    d = []\n",
    "    for S in mf:\n",
    "        d.append(getFile(S + f))\n",
    "    d = pd.concat(d)\n",
    "    ds[f] = d\n",
    "\n",
    "#print([k for k in ds])"
   ]
  },
  {
   "cell_type": "code",
   "execution_count": 2,
   "id": "43e4daec",
   "metadata": {
    "execution": {
     "iopub.execute_input": "2025-02-23T13:09:10.355765Z",
     "iopub.status.busy": "2025-02-23T13:09:10.355433Z",
     "iopub.status.idle": "2025-02-23T13:09:10.412144Z",
     "shell.execute_reply": "2025-02-23T13:09:10.411073Z"
    },
    "papermill": {
     "duration": 0.061257,
     "end_time": "2025-02-23T13:09:10.413818",
     "exception": false,
     "start_time": "2025-02-23T13:09:10.352561",
     "status": "completed"
    },
    "tags": []
   },
   "outputs": [],
   "source": [
    "teams = ds['Teams']\n",
    "teams2 = ds['TeamSpellings']\n",
    "season_cresults = ds['RegularSeasonCompactResults']\n",
    "season_dresults = ds['RegularSeasonDetailedResults']\n",
    "tourney_cresults = ds['NCAATourneyCompactResults']\n",
    "tourney_dresults = ds['NCAATourneyDetailedResults']\n",
    "seeds = ds['NCAATourneySeeds']\n",
    "gcities = ds['GameCities']\n",
    "seasons = ds['Seasons']\n",
    "seeds = {'_'.join(map(str,[int(k1),k2])):int(v[1:3]) for k1, v, k2 in seeds[['Season', 'Seed', 'TeamID']].values}\n",
    "cities = ds['Cities']\n",
    "sub = ds['SampleSubmissionStage2'] #SampleSubmissionStage2\n",
    "del ds"
   ]
  },
  {
   "cell_type": "code",
   "execution_count": 3,
   "id": "df8104e0",
   "metadata": {
    "execution": {
     "iopub.execute_input": "2025-02-23T13:09:10.419313Z",
     "iopub.status.busy": "2025-02-23T13:09:10.418974Z",
     "iopub.status.idle": "2025-02-23T13:09:37.045540Z",
     "shell.execute_reply": "2025-02-23T13:09:37.044668Z"
    },
    "papermill": {
     "duration": 26.631477,
     "end_time": "2025-02-23T13:09:37.047556",
     "exception": false,
     "start_time": "2025-02-23T13:09:10.416079",
     "status": "completed"
    },
    "tags": []
   },
   "outputs": [
    {
     "name": "stdout",
     "output_type": "stream",
     "text": [
      "Log Loss: 0.5941685845950407\n"
     ]
    }
   ],
   "source": [
    "season_cresults['ST'] = 'S'\n",
    "season_dresults['ST'] = 'S'\n",
    "tourney_cresults['ST'] = 'T'\n",
    "tourney_dresults['ST'] = 'T'\n",
    "#games = pd.concat((season_cresults, tourney_cresults), axis=0, ignore_index=True)\n",
    "games = pd.concat((season_dresults, tourney_dresults), axis=0, ignore_index=True)\n",
    "games.reset_index(drop=True, inplace=True)\n",
    "games['WLoc'] = games['WLoc'].map({'A': 1, 'H': 2, 'N': 3})\n",
    "\n",
    "games['ID'] = games.apply(lambda r: '_'.join(map(str, [r['Season']]+sorted([r['WTeamID'],r['LTeamID']]))), axis=1)\n",
    "games['IDTeams'] = games.apply(lambda r: '_'.join(map(str, sorted([r['WTeamID'],r['LTeamID']]))), axis=1)\n",
    "games['Team1'] = games.apply(lambda r: sorted([r['WTeamID'],r['LTeamID']])[0], axis=1)\n",
    "games['Team2'] = games.apply(lambda r: sorted([r['WTeamID'],r['LTeamID']])[1], axis=1)\n",
    "games['IDTeam1'] = games.apply(lambda r: '_'.join(map(str, [r['Season'], r['Team1']])), axis=1)\n",
    "games['IDTeam2'] = games.apply(lambda r: '_'.join(map(str, [r['Season'], r['Team2']])), axis=1)\n",
    "\n",
    "games['Team1Seed'] = games['IDTeam1'].map(seeds).fillna(0)\n",
    "games['Team2Seed'] = games['IDTeam2'].map(seeds).fillna(0)\n",
    "\n",
    "games['ScoreDiff'] = games['WScore'] - games['LScore']\n",
    "games['Pred'] = games.apply(lambda r: 1. if sorted([r['WTeamID'],r['LTeamID']])[0]==r['WTeamID'] else 0., axis=1)\n",
    "games['ScoreDiffNorm'] = games.apply(lambda r: r['ScoreDiff'] * -1 if r['Pred'] == 0. else r['ScoreDiff'], axis=1)\n",
    "games['SeedDiff'] = games['Team1Seed'] - games['Team2Seed'] \n",
    "games = games.fillna(-1)\n",
    "\n",
    "c_score_col = ['NumOT', 'WFGM', 'WFGA', 'WFGM3', 'WFGA3', 'WFTM', 'WFTA', 'WOR', 'WDR', 'WAst', 'WTO', 'WStl',\n",
    " 'WBlk', 'WPF', 'LFGM', 'LFGA', 'LFGM3', 'LFGA3', 'LFTM', 'LFTA', 'LOR', 'LDR', 'LAst', 'LTO', 'LStl',\n",
    " 'LBlk', 'LPF']\n",
    "c_score_agg = ['sum', 'mean', 'median', 'max', 'min', 'std', 'skew', 'nunique']\n",
    "gb = games.groupby(by=['IDTeams']).agg({k: c_score_agg for k in c_score_col}).reset_index()\n",
    "gb.columns = [''.join(c) + '_c_score' for c in gb.columns]\n",
    "\n",
    "games = games[games['ST']=='T']\n",
    "\n",
    "sub['WLoc'] = 3\n",
    "sub['Season'] = sub['ID'].map(lambda x: x.split('_')[0])\n",
    "sub['Season'] = sub['ID'].map(lambda x: x.split('_')[0])\n",
    "sub['Season'] = sub['Season'].astype(int)\n",
    "sub['Team1'] = sub['ID'].map(lambda x: x.split('_')[1])\n",
    "sub['Team2'] = sub['ID'].map(lambda x: x.split('_')[2])\n",
    "sub['IDTeams'] = sub.apply(lambda r: '_'.join(map(str, [r['Team1'], r['Team2']])), axis=1)\n",
    "sub['IDTeam1'] = sub.apply(lambda r: '_'.join(map(str, [r['Season'], r['Team1']])), axis=1)\n",
    "sub['IDTeam2'] = sub.apply(lambda r: '_'.join(map(str, [r['Season'], r['Team2']])), axis=1)\n",
    "sub['Team1Seed'] = sub['IDTeam1'].map(seeds).fillna(0)\n",
    "sub['Team2Seed'] = sub['IDTeam2'].map(seeds).fillna(0)\n",
    "sub['SeedDiff'] = sub['Team1Seed'] - sub['Team2Seed'] \n",
    "sub = sub.fillna(-1)\n",
    "\n",
    "games = pd.merge(games, gb, how='left', left_on='IDTeams', right_on='IDTeams_c_score')\n",
    "sub = pd.merge(sub, gb, how='left', left_on='IDTeams', right_on='IDTeams_c_score')\n",
    "\n",
    "col = [c for c in games.columns if c not in ['ID', 'DayNum', 'ST', 'Team1', 'Team2', 'IDTeams', 'IDTeam1', 'IDTeam2', 'WTeamID', 'WScore', 'LTeamID', 'LScore', 'NumOT', 'Pred', 'ScoreDiff', 'ScoreDiffNorm', 'WLoc'] + c_score_col]\n",
    "\n",
    "reg = linear_model.LinearRegression()\n",
    "reg.fit(games[col].fillna(-1), games['Pred'])\n",
    "pred = reg.predict(games[col].fillna(0.2)).clip(0.0001,0.9999)\n",
    "print('Log Loss:', metrics.log_loss(games['Pred'], pred))\n",
    "sub['Pred'] = reg.predict(sub[col].fillna(0.2)).clip(0.0001,0.9999)\n",
    "sub[['ID', 'Pred']].to_csv('submission.csv', index=False)"
   ]
  },
  {
   "cell_type": "markdown",
   "id": "0e7f9aac",
   "metadata": {
    "papermill": {
     "duration": 0.001728,
     "end_time": "2025-02-23T13:09:37.051583",
     "exception": false,
     "start_time": "2025-02-23T13:09:37.049855",
     "status": "completed"
    },
    "tags": []
   },
   "source": [
    "\n",
    "# Ｈ𝐀𝑷𝑷𝓎 🇰𝗮𝘨𝘨🇱𝖎Ｎɢ 💯"
   ]
  }
 ],
 "metadata": {
  "kaggle": {
   "accelerator": "none",
   "dataSources": [
    {
     "databundleVersionId": 11165145,
     "sourceId": 91497,
     "sourceType": "competition"
    }
   ],
   "dockerImageVersionId": 30918,
   "isGpuEnabled": false,
   "isInternetEnabled": true,
   "language": "python",
   "sourceType": "notebook"
  },
  "kernelspec": {
   "display_name": "Python 3",
   "language": "python",
   "name": "python3"
  },
  "language_info": {
   "codemirror_mode": {
    "name": "ipython",
    "version": 3
   },
   "file_extension": ".py",
   "mimetype": "text/x-python",
   "name": "python",
   "nbconvert_exporter": "python",
   "pygments_lexer": "ipython3",
   "version": "3.10.12"
  },
  "papermill": {
   "default_parameters": {},
   "duration": 39.219252,
   "end_time": "2025-02-23T13:09:37.873780",
   "environment_variables": {},
   "exception": null,
   "input_path": "__notebook__.ipynb",
   "output_path": "__notebook__.ipynb",
   "parameters": {},
   "start_time": "2025-02-23T13:08:58.654528",
   "version": "2.6.0"
  }
 },
 "nbformat": 4,
 "nbformat_minor": 5
}
