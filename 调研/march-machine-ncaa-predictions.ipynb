{
 "cells": [
  {
   "cell_type": "markdown",
   "id": "744a4e0a",
   "metadata": {
    "papermill": {
     "duration": 0.003912,
     "end_time": "2025-02-18T05:45:14.335356",
     "exception": false,
     "start_time": "2025-02-18T05:45:14.331444",
     "status": "completed"
    },
    "tags": []
   },
   "source": [
    "# 🏆 March Machine: NCAA Predictions - End to End Aproach\n",
    "Hello, the purpose of this notebook is to build a simple yet powerful model. My goal is to create straightforward functions that are accessible to beginners while still providing value for advanced users.\n",
    "\n",
    "I created this notebook nearly three years ago and plan to use it as a foundation for significant improvements. It's remarkable how time flies.\n",
    "\n",
    "https://www.kaggle.com/code/cv13j0/ncaa-gradient-boosted-trees-xgboost"
   ]
  },
  {
   "cell_type": "markdown",
   "id": "9797dd5c",
   "metadata": {
    "papermill": {
     "duration": 0.003042,
     "end_time": "2025-02-18T05:45:14.342035",
     "exception": false,
     "start_time": "2025-02-18T05:45:14.338993",
     "status": "completed"
    },
    "tags": []
   },
   "source": [
    "## 1.0 Loading Default Libraries."
   ]
  },
  {
   "cell_type": "code",
   "execution_count": 1,
   "id": "ca9e7fab",
   "metadata": {
    "_cell_guid": "b1076dfc-b9ad-4769-8c92-a6c4dae69d19",
    "_uuid": "8f2839f25d086af736a60e9eeb907d3b93b6e0e5",
    "execution": {
     "iopub.execute_input": "2025-02-18T05:45:14.349737Z",
     "iopub.status.busy": "2025-02-18T05:45:14.349347Z",
     "iopub.status.idle": "2025-02-18T05:45:15.263489Z",
     "shell.execute_reply": "2025-02-18T05:45:15.262311Z"
    },
    "papermill": {
     "duration": 0.920007,
     "end_time": "2025-02-18T05:45:15.265279",
     "exception": false,
     "start_time": "2025-02-18T05:45:14.345272",
     "status": "completed"
    },
    "tags": []
   },
   "outputs": [
    {
     "name": "stdout",
     "output_type": "stream",
     "text": [
      "/kaggle/input/march-machine-learning-mania-2025/Conferences.csv\n",
      "/kaggle/input/march-machine-learning-mania-2025/SeedBenchmarkStage1.csv\n",
      "/kaggle/input/march-machine-learning-mania-2025/WNCAATourneyDetailedResults.csv\n",
      "/kaggle/input/march-machine-learning-mania-2025/WRegularSeasonCompactResults.csv\n",
      "/kaggle/input/march-machine-learning-mania-2025/MNCAATourneySeedRoundSlots.csv\n",
      "/kaggle/input/march-machine-learning-mania-2025/MRegularSeasonDetailedResults.csv\n",
      "/kaggle/input/march-machine-learning-mania-2025/MNCAATourneyCompactResults.csv\n",
      "/kaggle/input/march-machine-learning-mania-2025/MGameCities.csv\n",
      "/kaggle/input/march-machine-learning-mania-2025/WSecondaryTourneyCompactResults.csv\n",
      "/kaggle/input/march-machine-learning-mania-2025/WGameCities.csv\n",
      "/kaggle/input/march-machine-learning-mania-2025/MSeasons.csv\n",
      "/kaggle/input/march-machine-learning-mania-2025/WNCAATourneySlots.csv\n",
      "/kaggle/input/march-machine-learning-mania-2025/MSecondaryTourneyTeams.csv\n",
      "/kaggle/input/march-machine-learning-mania-2025/Cities.csv\n",
      "/kaggle/input/march-machine-learning-mania-2025/MTeamSpellings.csv\n",
      "/kaggle/input/march-machine-learning-mania-2025/MRegularSeasonCompactResults.csv\n",
      "/kaggle/input/march-machine-learning-mania-2025/MMasseyOrdinals.csv\n",
      "/kaggle/input/march-machine-learning-mania-2025/MSecondaryTourneyCompactResults.csv\n",
      "/kaggle/input/march-machine-learning-mania-2025/WTeams.csv\n",
      "/kaggle/input/march-machine-learning-mania-2025/WConferenceTourneyGames.csv\n",
      "/kaggle/input/march-machine-learning-mania-2025/MNCAATourneySlots.csv\n",
      "/kaggle/input/march-machine-learning-mania-2025/MNCAATourneySeeds.csv\n",
      "/kaggle/input/march-machine-learning-mania-2025/WNCAATourneyCompactResults.csv\n",
      "/kaggle/input/march-machine-learning-mania-2025/WSeasons.csv\n",
      "/kaggle/input/march-machine-learning-mania-2025/WNCAATourneySeeds.csv\n",
      "/kaggle/input/march-machine-learning-mania-2025/MTeamCoaches.csv\n",
      "/kaggle/input/march-machine-learning-mania-2025/MConferenceTourneyGames.csv\n",
      "/kaggle/input/march-machine-learning-mania-2025/WRegularSeasonDetailedResults.csv\n",
      "/kaggle/input/march-machine-learning-mania-2025/MNCAATourneyDetailedResults.csv\n",
      "/kaggle/input/march-machine-learning-mania-2025/WTeamSpellings.csv\n",
      "/kaggle/input/march-machine-learning-mania-2025/MTeamConferences.csv\n",
      "/kaggle/input/march-machine-learning-mania-2025/MTeams.csv\n",
      "/kaggle/input/march-machine-learning-mania-2025/WTeamConferences.csv\n",
      "/kaggle/input/march-machine-learning-mania-2025/SampleSubmissionStage1.csv\n",
      "/kaggle/input/march-machine-learning-mania-2025/WSecondaryTourneyTeams.csv\n"
     ]
    }
   ],
   "source": [
    "# This Python 3 environment comes with many helpful analytics libraries installed\n",
    "# It is defined by the kaggle/python Docker image: https://github.com/kaggle/docker-python\n",
    "# For example, here's several helpful packages to load\n",
    "\n",
    "import numpy as np # linear algebra\n",
    "import pandas as pd # data processing, CSV file I/O (e.g. pd.read_csv)\n",
    "\n",
    "# Input data files are available in the read-only \"../input/\" directory\n",
    "# For example, running this (by clicking run or pressing Shift+Enter) will list all files under the input directory\n",
    "\n",
    "import os\n",
    "for dirname, _, filenames in os.walk('/kaggle/input'):\n",
    "    for filename in filenames:\n",
    "        print(os.path.join(dirname, filename))\n",
    "\n",
    "# You can write up to 20GB to the current directory (/kaggle/working/) that gets preserved as output when you create a version using \"Save & Run All\" \n",
    "# You can also write temporary files to /kaggle/temp/, but they won't be saved outside of the current session"
   ]
  },
  {
   "cell_type": "markdown",
   "id": "da795ea9",
   "metadata": {
    "papermill": {
     "duration": 0.003193,
     "end_time": "2025-02-18T05:45:15.272189",
     "exception": false,
     "start_time": "2025-02-18T05:45:15.268996",
     "status": "completed"
    },
    "tags": []
   },
   "source": [
    "---"
   ]
  },
  {
   "cell_type": "markdown",
   "id": "ea63f41a",
   "metadata": {
    "papermill": {
     "duration": 0.00297,
     "end_time": "2025-02-18T05:45:15.278497",
     "exception": false,
     "start_time": "2025-02-18T05:45:15.275527",
     "status": "completed"
    },
    "tags": []
   },
   "source": [
    "## 2.0 Loading the Competition Information."
   ]
  },
  {
   "cell_type": "code",
   "execution_count": 2,
   "id": "81fd4d52",
   "metadata": {
    "execution": {
     "iopub.execute_input": "2025-02-18T05:45:15.286759Z",
     "iopub.status.busy": "2025-02-18T05:45:15.286214Z",
     "iopub.status.idle": "2025-02-18T05:45:15.291561Z",
     "shell.execute_reply": "2025-02-18T05:45:15.290611Z"
    },
    "papermill": {
     "duration": 0.011648,
     "end_time": "2025-02-18T05:45:15.293514",
     "exception": false,
     "start_time": "2025-02-18T05:45:15.281866",
     "status": "completed"
    },
    "tags": []
   },
   "outputs": [],
   "source": [
    "def load_csv_to_dataframe(file_path, ignore_fields=[]):\n",
    "    \"\"\"\n",
    "    Load a CSV file into a pandas DataFrame, optionally ignoring specified fields.\n",
    "\n",
    "    Parameters:\n",
    "    file_path (str): The file path of the CSV file to be loaded.\n",
    "    ignore_fields (list): A list of field names to be ignored when loading the CSV.\n",
    "\n",
    "    Returns:\n",
    "    pandas.DataFrame: A DataFrame containing the data from the CSV file, excluding the ignored fields.\n",
    "    \"\"\"\n",
    "    # Read the CSV file from the given file path using pandas\n",
    "    df = pd.read_csv(file_path)\n",
    "    \n",
    "    # Drop the fields that need to be ignored, if they exist in the DataFrame\n",
    "    df = df.drop(columns=ignore_fields, errors='ignore')\n",
    "    \n",
    "    # Return the resulting DataFrame\n",
    "    return df\n",
    "\n",
    "# Example usage:\n",
    "# df = load_csv_to_dataframe('data/sample.csv', ignore_fields=['column_to_ignore'])\n",
    "# print(df.head())"
   ]
  },
  {
   "cell_type": "code",
   "execution_count": 3,
   "id": "bde2fa07",
   "metadata": {
    "execution": {
     "iopub.execute_input": "2025-02-18T05:45:15.302202Z",
     "iopub.status.busy": "2025-02-18T05:45:15.301848Z",
     "iopub.status.idle": "2025-02-18T05:45:16.116039Z",
     "shell.execute_reply": "2025-02-18T05:45:16.114865Z"
    },
    "papermill": {
     "duration": 0.820524,
     "end_time": "2025-02-18T05:45:16.117846",
     "exception": false,
     "start_time": "2025-02-18T05:45:15.297322",
     "status": "completed"
    },
    "tags": []
   },
   "outputs": [],
   "source": [
    "# Load the competiion dataset\n",
    "MRegularSeasonCompactResults = '/kaggle/input/march-machine-learning-mania-2025/MRegularSeasonCompactResults.csv'\n",
    "WRegularSeasonCompactResults = '/kaggle/input/march-machine-learning-mania-2025/WRegularSeasonCompactResults.csv'\n",
    "SampleSubmissionStage1 = '/kaggle/input/march-machine-learning-mania-2025/SampleSubmissionStage1.csv' \n",
    "\n",
    "#original_input = '/kaggle/input/student-bag-price-prediction-dataset/Noisy_Student_Bag_Price_Prediction_Dataset.csv'\n",
    "\n",
    "MRegularSeasonCompactResults_df = load_csv_to_dataframe(MRegularSeasonCompactResults, ignore_fields=['id'])\n",
    "WRegularSeasonCompactResults_df = load_csv_to_dataframe(WRegularSeasonCompactResults, ignore_fields=['id'])\n",
    "SampleSubmissionStage1_df = load_csv_to_dataframe(SampleSubmissionStage1)"
   ]
  },
  {
   "cell_type": "code",
   "execution_count": 4,
   "id": "9202663e",
   "metadata": {
    "execution": {
     "iopub.execute_input": "2025-02-18T05:45:16.126326Z",
     "iopub.status.busy": "2025-02-18T05:45:16.125806Z",
     "iopub.status.idle": "2025-02-18T05:45:16.164807Z",
     "shell.execute_reply": "2025-02-18T05:45:16.163703Z"
    },
    "papermill": {
     "duration": 0.045222,
     "end_time": "2025-02-18T05:45:16.166674",
     "exception": false,
     "start_time": "2025-02-18T05:45:16.121452",
     "status": "completed"
    },
    "tags": []
   },
   "outputs": [
    {
     "name": "stdout",
     "output_type": "stream",
     "text": [
      "<class 'pandas.core.frame.DataFrame'>\n",
      "RangeIndex: 190771 entries, 0 to 190770\n",
      "Data columns (total 8 columns):\n",
      " #   Column   Non-Null Count   Dtype \n",
      "---  ------   --------------   ----- \n",
      " 0   Season   190771 non-null  int64 \n",
      " 1   DayNum   190771 non-null  int64 \n",
      " 2   WTeamID  190771 non-null  int64 \n",
      " 3   WScore   190771 non-null  int64 \n",
      " 4   LTeamID  190771 non-null  int64 \n",
      " 5   LScore   190771 non-null  int64 \n",
      " 6   WLoc     190771 non-null  object\n",
      " 7   NumOT    190771 non-null  int64 \n",
      "dtypes: int64(7), object(1)\n",
      "memory usage: 11.6+ MB\n"
     ]
    }
   ],
   "source": [
    "MRegularSeasonCompactResults_df.info()"
   ]
  },
  {
   "cell_type": "code",
   "execution_count": 5,
   "id": "52ed55f0",
   "metadata": {
    "execution": {
     "iopub.execute_input": "2025-02-18T05:45:16.175440Z",
     "iopub.status.busy": "2025-02-18T05:45:16.175104Z",
     "iopub.status.idle": "2025-02-18T05:45:16.196881Z",
     "shell.execute_reply": "2025-02-18T05:45:16.195769Z"
    },
    "papermill": {
     "duration": 0.02793,
     "end_time": "2025-02-18T05:45:16.198734",
     "exception": false,
     "start_time": "2025-02-18T05:45:16.170804",
     "status": "completed"
    },
    "tags": []
   },
   "outputs": [
    {
     "data": {
      "text/html": [
       "<div>\n",
       "<style scoped>\n",
       "    .dataframe tbody tr th:only-of-type {\n",
       "        vertical-align: middle;\n",
       "    }\n",
       "\n",
       "    .dataframe tbody tr th {\n",
       "        vertical-align: top;\n",
       "    }\n",
       "\n",
       "    .dataframe thead th {\n",
       "        text-align: right;\n",
       "    }\n",
       "</style>\n",
       "<table border=\"1\" class=\"dataframe\">\n",
       "  <thead>\n",
       "    <tr style=\"text-align: right;\">\n",
       "      <th></th>\n",
       "      <th>Season</th>\n",
       "      <th>DayNum</th>\n",
       "      <th>WTeamID</th>\n",
       "      <th>WScore</th>\n",
       "      <th>LTeamID</th>\n",
       "      <th>LScore</th>\n",
       "      <th>WLoc</th>\n",
       "      <th>NumOT</th>\n",
       "    </tr>\n",
       "  </thead>\n",
       "  <tbody>\n",
       "    <tr>\n",
       "      <th>190766</th>\n",
       "      <td>2025</td>\n",
       "      <td>85</td>\n",
       "      <td>1401</td>\n",
       "      <td>75</td>\n",
       "      <td>1328</td>\n",
       "      <td>68</td>\n",
       "      <td>H</td>\n",
       "      <td>0</td>\n",
       "    </tr>\n",
       "    <tr>\n",
       "      <th>190767</th>\n",
       "      <td>2025</td>\n",
       "      <td>85</td>\n",
       "      <td>1405</td>\n",
       "      <td>86</td>\n",
       "      <td>1325</td>\n",
       "      <td>83</td>\n",
       "      <td>A</td>\n",
       "      <td>0</td>\n",
       "    </tr>\n",
       "    <tr>\n",
       "      <th>190768</th>\n",
       "      <td>2025</td>\n",
       "      <td>85</td>\n",
       "      <td>1428</td>\n",
       "      <td>69</td>\n",
       "      <td>1153</td>\n",
       "      <td>66</td>\n",
       "      <td>H</td>\n",
       "      <td>0</td>\n",
       "    </tr>\n",
       "    <tr>\n",
       "      <th>190769</th>\n",
       "      <td>2025</td>\n",
       "      <td>85</td>\n",
       "      <td>1444</td>\n",
       "      <td>74</td>\n",
       "      <td>1123</td>\n",
       "      <td>71</td>\n",
       "      <td>A</td>\n",
       "      <td>0</td>\n",
       "    </tr>\n",
       "    <tr>\n",
       "      <th>190770</th>\n",
       "      <td>2025</td>\n",
       "      <td>85</td>\n",
       "      <td>1461</td>\n",
       "      <td>83</td>\n",
       "      <td>1201</td>\n",
       "      <td>72</td>\n",
       "      <td>H</td>\n",
       "      <td>1</td>\n",
       "    </tr>\n",
       "  </tbody>\n",
       "</table>\n",
       "</div>"
      ],
      "text/plain": [
       "        Season  DayNum  WTeamID  WScore  LTeamID  LScore WLoc  NumOT\n",
       "190766    2025      85     1401      75     1328      68    H      0\n",
       "190767    2025      85     1405      86     1325      83    A      0\n",
       "190768    2025      85     1428      69     1153      66    H      0\n",
       "190769    2025      85     1444      74     1123      71    A      0\n",
       "190770    2025      85     1461      83     1201      72    H      1"
      ]
     },
     "execution_count": 5,
     "metadata": {},
     "output_type": "execute_result"
    }
   ],
   "source": [
    "MRegularSeasonCompactResults_df.tail()"
   ]
  },
  {
   "cell_type": "code",
   "execution_count": 6,
   "id": "b2b3241d",
   "metadata": {
    "execution": {
     "iopub.execute_input": "2025-02-18T05:45:16.207579Z",
     "iopub.status.busy": "2025-02-18T05:45:16.207246Z",
     "iopub.status.idle": "2025-02-18T05:45:16.226423Z",
     "shell.execute_reply": "2025-02-18T05:45:16.225057Z"
    },
    "papermill": {
     "duration": 0.025847,
     "end_time": "2025-02-18T05:45:16.228522",
     "exception": false,
     "start_time": "2025-02-18T05:45:16.202675",
     "status": "completed"
    },
    "tags": []
   },
   "outputs": [
    {
     "name": "stdout",
     "output_type": "stream",
     "text": [
      "<class 'pandas.core.frame.DataFrame'>\n",
      "RangeIndex: 134961 entries, 0 to 134960\n",
      "Data columns (total 8 columns):\n",
      " #   Column   Non-Null Count   Dtype \n",
      "---  ------   --------------   ----- \n",
      " 0   Season   134961 non-null  int64 \n",
      " 1   DayNum   134961 non-null  int64 \n",
      " 2   WTeamID  134961 non-null  int64 \n",
      " 3   WScore   134961 non-null  int64 \n",
      " 4   LTeamID  134961 non-null  int64 \n",
      " 5   LScore   134961 non-null  int64 \n",
      " 6   WLoc     134961 non-null  object\n",
      " 7   NumOT    134961 non-null  int64 \n",
      "dtypes: int64(7), object(1)\n",
      "memory usage: 8.2+ MB\n"
     ]
    }
   ],
   "source": [
    "WRegularSeasonCompactResults_df.info()"
   ]
  },
  {
   "cell_type": "code",
   "execution_count": 7,
   "id": "b5ec3b1e",
   "metadata": {
    "execution": {
     "iopub.execute_input": "2025-02-18T05:45:16.237862Z",
     "iopub.status.busy": "2025-02-18T05:45:16.237488Z",
     "iopub.status.idle": "2025-02-18T05:45:16.247749Z",
     "shell.execute_reply": "2025-02-18T05:45:16.246758Z"
    },
    "papermill": {
     "duration": 0.016913,
     "end_time": "2025-02-18T05:45:16.249481",
     "exception": false,
     "start_time": "2025-02-18T05:45:16.232568",
     "status": "completed"
    },
    "tags": []
   },
   "outputs": [
    {
     "data": {
      "text/html": [
       "<div>\n",
       "<style scoped>\n",
       "    .dataframe tbody tr th:only-of-type {\n",
       "        vertical-align: middle;\n",
       "    }\n",
       "\n",
       "    .dataframe tbody tr th {\n",
       "        vertical-align: top;\n",
       "    }\n",
       "\n",
       "    .dataframe thead th {\n",
       "        text-align: right;\n",
       "    }\n",
       "</style>\n",
       "<table border=\"1\" class=\"dataframe\">\n",
       "  <thead>\n",
       "    <tr style=\"text-align: right;\">\n",
       "      <th></th>\n",
       "      <th>Season</th>\n",
       "      <th>DayNum</th>\n",
       "      <th>WTeamID</th>\n",
       "      <th>WScore</th>\n",
       "      <th>LTeamID</th>\n",
       "      <th>LScore</th>\n",
       "      <th>WLoc</th>\n",
       "      <th>NumOT</th>\n",
       "    </tr>\n",
       "  </thead>\n",
       "  <tbody>\n",
       "    <tr>\n",
       "      <th>0</th>\n",
       "      <td>1998</td>\n",
       "      <td>18</td>\n",
       "      <td>3104</td>\n",
       "      <td>91</td>\n",
       "      <td>3202</td>\n",
       "      <td>41</td>\n",
       "      <td>H</td>\n",
       "      <td>0</td>\n",
       "    </tr>\n",
       "    <tr>\n",
       "      <th>1</th>\n",
       "      <td>1998</td>\n",
       "      <td>18</td>\n",
       "      <td>3163</td>\n",
       "      <td>87</td>\n",
       "      <td>3221</td>\n",
       "      <td>76</td>\n",
       "      <td>H</td>\n",
       "      <td>0</td>\n",
       "    </tr>\n",
       "    <tr>\n",
       "      <th>2</th>\n",
       "      <td>1998</td>\n",
       "      <td>18</td>\n",
       "      <td>3222</td>\n",
       "      <td>66</td>\n",
       "      <td>3261</td>\n",
       "      <td>59</td>\n",
       "      <td>H</td>\n",
       "      <td>0</td>\n",
       "    </tr>\n",
       "    <tr>\n",
       "      <th>3</th>\n",
       "      <td>1998</td>\n",
       "      <td>18</td>\n",
       "      <td>3307</td>\n",
       "      <td>69</td>\n",
       "      <td>3365</td>\n",
       "      <td>62</td>\n",
       "      <td>H</td>\n",
       "      <td>0</td>\n",
       "    </tr>\n",
       "    <tr>\n",
       "      <th>4</th>\n",
       "      <td>1998</td>\n",
       "      <td>18</td>\n",
       "      <td>3349</td>\n",
       "      <td>115</td>\n",
       "      <td>3411</td>\n",
       "      <td>35</td>\n",
       "      <td>H</td>\n",
       "      <td>0</td>\n",
       "    </tr>\n",
       "  </tbody>\n",
       "</table>\n",
       "</div>"
      ],
      "text/plain": [
       "   Season  DayNum  WTeamID  WScore  LTeamID  LScore WLoc  NumOT\n",
       "0    1998      18     3104      91     3202      41    H      0\n",
       "1    1998      18     3163      87     3221      76    H      0\n",
       "2    1998      18     3222      66     3261      59    H      0\n",
       "3    1998      18     3307      69     3365      62    H      0\n",
       "4    1998      18     3349     115     3411      35    H      0"
      ]
     },
     "execution_count": 7,
     "metadata": {},
     "output_type": "execute_result"
    }
   ],
   "source": [
    "WRegularSeasonCompactResults_df.head()"
   ]
  },
  {
   "cell_type": "code",
   "execution_count": 8,
   "id": "3da4d970",
   "metadata": {
    "execution": {
     "iopub.execute_input": "2025-02-18T05:45:16.258833Z",
     "iopub.status.busy": "2025-02-18T05:45:16.258456Z",
     "iopub.status.idle": "2025-02-18T05:45:16.295240Z",
     "shell.execute_reply": "2025-02-18T05:45:16.294093Z"
    },
    "papermill": {
     "duration": 0.043536,
     "end_time": "2025-02-18T05:45:16.297228",
     "exception": false,
     "start_time": "2025-02-18T05:45:16.253692",
     "status": "completed"
    },
    "tags": []
   },
   "outputs": [
    {
     "name": "stdout",
     "output_type": "stream",
     "text": [
      "<class 'pandas.core.frame.DataFrame'>\n",
      "RangeIndex: 507108 entries, 0 to 507107\n",
      "Data columns (total 2 columns):\n",
      " #   Column  Non-Null Count   Dtype  \n",
      "---  ------  --------------   -----  \n",
      " 0   ID      507108 non-null  object \n",
      " 1   Pred    507108 non-null  float64\n",
      "dtypes: float64(1), object(1)\n",
      "memory usage: 7.7+ MB\n"
     ]
    }
   ],
   "source": [
    "SampleSubmissionStage1_df.info()"
   ]
  },
  {
   "cell_type": "code",
   "execution_count": 9,
   "id": "0690e8cf",
   "metadata": {
    "execution": {
     "iopub.execute_input": "2025-02-18T05:45:16.306827Z",
     "iopub.status.busy": "2025-02-18T05:45:16.306449Z",
     "iopub.status.idle": "2025-02-18T05:45:16.315743Z",
     "shell.execute_reply": "2025-02-18T05:45:16.314726Z"
    },
    "papermill": {
     "duration": 0.015791,
     "end_time": "2025-02-18T05:45:16.317283",
     "exception": false,
     "start_time": "2025-02-18T05:45:16.301492",
     "status": "completed"
    },
    "tags": []
   },
   "outputs": [
    {
     "data": {
      "text/html": [
       "<div>\n",
       "<style scoped>\n",
       "    .dataframe tbody tr th:only-of-type {\n",
       "        vertical-align: middle;\n",
       "    }\n",
       "\n",
       "    .dataframe tbody tr th {\n",
       "        vertical-align: top;\n",
       "    }\n",
       "\n",
       "    .dataframe thead th {\n",
       "        text-align: right;\n",
       "    }\n",
       "</style>\n",
       "<table border=\"1\" class=\"dataframe\">\n",
       "  <thead>\n",
       "    <tr style=\"text-align: right;\">\n",
       "      <th></th>\n",
       "      <th>ID</th>\n",
       "      <th>Pred</th>\n",
       "    </tr>\n",
       "  </thead>\n",
       "  <tbody>\n",
       "    <tr>\n",
       "      <th>0</th>\n",
       "      <td>2021_1101_1102</td>\n",
       "      <td>0.5</td>\n",
       "    </tr>\n",
       "    <tr>\n",
       "      <th>1</th>\n",
       "      <td>2021_1101_1103</td>\n",
       "      <td>0.5</td>\n",
       "    </tr>\n",
       "    <tr>\n",
       "      <th>2</th>\n",
       "      <td>2021_1101_1104</td>\n",
       "      <td>0.5</td>\n",
       "    </tr>\n",
       "    <tr>\n",
       "      <th>3</th>\n",
       "      <td>2021_1101_1105</td>\n",
       "      <td>0.5</td>\n",
       "    </tr>\n",
       "    <tr>\n",
       "      <th>4</th>\n",
       "      <td>2021_1101_1106</td>\n",
       "      <td>0.5</td>\n",
       "    </tr>\n",
       "  </tbody>\n",
       "</table>\n",
       "</div>"
      ],
      "text/plain": [
       "               ID  Pred\n",
       "0  2021_1101_1102   0.5\n",
       "1  2021_1101_1103   0.5\n",
       "2  2021_1101_1104   0.5\n",
       "3  2021_1101_1105   0.5\n",
       "4  2021_1101_1106   0.5"
      ]
     },
     "execution_count": 9,
     "metadata": {},
     "output_type": "execute_result"
    }
   ],
   "source": [
    "SampleSubmissionStage1_df.head()"
   ]
  },
  {
   "cell_type": "code",
   "execution_count": null,
   "id": "04f322c0",
   "metadata": {
    "papermill": {
     "duration": 0.003873,
     "end_time": "2025-02-18T05:45:16.325551",
     "exception": false,
     "start_time": "2025-02-18T05:45:16.321678",
     "status": "completed"
    },
    "tags": []
   },
   "outputs": [],
   "source": []
  }
 ],
 "metadata": {
  "kaggle": {
   "accelerator": "none",
   "dataSources": [
    {
     "databundleVersionId": 11018643,
     "sourceId": 91497,
     "sourceType": "competition"
    }
   ],
   "dockerImageVersionId": 30886,
   "isGpuEnabled": false,
   "isInternetEnabled": true,
   "language": "python",
   "sourceType": "notebook"
  },
  "kernelspec": {
   "display_name": "Python 3",
   "language": "python",
   "name": "python3"
  },
  "language_info": {
   "codemirror_mode": {
    "name": "ipython",
    "version": 3
   },
   "file_extension": ".py",
   "mimetype": "text/x-python",
   "name": "python",
   "nbconvert_exporter": "python",
   "pygments_lexer": "ipython3",
   "version": "3.10.12"
  },
  "papermill": {
   "default_parameters": {},
   "duration": 5.376887,
   "end_time": "2025-02-18T05:45:16.949965",
   "environment_variables": {},
   "exception": null,
   "input_path": "__notebook__.ipynb",
   "output_path": "__notebook__.ipynb",
   "parameters": {},
   "start_time": "2025-02-18T05:45:11.573078",
   "version": "2.6.0"
  }
 },
 "nbformat": 4,
 "nbformat_minor": 5
}
