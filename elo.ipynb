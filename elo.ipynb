{
 "cells": [
  {
   "cell_type": "code",
   "execution_count": 18,
   "id": "0790d951",
   "metadata": {
    "_cell_guid": "b1076dfc-b9ad-4769-8c92-a6c4dae69d19",
    "_uuid": "8f2839f25d086af736a60e9eeb907d3b93b6e0e5",
    "execution": {
     "iopub.execute_input": "2025-02-21T09:45:19.400490Z",
     "iopub.status.busy": "2025-02-21T09:45:19.400050Z",
     "iopub.status.idle": "2025-02-21T09:45:21.564137Z",
     "shell.execute_reply": "2025-02-21T09:45:21.562918Z"
    },
    "papermill": {
     "duration": 2.171435,
     "end_time": "2025-02-21T09:45:21.566665",
     "exception": false,
     "start_time": "2025-02-21T09:45:19.395230",
     "status": "completed"
    },
    "tags": []
   },
   "outputs": [],
   "source": [
    "# Imports\n",
    "import numpy as np\n",
    "import pandas as pd \n",
    "from scipy.stats import linregress\n",
    "from tqdm import tqdm\n",
    "import matplotlib.pyplot as plt\n",
    "from sklearn.metrics import brier_score_loss"
   ]
  },
  {
   "cell_type": "markdown",
   "id": "1e6ceda8",
   "metadata": {
    "papermill": {
     "duration": 0.002855,
     "end_time": "2025-02-21T09:45:21.573587",
     "exception": false,
     "start_time": "2025-02-21T09:45:21.570732",
     "status": "completed"
    },
    "tags": []
   },
   "source": [
    "# Summary\n",
    "\n",
    "This notebook contains functions for computing Elo ratings during regular seasons and tournaments, summarizing team performance in both men's and women's events. It produces two ready to use CSV files containing the following key team information:\n",
    "\n",
    "- **Rating_Mean:** The average team rating in a regular season.\n",
    "- **Rating_Median:** The median team rating in a regular season.\n",
    "- **Rating_Last:** The last rating in a regular season/ the final rating before the tournament.\n",
    "- **Rating_Std:** Standard Deviation of team ratings.\n",
    "- **Rating_Max:** The maximum team rating in a season.\n",
    "- **Rating_Min:** The minimum team rating in a season.\n",
    "- **Rating_Trend:** The slope of the team's rating over the season."
   ]
  },
  {
   "cell_type": "markdown",
   "id": "846988c4",
   "metadata": {
    "papermill": {
     "duration": 0.003069,
     "end_time": "2025-02-21T09:45:21.580083",
     "exception": false,
     "start_time": "2025-02-21T09:45:21.577014",
     "status": "completed"
    },
    "tags": []
   },
   "source": [
    "# Functions"
   ]
  },
  {
   "cell_type": "code",
   "execution_count": null,
   "id": "28d571f3",
   "metadata": {
    "execution": {
     "iopub.execute_input": "2025-02-21T09:45:21.587841Z",
     "iopub.status.busy": "2025-02-21T09:45:21.587306Z",
     "iopub.status.idle": "2025-02-21T09:45:21.605536Z",
     "shell.execute_reply": "2025-02-21T09:45:21.604416Z"
    },
    "papermill": {
     "duration": 0.024941,
     "end_time": "2025-02-21T09:45:21.607895",
     "exception": false,
     "start_time": "2025-02-21T09:45:21.582954",
     "status": "completed"
    },
    "tags": []
   },
   "outputs": [],
   "source": [
    "def calculate_elo(teams, data, initial_rating=2000, k=140, alpha=None, weights=False, nan_score=1):\n",
    "    '''\n",
    "    Calculate Elo ratings for each team based on match data.\n",
    "\n",
    "    Parameters:\n",
    "    - teams (array-like): Containing Team-IDs.\n",
    "    - data (pd.DataFrame): DataFrame with all matches in chronological order.\n",
    "    - initial_rating (float): Initial rating of an unranked team (default: 2000).\n",
    "    - k (float): K-factor, determining the impact of each match on team ratings (default: 140).\n",
    "    - alpha (float or None): Tuning parameter for the multiplier for the margin of victory. No multiplier if None.\n",
    "\n",
    "    Returns: \n",
    "    - list: Historical ratings of the winning team (WTeam).\n",
    "    - list: Historical ratings of the losing team (LTeam).\n",
    "    '''\n",
    "    \n",
    "    # Dictionary to keep track of current ratings for each team\n",
    "    team_dict = {}\n",
    "    for team in teams:\n",
    "        team_dict[team] = initial_rating\n",
    "        \n",
    "    # Lists to store ratings for each team in each game\n",
    "    r1, r2 = [], []\n",
    "    loss = []\n",
    "    margin_of_victory = 1\n",
    "    weight = 1\n",
    "\n",
    "    # Iterate through the game data\n",
    "    for wteam, lteam, ws, ls, w  in tqdm(zip(data.WTeamID, data.LTeamID, data.WScore, data.LScore, data.weight), total=len(data)):\n",
    "\n",
    "        # Calculate expected outcomes based on Elo ratings\n",
    "        rateW = 1 / (1 + 10 ** ((team_dict[lteam] - team_dict[wteam]) / initial_rating))\n",
    "        rateL = 1 / (1 + 10 ** ((team_dict[wteam] - team_dict[lteam]) / initial_rating))\n",
    "        \n",
    "        if alpha:\n",
    "                margin_of_victory = (ws - ls)/alpha\n",
    "        if isinstance(weights, (list, np.ndarray, pd.Series)):\n",
    "            weight = w\n",
    "\n",
    "        # Update ratings for winning and losing teams\n",
    "        team_dict[wteam] += w * k * margin_of_victory * (1 - rateW)\n",
    "        team_dict[lteam] += w * k * margin_of_victory * (0 - rateL)\n",
    "\n",
    "        # Ensure that ratings do not go below 1\n",
    "        if team_dict[lteam] < 1:\n",
    "            team_dict[lteam] = 1\n",
    "            \n",
    "        # Append current ratings for teams to lists\n",
    "        r1.append(team_dict[wteam])\n",
    "        r2.append(team_dict[lteam])\n",
    "        loss.append((1-rateW)**2)\n",
    "        \n",
    "    return r1, r2, loss\n",
    "\n",
    "def create_elo_data(teams, data, initial_rating=2000, k=140, alpha=None, weights=None, nan_score=1):\n",
    "    '''\n",
    "    Create a DataFrame with summary statistics of Elo ratings for teams based on historical match data.\n",
    "\n",
    "    Parameters:\n",
    "    - teams (array-like): Containing Team-IDs.\n",
    "    - data (pd.DataFrame): DataFrame with all matches in chronological order.\n",
    "    - initial_rating (float): Initial rating of an unranked team (default: 2000).\n",
    "    - k (float): K-factor, determining the impact of each match on team ratings (default: 140).\n",
    "    - weights (array-like): Containing weights for each match.\n",
    "\n",
    "    Returns: \n",
    "    - DataFrame: Summary statistics of Elo ratings for teams throughout a season.\n",
    "    '''\n",
    "    \n",
    "    if isinstance(weights, (list, np.ndarray, pd.Series)):\n",
    "        data['weight'] = weights\n",
    "    else:\n",
    "        data['weight'] = 1\n",
    "    \n",
    "    r1, r2, loss = calculate_elo(teams, data, initial_rating, k, alpha, weights, nan_score)\n",
    "    # Calculate loss only on tourney results\n",
    "    loss = np.mean(np.array(loss)[data.tourney == 1])\n",
    "    print(f\"Loss: {loss}\")\n",
    "    \n",
    "    # Concatenate arrays vertically\n",
    "    seasons = np.concatenate([data.Season, data.Season])\n",
    "    days = np.concatenate([data.DayNum, data.DayNum])\n",
    "    teams = np.concatenate([data.WTeamID, data.LTeamID])\n",
    "    tourney = np.concatenate([data.tourney, data.tourney])\n",
    "    ratings = np.concatenate([r1, r2])\n",
    "    # Create a DataFrame\n",
    "    rating_df = pd.DataFrame({\n",
    "        'Season': seasons,\n",
    "        'DayNum': days,\n",
    "        'TeamID': teams,\n",
    "        'Rating': ratings,\n",
    "        'Tourney': tourney\n",
    "    })\n",
    "\n",
    "    # Sort DataFrame and remove tournament data\n",
    "    rating_df.sort_values(['TeamID', 'Season', 'DayNum'], inplace=True)\n",
    "    rating_df = rating_df[rating_df['Tourney'] == 0]\n",
    "    grouped = rating_df.groupby(['TeamID', 'Season'])\n",
    "    results = grouped['Rating'].agg(['mean', 'median', 'std', 'min', 'max', 'last'])\n",
    "    results.columns = ['Rating_Mean', 'Rating_Median', 'Rating_Std', 'Rating_Min', 'Rating_Max', 'Rating_Last']\n",
    "    results['Rating_Trend'] = grouped.apply(lambda x: linregress(range(len(x)), x['Rating']).slope, include_groups=False)\n",
    "    results.reset_index(inplace=True)\n",
    "    \n",
    "    return results"
   ]
  },
  {
   "cell_type": "markdown",
   "id": "19d4843d",
   "metadata": {
    "papermill": {
     "duration": 0.003134,
     "end_time": "2025-02-21T09:45:21.614233",
     "exception": false,
     "start_time": "2025-02-21T09:45:21.611099",
     "status": "completed"
    },
    "tags": []
   },
   "source": [
    "# Apply Functions and Save Results to CSV"
   ]
  },
  {
   "cell_type": "code",
   "execution_count": 25,
   "id": "f7821947",
   "metadata": {
    "execution": {
     "iopub.execute_input": "2025-02-21T09:45:21.622651Z",
     "iopub.status.busy": "2025-02-21T09:45:21.621798Z",
     "iopub.status.idle": "2025-02-21T09:45:26.323833Z",
     "shell.execute_reply": "2025-02-21T09:45:26.322645Z"
    },
    "papermill": {
     "duration": 4.708761,
     "end_time": "2025-02-21T09:45:26.326070",
     "exception": false,
     "start_time": "2025-02-21T09:45:21.617309",
     "status": "completed"
    },
    "tags": []
   },
   "outputs": [
    {
     "name": "stderr",
     "output_type": "stream",
     "text": [
      "100%|██████████| 194314/194314 [00:00<00:00, 609219.93it/s]\n"
     ]
    },
    {
     "ename": "ValueError",
     "evalue": "Found input variables with inconsistent numbers of samples: [388628, 388628, 194314]",
     "output_type": "error",
     "traceback": [
      "\u001b[0;31m---------------------------------------------------------------------------\u001b[0m",
      "\u001b[0;31mValueError\u001b[0m                                Traceback (most recent call last)",
      "Cell \u001b[0;32mIn[25], line 15\u001b[0m\n\u001b[1;32m     12\u001b[0m data_m\u001b[38;5;241m.\u001b[39msort_values([\u001b[38;5;124m'\u001b[39m\u001b[38;5;124mSeason\u001b[39m\u001b[38;5;124m'\u001b[39m, \u001b[38;5;124m'\u001b[39m\u001b[38;5;124mDayNum\u001b[39m\u001b[38;5;124m'\u001b[39m], inplace\u001b[38;5;241m=\u001b[39m\u001b[38;5;28;01mTrue\u001b[39;00m)\n\u001b[1;32m     13\u001b[0m data_m\u001b[38;5;241m.\u001b[39mreset_index(inplace\u001b[38;5;241m=\u001b[39m\u001b[38;5;28;01mTrue\u001b[39;00m, drop\u001b[38;5;241m=\u001b[39m\u001b[38;5;28;01mTrue\u001b[39;00m)\n\u001b[0;32m---> 15\u001b[0m elo_df_men \u001b[38;5;241m=\u001b[39m \u001b[43mcreate_elo_data\u001b[49m\u001b[43m(\u001b[49m\u001b[43mteams_m\u001b[49m\u001b[38;5;241;43m.\u001b[39;49m\u001b[43mTeamID\u001b[49m\u001b[43m,\u001b[49m\u001b[43m \u001b[49m\u001b[43mdata_m\u001b[49m\u001b[43m,\u001b[49m\u001b[43m \u001b[49m\u001b[43minitial_rating\u001b[49m\u001b[38;5;241;43m=\u001b[39;49m\u001b[38;5;241;43m1200\u001b[39;49m\u001b[43m,\u001b[49m\u001b[43m \u001b[49m\u001b[43mk\u001b[49m\u001b[38;5;241;43m=\u001b[39;49m\u001b[38;5;241;43m125\u001b[39;49m\u001b[43m,\u001b[49m\u001b[43m \u001b[49m\u001b[43malpha\u001b[49m\u001b[38;5;241;43m=\u001b[39;49m\u001b[38;5;28;43;01mNone\u001b[39;49;00m\u001b[43m,\u001b[49m\u001b[43m \u001b[49m\u001b[43mweights\u001b[49m\u001b[38;5;241;43m=\u001b[39;49m\u001b[43mdata_m\u001b[49m\u001b[43m[\u001b[49m\u001b[38;5;124;43m'\u001b[39;49m\u001b[38;5;124;43mweight\u001b[39;49m\u001b[38;5;124;43m'\u001b[39;49m\u001b[43m]\u001b[49m\u001b[43m)\u001b[49m\n\u001b[1;32m     16\u001b[0m elo_df_men\u001b[38;5;241m.\u001b[39mhead(\u001b[38;5;241m10\u001b[39m)\n",
      "Cell \u001b[0;32mIn[23], line 52\u001b[0m, in \u001b[0;36mcreate_elo_data\u001b[0;34m(teams, data, initial_rating, k, alpha, weights, nan_score)\u001b[0m\n\u001b[1;32m     49\u001b[0m r1, r2, actual_results, predicted_probabilities \u001b[38;5;241m=\u001b[39m calculate_elo(teams, data, initial_rating, k, alpha, weights, nan_score)\n\u001b[1;32m     51\u001b[0m \u001b[38;5;66;03m# 计算 Brier 分数\u001b[39;00m\n\u001b[0;32m---> 52\u001b[0m brier_score \u001b[38;5;241m=\u001b[39m \u001b[43mbrier_score_loss\u001b[49m\u001b[43m(\u001b[49m\u001b[43mactual_results\u001b[49m\u001b[43m,\u001b[49m\u001b[43m \u001b[49m\u001b[43mpredicted_probabilities\u001b[49m\u001b[43m,\u001b[49m\u001b[43m \u001b[49m\u001b[43msample_weight\u001b[49m\u001b[38;5;241;43m=\u001b[39;49m\u001b[43mdata\u001b[49m\u001b[43m[\u001b[49m\u001b[38;5;124;43m'\u001b[39;49m\u001b[38;5;124;43mweight\u001b[39;49m\u001b[38;5;124;43m'\u001b[39;49m\u001b[43m]\u001b[49m\u001b[43m)\u001b[49m\n\u001b[1;32m     53\u001b[0m \u001b[38;5;28mprint\u001b[39m(\u001b[38;5;124mf\u001b[39m\u001b[38;5;124m\"\u001b[39m\u001b[38;5;124mBrier Score: \u001b[39m\u001b[38;5;132;01m{\u001b[39;00mbrier_score\u001b[38;5;132;01m}\u001b[39;00m\u001b[38;5;124m\"\u001b[39m)\n\u001b[1;32m     55\u001b[0m \u001b[38;5;66;03m# Concatenate arrays vertically\u001b[39;00m\n",
      "File \u001b[0;32m~/miniconda3/envs/mmm25/lib/python3.10/site-packages/sklearn/utils/_param_validation.py:216\u001b[0m, in \u001b[0;36mvalidate_params.<locals>.decorator.<locals>.wrapper\u001b[0;34m(*args, **kwargs)\u001b[0m\n\u001b[1;32m    210\u001b[0m \u001b[38;5;28;01mtry\u001b[39;00m:\n\u001b[1;32m    211\u001b[0m     \u001b[38;5;28;01mwith\u001b[39;00m config_context(\n\u001b[1;32m    212\u001b[0m         skip_parameter_validation\u001b[38;5;241m=\u001b[39m(\n\u001b[1;32m    213\u001b[0m             prefer_skip_nested_validation \u001b[38;5;129;01mor\u001b[39;00m global_skip_validation\n\u001b[1;32m    214\u001b[0m         )\n\u001b[1;32m    215\u001b[0m     ):\n\u001b[0;32m--> 216\u001b[0m         \u001b[38;5;28;01mreturn\u001b[39;00m \u001b[43mfunc\u001b[49m\u001b[43m(\u001b[49m\u001b[38;5;241;43m*\u001b[39;49m\u001b[43margs\u001b[49m\u001b[43m,\u001b[49m\u001b[43m \u001b[49m\u001b[38;5;241;43m*\u001b[39;49m\u001b[38;5;241;43m*\u001b[39;49m\u001b[43mkwargs\u001b[49m\u001b[43m)\u001b[49m\n\u001b[1;32m    217\u001b[0m \u001b[38;5;28;01mexcept\u001b[39;00m InvalidParameterError \u001b[38;5;28;01mas\u001b[39;00m e:\n\u001b[1;32m    218\u001b[0m     \u001b[38;5;66;03m# When the function is just a wrapper around an estimator, we allow\u001b[39;00m\n\u001b[1;32m    219\u001b[0m     \u001b[38;5;66;03m# the function to delegate validation to the estimator, but we replace\u001b[39;00m\n\u001b[1;32m    220\u001b[0m     \u001b[38;5;66;03m# the name of the estimator by the name of the function in the error\u001b[39;00m\n\u001b[1;32m    221\u001b[0m     \u001b[38;5;66;03m# message to avoid confusion.\u001b[39;00m\n\u001b[1;32m    222\u001b[0m     msg \u001b[38;5;241m=\u001b[39m re\u001b[38;5;241m.\u001b[39msub(\n\u001b[1;32m    223\u001b[0m         \u001b[38;5;124mr\u001b[39m\u001b[38;5;124m\"\u001b[39m\u001b[38;5;124mparameter of \u001b[39m\u001b[38;5;124m\\\u001b[39m\u001b[38;5;124mw+ must be\u001b[39m\u001b[38;5;124m\"\u001b[39m,\n\u001b[1;32m    224\u001b[0m         \u001b[38;5;124mf\u001b[39m\u001b[38;5;124m\"\u001b[39m\u001b[38;5;124mparameter of \u001b[39m\u001b[38;5;132;01m{\u001b[39;00mfunc\u001b[38;5;241m.\u001b[39m\u001b[38;5;18m__qualname__\u001b[39m\u001b[38;5;132;01m}\u001b[39;00m\u001b[38;5;124m must be\u001b[39m\u001b[38;5;124m\"\u001b[39m,\n\u001b[1;32m    225\u001b[0m         \u001b[38;5;28mstr\u001b[39m(e),\n\u001b[1;32m    226\u001b[0m     )\n",
      "File \u001b[0;32m~/miniconda3/envs/mmm25/lib/python3.10/site-packages/sklearn/metrics/_classification.py:3297\u001b[0m, in \u001b[0;36mbrier_score_loss\u001b[0;34m(y_true, y_proba, sample_weight, pos_label, y_prob)\u001b[0m\n\u001b[1;32m   3295\u001b[0m assert_all_finite(y_true)\n\u001b[1;32m   3296\u001b[0m assert_all_finite(y_proba)\n\u001b[0;32m-> 3297\u001b[0m \u001b[43mcheck_consistent_length\u001b[49m\u001b[43m(\u001b[49m\u001b[43my_true\u001b[49m\u001b[43m,\u001b[49m\u001b[43m \u001b[49m\u001b[43my_proba\u001b[49m\u001b[43m,\u001b[49m\u001b[43m \u001b[49m\u001b[43msample_weight\u001b[49m\u001b[43m)\u001b[49m\n\u001b[1;32m   3299\u001b[0m y_type \u001b[38;5;241m=\u001b[39m type_of_target(y_true, input_name\u001b[38;5;241m=\u001b[39m\u001b[38;5;124m\"\u001b[39m\u001b[38;5;124my_true\u001b[39m\u001b[38;5;124m\"\u001b[39m)\n\u001b[1;32m   3300\u001b[0m \u001b[38;5;28;01mif\u001b[39;00m y_type \u001b[38;5;241m!=\u001b[39m \u001b[38;5;124m\"\u001b[39m\u001b[38;5;124mbinary\u001b[39m\u001b[38;5;124m\"\u001b[39m:\n",
      "File \u001b[0;32m~/miniconda3/envs/mmm25/lib/python3.10/site-packages/sklearn/utils/validation.py:475\u001b[0m, in \u001b[0;36mcheck_consistent_length\u001b[0;34m(*arrays)\u001b[0m\n\u001b[1;32m    473\u001b[0m uniques \u001b[38;5;241m=\u001b[39m np\u001b[38;5;241m.\u001b[39munique(lengths)\n\u001b[1;32m    474\u001b[0m \u001b[38;5;28;01mif\u001b[39;00m \u001b[38;5;28mlen\u001b[39m(uniques) \u001b[38;5;241m>\u001b[39m \u001b[38;5;241m1\u001b[39m:\n\u001b[0;32m--> 475\u001b[0m     \u001b[38;5;28;01mraise\u001b[39;00m \u001b[38;5;167;01mValueError\u001b[39;00m(\n\u001b[1;32m    476\u001b[0m         \u001b[38;5;124m\"\u001b[39m\u001b[38;5;124mFound input variables with inconsistent numbers of samples: \u001b[39m\u001b[38;5;132;01m%r\u001b[39;00m\u001b[38;5;124m\"\u001b[39m\n\u001b[1;32m    477\u001b[0m         \u001b[38;5;241m%\u001b[39m [\u001b[38;5;28mint\u001b[39m(l) \u001b[38;5;28;01mfor\u001b[39;00m l \u001b[38;5;129;01min\u001b[39;00m lengths]\n\u001b[1;32m    478\u001b[0m     )\n",
      "\u001b[0;31mValueError\u001b[0m: Found input variables with inconsistent numbers of samples: [388628, 388628, 194314]"
     ]
    }
   ],
   "source": [
    "# Load and Process Data Men's Tourney\n",
    "regular_m = pd.read_csv('/home/lya/Workspace/mmm25/kaggle/input/march-machine-learning-mania-2025/MRegularSeasonCompactResults.csv')\n",
    "tourney_m = pd.read_csv('/home/lya/Workspace/mmm25/kaggle/input/march-machine-learning-mania-2025/MNCAATourneyCompactResults.csv')\n",
    "teams_m = pd.read_csv('/home/lya/Workspace/mmm25/kaggle/input/march-machine-learning-mania-2025/MTeams.csv')\n",
    "\n",
    "regular_m['tourney'] = 0\n",
    "tourney_m['tourney'] = 1\n",
    "regular_m['weight'] = 1\n",
    "tourney_m['weight'] = 0.7\n",
    "\n",
    "data_m = pd.concat([regular_m, tourney_m])\n",
    "data_m.sort_values(['Season', 'DayNum'], inplace=True)\n",
    "data_m.reset_index(inplace=True, drop=True)\n",
    "\n",
    "elo_df_men = create_elo_data(teams_m.TeamID, data_m, initial_rating=1200, k=125, alpha=None, weights=data_m['weight'])\n",
    "elo_df_men.head(10)"
   ]
  },
  {
   "cell_type": "code",
   "execution_count": 15,
   "id": "45884c8b",
   "metadata": {
    "execution": {
     "iopub.execute_input": "2025-02-21T09:45:26.335466Z",
     "iopub.status.busy": "2025-02-21T09:45:26.335068Z",
     "iopub.status.idle": "2025-02-21T09:45:29.413110Z",
     "shell.execute_reply": "2025-02-21T09:45:29.411945Z"
    },
    "papermill": {
     "duration": 3.085541,
     "end_time": "2025-02-21T09:45:29.415518",
     "exception": false,
     "start_time": "2025-02-21T09:45:26.329977",
     "status": "completed"
    },
    "tags": []
   },
   "outputs": [
    {
     "name": "stderr",
     "output_type": "stream",
     "text": [
      "100%|██████████| 137598/137598 [00:00<00:00, 501453.93it/s]\n"
     ]
    },
    {
     "name": "stdout",
     "output_type": "stream",
     "text": [
      "Brier Score: 0.723545263820853\n"
     ]
    },
    {
     "data": {
      "text/html": [
       "<div>\n",
       "<style scoped>\n",
       "    .dataframe tbody tr th:only-of-type {\n",
       "        vertical-align: middle;\n",
       "    }\n",
       "\n",
       "    .dataframe tbody tr th {\n",
       "        vertical-align: top;\n",
       "    }\n",
       "\n",
       "    .dataframe thead th {\n",
       "        text-align: right;\n",
       "    }\n",
       "</style>\n",
       "<table border=\"1\" class=\"dataframe\">\n",
       "  <thead>\n",
       "    <tr style=\"text-align: right;\">\n",
       "      <th></th>\n",
       "      <th>TeamID</th>\n",
       "      <th>Season</th>\n",
       "      <th>Rating_Mean</th>\n",
       "      <th>Rating_Median</th>\n",
       "      <th>Rating_Std</th>\n",
       "      <th>Rating_Min</th>\n",
       "      <th>Rating_Max</th>\n",
       "      <th>Rating_Last</th>\n",
       "      <th>Rating_Trend</th>\n",
       "    </tr>\n",
       "  </thead>\n",
       "  <tbody>\n",
       "    <tr>\n",
       "      <th>9478</th>\n",
       "      <td>3476</td>\n",
       "      <td>2023</td>\n",
       "      <td>743.976822</td>\n",
       "      <td>708.263305</td>\n",
       "      <td>231.538322</td>\n",
       "      <td>413.269672</td>\n",
       "      <td>1117.547161</td>\n",
       "      <td>658.900381</td>\n",
       "      <td>-24.437467</td>\n",
       "    </tr>\n",
       "    <tr>\n",
       "      <th>9479</th>\n",
       "      <td>3476</td>\n",
       "      <td>2024</td>\n",
       "      <td>506.258092</td>\n",
       "      <td>504.511064</td>\n",
       "      <td>87.325605</td>\n",
       "      <td>332.559515</td>\n",
       "      <td>654.269392</td>\n",
       "      <td>348.045056</td>\n",
       "      <td>-6.707083</td>\n",
       "    </tr>\n",
       "    <tr>\n",
       "      <th>9480</th>\n",
       "      <td>3476</td>\n",
       "      <td>2025</td>\n",
       "      <td>625.845374</td>\n",
       "      <td>642.224616</td>\n",
       "      <td>115.156252</td>\n",
       "      <td>347.922652</td>\n",
       "      <td>807.342259</td>\n",
       "      <td>797.628273</td>\n",
       "      <td>12.017543</td>\n",
       "    </tr>\n",
       "    <tr>\n",
       "      <th>9481</th>\n",
       "      <td>3477</td>\n",
       "      <td>2023</td>\n",
       "      <td>963.354249</td>\n",
       "      <td>951.784096</td>\n",
       "      <td>149.932257</td>\n",
       "      <td>692.274594</td>\n",
       "      <td>1226.330629</td>\n",
       "      <td>889.190849</td>\n",
       "      <td>-11.980451</td>\n",
       "    </tr>\n",
       "    <tr>\n",
       "      <th>9482</th>\n",
       "      <td>3477</td>\n",
       "      <td>2024</td>\n",
       "      <td>1013.722701</td>\n",
       "      <td>1029.337878</td>\n",
       "      <td>138.102241</td>\n",
       "      <td>776.028404</td>\n",
       "      <td>1277.829917</td>\n",
       "      <td>1099.717945</td>\n",
       "      <td>-6.354890</td>\n",
       "    </tr>\n",
       "    <tr>\n",
       "      <th>9483</th>\n",
       "      <td>3477</td>\n",
       "      <td>2025</td>\n",
       "      <td>762.779508</td>\n",
       "      <td>748.278536</td>\n",
       "      <td>189.030718</td>\n",
       "      <td>489.337804</td>\n",
       "      <td>1086.889212</td>\n",
       "      <td>789.139445</td>\n",
       "      <td>-20.554294</td>\n",
       "    </tr>\n",
       "    <tr>\n",
       "      <th>9484</th>\n",
       "      <td>3478</td>\n",
       "      <td>2024</td>\n",
       "      <td>1046.019188</td>\n",
       "      <td>1039.958616</td>\n",
       "      <td>69.130888</td>\n",
       "      <td>938.790819</td>\n",
       "      <td>1207.749475</td>\n",
       "      <td>1041.448669</td>\n",
       "      <td>-3.574234</td>\n",
       "    </tr>\n",
       "    <tr>\n",
       "      <th>9485</th>\n",
       "      <td>3478</td>\n",
       "      <td>2025</td>\n",
       "      <td>702.098015</td>\n",
       "      <td>719.322466</td>\n",
       "      <td>234.163986</td>\n",
       "      <td>330.261745</td>\n",
       "      <td>1041.252824</td>\n",
       "      <td>330.261745</td>\n",
       "      <td>-30.714460</td>\n",
       "    </tr>\n",
       "    <tr>\n",
       "      <th>9486</th>\n",
       "      <td>3479</td>\n",
       "      <td>2025</td>\n",
       "      <td>703.716898</td>\n",
       "      <td>627.026858</td>\n",
       "      <td>235.749553</td>\n",
       "      <td>414.645323</td>\n",
       "      <td>1249.709034</td>\n",
       "      <td>587.826236</td>\n",
       "      <td>-27.512901</td>\n",
       "    </tr>\n",
       "    <tr>\n",
       "      <th>9487</th>\n",
       "      <td>3480</td>\n",
       "      <td>2025</td>\n",
       "      <td>961.842490</td>\n",
       "      <td>970.189735</td>\n",
       "      <td>86.427807</td>\n",
       "      <td>796.107496</td>\n",
       "      <td>1125.165103</td>\n",
       "      <td>1073.205193</td>\n",
       "      <td>-7.208720</td>\n",
       "    </tr>\n",
       "  </tbody>\n",
       "</table>\n",
       "</div>"
      ],
      "text/plain": [
       "      TeamID  Season  Rating_Mean  Rating_Median  Rating_Std  Rating_Min  \\\n",
       "9478    3476    2023   743.976822     708.263305  231.538322  413.269672   \n",
       "9479    3476    2024   506.258092     504.511064   87.325605  332.559515   \n",
       "9480    3476    2025   625.845374     642.224616  115.156252  347.922652   \n",
       "9481    3477    2023   963.354249     951.784096  149.932257  692.274594   \n",
       "9482    3477    2024  1013.722701    1029.337878  138.102241  776.028404   \n",
       "9483    3477    2025   762.779508     748.278536  189.030718  489.337804   \n",
       "9484    3478    2024  1046.019188    1039.958616   69.130888  938.790819   \n",
       "9485    3478    2025   702.098015     719.322466  234.163986  330.261745   \n",
       "9486    3479    2025   703.716898     627.026858  235.749553  414.645323   \n",
       "9487    3480    2025   961.842490     970.189735   86.427807  796.107496   \n",
       "\n",
       "       Rating_Max  Rating_Last  Rating_Trend  \n",
       "9478  1117.547161   658.900381    -24.437467  \n",
       "9479   654.269392   348.045056     -6.707083  \n",
       "9480   807.342259   797.628273     12.017543  \n",
       "9481  1226.330629   889.190849    -11.980451  \n",
       "9482  1277.829917  1099.717945     -6.354890  \n",
       "9483  1086.889212   789.139445    -20.554294  \n",
       "9484  1207.749475  1041.448669     -3.574234  \n",
       "9485  1041.252824   330.261745    -30.714460  \n",
       "9486  1249.709034   587.826236    -27.512901  \n",
       "9487  1125.165103  1073.205193     -7.208720  "
      ]
     },
     "execution_count": 15,
     "metadata": {},
     "output_type": "execute_result"
    }
   ],
   "source": [
    "# Load and Process Data Women's Tourney\n",
    "regular_w = pd.read_csv('/home/lya/Workspace/mmm25/kaggle/input/march-machine-learning-mania-2025/WRegularSeasonCompactResults.csv')\n",
    "tourney_w = pd.read_csv('/home/lya/Workspace/mmm25/kaggle/input/march-machine-learning-mania-2025/WNCAATourneyCompactResults.csv')\n",
    "teams_w = pd.read_csv('/home/lya/Workspace/mmm25/kaggle/input/march-machine-learning-mania-2025/WTeams.csv')\n",
    "\n",
    "regular_w['tourney'] = 0\n",
    "tourney_w['tourney'] = 1\n",
    "regular_w['weight'] = 0.95\n",
    "tourney_w['weight'] = 1\n",
    "\n",
    "data_w = pd.concat([regular_w, tourney_w])\n",
    "data_w.sort_values(['Season', 'DayNum'], inplace=True)\n",
    "data_w.reset_index(inplace=True, drop=True)\n",
    "\n",
    "elo_df_women = create_elo_data(teams_w.TeamID, data_w, initial_rating=1250, k=190, alpha=None, weights=data_w['weight'])\n",
    "elo_df_women.tail(10)"
   ]
  },
  {
   "cell_type": "code",
   "execution_count": 5,
   "id": "819c971e",
   "metadata": {
    "execution": {
     "iopub.execute_input": "2025-02-21T09:45:29.426481Z",
     "iopub.status.busy": "2025-02-21T09:45:29.426088Z",
     "iopub.status.idle": "2025-02-21T09:45:29.703586Z",
     "shell.execute_reply": "2025-02-21T09:45:29.702464Z"
    },
    "papermill": {
     "duration": 0.285905,
     "end_time": "2025-02-21T09:45:29.706135",
     "exception": false,
     "start_time": "2025-02-21T09:45:29.420230",
     "status": "completed"
    },
    "tags": []
   },
   "outputs": [],
   "source": [
    "# Save to csv\n",
    "elo_df_men.to_csv('mens_elo_rating.csv')\n",
    "elo_df_women.to_csv('womens_elo_rating.csv')"
   ]
  },
  {
   "cell_type": "markdown",
   "id": "7516a2b4",
   "metadata": {
    "papermill": {
     "duration": 0.004611,
     "end_time": "2025-02-21T09:45:29.715591",
     "exception": false,
     "start_time": "2025-02-21T09:45:29.710980",
     "status": "completed"
    },
    "tags": []
   },
   "source": [
    "# Top 20 Teams Based on Latest Data-Update (21.02.2025)"
   ]
  },
  {
   "cell_type": "code",
   "execution_count": 6,
   "id": "50670ec4",
   "metadata": {
    "_kg_hide-input": true,
    "execution": {
     "iopub.execute_input": "2025-02-21T09:45:29.726508Z",
     "iopub.status.busy": "2025-02-21T09:45:29.726131Z",
     "iopub.status.idle": "2025-02-21T09:45:30.449643Z",
     "shell.execute_reply": "2025-02-21T09:45:30.448456Z"
    },
    "papermill": {
     "duration": 0.733118,
     "end_time": "2025-02-21T09:45:30.453626",
     "exception": false,
     "start_time": "2025-02-21T09:45:29.720508",
     "status": "completed"
    },
    "tags": []
   },
   "outputs": [
    {
     "data": {
      "image/png": "[encoded data removed]",
      "text/plain": [
       "<Figure size 1000x800 with 2 Axes>"
      ]
     },
     "metadata": {},
     "output_type": "display_data"
    }
   ],
   "source": [
    "# Men's Teams\n",
    "tmp_df_men = pd.merge(elo_df_men, teams_m, on='TeamID', how='left')\n",
    "tmp_df_men = tmp_df_men[tmp_df_men['Season'] == 2025]\n",
    "top_men_teams = tmp_df_men.sort_values('Rating_Last', ascending=False)[:20][['TeamName', 'Rating_Last', 'Rating_Trend']]\n",
    "top_men_teams = top_men_teams.reindex(index=top_men_teams.index[::-1])\n",
    "\n",
    "# Women's Teams\n",
    "tmp_df_women = pd.merge(elo_df_women, teams_w, on='TeamID', how='left')\n",
    "tmp_df_women = tmp_df_women[tmp_df_women['Season'] == 2025]\n",
    "top_women_teams = tmp_df_women.sort_values('Rating_Last', ascending=False)[:20][['TeamName', 'Rating_Last', 'Rating_Trend']]\n",
    "top_women_teams = top_women_teams.reindex(index=top_women_teams.index[::-1])\n",
    "\n",
    "fig, (ax1, ax2) = plt.subplots(1, 2, figsize=(10, 8))\n",
    "\n",
    "# Men's Teams\n",
    "ax1.barh(top_men_teams['TeamName'], top_men_teams['Rating_Last'], color='skyblue', label='Rating_Last')\n",
    "ax1.set_title(\"Top Men's Teams - 2025\")\n",
    "ax1.set_xlabel('Last Rating')\n",
    "ax1.set_ylabel('TeamName')\n",
    "ax1.legend()\n",
    "\n",
    "# Women's Teams\n",
    "ax2.barh(top_women_teams['TeamName'], top_women_teams['Rating_Last'], color='#3F51B5', label='Rating_Last')\n",
    "ax2.set_title(\"Top Women's Teams - 2025\")\n",
    "ax2.set_xlabel('Last Rating')\n",
    "ax2.set_ylabel('TeamName')\n",
    "ax2.legend()\n",
    "\n",
    "plt.tight_layout()\n",
    "plt.show()"
   ]
  },
  {
   "cell_type": "code",
   "execution_count": 10,
   "id": "52438fec",
   "metadata": {
    "papermill": {
     "duration": 0.006844,
     "end_time": "2025-02-21T09:45:30.469022",
     "exception": false,
     "start_time": "2025-02-21T09:45:30.462178",
     "status": "completed"
    },
    "tags": []
   },
   "outputs": [],
   "source": [
    "# 生成比赛预测结果\n",
    "def generate_match_predictions(elo_df, teams, season=2025):\n",
    "    predictions = []\n",
    "    \n",
    "    for i in range(len(teams)):\n",
    "        for j in range(i + 1, len(teams)):\n",
    "            team1_id = teams[i]\n",
    "            team2_id = teams[j]\n",
    "            \n",
    "            # 获取两支队伍的 Elo 评分\n",
    "            rating_team1 = elo_df[(elo_df['TeamID'] == team1_id) & (elo_df['Season'] == season)]['Rating_Last'].values[0]\n",
    "            rating_team2 = elo_df[(elo_df['TeamID'] == team2_id) & (elo_df['Season'] == season)]['Rating_Last'].values[0]\n",
    "            \n",
    "            # 计算胜率\n",
    "            expected_score_team1 = 1 / (1 + 10 ** ((rating_team2 - rating_team1) / 400))\n",
    "            \n",
    "            # 生成 ID\n",
    "            match_id = f\"{season}_{team1_id}_{team2_id}\"\n",
    "            \n",
    "            # 添加到预测列表\n",
    "            predictions.append([match_id, expected_score_team1])\n",
    "    \n",
    "    # 创建 DataFrame\n",
    "    predictions_df = pd.DataFrame(predictions, columns=['ID', 'Pred'])\n",
    "    return predictions_df"
   ]
  },
  {
   "cell_type": "code",
   "execution_count": 11,
   "id": "a34df389",
   "metadata": {},
   "outputs": [
    {
     "name": "stdout",
     "output_type": "stream",
     "text": [
      "               ID      Pred\n",
      "0  2025_1101_1102  0.959869\n",
      "1  2025_1101_1103  0.007916\n",
      "2  2025_1101_1104  0.000005\n",
      "3  2025_1101_1105  0.994527\n",
      "4  2025_1101_1106  0.971754\n"
     ]
    }
   ],
   "source": [
    "# 生成男子组比赛预测\n",
    "men_teams_2025 = teams_m[teams_m['TeamID'].isin(elo_df_men[elo_df_men['Season'] == 2025]['TeamID'])]['TeamID'].values\n",
    "men_predictions = generate_match_predictions(elo_df_men, men_teams_2025)\n",
    "\n",
    "# 生成女子组比赛预测\n",
    "women_teams_2025 = teams_w[teams_w['TeamID'].isin(elo_df_women[elo_df_women['Season'] == 2025]['TeamID'])]['TeamID'].values\n",
    "women_predictions = generate_match_predictions(elo_df_women, women_teams_2025)\n",
    "\n",
    "# 合并所有预测\n",
    "all_predictions = pd.concat([men_predictions, women_predictions])\n",
    "\n",
    "# 保存到 CSV\n",
    "all_predictions.to_csv('match_predictions.csv', index=False)\n",
    "\n",
    "# 输出前几行以检查\n",
    "print(all_predictions.head())"
   ]
  }
 ],
 "metadata": {
  "kaggle": {
   "accelerator": "none",
   "dataSources": [
    {
     "databundleVersionId": 8023814,
     "sourceId": 70068,
     "sourceType": "competition"
    },
    {
     "databundleVersionId": 11018643,
     "sourceId": 91497,
     "sourceType": "competition"
    }
   ],
   "dockerImageVersionId": 30664,
   "isGpuEnabled": false,
   "isInternetEnabled": true,
   "language": "python",
   "sourceType": "notebook"
  },
  "kernelspec": {
   "display_name": "mmm25",
   "language": "python",
   "name": "python3"
  },
  "language_info": {
   "codemirror_mode": {
    "name": "ipython",
    "version": 3
   },
   "file_extension": ".py",
   "mimetype": "text/x-python",
   "name": "python",
   "nbconvert_exporter": "python",
   "pygments_lexer": "ipython3",
   "version": "3.10.16"
  },
  "papermill": {
   "default_parameters": {},
   "duration": 15.04951,
   "end_time": "2025-02-21T09:45:31.100400",
   "environment_variables": {},
   "exception": null,
   "input_path": "__notebook__.ipynb",
   "output_path": "__notebook__.ipynb",
   "parameters": {},
   "start_time": "2025-02-21T09:45:16.050890",
   "version": "2.5.0"
  }
 },
 "nbformat": 4,
 "nbformat_minor": 5
}
