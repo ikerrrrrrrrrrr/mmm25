{
 "cells": [
  {
   "cell_type": "markdown",
   "metadata": {},
   "source": [
    "# Merging some good baselines"
   ]
  },
  {
   "cell_type": "code",
   "execution_count": 2,
   "metadata": {},
   "outputs": [],
   "source": [
    "import numpy as np\n",
    "import pandas as pd \n",
    "from scipy.stats import linregress\n",
    "from tqdm import tqdm\n",
    "import matplotlib.pyplot as plt\n",
    "from catboost import CatBoostClassifier\n",
    "from sklearn.model_selection import train_test_split\n",
    "import os\n",
    "from itertools import combinations\n",
    "from sklearn.impute import SimpleImputer\n",
    "from sklearn.preprocessing import StandardScaler\n",
    "from sklearn.pipeline import Pipeline\n",
    "from sklearn.metrics import brier_score_loss, log_loss, mean_absolute_error\n",
    "from sklearn.model_selection import cross_val_score\n",
    "\n",
    "from xgboost import XGBRegressor\n",
    "\n",
    "import glob\n",
    "\n",
    "\n",
    "from sklearn import *\n",
    "#import redisAI\n",
    "import glob\n",
    "import optuna\n",
    "from sklearn import ensemble\n",
    "from sklearn.metrics import *\n",
    "import torch\n",
    "from torch.utils.data import TensorDataset, DataLoader\n",
    "from torch.utils.data import random_split\n",
    "from torch import nn\n",
    "import torch.optim as optim\n",
    "\n"
   ]
  },
  {
   "cell_type": "markdown",
   "metadata": {},
   "source": [
    "# EDA for all"
   ]
  },
  {
   "cell_type": "code",
   "execution_count": 3,
   "metadata": {},
   "outputs": [],
   "source": [
    "regular_m = pd.read_csv('./kaggle/input/march-machine-learning-mania-2025/MRegularSeasonCompactResults.csv')\n",
    "tourney_m = pd.read_csv('./kaggle/input/march-machine-learning-mania-2025/MNCAATourneyCompactResults.csv')\n",
    "teams_m = pd.read_csv('./kaggle/input/march-machine-learning-mania-2025/MTeams.csv')\n",
    "# Load and Process Data Women's Tourney\n",
    "regular_w = pd.read_csv('./kaggle/input/march-machine-learning-mania-2025/WRegularSeasonCompactResults.csv')\n",
    "tourney_w = pd.read_csv('./kaggle/input/march-machine-learning-mania-2025/WNCAATourneyCompactResults.csv')\n",
    "teams_w = pd.read_csv('./kaggle/input/march-machine-learning-mania-2025/WTeams.csv')\n",
    "#print(teams_w.columns, regular_w.columns, tourney_m.columns)\n",
    "# print(len(regular_m), len(tourney_m))\n"
   ]
  },
  {
   "cell_type": "markdown",
   "metadata": {},
   "source": [
    "## EDA for XGBoost and the MLP method"
   ]
  },
  {
   "cell_type": "code",
   "execution_count": 10,
   "metadata": {},
   "outputs": [],
   "source": [
    "# Getting all files\n",
    "path = \"./kaggle/input/march-machine-learning-mania-2025/**\"\n",
    "data = {p.split('/')[-1].split('.')[0].split('\\\\')[1] : pd.read_csv(p, encoding='latin-1') for p in glob.glob(path)}\n",
    "df = data[\"SampleSubmissionStage2\"]\n",
    "# Creating year, left team, and right team columns\n",
    "\"\"\"\n",
    "df['Year'] = [int(yr[0:4]) for yr in df['ID']]\n",
    "df['LTeam'] = [int(L[5:9]) for L in df['ID']]\n",
    "df['RTeam'] = [int(R[10:14]) for R in df['ID']]\n",
    "\"\"\"\n",
    "df['RTeam'] = [int(R[10:14]) for R in df['ID']]\n",
    "df['LTeam'] = [int(L[5:9]) for L in df['ID']]\n",
    "\n",
    "df['LTeam']\n",
    "df['ID'] # 从示例提交文件格式中获取左侧和右侧队伍的id\n",
    "# Lots of feature selecting and engineering\n",
    "teams = pd.concat([data['MTeams'], data['WTeams']])\n",
    "teams_spelling = pd.concat([data['MTeamSpellings'], data['WTeamSpellings']])\n",
    "teams_spelling = teams_spelling.groupby(by='TeamID', as_index=False)['TeamNameSpelling'].count()\n",
    "teams_spelling.columns = ['TeamID', 'TeamNameCount']\n",
    "teams = pd.merge(teams, teams_spelling, how='left', on=['TeamID'])\n",
    "del teams_spelling\n",
    "season_cresults = pd.concat([data['MRegularSeasonCompactResults'], data['WRegularSeasonCompactResults']])\n",
    "season_dresults = pd.concat([data['MRegularSeasonDetailedResults'], data['WRegularSeasonDetailedResults']])\n",
    "tourney_cresults = pd.concat([data['MNCAATourneyCompactResults'], data['WNCAATourneyCompactResults']])\n",
    "tourney_dresults = pd.concat([data['MNCAATourneyDetailedResults'], data['WNCAATourneyDetailedResults']])\n",
    "slots = pd.concat([data['MNCAATourneySlots'], data['WNCAATourneySlots']])\n",
    "seeds = pd.concat([data['MNCAATourneySeeds'], data['WNCAATourneySeeds']])\n",
    "gcities = pd.concat([data['MGameCities'], data['WGameCities']])\n",
    "seasons = pd.concat([data['MSeasons'], data['WSeasons']])\n",
    "\n",
    "seeds = {'_'.join(map(str,[int(k1),k2])):int(v[1:3]) for k1, v, k2 in seeds[['Season', 'Seed', 'TeamID']].values}\n",
    "cities = data['Cities']\n",
    "sub = data['SampleSubmissionStage2']\n",
    "del data\n",
    "\n",
    "season_cresults['ST'] = 'S'\n",
    "season_dresults['ST'] = 'S'\n",
    "tourney_cresults['ST'] = 'T'\n",
    "tourney_dresults['ST'] = 'T'\n",
    "games = pd.concat((season_dresults, tourney_dresults), axis=0, ignore_index=True)# 只有2003年开始才有detailed results，这里舍弃了compact results\n",
    "games.reset_index(drop=True, inplace=True)\n",
    "games['WLoc'] = games['WLoc'].map({'A': 1, 'H': 2, 'N': 3})\n",
    "\n",
    "games['ID'] = games.apply(lambda r: '_'.join(map(str, [r['Season']]+sorted([r['WTeamID'],r['LTeamID']]))), axis=1)# 比赛id：年，1队，2队\n",
    "games['IDTeams'] = games.apply(lambda r: '_'.join(map(str, sorted([r['WTeamID'],r['LTeamID']]))), axis=1)# 1队，2队\n",
    "games['Team1'] = games.apply(lambda r: sorted([r['WTeamID'],r['LTeamID']])[0], axis=1)# 1队\n",
    "games['Team2'] = games.apply(lambda r: sorted([r['WTeamID'],r['LTeamID']])[1], axis=1)\n",
    "games['IDTeam1'] = games.apply(lambda r: '_'.join(map(str, [r['Season'], r['Team1']])), axis=1)# 年 1队\n",
    "games['IDTeam2'] = games.apply(lambda r: '_'.join(map(str, [r['Season'], r['Team2']])), axis=1)\n",
    "\n",
    "games['Team1Seed'] = games['IDTeam1'].map(seeds).fillna(0)\n",
    "games['Team2Seed'] = games['IDTeam2'].map(seeds).fillna(0)\n",
    "\n",
    "games['ScoreDiff'] = games['WScore'] - games['LScore']\n",
    "games['Pred'] = games.apply(lambda r: 1. if sorted([r['WTeamID'],r['LTeamID']])[0]==r['WTeamID'] else 0., axis=1) # 1队赢了没\n",
    "games['ScoreDiffNorm'] = games.apply(lambda r: r['ScoreDiff'] * -1 if r['Pred'] == 0. else r['ScoreDiff'], axis=1)\n",
    "games['SeedDiff'] = games['Team1Seed'] - games['Team2Seed']\n",
    "games = games.fillna(-1)\n",
    "\n",
    "c_score_col = ['NumOT', 'WFGM', 'WFGA', 'WFGM3', 'WFGA3', 'WFTM', 'WFTA', 'WOR', 'WDR', 'WAst', 'WTO', 'WStl',\n",
    " 'WBlk', 'WPF', 'LFGM', 'LFGA', 'LFGM3', 'LFGA3', 'LFTM', 'LFTA', 'LOR', 'LDR', 'LAst', 'LTO', 'LStl',\n",
    " 'LBlk', 'LPF'] # 选择和比赛得分相关的列\n",
    "c_score_agg = ['sum', 'mean', 'median', 'max', 'min', 'std', 'skew', 'nunique']\n",
    "gb = games.groupby(by=['IDTeams']).agg({k: c_score_agg for k in c_score_col}).reset_index()\n",
    "# groupby 分组，同一支队的比赛会被分到一起\n",
    "# agg 对于 c_score_col 中的每一列，分别计算每个分组（即每一对队伍）的这些聚合统计值。\n",
    "# 聚合操作后，结果是一个 MultiIndex DataFrame。调用 reset_index() 是为了将其转换为普通的 DataFrame，方便后续处理。\n",
    "gb.columns = [''.join(c) + '_c_score' for c in gb.columns]\n",
    "\n",
    "games = games[games['ST']=='T']\n",
    "\n",
    "sub['WLoc'] = 3\n",
    "sub['Season'] = sub['ID'].map(lambda x: x.split('_')[0])\n",
    "sub['Season'] = sub['ID'].map(lambda x: x.split('_')[0])\n",
    "sub['Season'] = sub['Season'].astype(int)\n",
    "sub['Team1'] = sub['ID'].map(lambda x: x.split('_')[1])\n",
    "sub['Team2'] = sub['ID'].map(lambda x: x.split('_')[2])\n",
    "sub['IDTeams'] = sub.apply(lambda r: '_'.join(map(str, [r['Team1'], r['Team2']])), axis=1)\n",
    "sub['IDTeam1'] = sub.apply(lambda r: '_'.join(map(str, [r['Season'], r['Team1']])), axis=1)\n",
    "sub['IDTeam2'] = sub.apply(lambda r: '_'.join(map(str, [r['Season'], r['Team2']])), axis=1)\n",
    "sub['Team1Seed'] = sub['IDTeam1'].map(seeds).fillna(0)\n",
    "sub['Team2Seed'] = sub['IDTeam2'].map(seeds).fillna(0)\n",
    "sub['SeedDiff'] = sub['Team1Seed'] - sub['Team2Seed'] # 提取各种信息和添加种子特征\n",
    "sub = sub.fillna(-1)\n",
    "\n",
    "games = pd.merge(games, gb, how='left', left_on='IDTeams', right_on='IDTeams_c_score')\n",
    "sub = pd.merge(sub, gb, how='left', left_on='IDTeams', right_on='IDTeams_c_score')\n",
    "# 将比赛数据（games）与之前生成的统计特征数据（gb）通过IDTeams进行左连接。\n",
    "# 将提交数据（sub）与统计特征数据（gb）通过IDTeams进行左连接。\n",
    "\n",
    "col = [c for c in games.columns if c not in ['ID', 'DayNum', 'ST', 'Team1', 'Team2', 'IDTeams', 'IDTeam1', 'IDTeam2',\n",
    "                                             'WTeamID', 'WScore', 'LTeamID', 'LScore', 'NumOT', 'Pred', 'ScoreDiff', 'ScoreDiffNorm',\n",
    "                                             'WLoc'] + c_score_col]\n"
   ]
  },
  {
   "cell_type": "markdown",
   "metadata": {},
   "source": [
    "# XGB"
   ]
  },
  {
   "cell_type": "markdown",
   "metadata": {},
   "source": [
    "## Params of XGB"
   ]
  },
  {
   "cell_type": "code",
   "execution_count": 11,
   "metadata": {},
   "outputs": [],
   "source": [
    "# XGB parameters\n",
    "param_grid = {\n",
    "    'n_estimators': 5000,\n",
    "    'learning_rate': 0.03,\n",
    "    'max_depth': 6\n",
    "}"
   ]
  },
  {
   "cell_type": "markdown",
   "metadata": {},
   "source": [
    "## Predictions of XGBoost"
   ]
  },
  {
   "cell_type": "code",
   "execution_count": 12,
   "metadata": {},
   "outputs": [],
   "source": [
    "X = games[col].fillna(-1)\n",
    "sub_X = sub[col].fillna(-1)\n",
    "\n",
    "# Pipeline\n",
    "pipeline = Pipeline([\n",
    "    ('imputer', SimpleImputer(strategy='mean')),\n",
    "    ('scaler', StandardScaler()),\n",
    "    ('xgb', XGBRegressor(**param_grid, device=\"gpu\", random_state=42))\n",
    "])\n",
    "\n",
    "# Fitting pipeline\n",
    "#pipeline.fit(X, games['Pred'])\n",
    "\n",
    "# Predicting games and submissions\n",
    "#pred = pipeline.predict(X).clip(0.001, 0.999)\n",
    "#sub_pred = pipeline.predict(sub_X).clip(0.001, 0.999)\n",
    "\n",
    "# Cross validation (for the MSE)\n",
    "#cv_scores = cross_val_score(pipeline, X, games['Pred'], cv=5, scoring=\"neg_mean_squared_error\")\n",
    "# 5 times of cross validation, 1. 1234, 5; 2: 1235,4, ...\n",
    "\n",
    "#sub_pred = pipeline.predict(sub_X).clip(0.001, 0.999)\n",
    "\n",
    "# submission_df = pd.DataFrame({\n",
    "#     'ID': df['ID'],\n",
    "#     'Pred': sub_pred\n",
    "# })\n",
    "\n",
    "# pred_of_XGBoost = submission_df"
   ]
  },
  {
   "cell_type": "markdown",
   "metadata": {},
   "source": [
    "## Optuna adjustments for XGB"
   ]
  },
  {
   "cell_type": "code",
   "execution_count": null,
   "metadata": {},
   "outputs": [
    {
     "name": "stderr",
     "output_type": "stream",
     "text": [
      "[I 2025-03-11 17:46:20,170] A new study created in memory with name: no-name-1c774909-0d0e-48cb-a909-2f579869b059\n"
     ]
    },
    {
     "data": {
      "application/vnd.jupyter.widget-view+json": {
       "model_id": "a0dc263e283f482b971f109e32ba67e1",
       "version_major": 2,
       "version_minor": 0
      },
      "text/plain": [
       "  0%|          | 0/50 [00:00<?, ?it/s]"
      ]
     },
     "metadata": {},
     "output_type": "display_data"
    },
    {
     "name": "stdout",
     "output_type": "stream",
     "text": [
      "[I 2025-03-11 17:47:08,448] Trial 0 finished with value: 0.20525047989684375 and parameters: {'n_estimators': 2766, 'learning_rate': 0.02358507997950981, 'max_depth': 6}. Best is trial 0 with value: 0.20525047989684375.\n",
      "[I 2025-03-11 17:47:40,276] Trial 1 finished with value: 0.20180807192999226 and parameters: {'n_estimators': 3887, 'learning_rate': 0.0931541613782206, 'max_depth': 10}. Best is trial 1 with value: 0.20180807192999226.\n",
      "[I 2025-03-11 17:48:25,771] Trial 2 finished with value: 0.19855714350173667 and parameters: {'n_estimators': 4437, 'learning_rate': 0.041055967754144836, 'max_depth': 7}. Best is trial 2 with value: 0.19855714350173667.\n",
      "[I 2025-03-11 17:48:29,926] Trial 3 finished with value: 0.18055024312827941 and parameters: {'n_estimators': 555, 'learning_rate': 0.011502201969168803, 'max_depth': 3}. Best is trial 3 with value: 0.18055024312827941.\n",
      "[I 2025-03-11 17:49:02,172] Trial 4 finished with value: 0.21090628538223002 and parameters: {'n_estimators': 3489, 'learning_rate': 0.06944536135195, 'max_depth': 5}. Best is trial 3 with value: 0.18055024312827941.\n",
      "[I 2025-03-11 17:49:35,300] Trial 5 finished with value: 0.2003969337008486 and parameters: {'n_estimators': 1281, 'learning_rate': 0.04241876309125871, 'max_depth': 8}. Best is trial 3 with value: 0.18055024312827941.\n",
      "[I 2025-03-11 17:50:25,978] Trial 6 finished with value: 0.2033778934197822 and parameters: {'n_estimators': 2455, 'learning_rate': 0.031339744917907746, 'max_depth': 10}. Best is trial 3 with value: 0.18055024312827941.\n",
      "[I 2025-03-11 17:51:16,529] Trial 7 finished with value: 0.20166893040614423 and parameters: {'n_estimators': 1333, 'learning_rate': 0.03157824637687656, 'max_depth': 10}. Best is trial 3 with value: 0.18055024312827941.\n",
      "[I 2025-03-11 17:52:20,060] Trial 8 finished with value: 0.2052989688618859 and parameters: {'n_estimators': 3879, 'learning_rate': 0.0318442432450233, 'max_depth': 6}. Best is trial 3 with value: 0.18055024312827941.\n",
      "[I 2025-03-11 17:53:23,455] Trial 9 finished with value: 0.20380116468066484 and parameters: {'n_estimators': 4500, 'learning_rate': 0.0338911973248855, 'max_depth': 6}. Best is trial 3 with value: 0.18055024312827941.\n",
      "[I 2025-03-11 17:53:25,043] Trial 10 finished with value: 0.18634824861512567 and parameters: {'n_estimators': 124, 'learning_rate': 0.01022511278821562, 'max_depth': 3}. Best is trial 3 with value: 0.18055024312827941.\n",
      "[I 2025-03-11 17:53:28,458] Trial 11 finished with value: 0.17911076405846202 and parameters: {'n_estimators': 346, 'learning_rate': 0.010193615589609411, 'max_depth': 3}. Best is trial 11 with value: 0.17911076405846202.\n",
      "[I 2025-03-11 17:53:30,240] Trial 12 finished with value: 0.18308107369234444 and parameters: {'n_estimators': 136, 'learning_rate': 0.011884008405209737, 'max_depth': 3}. Best is trial 11 with value: 0.17911076405846202.\n",
      "[I 2025-03-11 17:53:41,285] Trial 13 finished with value: 0.19107592818163782 and parameters: {'n_estimators': 974, 'learning_rate': 0.01574270188993716, 'max_depth': 4}. Best is trial 11 with value: 0.17911076405846202.\n",
      "[I 2025-03-11 17:54:01,686] Trial 14 finished with value: 0.20050496038506785 and parameters: {'n_estimators': 1853, 'learning_rate': 0.01599262588677877, 'max_depth': 4}. Best is trial 11 with value: 0.17911076405846202.\n",
      "[I 2025-03-11 17:54:11,370] Trial 15 finished with value: 0.18883011051791745 and parameters: {'n_estimators': 846, 'learning_rate': 0.015510740406665727, 'max_depth': 4}. Best is trial 11 with value: 0.17911076405846202.\n",
      "[I 2025-03-11 17:54:16,885] Trial 16 finished with value: 0.1870312772879911 and parameters: {'n_estimators': 618, 'learning_rate': 0.02250645729157905, 'max_depth': 3}. Best is trial 11 with value: 0.17911076405846202.\n",
      "[I 2025-03-11 17:54:45,056] Trial 17 finished with value: 0.20685114754163933 and parameters: {'n_estimators': 1913, 'learning_rate': 0.020237464884070095, 'max_depth': 5}. Best is trial 11 with value: 0.17911076405846202.\n",
      "[I 2025-03-11 17:55:50,723] Trial 18 finished with value: 0.19882720600407605 and parameters: {'n_estimators': 1843, 'learning_rate': 0.012373937457465463, 'max_depth': 8}. Best is trial 11 with value: 0.17911076405846202.\n",
      "[I 2025-03-11 17:55:58,841] Trial 19 finished with value: 0.18326481257186455 and parameters: {'n_estimators': 502, 'learning_rate': 0.010516240933212838, 'max_depth': 5}. Best is trial 11 with value: 0.17911076405846202.\n",
      "[I 2025-03-11 17:56:18,137] Trial 20 finished with value: 0.19914854028731238 and parameters: {'n_estimators': 2382, 'learning_rate': 0.013314145986971995, 'max_depth': 3}. Best is trial 11 with value: 0.17911076405846202.\n",
      "[I 2025-03-11 17:56:19,673] Trial 21 finished with value: 0.18424035600926203 and parameters: {'n_estimators': 116, 'learning_rate': 0.012660531643925716, 'max_depth': 3}. Best is trial 11 with value: 0.17911076405846202.\n",
      "[I 2025-03-11 17:56:25,734] Trial 22 finished with value: 0.18075657702602155 and parameters: {'n_estimators': 495, 'learning_rate': 0.010133066808579087, 'max_depth': 4}. Best is trial 11 with value: 0.17911076405846202.\n",
      "[I 2025-03-11 17:56:39,185] Trial 23 finished with value: 0.19673379224318305 and parameters: {'n_estimators': 1213, 'learning_rate': 0.01878101843065539, 'max_depth': 4}. Best is trial 11 with value: 0.17911076405846202.\n",
      "[I 2025-03-11 17:56:45,965] Trial 24 finished with value: 0.18126668293593706 and parameters: {'n_estimators': 573, 'learning_rate': 0.010278757143274194, 'max_depth': 4}. Best is trial 11 with value: 0.17911076405846202.\n",
      "[I 2025-03-11 17:57:09,002] Trial 25 finished with value: 0.20132288627262596 and parameters: {'n_estimators': 1557, 'learning_rate': 0.015788172537313527, 'max_depth': 5}. Best is trial 11 with value: 0.17911076405846202.\n",
      "[I 2025-03-11 17:57:16,941] Trial 26 finished with value: 0.18522468194274816 and parameters: {'n_estimators': 919, 'learning_rate': 0.013646862149007096, 'max_depth': 3}. Best is trial 11 with value: 0.17911076405846202.\n",
      "[I 2025-03-11 17:57:23,141] Trial 27 finished with value: 0.1850741023316105 and parameters: {'n_estimators': 520, 'learning_rate': 0.017863072205062076, 'max_depth': 4}. Best is trial 11 with value: 0.17911076405846202.\n",
      "[I 2025-03-11 17:57:35,902] Trial 28 finished with value: 0.2024232535555081 and parameters: {'n_estimators': 1532, 'learning_rate': 0.025063990094074114, 'max_depth': 3}. Best is trial 11 with value: 0.17911076405846202.\n",
      "[I 2025-03-11 17:58:53,884] Trial 29 finished with value: 0.19961158083530198 and parameters: {'n_estimators': 2926, 'learning_rate': 0.01002097009419479, 'max_depth': 7}. Best is trial 11 with value: 0.17911076405846202.\n",
      "[I 2025-03-11 17:59:32,946] Trial 30 finished with value: 0.2129231616074306 and parameters: {'n_estimators': 2883, 'learning_rate': 0.06180457930701315, 'max_depth': 5}. Best is trial 11 with value: 0.17911076405846202.\n",
      "[I 2025-03-11 17:59:39,291] Trial 31 finished with value: 0.181339375827132 and parameters: {'n_estimators': 532, 'learning_rate': 0.011267991004181866, 'max_depth': 4}. Best is trial 11 with value: 0.17911076405846202.\n",
      "[I 2025-03-11 17:59:48,235] Trial 32 finished with value: 0.18578221846732126 and parameters: {'n_estimators': 770, 'learning_rate': 0.013468128926935488, 'max_depth': 4}. Best is trial 11 with value: 0.17911076405846202.\n",
      "[I 2025-03-11 18:00:28,415] Trial 33 finished with value: 0.207155218620212 and parameters: {'n_estimators': 4995, 'learning_rate': 0.010055910086152819, 'max_depth': 3}. Best is trial 11 with value: 0.17911076405846202.\n",
      "[I 2025-03-11 18:00:32,690] Trial 34 finished with value: 0.18030849819881806 and parameters: {'n_estimators': 333, 'learning_rate': 0.011565928267444223, 'max_depth': 4}. Best is trial 11 with value: 0.17911076405846202.\n",
      "[I 2025-03-11 18:00:38,960] Trial 35 finished with value: 0.1836331785016697 and parameters: {'n_estimators': 374, 'learning_rate': 0.014267397229415172, 'max_depth': 5}. Best is trial 11 with value: 0.17911076405846202.\n",
      "[I 2025-03-11 18:00:56,502] Trial 36 finished with value: 0.19489066375494282 and parameters: {'n_estimators': 291, 'learning_rate': 0.011740544092878148, 'max_depth': 9}. Best is trial 11 with value: 0.17911076405846202.\n",
      "[I 2025-03-11 18:01:20,089] Trial 37 finished with value: 0.20605849133833587 and parameters: {'n_estimators': 1131, 'learning_rate': 0.0567614445400209, 'max_depth': 6}. Best is trial 11 with value: 0.17911076405846202.\n",
      "[I 2025-03-11 18:01:27,373] Trial 38 finished with value: 0.219367127522807 and parameters: {'n_estimators': 847, 'learning_rate': 0.09687198340808519, 'max_depth': 3}. Best is trial 11 with value: 0.17911076405846202.\n",
      "[I 2025-03-11 18:01:39,434] Trial 39 finished with value: 0.21794621800098554 and parameters: {'n_estimators': 1068, 'learning_rate': 0.08064353673260717, 'max_depth': 4}. Best is trial 11 with value: 0.17911076405846202.\n",
      "[I 2025-03-11 18:02:01,398] Trial 40 finished with value: 0.2057181248516735 and parameters: {'n_estimators': 1481, 'learning_rate': 0.02489157699101714, 'max_depth': 5}. Best is trial 11 with value: 0.17911076405846202.\n",
      "[I 2025-03-11 18:02:08,510] Trial 41 finished with value: 0.18222907261241317 and parameters: {'n_estimators': 603, 'learning_rate': 0.011037432692707487, 'max_depth': 4}. Best is trial 11 with value: 0.17911076405846202.\n",
      "[I 2025-03-11 18:02:11,917] Trial 42 finished with value: 0.17935855909958953 and parameters: {'n_estimators': 350, 'learning_rate': 0.012176912164036973, 'max_depth': 3}. Best is trial 11 with value: 0.17911076405846202.\n",
      "[I 2025-03-11 18:02:14,994] Trial 43 finished with value: 0.1791878736399854 and parameters: {'n_estimators': 305, 'learning_rate': 0.011519293362194873, 'max_depth': 3}. Best is trial 11 with value: 0.17911076405846202.\n",
      "[I 2025-03-11 18:02:17,887] Trial 44 finished with value: 0.17916237768727414 and parameters: {'n_estimators': 280, 'learning_rate': 0.014382467879565097, 'max_depth': 3}. Best is trial 11 with value: 0.17911076405846202.\n",
      "[I 2025-03-11 18:02:20,768] Trial 45 finished with value: 0.17918005816818358 and parameters: {'n_estimators': 271, 'learning_rate': 0.014653934495354563, 'max_depth': 3}. Best is trial 11 with value: 0.17911076405846202.\n",
      "[I 2025-03-11 18:02:23,463] Trial 46 finished with value: 0.17936203517137342 and parameters: {'n_estimators': 257, 'learning_rate': 0.017481810604130787, 'max_depth': 3}. Best is trial 11 with value: 0.17911076405846202.\n",
      "[I 2025-03-11 18:02:29,997] Trial 47 finished with value: 0.1840235897537125 and parameters: {'n_estimators': 742, 'learning_rate': 0.014767231266736399, 'max_depth': 3}. Best is trial 11 with value: 0.17911076405846202.\n",
      "[I 2025-03-11 18:02:58,261] Trial 48 finished with value: 0.21628678955932207 and parameters: {'n_estimators': 3443, 'learning_rate': 0.02125711374453153, 'max_depth': 3}. Best is trial 11 with value: 0.17911076405846202.\n",
      "[I 2025-03-11 18:03:00,135] Trial 49 finished with value: 0.1804355662567411 and parameters: {'n_estimators': 158, 'learning_rate': 0.03952221866583937, 'max_depth': 3}. Best is trial 11 with value: 0.17911076405846202.\n",
      "Best Hyperparameters: {'n_estimators': 346, 'learning_rate': 0.010193615589609411, 'max_depth': 3}\n",
      "Best MSE: 0.17911076405846202\n"
     ]
    }
   ],
   "source": [
    "# Best Hyperparameters: {'n_estimators': 346, 'learning_rate': 0.010193615589609411, 'max_depth': 3}\n",
    "\n",
    "\n",
    "def objective_xgb(trial):\n",
    "    # 定义需要优化的参数\n",
    "    param_grid = {\n",
    "        'n_estimators': trial.suggest_int('n_estimators', 100, 5000),  # 迭代次数\n",
    "        'learning_rate': trial.suggest_float('learning_rate', 0.01, 0.1, log = True),  # 学习率\n",
    "        'max_depth': trial.suggest_int('max_depth', 3, 10)  # 树的最大深度\n",
    "    }\n",
    "\n",
    "    # 定义 Pipeline\n",
    "    pipeline = Pipeline([\n",
    "        ('imputer', SimpleImputer(strategy='mean')),\n",
    "        ('scaler', StandardScaler()),\n",
    "        ('xgb', XGBRegressor(**param_grid, device=\"gpu\", random_state=42))\n",
    "    ])\n",
    "\n",
    "    # 使用交叉验证计算均方误差\n",
    "    cv_scores = cross_val_score(pipeline, X, games['Pred'], cv=5, scoring=\"neg_mean_squared_error\")\n",
    "    mse = -cv_scores.mean()  # 转换为 MSE\n",
    "    return mse\n",
    "\n",
    "# 创建 Optuna 研究对象\n",
    "study_xgb = optuna.create_study(direction='minimize')  # 最小化 MSE\n",
    "\n",
    "# 运行优化\n",
    "study_xgb.optimize(objective_xgb, n_trials=50, show_progress_bar=True)  # 运行 50 次试验\n",
    "\n",
    "# 获取最佳超参数\n",
    "best_params_xgb = study_xgb.best_params\n",
    "best_score_xgb = study_xgb.best_value\n",
    "\n",
    "print(\"Best Hyperparameters:\", best_params_xgb)\n",
    "print(\"Best MSE:\", best_score_xgb)\n",
    "\n"
   ]
  },
  {
   "cell_type": "code",
   "execution_count": null,
   "metadata": {},
   "outputs": [
    {
     "data": {
      "application/vnd.plotly.v1+json": {
       "config": {
        "plotlyServerURL": "https://plot.ly"
       },
       "data": [
        {
         "mode": "markers",
         "name": "Objective Value",
         "type": "scatter",
         "x": [
          0,
          1,
          2,
          3,
          4,
          5,
          6,
          7,
          8,
          9,
          10,
          11,
          12,
          13,
          14,
          15,
          16,
          17,
          18,
          19,
          20,
          21,
          22,
          23,
          24,
          25,
          26,
          27,
          28,
          29,
          30,
          31,
          32,
          33,
          34,
          35,
          36,
          37,
          38,
          39,
          40,
          41,
          42,
          43,
          44,
          45,
          46,
          47,
          48,
          49
         ],
         "y": [
          0.20525047989684375,
          0.20180807192999226,
          0.19855714350173667,
          0.18055024312827941,
          0.21090628538223002,
          0.2003969337008486,
          0.2033778934197822,
          0.20166893040614423,
          0.2052989688618859,
          0.20380116468066484,
          0.18634824861512567,
          0.17911076405846202,
          0.18308107369234444,
          0.19107592818163782,
          0.20050496038506785,
          0.18883011051791745,
          0.1870312772879911,
          0.20685114754163933,
          0.19882720600407605,
          0.18326481257186455,
          0.19914854028731238,
          0.18424035600926203,
          0.18075657702602155,
          0.19673379224318305,
          0.18126668293593706,
          0.20132288627262596,
          0.18522468194274816,
          0.1850741023316105,
          0.2024232535555081,
          0.19961158083530198,
          0.2129231616074306,
          0.181339375827132,
          0.18578221846732126,
          0.207155218620212,
          0.18030849819881806,
          0.1836331785016697,
          0.19489066375494282,
          0.20605849133833587,
          0.219367127522807,
          0.21794621800098554,
          0.2057181248516735,
          0.18222907261241317,
          0.17935855909958953,
          0.1791878736399854,
          0.17916237768727414,
          0.17918005816818358,
          0.17936203517137342,
          0.1840235897537125,
          0.21628678955932207,
          0.1804355662567411
         ]
        },
        {
         "mode": "lines",
         "name": "Best Value",
         "type": "scatter",
         "x": [
          0,
          1,
          2,
          3,
          4,
          5,
          6,
          7,
          8,
          9,
          10,
          11,
          12,
          13,
          14,
          15,
          16,
          17,
          18,
          19,
          20,
          21,
          22,
          23,
          24,
          25,
          26,
          27,
          28,
          29,
          30,
          31,
          32,
          33,
          34,
          35,
          36,
          37,
          38,
          39,
          40,
          41,
          42,
          43,
          44,
          45,
          46,
          47,
          48,
          49
         ],
         "y": [
          0.20525047989684375,
          0.20180807192999226,
          0.19855714350173667,
          0.18055024312827941,
          0.18055024312827941,
          0.18055024312827941,
          0.18055024312827941,
          0.18055024312827941,
          0.18055024312827941,
          0.18055024312827941,
          0.18055024312827941,
          0.17911076405846202,
          0.17911076405846202,
          0.17911076405846202,
          0.17911076405846202,
          0.17911076405846202,
          0.17911076405846202,
          0.17911076405846202,
          0.17911076405846202,
          0.17911076405846202,
          0.17911076405846202,
          0.17911076405846202,
          0.17911076405846202,
          0.17911076405846202,
          0.17911076405846202,
          0.17911076405846202,
          0.17911076405846202,
          0.17911076405846202,
          0.17911076405846202,
          0.17911076405846202,
          0.17911076405846202,
          0.17911076405846202,
          0.17911076405846202,
          0.17911076405846202,
          0.17911076405846202,
          0.17911076405846202,
          0.17911076405846202,
          0.17911076405846202,
          0.17911076405846202,
          0.17911076405846202,
          0.17911076405846202,
          0.17911076405846202,
          0.17911076405846202,
          0.17911076405846202,
          0.17911076405846202,
          0.17911076405846202,
          0.17911076405846202,
          0.17911076405846202,
          0.17911076405846202,
          0.17911076405846202
         ]
        },
        {
         "marker": {
          "color": "#cccccc"
         },
         "mode": "markers",
         "name": "Infeasible Trial",
         "showlegend": false,
         "type": "scatter",
         "x": [],
         "y": []
        }
       ],
       "layout": {
        "template": {
         "data": {
          "bar": [
           {
            "error_x": {
             "color": "#2a3f5f"
            },
            "error_y": {
             "color": "#2a3f5f"
            },
            "marker": {
             "line": {
              "color": "#E5ECF6",
              "width": 0.5
             },
             "pattern": {
              "fillmode": "overlay",
              "size": 10,
              "solidity": 0.2
             }
            },
            "type": "bar"
           }
          ],
          "barpolar": [
           {
            "marker": {
             "line": {
              "color": "#E5ECF6",
              "width": 0.5
             },
             "pattern": {
              "fillmode": "overlay",
              "size": 10,
              "solidity": 0.2
             }
            },
            "type": "barpolar"
           }
          ],
          "carpet": [
           {
            "aaxis": {
             "endlinecolor": "#2a3f5f",
             "gridcolor": "white",
             "linecolor": "white",
             "minorgridcolor": "white",
             "startlinecolor": "#2a3f5f"
            },
            "baxis": {
             "endlinecolor": "#2a3f5f",
             "gridcolor": "white",
             "linecolor": "white",
             "minorgridcolor": "white",
             "startlinecolor": "#2a3f5f"
            },
            "type": "carpet"
           }
          ],
          "choropleth": [
           {
            "colorbar": {
             "outlinewidth": 0,
             "ticks": ""
            },
            "type": "choropleth"
           }
          ],
          "contour": [
           {
            "colorbar": {
             "outlinewidth": 0,
             "ticks": ""
            },
            "colorscale": [
             [
              0,
              "#0d0887"
             ],
             [
              0.1111111111111111,
              "#46039f"
             ],
             [
              0.2222222222222222,
              "#7201a8"
             ],
             [
              0.3333333333333333,
              "#9c179e"
             ],
             [
              0.4444444444444444,
              "#bd3786"
             ],
             [
              0.5555555555555556,
              "#d8576b"
             ],
             [
              0.6666666666666666,
              "#ed7953"
             ],
             [
              0.7777777777777778,
              "#fb9f3a"
             ],
             [
              0.8888888888888888,
              "#fdca26"
             ],
             [
              1,
              "#f0f921"
             ]
            ],
            "type": "contour"
           }
          ],
          "contourcarpet": [
           {
            "colorbar": {
             "outlinewidth": 0,
             "ticks": ""
            },
            "type": "contourcarpet"
           }
          ],
          "heatmap": [
           {
            "colorbar": {
             "outlinewidth": 0,
             "ticks": ""
            },
            "colorscale": [
             [
              0,
              "#0d0887"
             ],
             [
              0.1111111111111111,
              "#46039f"
             ],
             [
              0.2222222222222222,
              "#7201a8"
             ],
             [
              0.3333333333333333,
              "#9c179e"
             ],
             [
              0.4444444444444444,
              "#bd3786"
             ],
             [
              0.5555555555555556,
              "#d8576b"
             ],
             [
              0.6666666666666666,
              "#ed7953"
             ],
             [
              0.7777777777777778,
              "#fb9f3a"
             ],
             [
              0.8888888888888888,
              "#fdca26"
             ],
             [
              1,
              "#f0f921"
             ]
            ],
            "type": "heatmap"
           }
          ],
          "histogram": [
           {
            "marker": {
             "pattern": {
              "fillmode": "overlay",
              "size": 10,
              "solidity": 0.2
             }
            },
            "type": "histogram"
           }
          ],
          "histogram2d": [
           {
            "colorbar": {
             "outlinewidth": 0,
             "ticks": ""
            },
            "colorscale": [
             [
              0,
              "#0d0887"
             ],
             [
              0.1111111111111111,
              "#46039f"
             ],
             [
              0.2222222222222222,
              "#7201a8"
             ],
             [
              0.3333333333333333,
              "#9c179e"
             ],
             [
              0.4444444444444444,
              "#bd3786"
             ],
             [
              0.5555555555555556,
              "#d8576b"
             ],
             [
              0.6666666666666666,
              "#ed7953"
             ],
             [
              0.7777777777777778,
              "#fb9f3a"
             ],
             [
              0.8888888888888888,
              "#fdca26"
             ],
             [
              1,
              "#f0f921"
             ]
            ],
            "type": "histogram2d"
           }
          ],
          "histogram2dcontour": [
           {
            "colorbar": {
             "outlinewidth": 0,
             "ticks": ""
            },
            "colorscale": [
             [
              0,
              "#0d0887"
             ],
             [
              0.1111111111111111,
              "#46039f"
             ],
             [
              0.2222222222222222,
              "#7201a8"
             ],
             [
              0.3333333333333333,
              "#9c179e"
             ],
             [
              0.4444444444444444,
              "#bd3786"
             ],
             [
              0.5555555555555556,
              "#d8576b"
             ],
             [
              0.6666666666666666,
              "#ed7953"
             ],
             [
              0.7777777777777778,
              "#fb9f3a"
             ],
             [
              0.8888888888888888,
              "#fdca26"
             ],
             [
              1,
              "#f0f921"
             ]
            ],
            "type": "histogram2dcontour"
           }
          ],
          "mesh3d": [
           {
            "colorbar": {
             "outlinewidth": 0,
             "ticks": ""
            },
            "type": "mesh3d"
           }
          ],
          "parcoords": [
           {
            "line": {
             "colorbar": {
              "outlinewidth": 0,
              "ticks": ""
             }
            },
            "type": "parcoords"
           }
          ],
          "pie": [
           {
            "automargin": true,
            "type": "pie"
           }
          ],
          "scatter": [
           {
            "fillpattern": {
             "fillmode": "overlay",
             "size": 10,
             "solidity": 0.2
            },
            "type": "scatter"
           }
          ],
          "scatter3d": [
           {
            "line": {
             "colorbar": {
              "outlinewidth": 0,
              "ticks": ""
             }
            },
            "marker": {
             "colorbar": {
              "outlinewidth": 0,
              "ticks": ""
             }
            },
            "type": "scatter3d"
           }
          ],
          "scattercarpet": [
           {
            "marker": {
             "colorbar": {
              "outlinewidth": 0,
              "ticks": ""
             }
            },
            "type": "scattercarpet"
           }
          ],
          "scattergeo": [
           {
            "marker": {
             "colorbar": {
              "outlinewidth": 0,
              "ticks": ""
             }
            },
            "type": "scattergeo"
           }
          ],
          "scattergl": [
           {
            "marker": {
             "colorbar": {
              "outlinewidth": 0,
              "ticks": ""
             }
            },
            "type": "scattergl"
           }
          ],
          "scattermap": [
           {
            "marker": {
             "colorbar": {
              "outlinewidth": 0,
              "ticks": ""
             }
            },
            "type": "scattermap"
           }
          ],
          "scattermapbox": [
           {
            "marker": {
             "colorbar": {
              "outlinewidth": 0,
              "ticks": ""
             }
            },
            "type": "scattermapbox"
           }
          ],
          "scatterpolar": [
           {
            "marker": {
             "colorbar": {
              "outlinewidth": 0,
              "ticks": ""
             }
            },
            "type": "scatterpolar"
           }
          ],
          "scatterpolargl": [
           {
            "marker": {
             "colorbar": {
              "outlinewidth": 0,
              "ticks": ""
             }
            },
            "type": "scatterpolargl"
           }
          ],
          "scatterternary": [
           {
            "marker": {
             "colorbar": {
              "outlinewidth": 0,
              "ticks": ""
             }
            },
            "type": "scatterternary"
           }
          ],
          "surface": [
           {
            "colorbar": {
             "outlinewidth": 0,
             "ticks": ""
            },
            "colorscale": [
             [
              0,
              "#0d0887"
             ],
             [
              0.1111111111111111,
              "#46039f"
             ],
             [
              0.2222222222222222,
              "#7201a8"
             ],
             [
              0.3333333333333333,
              "#9c179e"
             ],
             [
              0.4444444444444444,
              "#bd3786"
             ],
             [
              0.5555555555555556,
              "#d8576b"
             ],
             [
              0.6666666666666666,
              "#ed7953"
             ],
             [
              0.7777777777777778,
              "#fb9f3a"
             ],
             [
              0.8888888888888888,
              "#fdca26"
             ],
             [
              1,
              "#f0f921"
             ]
            ],
            "type": "surface"
           }
          ],
          "table": [
           {
            "cells": {
             "fill": {
              "color": "#EBF0F8"
             },
             "line": {
              "color": "white"
             }
            },
            "header": {
             "fill": {
              "color": "#C8D4E3"
             },
             "line": {
              "color": "white"
             }
            },
            "type": "table"
           }
          ]
         },
         "layout": {
          "annotationdefaults": {
           "arrowcolor": "#2a3f5f",
           "arrowhead": 0,
           "arrowwidth": 1
          },
          "autotypenumbers": "strict",
          "coloraxis": {
           "colorbar": {
            "outlinewidth": 0,
            "ticks": ""
           }
          },
          "colorscale": {
           "diverging": [
            [
             0,
             "#8e0152"
            ],
            [
             0.1,
             "#c51b7d"
            ],
            [
             0.2,
             "#de77ae"
            ],
            [
             0.3,
             "#f1b6da"
            ],
            [
             0.4,
             "#fde0ef"
            ],
            [
             0.5,
             "#f7f7f7"
            ],
            [
             0.6,
             "#e6f5d0"
            ],
            [
             0.7,
             "#b8e186"
            ],
            [
             0.8,
             "#7fbc41"
            ],
            [
             0.9,
             "#4d9221"
            ],
            [
             1,
             "#276419"
            ]
           ],
           "sequential": [
            [
             0,
             "#0d0887"
            ],
            [
             0.1111111111111111,
             "#46039f"
            ],
            [
             0.2222222222222222,
             "#7201a8"
            ],
            [
             0.3333333333333333,
             "#9c179e"
            ],
            [
             0.4444444444444444,
             "#bd3786"
            ],
            [
             0.5555555555555556,
             "#d8576b"
            ],
            [
             0.6666666666666666,
             "#ed7953"
            ],
            [
             0.7777777777777778,
             "#fb9f3a"
            ],
            [
             0.8888888888888888,
             "#fdca26"
            ],
            [
             1,
             "#f0f921"
            ]
           ],
           "sequentialminus": [
            [
             0,
             "#0d0887"
            ],
            [
             0.1111111111111111,
             "#46039f"
            ],
            [
             0.2222222222222222,
             "#7201a8"
            ],
            [
             0.3333333333333333,
             "#9c179e"
            ],
            [
             0.4444444444444444,
             "#bd3786"
            ],
            [
             0.5555555555555556,
             "#d8576b"
            ],
            [
             0.6666666666666666,
             "#ed7953"
            ],
            [
             0.7777777777777778,
             "#fb9f3a"
            ],
            [
             0.8888888888888888,
             "#fdca26"
            ],
            [
             1,
             "#f0f921"
            ]
           ]
          },
          "colorway": [
           "#636efa",
           "#EF553B",
           "#00cc96",
           "#ab63fa",
           "#FFA15A",
           "#19d3f3",
           "#FF6692",
           "#B6E880",
           "#FF97FF",
           "#FECB52"
          ],
          "font": {
           "color": "#2a3f5f"
          },
          "geo": {
           "bgcolor": "white",
           "lakecolor": "white",
           "landcolor": "#E5ECF6",
           "showlakes": true,
           "showland": true,
           "subunitcolor": "white"
          },
          "hoverlabel": {
           "align": "left"
          },
          "hovermode": "closest",
          "mapbox": {
           "style": "light"
          },
          "paper_bgcolor": "white",
          "plot_bgcolor": "#E5ECF6",
          "polar": {
           "angularaxis": {
            "gridcolor": "white",
            "linecolor": "white",
            "ticks": ""
           },
           "bgcolor": "#E5ECF6",
           "radialaxis": {
            "gridcolor": "white",
            "linecolor": "white",
            "ticks": ""
           }
          },
          "scene": {
           "xaxis": {
            "backgroundcolor": "#E5ECF6",
            "gridcolor": "white",
            "gridwidth": 2,
            "linecolor": "white",
            "showbackground": true,
            "ticks": "",
            "zerolinecolor": "white"
           },
           "yaxis": {
            "backgroundcolor": "#E5ECF6",
            "gridcolor": "white",
            "gridwidth": 2,
            "linecolor": "white",
            "showbackground": true,
            "ticks": "",
            "zerolinecolor": "white"
           },
           "zaxis": {
            "backgroundcolor": "#E5ECF6",
            "gridcolor": "white",
            "gridwidth": 2,
            "linecolor": "white",
            "showbackground": true,
            "ticks": "",
            "zerolinecolor": "white"
           }
          },
          "shapedefaults": {
           "line": {
            "color": "#2a3f5f"
           }
          },
          "ternary": {
           "aaxis": {
            "gridcolor": "white",
            "linecolor": "white",
            "ticks": ""
           },
           "baxis": {
            "gridcolor": "white",
            "linecolor": "white",
            "ticks": ""
           },
           "bgcolor": "#E5ECF6",
           "caxis": {
            "gridcolor": "white",
            "linecolor": "white",
            "ticks": ""
           }
          },
          "title": {
           "x": 0.05
          },
          "xaxis": {
           "automargin": true,
           "gridcolor": "white",
           "linecolor": "white",
           "ticks": "",
           "title": {
            "standoff": 15
           },
           "zerolinecolor": "white",
           "zerolinewidth": 2
          },
          "yaxis": {
           "automargin": true,
           "gridcolor": "white",
           "linecolor": "white",
           "ticks": "",
           "title": {
            "standoff": 15
           },
           "zerolinecolor": "white",
           "zerolinewidth": 2
          }
         }
        },
        "title": {
         "text": "Optimization History Plot"
        },
        "xaxis": {
         "title": {
          "text": "Trial"
         }
        },
        "yaxis": {
         "title": {
          "text": "Objective Value"
         }
        }
       }
      }
     },
     "metadata": {},
     "output_type": "display_data"
    },
    {
     "data": {
      "application/vnd.plotly.v1+json": {
       "config": {
        "plotlyServerURL": "https://plot.ly"
       },
       "data": [
        {
         "cliponaxis": false,
         "hovertemplate": [
          "max_depth (IntDistribution): 0.08442353701594081<extra></extra>",
          "learning_rate (FloatDistribution): 0.16224415623709804<extra></extra>",
          "n_estimators (IntDistribution): 0.7533323067469613<extra></extra>"
         ],
         "name": "Objective Value",
         "orientation": "h",
         "text": [
          "0.08",
          "0.16",
          "0.75"
         ],
         "textposition": "outside",
         "type": "bar",
         "x": [
          0.08442353701594081,
          0.16224415623709804,
          0.7533323067469613
         ],
         "y": [
          "max_depth",
          "learning_rate",
          "n_estimators"
         ]
        }
       ],
       "layout": {
        "template": {
         "data": {
          "bar": [
           {
            "error_x": {
             "color": "#2a3f5f"
            },
            "error_y": {
             "color": "#2a3f5f"
            },
            "marker": {
             "line": {
              "color": "#E5ECF6",
              "width": 0.5
             },
             "pattern": {
              "fillmode": "overlay",
              "size": 10,
              "solidity": 0.2
             }
            },
            "type": "bar"
           }
          ],
          "barpolar": [
           {
            "marker": {
             "line": {
              "color": "#E5ECF6",
              "width": 0.5
             },
             "pattern": {
              "fillmode": "overlay",
              "size": 10,
              "solidity": 0.2
             }
            },
            "type": "barpolar"
           }
          ],
          "carpet": [
           {
            "aaxis": {
             "endlinecolor": "#2a3f5f",
             "gridcolor": "white",
             "linecolor": "white",
             "minorgridcolor": "white",
             "startlinecolor": "#2a3f5f"
            },
            "baxis": {
             "endlinecolor": "#2a3f5f",
             "gridcolor": "white",
             "linecolor": "white",
             "minorgridcolor": "white",
             "startlinecolor": "#2a3f5f"
            },
            "type": "carpet"
           }
          ],
          "choropleth": [
           {
            "colorbar": {
             "outlinewidth": 0,
             "ticks": ""
            },
            "type": "choropleth"
           }
          ],
          "contour": [
           {
            "colorbar": {
             "outlinewidth": 0,
             "ticks": ""
            },
            "colorscale": [
             [
              0,
              "#0d0887"
             ],
             [
              0.1111111111111111,
              "#46039f"
             ],
             [
              0.2222222222222222,
              "#7201a8"
             ],
             [
              0.3333333333333333,
              "#9c179e"
             ],
             [
              0.4444444444444444,
              "#bd3786"
             ],
             [
              0.5555555555555556,
              "#d8576b"
             ],
             [
              0.6666666666666666,
              "#ed7953"
             ],
             [
              0.7777777777777778,
              "#fb9f3a"
             ],
             [
              0.8888888888888888,
              "#fdca26"
             ],
             [
              1,
              "#f0f921"
             ]
            ],
            "type": "contour"
           }
          ],
          "contourcarpet": [
           {
            "colorbar": {
             "outlinewidth": 0,
             "ticks": ""
            },
            "type": "contourcarpet"
           }
          ],
          "heatmap": [
           {
            "colorbar": {
             "outlinewidth": 0,
             "ticks": ""
            },
            "colorscale": [
             [
              0,
              "#0d0887"
             ],
             [
              0.1111111111111111,
              "#46039f"
             ],
             [
              0.2222222222222222,
              "#7201a8"
             ],
             [
              0.3333333333333333,
              "#9c179e"
             ],
             [
              0.4444444444444444,
              "#bd3786"
             ],
             [
              0.5555555555555556,
              "#d8576b"
             ],
             [
              0.6666666666666666,
              "#ed7953"
             ],
             [
              0.7777777777777778,
              "#fb9f3a"
             ],
             [
              0.8888888888888888,
              "#fdca26"
             ],
             [
              1,
              "#f0f921"
             ]
            ],
            "type": "heatmap"
           }
          ],
          "histogram": [
           {
            "marker": {
             "pattern": {
              "fillmode": "overlay",
              "size": 10,
              "solidity": 0.2
             }
            },
            "type": "histogram"
           }
          ],
          "histogram2d": [
           {
            "colorbar": {
             "outlinewidth": 0,
             "ticks": ""
            },
            "colorscale": [
             [
              0,
              "#0d0887"
             ],
             [
              0.1111111111111111,
              "#46039f"
             ],
             [
              0.2222222222222222,
              "#7201a8"
             ],
             [
              0.3333333333333333,
              "#9c179e"
             ],
             [
              0.4444444444444444,
              "#bd3786"
             ],
             [
              0.5555555555555556,
              "#d8576b"
             ],
             [
              0.6666666666666666,
              "#ed7953"
             ],
             [
              0.7777777777777778,
              "#fb9f3a"
             ],
             [
              0.8888888888888888,
              "#fdca26"
             ],
             [
              1,
              "#f0f921"
             ]
            ],
            "type": "histogram2d"
           }
          ],
          "histogram2dcontour": [
           {
            "colorbar": {
             "outlinewidth": 0,
             "ticks": ""
            },
            "colorscale": [
             [
              0,
              "#0d0887"
             ],
             [
              0.1111111111111111,
              "#46039f"
             ],
             [
              0.2222222222222222,
              "#7201a8"
             ],
             [
              0.3333333333333333,
              "#9c179e"
             ],
             [
              0.4444444444444444,
              "#bd3786"
             ],
             [
              0.5555555555555556,
              "#d8576b"
             ],
             [
              0.6666666666666666,
              "#ed7953"
             ],
             [
              0.7777777777777778,
              "#fb9f3a"
             ],
             [
              0.8888888888888888,
              "#fdca26"
             ],
             [
              1,
              "#f0f921"
             ]
            ],
            "type": "histogram2dcontour"
           }
          ],
          "mesh3d": [
           {
            "colorbar": {
             "outlinewidth": 0,
             "ticks": ""
            },
            "type": "mesh3d"
           }
          ],
          "parcoords": [
           {
            "line": {
             "colorbar": {
              "outlinewidth": 0,
              "ticks": ""
             }
            },
            "type": "parcoords"
           }
          ],
          "pie": [
           {
            "automargin": true,
            "type": "pie"
           }
          ],
          "scatter": [
           {
            "fillpattern": {
             "fillmode": "overlay",
             "size": 10,
             "solidity": 0.2
            },
            "type": "scatter"
           }
          ],
          "scatter3d": [
           {
            "line": {
             "colorbar": {
              "outlinewidth": 0,
              "ticks": ""
             }
            },
            "marker": {
             "colorbar": {
              "outlinewidth": 0,
              "ticks": ""
             }
            },
            "type": "scatter3d"
           }
          ],
          "scattercarpet": [
           {
            "marker": {
             "colorbar": {
              "outlinewidth": 0,
              "ticks": ""
             }
            },
            "type": "scattercarpet"
           }
          ],
          "scattergeo": [
           {
            "marker": {
             "colorbar": {
              "outlinewidth": 0,
              "ticks": ""
             }
            },
            "type": "scattergeo"
           }
          ],
          "scattergl": [
           {
            "marker": {
             "colorbar": {
              "outlinewidth": 0,
              "ticks": ""
             }
            },
            "type": "scattergl"
           }
          ],
          "scattermap": [
           {
            "marker": {
             "colorbar": {
              "outlinewidth": 0,
              "ticks": ""
             }
            },
            "type": "scattermap"
           }
          ],
          "scattermapbox": [
           {
            "marker": {
             "colorbar": {
              "outlinewidth": 0,
              "ticks": ""
             }
            },
            "type": "scattermapbox"
           }
          ],
          "scatterpolar": [
           {
            "marker": {
             "colorbar": {
              "outlinewidth": 0,
              "ticks": ""
             }
            },
            "type": "scatterpolar"
           }
          ],
          "scatterpolargl": [
           {
            "marker": {
             "colorbar": {
              "outlinewidth": 0,
              "ticks": ""
             }
            },
            "type": "scatterpolargl"
           }
          ],
          "scatterternary": [
           {
            "marker": {
             "colorbar": {
              "outlinewidth": 0,
              "ticks": ""
             }
            },
            "type": "scatterternary"
           }
          ],
          "surface": [
           {
            "colorbar": {
             "outlinewidth": 0,
             "ticks": ""
            },
            "colorscale": [
             [
              0,
              "#0d0887"
             ],
             [
              0.1111111111111111,
              "#46039f"
             ],
             [
              0.2222222222222222,
              "#7201a8"
             ],
             [
              0.3333333333333333,
              "#9c179e"
             ],
             [
              0.4444444444444444,
              "#bd3786"
             ],
             [
              0.5555555555555556,
              "#d8576b"
             ],
             [
              0.6666666666666666,
              "#ed7953"
             ],
             [
              0.7777777777777778,
              "#fb9f3a"
             ],
             [
              0.8888888888888888,
              "#fdca26"
             ],
             [
              1,
              "#f0f921"
             ]
            ],
            "type": "surface"
           }
          ],
          "table": [
           {
            "cells": {
             "fill": {
              "color": "#EBF0F8"
             },
             "line": {
              "color": "white"
             }
            },
            "header": {
             "fill": {
              "color": "#C8D4E3"
             },
             "line": {
              "color": "white"
             }
            },
            "type": "table"
           }
          ]
         },
         "layout": {
          "annotationdefaults": {
           "arrowcolor": "#2a3f5f",
           "arrowhead": 0,
           "arrowwidth": 1
          },
          "autotypenumbers": "strict",
          "coloraxis": {
           "colorbar": {
            "outlinewidth": 0,
            "ticks": ""
           }
          },
          "colorscale": {
           "diverging": [
            [
             0,
             "#8e0152"
            ],
            [
             0.1,
             "#c51b7d"
            ],
            [
             0.2,
             "#de77ae"
            ],
            [
             0.3,
             "#f1b6da"
            ],
            [
             0.4,
             "#fde0ef"
            ],
            [
             0.5,
             "#f7f7f7"
            ],
            [
             0.6,
             "#e6f5d0"
            ],
            [
             0.7,
             "#b8e186"
            ],
            [
             0.8,
             "#7fbc41"
            ],
            [
             0.9,
             "#4d9221"
            ],
            [
             1,
             "#276419"
            ]
           ],
           "sequential": [
            [
             0,
             "#0d0887"
            ],
            [
             0.1111111111111111,
             "#46039f"
            ],
            [
             0.2222222222222222,
             "#7201a8"
            ],
            [
             0.3333333333333333,
             "#9c179e"
            ],
            [
             0.4444444444444444,
             "#bd3786"
            ],
            [
             0.5555555555555556,
             "#d8576b"
            ],
            [
             0.6666666666666666,
             "#ed7953"
            ],
            [
             0.7777777777777778,
             "#fb9f3a"
            ],
            [
             0.8888888888888888,
             "#fdca26"
            ],
            [
             1,
             "#f0f921"
            ]
           ],
           "sequentialminus": [
            [
             0,
             "#0d0887"
            ],
            [
             0.1111111111111111,
             "#46039f"
            ],
            [
             0.2222222222222222,
             "#7201a8"
            ],
            [
             0.3333333333333333,
             "#9c179e"
            ],
            [
             0.4444444444444444,
             "#bd3786"
            ],
            [
             0.5555555555555556,
             "#d8576b"
            ],
            [
             0.6666666666666666,
             "#ed7953"
            ],
            [
             0.7777777777777778,
             "#fb9f3a"
            ],
            [
             0.8888888888888888,
             "#fdca26"
            ],
            [
             1,
             "#f0f921"
            ]
           ]
          },
          "colorway": [
           "#636efa",
           "#EF553B",
           "#00cc96",
           "#ab63fa",
           "#FFA15A",
           "#19d3f3",
           "#FF6692",
           "#B6E880",
           "#FF97FF",
           "#FECB52"
          ],
          "font": {
           "color": "#2a3f5f"
          },
          "geo": {
           "bgcolor": "white",
           "lakecolor": "white",
           "landcolor": "#E5ECF6",
           "showlakes": true,
           "showland": true,
           "subunitcolor": "white"
          },
          "hoverlabel": {
           "align": "left"
          },
          "hovermode": "closest",
          "mapbox": {
           "style": "light"
          },
          "paper_bgcolor": "white",
          "plot_bgcolor": "#E5ECF6",
          "polar": {
           "angularaxis": {
            "gridcolor": "white",
            "linecolor": "white",
            "ticks": ""
           },
           "bgcolor": "#E5ECF6",
           "radialaxis": {
            "gridcolor": "white",
            "linecolor": "white",
            "ticks": ""
           }
          },
          "scene": {
           "xaxis": {
            "backgroundcolor": "#E5ECF6",
            "gridcolor": "white",
            "gridwidth": 2,
            "linecolor": "white",
            "showbackground": true,
            "ticks": "",
            "zerolinecolor": "white"
           },
           "yaxis": {
            "backgroundcolor": "#E5ECF6",
            "gridcolor": "white",
            "gridwidth": 2,
            "linecolor": "white",
            "showbackground": true,
            "ticks": "",
            "zerolinecolor": "white"
           },
           "zaxis": {
            "backgroundcolor": "#E5ECF6",
            "gridcolor": "white",
            "gridwidth": 2,
            "linecolor": "white",
            "showbackground": true,
            "ticks": "",
            "zerolinecolor": "white"
           }
          },
          "shapedefaults": {
           "line": {
            "color": "#2a3f5f"
           }
          },
          "ternary": {
           "aaxis": {
            "gridcolor": "white",
            "linecolor": "white",
            "ticks": ""
           },
           "baxis": {
            "gridcolor": "white",
            "linecolor": "white",
            "ticks": ""
           },
           "bgcolor": "#E5ECF6",
           "caxis": {
            "gridcolor": "white",
            "linecolor": "white",
            "ticks": ""
           }
          },
          "title": {
           "x": 0.05
          },
          "xaxis": {
           "automargin": true,
           "gridcolor": "white",
           "linecolor": "white",
           "ticks": "",
           "title": {
            "standoff": 15
           },
           "zerolinecolor": "white",
           "zerolinewidth": 2
          },
          "yaxis": {
           "automargin": true,
           "gridcolor": "white",
           "linecolor": "white",
           "ticks": "",
           "title": {
            "standoff": 15
           },
           "zerolinecolor": "white",
           "zerolinewidth": 2
          }
         }
        },
        "title": {
         "text": "Hyperparameter Importances"
        },
        "xaxis": {
         "title": {
          "text": "Hyperparameter Importance"
         }
        },
        "yaxis": {
         "title": {
          "text": "Hyperparameter"
         }
        }
       }
      }
     },
     "metadata": {},
     "output_type": "display_data"
    },
    {
     "data": {
      "application/vnd.plotly.v1+json": {
       "config": {
        "plotlyServerURL": "https://plot.ly"
       },
       "data": [
        {
         "type": "scatter",
         "xaxis": "x",
         "yaxis": "y"
        },
        {
         "colorbar": {
          "title": {
           "text": "Objective Value"
          }
         },
         "colorscale": [
          [
           0,
           "rgb(247,251,255)"
          ],
          [
           0.125,
           "rgb(222,235,247)"
          ],
          [
           0.25,
           "rgb(198,219,239)"
          ],
          [
           0.375,
           "rgb(158,202,225)"
          ],
          [
           0.5,
           "rgb(107,174,214)"
          ],
          [
           0.625,
           "rgb(66,146,198)"
          ],
          [
           0.75,
           "rgb(33,113,181)"
          ],
          [
           0.875,
           "rgb(8,81,156)"
          ],
          [
           1,
           "rgb(8,48,107)"
          ]
         ],
         "connectgaps": true,
         "contours": {
          "coloring": "heatmap"
         },
         "hoverinfo": "none",
         "line": {
          "smoothing": 1.3
         },
         "reversescale": true,
         "showscale": true,
         "type": "contour",
         "x": [
          0.008946338878006593,
          0.01002097009419479,
          0.010055910086152819,
          0.010133066808579087,
          0.010193615589609411,
          0.01022511278821562,
          0.010278757143274194,
          0.010516240933212838,
          0.011037432692707487,
          0.011267991004181866,
          0.011502201969168803,
          0.011519293362194873,
          0.011565928267444223,
          0.011740544092878148,
          0.011884008405209737,
          0.012176912164036973,
          0.012373937457465463,
          0.012660531643925716,
          0.013314145986971995,
          0.013468128926935488,
          0.013646862149007096,
          0.014267397229415172,
          0.014382467879565097,
          0.014653934495354563,
          0.014767231266736399,
          0.015510740406665727,
          0.01574270188993716,
          0.015788172537313527,
          0.01599262588677877,
          0.017481810604130787,
          0.017863072205062076,
          0.01878101843065539,
          0.020237464884070095,
          0.02125711374453153,
          0.02250645729157905,
          0.02358507997950981,
          0.02489157699101714,
          0.025063990094074114,
          0.031339744917907746,
          0.03157824637687656,
          0.0318442432450233,
          0.0338911973248855,
          0.03952221866583937,
          0.041055967754144836,
          0.04241876309125871,
          0.0567614445400209,
          0.06180457930701315,
          0.06944536135195,
          0.08064353673260717,
          0.0931541613782206,
          0.09687198340808519,
          0.1085082134641938
         ],
         "xaxis": "x4",
         "y": [
          2.65,
          3,
          4,
          5,
          6,
          7,
          8,
          9,
          10,
          10.35
         ],
         "yaxis": "y4",
         "z": {
          "bdata": "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",
          "dtype": "f8",
          "shape": "10, 52"
         }
        },
        {
         "marker": {
          "color": "black",
          "line": {
           "color": "Gray",
           "width": 2
          }
         },
         "mode": "markers",
         "name": "Feasible Trial",
         "showlegend": false,
         "type": "scatter",
         "x": [
          0.02358507997950981,
          0.0931541613782206,
          0.041055967754144836,
          0.011502201969168803,
          0.06944536135195,
          0.04241876309125871,
          0.031339744917907746,
          0.03157824637687656,
          0.0318442432450233,
          0.0338911973248855,
          0.01022511278821562,
          0.010193615589609411,
          0.011884008405209737,
          0.01574270188993716,
          0.01599262588677877,
          0.015510740406665727,
          0.02250645729157905,
          0.020237464884070095,
          0.012373937457465463,
          0.010516240933212838,
          0.013314145986971995,
          0.012660531643925716,
          0.010133066808579087,
          0.01878101843065539,
          0.010278757143274194,
          0.015788172537313527,
          0.013646862149007096,
          0.017863072205062076,
          0.025063990094074114,
          0.01002097009419479,
          0.06180457930701315,
          0.011267991004181866,
          0.013468128926935488,
          0.010055910086152819,
          0.011565928267444223,
          0.014267397229415172,
          0.011740544092878148,
          0.0567614445400209,
          0.09687198340808519,
          0.08064353673260717,
          0.02489157699101714,
          0.011037432692707487,
          0.012176912164036973,
          0.011519293362194873,
          0.014382467879565097,
          0.014653934495354563,
          0.017481810604130787,
          0.014767231266736399,
          0.02125711374453153,
          0.03952221866583937
         ],
         "xaxis": "x4",
         "y": [
          6,
          10,
          7,
          3,
          5,
          8,
          10,
          10,
          6,
          6,
          3,
          3,
          3,
          4,
          4,
          4,
          3,
          5,
          8,
          5,
          3,
          3,
          4,
          4,
          4,
          5,
          3,
          4,
          3,
          7,
          5,
          4,
          4,
          3,
          4,
          5,
          9,
          6,
          3,
          4,
          5,
          4,
          3,
          3,
          3,
          3,
          3,
          3,
          3,
          3
         ],
         "yaxis": "y4"
        },
        {
         "colorbar": {
          "title": {
           "text": "Objective Value"
          }
         },
         "colorscale": [
          [
           0,
           "rgb(247,251,255)"
          ],
          [
           0.125,
           "rgb(222,235,247)"
          ],
          [
           0.25,
           "rgb(198,219,239)"
          ],
          [
           0.375,
           "rgb(158,202,225)"
          ],
          [
           0.5,
           "rgb(107,174,214)"
          ],
          [
           0.625,
           "rgb(66,146,198)"
          ],
          [
           0.75,
           "rgb(33,113,181)"
          ],
          [
           0.875,
           "rgb(8,81,156)"
          ],
          [
           1,
           "rgb(8,48,107)"
          ]
         ],
         "connectgaps": true,
         "contours": {
          "coloring": "heatmap"
         },
         "hoverinfo": "none",
         "line": {
          "smoothing": 1.3
         },
         "reversescale": true,
         "showscale": false,
         "type": "contour",
         "x": [
          0.008946338878006593,
          0.01002097009419479,
          0.010055910086152819,
          0.010133066808579087,
          0.010193615589609411,
          0.01022511278821562,
          0.010278757143274194,
          0.010516240933212838,
          0.011037432692707487,
          0.011267991004181866,
          0.011502201969168803,
          0.011519293362194873,
          0.011565928267444223,
          0.011740544092878148,
          0.011884008405209737,
          0.012176912164036973,
          0.012373937457465463,
          0.012660531643925716,
          0.013314145986971995,
          0.013468128926935488,
          0.013646862149007096,
          0.014267397229415172,
          0.014382467879565097,
          0.014653934495354563,
          0.014767231266736399,
          0.015510740406665727,
          0.01574270188993716,
          0.015788172537313527,
          0.01599262588677877,
          0.017481810604130787,
          0.017863072205062076,
          0.01878101843065539,
          0.020237464884070095,
          0.02125711374453153,
          0.02250645729157905,
          0.02358507997950981,
          0.02489157699101714,
          0.025063990094074114,
          0.031339744917907746,
          0.03157824637687656,
          0.0318442432450233,
          0.0338911973248855,
          0.03952221866583937,
          0.041055967754144836,
          0.04241876309125871,
          0.0567614445400209,
          0.06180457930701315,
          0.06944536135195,
          0.08064353673260717,
          0.0931541613782206,
          0.09687198340808519,
          0.1085082134641938
         ],
         "xaxis": "x7",
         "y": [
          -127.95000000000002,
          116,
          124,
          136,
          158,
          257,
          271,
          280,
          291,
          305,
          333,
          346,
          350,
          374,
          495,
          502,
          520,
          532,
          555,
          573,
          603,
          618,
          742,
          770,
          846,
          847,
          919,
          974,
          1068,
          1131,
          1213,
          1281,
          1333,
          1481,
          1532,
          1557,
          1843,
          1853,
          1913,
          2382,
          2455,
          2766,
          2883,
          2926,
          3443,
          3489,
          3879,
          3887,
          4437,
          4500,
          4995,
          5238.95
         ],
         "yaxis": "y7",
         "z": {
          "bdata": "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",
          "dtype": "f8",
          "shape": "52, 52"
         }
        },
        {
         "marker": {
          "color": "black",
          "line": {
           "color": "Gray",
           "width": 2
          }
         },
         "mode": "markers",
         "name": "Feasible Trial",
         "showlegend": false,
         "type": "scatter",
         "x": [
          0.02358507997950981,
          0.0931541613782206,
          0.041055967754144836,
          0.011502201969168803,
          0.06944536135195,
          0.04241876309125871,
          0.031339744917907746,
          0.03157824637687656,
          0.0318442432450233,
          0.0338911973248855,
          0.01022511278821562,
          0.010193615589609411,
          0.011884008405209737,
          0.01574270188993716,
          0.01599262588677877,
          0.015510740406665727,
          0.02250645729157905,
          0.020237464884070095,
          0.012373937457465463,
          0.010516240933212838,
          0.013314145986971995,
          0.012660531643925716,
          0.010133066808579087,
          0.01878101843065539,
          0.010278757143274194,
          0.015788172537313527,
          0.013646862149007096,
          0.017863072205062076,
          0.025063990094074114,
          0.01002097009419479,
          0.06180457930701315,
          0.011267991004181866,
          0.013468128926935488,
          0.010055910086152819,
          0.011565928267444223,
          0.014267397229415172,
          0.011740544092878148,
          0.0567614445400209,
          0.09687198340808519,
          0.08064353673260717,
          0.02489157699101714,
          0.011037432692707487,
          0.012176912164036973,
          0.011519293362194873,
          0.014382467879565097,
          0.014653934495354563,
          0.017481810604130787,
          0.014767231266736399,
          0.02125711374453153,
          0.03952221866583937
         ],
         "xaxis": "x7",
         "y": [
          2766,
          3887,
          4437,
          555,
          3489,
          1281,
          2455,
          1333,
          3879,
          4500,
          124,
          346,
          136,
          974,
          1853,
          846,
          618,
          1913,
          1843,
          502,
          2382,
          116,
          495,
          1213,
          573,
          1557,
          919,
          520,
          1532,
          2926,
          2883,
          532,
          770,
          4995,
          333,
          374,
          291,
          1131,
          847,
          1068,
          1481,
          603,
          350,
          305,
          280,
          271,
          257,
          742,
          3443,
          158
         ],
         "yaxis": "y7"
        },
        {
         "colorbar": {
          "title": {
           "text": "Objective Value"
          }
         },
         "colorscale": [
          [
           0,
           "rgb(247,251,255)"
          ],
          [
           0.125,
           "rgb(222,235,247)"
          ],
          [
           0.25,
           "rgb(198,219,239)"
          ],
          [
           0.375,
           "rgb(158,202,225)"
          ],
          [
           0.5,
           "rgb(107,174,214)"
          ],
          [
           0.625,
           "rgb(66,146,198)"
          ],
          [
           0.75,
           "rgb(33,113,181)"
          ],
          [
           0.875,
           "rgb(8,81,156)"
          ],
          [
           1,
           "rgb(8,48,107)"
          ]
         ],
         "connectgaps": true,
         "contours": {
          "coloring": "heatmap"
         },
         "hoverinfo": "none",
         "line": {
          "smoothing": 1.3
         },
         "reversescale": true,
         "showscale": false,
         "type": "contour",
         "x": [
          2.65,
          3,
          4,
          5,
          6,
          7,
          8,
          9,
          10,
          10.35
         ],
         "xaxis": "x2",
         "y": [
          0.008946338878006593,
          0.01002097009419479,
          0.010055910086152819,
          0.010133066808579087,
          0.010193615589609411,
          0.01022511278821562,
          0.010278757143274194,
          0.010516240933212838,
          0.011037432692707487,
          0.011267991004181866,
          0.011502201969168803,
          0.011519293362194873,
          0.011565928267444223,
          0.011740544092878148,
          0.011884008405209737,
          0.012176912164036973,
          0.012373937457465463,
          0.012660531643925716,
          0.013314145986971995,
          0.013468128926935488,
          0.013646862149007096,
          0.014267397229415172,
          0.014382467879565097,
          0.014653934495354563,
          0.014767231266736399,
          0.015510740406665727,
          0.01574270188993716,
          0.015788172537313527,
          0.01599262588677877,
          0.017481810604130787,
          0.017863072205062076,
          0.01878101843065539,
          0.020237464884070095,
          0.02125711374453153,
          0.02250645729157905,
          0.02358507997950981,
          0.02489157699101714,
          0.025063990094074114,
          0.031339744917907746,
          0.03157824637687656,
          0.0318442432450233,
          0.0338911973248855,
          0.03952221866583937,
          0.041055967754144836,
          0.04241876309125871,
          0.0567614445400209,
          0.06180457930701315,
          0.06944536135195,
          0.08064353673260717,
          0.0931541613782206,
          0.09687198340808519,
          0.1085082134641938
         ],
         "yaxis": "y2",
         "z": {
          "bdata": "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",
          "dtype": "f8",
          "shape": "52, 10"
         }
        },
        {
         "marker": {
          "color": "black",
          "line": {
           "color": "Gray",
           "width": 2
          }
         },
         "mode": "markers",
         "name": "Feasible Trial",
         "showlegend": false,
         "type": "scatter",
         "x": [
          6,
          10,
          7,
          3,
          5,
          8,
          10,
          10,
          6,
          6,
          3,
          3,
          3,
          4,
          4,
          4,
          3,
          5,
          8,
          5,
          3,
          3,
          4,
          4,
          4,
          5,
          3,
          4,
          3,
          7,
          5,
          4,
          4,
          3,
          4,
          5,
          9,
          6,
          3,
          4,
          5,
          4,
          3,
          3,
          3,
          3,
          3,
          3,
          3,
          3
         ],
         "xaxis": "x2",
         "y": [
          0.02358507997950981,
          0.0931541613782206,
          0.041055967754144836,
          0.011502201969168803,
          0.06944536135195,
          0.04241876309125871,
          0.031339744917907746,
          0.03157824637687656,
          0.0318442432450233,
          0.0338911973248855,
          0.01022511278821562,
          0.010193615589609411,
          0.011884008405209737,
          0.01574270188993716,
          0.01599262588677877,
          0.015510740406665727,
          0.02250645729157905,
          0.020237464884070095,
          0.012373937457465463,
          0.010516240933212838,
          0.013314145986971995,
          0.012660531643925716,
          0.010133066808579087,
          0.01878101843065539,
          0.010278757143274194,
          0.015788172537313527,
          0.013646862149007096,
          0.017863072205062076,
          0.025063990094074114,
          0.01002097009419479,
          0.06180457930701315,
          0.011267991004181866,
          0.013468128926935488,
          0.010055910086152819,
          0.011565928267444223,
          0.014267397229415172,
          0.011740544092878148,
          0.0567614445400209,
          0.09687198340808519,
          0.08064353673260717,
          0.02489157699101714,
          0.011037432692707487,
          0.012176912164036973,
          0.011519293362194873,
          0.014382467879565097,
          0.014653934495354563,
          0.017481810604130787,
          0.014767231266736399,
          0.02125711374453153,
          0.03952221866583937
         ],
         "yaxis": "y2"
        },
        {
         "type": "scatter",
         "xaxis": "x5",
         "yaxis": "y5"
        },
        {
         "colorbar": {
          "title": {
           "text": "Objective Value"
          }
         },
         "colorscale": [
          [
           0,
           "rgb(247,251,255)"
          ],
          [
           0.125,
           "rgb(222,235,247)"
          ],
          [
           0.25,
           "rgb(198,219,239)"
          ],
          [
           0.375,
           "rgb(158,202,225)"
          ],
          [
           0.5,
           "rgb(107,174,214)"
          ],
          [
           0.625,
           "rgb(66,146,198)"
          ],
          [
           0.75,
           "rgb(33,113,181)"
          ],
          [
           0.875,
           "rgb(8,81,156)"
          ],
          [
           1,
           "rgb(8,48,107)"
          ]
         ],
         "connectgaps": true,
         "contours": {
          "coloring": "heatmap"
         },
         "hoverinfo": "none",
         "line": {
          "smoothing": 1.3
         },
         "reversescale": true,
         "showscale": false,
         "type": "contour",
         "x": [
          2.65,
          3,
          4,
          5,
          6,
          7,
          8,
          9,
          10,
          10.35
         ],
         "xaxis": "x8",
         "y": [
          -127.95000000000002,
          116,
          124,
          136,
          158,
          257,
          271,
          280,
          291,
          305,
          333,
          346,
          350,
          374,
          495,
          502,
          520,
          532,
          555,
          573,
          603,
          618,
          742,
          770,
          846,
          847,
          919,
          974,
          1068,
          1131,
          1213,
          1281,
          1333,
          1481,
          1532,
          1557,
          1843,
          1853,
          1913,
          2382,
          2455,
          2766,
          2883,
          2926,
          3443,
          3489,
          3879,
          3887,
          4437,
          4500,
          4995,
          5238.95
         ],
         "yaxis": "y8",
         "z": {
          "bdata": "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",
          "dtype": "f8",
          "shape": "52, 10"
         }
        },
        {
         "marker": {
          "color": "black",
          "line": {
           "color": "Gray",
           "width": 2
          }
         },
         "mode": "markers",
         "name": "Feasible Trial",
         "showlegend": false,
         "type": "scatter",
         "x": [
          6,
          10,
          7,
          3,
          5,
          8,
          10,
          10,
          6,
          6,
          3,
          3,
          3,
          4,
          4,
          4,
          3,
          5,
          8,
          5,
          3,
          3,
          4,
          4,
          4,
          5,
          3,
          4,
          3,
          7,
          5,
          4,
          4,
          3,
          4,
          5,
          9,
          6,
          3,
          4,
          5,
          4,
          3,
          3,
          3,
          3,
          3,
          3,
          3,
          3
         ],
         "xaxis": "x8",
         "y": [
          2766,
          3887,
          4437,
          555,
          3489,
          1281,
          2455,
          1333,
          3879,
          4500,
          124,
          346,
          136,
          974,
          1853,
          846,
          618,
          1913,
          1843,
          502,
          2382,
          116,
          495,
          1213,
          573,
          1557,
          919,
          520,
          1532,
          2926,
          2883,
          532,
          770,
          4995,
          333,
          374,
          291,
          1131,
          847,
          1068,
          1481,
          603,
          350,
          305,
          280,
          271,
          257,
          742,
          3443,
          158
         ],
         "yaxis": "y8"
        },
        {
         "colorbar": {
          "title": {
           "text": "Objective Value"
          }
         },
         "colorscale": [
          [
           0,
           "rgb(247,251,255)"
          ],
          [
           0.125,
           "rgb(222,235,247)"
          ],
          [
           0.25,
           "rgb(198,219,239)"
          ],
          [
           0.375,
           "rgb(158,202,225)"
          ],
          [
           0.5,
           "rgb(107,174,214)"
          ],
          [
           0.625,
           "rgb(66,146,198)"
          ],
          [
           0.75,
           "rgb(33,113,181)"
          ],
          [
           0.875,
           "rgb(8,81,156)"
          ],
          [
           1,
           "rgb(8,48,107)"
          ]
         ],
         "connectgaps": true,
         "contours": {
          "coloring": "heatmap"
         },
         "hoverinfo": "none",
         "line": {
          "smoothing": 1.3
         },
         "reversescale": true,
         "showscale": false,
         "type": "contour",
         "x": [
          -127.95000000000002,
          116,
          124,
          136,
          158,
          257,
          271,
          280,
          291,
          305,
          333,
          346,
          350,
          374,
          495,
          502,
          520,
          532,
          555,
          573,
          603,
          618,
          742,
          770,
          846,
          847,
          919,
          974,
          1068,
          1131,
          1213,
          1281,
          1333,
          1481,
          1532,
          1557,
          1843,
          1853,
          1913,
          2382,
          2455,
          2766,
          2883,
          2926,
          3443,
          3489,
          3879,
          3887,
          4437,
          4500,
          4995,
          5238.95
         ],
         "xaxis": "x3",
         "y": [
          0.008946338878006593,
          0.01002097009419479,
          0.010055910086152819,
          0.010133066808579087,
          0.010193615589609411,
          0.01022511278821562,
          0.010278757143274194,
          0.010516240933212838,
          0.011037432692707487,
          0.011267991004181866,
          0.011502201969168803,
          0.011519293362194873,
          0.011565928267444223,
          0.011740544092878148,
          0.011884008405209737,
          0.012176912164036973,
          0.012373937457465463,
          0.012660531643925716,
          0.013314145986971995,
          0.013468128926935488,
          0.013646862149007096,
          0.014267397229415172,
          0.014382467879565097,
          0.014653934495354563,
          0.014767231266736399,
          0.015510740406665727,
          0.01574270188993716,
          0.015788172537313527,
          0.01599262588677877,
          0.017481810604130787,
          0.017863072205062076,
          0.01878101843065539,
          0.020237464884070095,
          0.02125711374453153,
          0.02250645729157905,
          0.02358507997950981,
          0.02489157699101714,
          0.025063990094074114,
          0.031339744917907746,
          0.03157824637687656,
          0.0318442432450233,
          0.0338911973248855,
          0.03952221866583937,
          0.041055967754144836,
          0.04241876309125871,
          0.0567614445400209,
          0.06180457930701315,
          0.06944536135195,
          0.08064353673260717,
          0.0931541613782206,
          0.09687198340808519,
          0.1085082134641938
         ],
         "yaxis": "y3",
         "z": {
          "bdata": "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",
          "dtype": "f8",
          "shape": "52, 52"
         }
        },
        {
         "marker": {
          "color": "black",
          "line": {
           "color": "Gray",
           "width": 2
          }
         },
         "mode": "markers",
         "name": "Feasible Trial",
         "showlegend": false,
         "type": "scatter",
         "x": [
          2766,
          3887,
          4437,
          555,
          3489,
          1281,
          2455,
          1333,
          3879,
          4500,
          124,
          346,
          136,
          974,
          1853,
          846,
          618,
          1913,
          1843,
          502,
          2382,
          116,
          495,
          1213,
          573,
          1557,
          919,
          520,
          1532,
          2926,
          2883,
          532,
          770,
          4995,
          333,
          374,
          291,
          1131,
          847,
          1068,
          1481,
          603,
          350,
          305,
          280,
          271,
          257,
          742,
          3443,
          158
         ],
         "xaxis": "x3",
         "y": [
          0.02358507997950981,
          0.0931541613782206,
          0.041055967754144836,
          0.011502201969168803,
          0.06944536135195,
          0.04241876309125871,
          0.031339744917907746,
          0.03157824637687656,
          0.0318442432450233,
          0.0338911973248855,
          0.01022511278821562,
          0.010193615589609411,
          0.011884008405209737,
          0.01574270188993716,
          0.01599262588677877,
          0.015510740406665727,
          0.02250645729157905,
          0.020237464884070095,
          0.012373937457465463,
          0.010516240933212838,
          0.013314145986971995,
          0.012660531643925716,
          0.010133066808579087,
          0.01878101843065539,
          0.010278757143274194,
          0.015788172537313527,
          0.013646862149007096,
          0.017863072205062076,
          0.025063990094074114,
          0.01002097009419479,
          0.06180457930701315,
          0.011267991004181866,
          0.013468128926935488,
          0.010055910086152819,
          0.011565928267444223,
          0.014267397229415172,
          0.011740544092878148,
          0.0567614445400209,
          0.09687198340808519,
          0.08064353673260717,
          0.02489157699101714,
          0.011037432692707487,
          0.012176912164036973,
          0.011519293362194873,
          0.014382467879565097,
          0.014653934495354563,
          0.017481810604130787,
          0.014767231266736399,
          0.02125711374453153,
          0.03952221866583937
         ],
         "yaxis": "y3"
        },
        {
         "colorbar": {
          "title": {
           "text": "Objective Value"
          }
         },
         "colorscale": [
          [
           0,
           "rgb(247,251,255)"
          ],
          [
           0.125,
           "rgb(222,235,247)"
          ],
          [
           0.25,
           "rgb(198,219,239)"
          ],
          [
           0.375,
           "rgb(158,202,225)"
          ],
          [
           0.5,
           "rgb(107,174,214)"
          ],
          [
           0.625,
           "rgb(66,146,198)"
          ],
          [
           0.75,
           "rgb(33,113,181)"
          ],
          [
           0.875,
           "rgb(8,81,156)"
          ],
          [
           1,
           "rgb(8,48,107)"
          ]
         ],
         "connectgaps": true,
         "contours": {
          "coloring": "heatmap"
         },
         "hoverinfo": "none",
         "line": {
          "smoothing": 1.3
         },
         "reversescale": true,
         "showscale": false,
         "type": "contour",
         "x": [
          -127.95000000000002,
          116,
          124,
          136,
          158,
          257,
          271,
          280,
          291,
          305,
          333,
          346,
          350,
          374,
          495,
          502,
          520,
          532,
          555,
          573,
          603,
          618,
          742,
          770,
          846,
          847,
          919,
          974,
          1068,
          1131,
          1213,
          1281,
          1333,
          1481,
          1532,
          1557,
          1843,
          1853,
          1913,
          2382,
          2455,
          2766,
          2883,
          2926,
          3443,
          3489,
          3879,
          3887,
          4437,
          4500,
          4995,
          5238.95
         ],
         "xaxis": "x6",
         "y": [
          2.65,
          3,
          4,
          5,
          6,
          7,
          8,
          9,
          10,
          10.35
         ],
         "yaxis": "y6",
         "z": {
          "bdata": "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",
          "dtype": "f8",
          "shape": "10, 52"
         }
        },
        {
         "marker": {
          "color": "black",
          "line": {
           "color": "Gray",
           "width": 2
          }
         },
         "mode": "markers",
         "name": "Feasible Trial",
         "showlegend": false,
         "type": "scatter",
         "x": [
          2766,
          3887,
          4437,
          555,
          3489,
          1281,
          2455,
          1333,
          3879,
          4500,
          124,
          346,
          136,
          974,
          1853,
          846,
          618,
          1913,
          1843,
          502,
          2382,
          116,
          495,
          1213,
          573,
          1557,
          919,
          520,
          1532,
          2926,
          2883,
          532,
          770,
          4995,
          333,
          374,
          291,
          1131,
          847,
          1068,
          1481,
          603,
          350,
          305,
          280,
          271,
          257,
          742,
          3443,
          158
         ],
         "xaxis": "x6",
         "y": [
          6,
          10,
          7,
          3,
          5,
          8,
          10,
          10,
          6,
          6,
          3,
          3,
          3,
          4,
          4,
          4,
          3,
          5,
          8,
          5,
          3,
          3,
          4,
          4,
          4,
          5,
          3,
          4,
          3,
          7,
          5,
          4,
          4,
          3,
          4,
          5,
          9,
          6,
          3,
          4,
          5,
          4,
          3,
          3,
          3,
          3,
          3,
          3,
          3,
          3
         ],
         "yaxis": "y6"
        },
        {
         "type": "scatter",
         "xaxis": "x9",
         "yaxis": "y9"
        }
       ],
       "layout": {
        "template": {
         "data": {
          "bar": [
           {
            "error_x": {
             "color": "#2a3f5f"
            },
            "error_y": {
             "color": "#2a3f5f"
            },
            "marker": {
             "line": {
              "color": "#E5ECF6",
              "width": 0.5
             },
             "pattern": {
              "fillmode": "overlay",
              "size": 10,
              "solidity": 0.2
             }
            },
            "type": "bar"
           }
          ],
          "barpolar": [
           {
            "marker": {
             "line": {
              "color": "#E5ECF6",
              "width": 0.5
             },
             "pattern": {
              "fillmode": "overlay",
              "size": 10,
              "solidity": 0.2
             }
            },
            "type": "barpolar"
           }
          ],
          "carpet": [
           {
            "aaxis": {
             "endlinecolor": "#2a3f5f",
             "gridcolor": "white",
             "linecolor": "white",
             "minorgridcolor": "white",
             "startlinecolor": "#2a3f5f"
            },
            "baxis": {
             "endlinecolor": "#2a3f5f",
             "gridcolor": "white",
             "linecolor": "white",
             "minorgridcolor": "white",
             "startlinecolor": "#2a3f5f"
            },
            "type": "carpet"
           }
          ],
          "choropleth": [
           {
            "colorbar": {
             "outlinewidth": 0,
             "ticks": ""
            },
            "type": "choropleth"
           }
          ],
          "contour": [
           {
            "colorbar": {
             "outlinewidth": 0,
             "ticks": ""
            },
            "colorscale": [
             [
              0,
              "#0d0887"
             ],
             [
              0.1111111111111111,
              "#46039f"
             ],
             [
              0.2222222222222222,
              "#7201a8"
             ],
             [
              0.3333333333333333,
              "#9c179e"
             ],
             [
              0.4444444444444444,
              "#bd3786"
             ],
             [
              0.5555555555555556,
              "#d8576b"
             ],
             [
              0.6666666666666666,
              "#ed7953"
             ],
             [
              0.7777777777777778,
              "#fb9f3a"
             ],
             [
              0.8888888888888888,
              "#fdca26"
             ],
             [
              1,
              "#f0f921"
             ]
            ],
            "type": "contour"
           }
          ],
          "contourcarpet": [
           {
            "colorbar": {
             "outlinewidth": 0,
             "ticks": ""
            },
            "type": "contourcarpet"
           }
          ],
          "heatmap": [
           {
            "colorbar": {
             "outlinewidth": 0,
             "ticks": ""
            },
            "colorscale": [
             [
              0,
              "#0d0887"
             ],
             [
              0.1111111111111111,
              "#46039f"
             ],
             [
              0.2222222222222222,
              "#7201a8"
             ],
             [
              0.3333333333333333,
              "#9c179e"
             ],
             [
              0.4444444444444444,
              "#bd3786"
             ],
             [
              0.5555555555555556,
              "#d8576b"
             ],
             [
              0.6666666666666666,
              "#ed7953"
             ],
             [
              0.7777777777777778,
              "#fb9f3a"
             ],
             [
              0.8888888888888888,
              "#fdca26"
             ],
             [
              1,
              "#f0f921"
             ]
            ],
            "type": "heatmap"
           }
          ],
          "histogram": [
           {
            "marker": {
             "pattern": {
              "fillmode": "overlay",
              "size": 10,
              "solidity": 0.2
             }
            },
            "type": "histogram"
           }
          ],
          "histogram2d": [
           {
            "colorbar": {
             "outlinewidth": 0,
             "ticks": ""
            },
            "colorscale": [
             [
              0,
              "#0d0887"
             ],
             [
              0.1111111111111111,
              "#46039f"
             ],
             [
              0.2222222222222222,
              "#7201a8"
             ],
             [
              0.3333333333333333,
              "#9c179e"
             ],
             [
              0.4444444444444444,
              "#bd3786"
             ],
             [
              0.5555555555555556,
              "#d8576b"
             ],
             [
              0.6666666666666666,
              "#ed7953"
             ],
             [
              0.7777777777777778,
              "#fb9f3a"
             ],
             [
              0.8888888888888888,
              "#fdca26"
             ],
             [
              1,
              "#f0f921"
             ]
            ],
            "type": "histogram2d"
           }
          ],
          "histogram2dcontour": [
           {
            "colorbar": {
             "outlinewidth": 0,
             "ticks": ""
            },
            "colorscale": [
             [
              0,
              "#0d0887"
             ],
             [
              0.1111111111111111,
              "#46039f"
             ],
             [
              0.2222222222222222,
              "#7201a8"
             ],
             [
              0.3333333333333333,
              "#9c179e"
             ],
             [
              0.4444444444444444,
              "#bd3786"
             ],
             [
              0.5555555555555556,
              "#d8576b"
             ],
             [
              0.6666666666666666,
              "#ed7953"
             ],
             [
              0.7777777777777778,
              "#fb9f3a"
             ],
             [
              0.8888888888888888,
              "#fdca26"
             ],
             [
              1,
              "#f0f921"
             ]
            ],
            "type": "histogram2dcontour"
           }
          ],
          "mesh3d": [
           {
            "colorbar": {
             "outlinewidth": 0,
             "ticks": ""
            },
            "type": "mesh3d"
           }
          ],
          "parcoords": [
           {
            "line": {
             "colorbar": {
              "outlinewidth": 0,
              "ticks": ""
             }
            },
            "type": "parcoords"
           }
          ],
          "pie": [
           {
            "automargin": true,
            "type": "pie"
           }
          ],
          "scatter": [
           {
            "fillpattern": {
             "fillmode": "overlay",
             "size": 10,
             "solidity": 0.2
            },
            "type": "scatter"
           }
          ],
          "scatter3d": [
           {
            "line": {
             "colorbar": {
              "outlinewidth": 0,
              "ticks": ""
             }
            },
            "marker": {
             "colorbar": {
              "outlinewidth": 0,
              "ticks": ""
             }
            },
            "type": "scatter3d"
           }
          ],
          "scattercarpet": [
           {
            "marker": {
             "colorbar": {
              "outlinewidth": 0,
              "ticks": ""
             }
            },
            "type": "scattercarpet"
           }
          ],
          "scattergeo": [
           {
            "marker": {
             "colorbar": {
              "outlinewidth": 0,
              "ticks": ""
             }
            },
            "type": "scattergeo"
           }
          ],
          "scattergl": [
           {
            "marker": {
             "colorbar": {
              "outlinewidth": 0,
              "ticks": ""
             }
            },
            "type": "scattergl"
           }
          ],
          "scattermap": [
           {
            "marker": {
             "colorbar": {
              "outlinewidth": 0,
              "ticks": ""
             }
            },
            "type": "scattermap"
           }
          ],
          "scattermapbox": [
           {
            "marker": {
             "colorbar": {
              "outlinewidth": 0,
              "ticks": ""
             }
            },
            "type": "scattermapbox"
           }
          ],
          "scatterpolar": [
           {
            "marker": {
             "colorbar": {
              "outlinewidth": 0,
              "ticks": ""
             }
            },
            "type": "scatterpolar"
           }
          ],
          "scatterpolargl": [
           {
            "marker": {
             "colorbar": {
              "outlinewidth": 0,
              "ticks": ""
             }
            },
            "type": "scatterpolargl"
           }
          ],
          "scatterternary": [
           {
            "marker": {
             "colorbar": {
              "outlinewidth": 0,
              "ticks": ""
             }
            },
            "type": "scatterternary"
           }
          ],
          "surface": [
           {
            "colorbar": {
             "outlinewidth": 0,
             "ticks": ""
            },
            "colorscale": [
             [
              0,
              "#0d0887"
             ],
             [
              0.1111111111111111,
              "#46039f"
             ],
             [
              0.2222222222222222,
              "#7201a8"
             ],
             [
              0.3333333333333333,
              "#9c179e"
             ],
             [
              0.4444444444444444,
              "#bd3786"
             ],
             [
              0.5555555555555556,
              "#d8576b"
             ],
             [
              0.6666666666666666,
              "#ed7953"
             ],
             [
              0.7777777777777778,
              "#fb9f3a"
             ],
             [
              0.8888888888888888,
              "#fdca26"
             ],
             [
              1,
              "#f0f921"
             ]
            ],
            "type": "surface"
           }
          ],
          "table": [
           {
            "cells": {
             "fill": {
              "color": "#EBF0F8"
             },
             "line": {
              "color": "white"
             }
            },
            "header": {
             "fill": {
              "color": "#C8D4E3"
             },
             "line": {
              "color": "white"
             }
            },
            "type": "table"
           }
          ]
         },
         "layout": {
          "annotationdefaults": {
           "arrowcolor": "#2a3f5f",
           "arrowhead": 0,
           "arrowwidth": 1
          },
          "autotypenumbers": "strict",
          "coloraxis": {
           "colorbar": {
            "outlinewidth": 0,
            "ticks": ""
           }
          },
          "colorscale": {
           "diverging": [
            [
             0,
             "#8e0152"
            ],
            [
             0.1,
             "#c51b7d"
            ],
            [
             0.2,
             "#de77ae"
            ],
            [
             0.3,
             "#f1b6da"
            ],
            [
             0.4,
             "#fde0ef"
            ],
            [
             0.5,
             "#f7f7f7"
            ],
            [
             0.6,
             "#e6f5d0"
            ],
            [
             0.7,
             "#b8e186"
            ],
            [
             0.8,
             "#7fbc41"
            ],
            [
             0.9,
             "#4d9221"
            ],
            [
             1,
             "#276419"
            ]
           ],
           "sequential": [
            [
             0,
             "#0d0887"
            ],
            [
             0.1111111111111111,
             "#46039f"
            ],
            [
             0.2222222222222222,
             "#7201a8"
            ],
            [
             0.3333333333333333,
             "#9c179e"
            ],
            [
             0.4444444444444444,
             "#bd3786"
            ],
            [
             0.5555555555555556,
             "#d8576b"
            ],
            [
             0.6666666666666666,
             "#ed7953"
            ],
            [
             0.7777777777777778,
             "#fb9f3a"
            ],
            [
             0.8888888888888888,
             "#fdca26"
            ],
            [
             1,
             "#f0f921"
            ]
           ],
           "sequentialminus": [
            [
             0,
             "#0d0887"
            ],
            [
             0.1111111111111111,
             "#46039f"
            ],
            [
             0.2222222222222222,
             "#7201a8"
            ],
            [
             0.3333333333333333,
             "#9c179e"
            ],
            [
             0.4444444444444444,
             "#bd3786"
            ],
            [
             0.5555555555555556,
             "#d8576b"
            ],
            [
             0.6666666666666666,
             "#ed7953"
            ],
            [
             0.7777777777777778,
             "#fb9f3a"
            ],
            [
             0.8888888888888888,
             "#fdca26"
            ],
            [
             1,
             "#f0f921"
            ]
           ]
          },
          "colorway": [
           "#636efa",
           "#EF553B",
           "#00cc96",
           "#ab63fa",
           "#FFA15A",
           "#19d3f3",
           "#FF6692",
           "#B6E880",
           "#FF97FF",
           "#FECB52"
          ],
          "font": {
           "color": "#2a3f5f"
          },
          "geo": {
           "bgcolor": "white",
           "lakecolor": "white",
           "landcolor": "#E5ECF6",
           "showlakes": true,
           "showland": true,
           "subunitcolor": "white"
          },
          "hoverlabel": {
           "align": "left"
          },
          "hovermode": "closest",
          "mapbox": {
           "style": "light"
          },
          "paper_bgcolor": "white",
          "plot_bgcolor": "#E5ECF6",
          "polar": {
           "angularaxis": {
            "gridcolor": "white",
            "linecolor": "white",
            "ticks": ""
           },
           "bgcolor": "#E5ECF6",
           "radialaxis": {
            "gridcolor": "white",
            "linecolor": "white",
            "ticks": ""
           }
          },
          "scene": {
           "xaxis": {
            "backgroundcolor": "#E5ECF6",
            "gridcolor": "white",
            "gridwidth": 2,
            "linecolor": "white",
            "showbackground": true,
            "ticks": "",
            "zerolinecolor": "white"
           },
           "yaxis": {
            "backgroundcolor": "#E5ECF6",
            "gridcolor": "white",
            "gridwidth": 2,
            "linecolor": "white",
            "showbackground": true,
            "ticks": "",
            "zerolinecolor": "white"
           },
           "zaxis": {
            "backgroundcolor": "#E5ECF6",
            "gridcolor": "white",
            "gridwidth": 2,
            "linecolor": "white",
            "showbackground": true,
            "ticks": "",
            "zerolinecolor": "white"
           }
          },
          "shapedefaults": {
           "line": {
            "color": "#2a3f5f"
           }
          },
          "ternary": {
           "aaxis": {
            "gridcolor": "white",
            "linecolor": "white",
            "ticks": ""
           },
           "baxis": {
            "gridcolor": "white",
            "linecolor": "white",
            "ticks": ""
           },
           "bgcolor": "#E5ECF6",
           "caxis": {
            "gridcolor": "white",
            "linecolor": "white",
            "ticks": ""
           }
          },
          "title": {
           "x": 0.05
          },
          "xaxis": {
           "automargin": true,
           "gridcolor": "white",
           "linecolor": "white",
           "ticks": "",
           "title": {
            "standoff": 15
           },
           "zerolinecolor": "white",
           "zerolinewidth": 2
          },
          "yaxis": {
           "automargin": true,
           "gridcolor": "white",
           "linecolor": "white",
           "ticks": "",
           "title": {
            "standoff": 15
           },
           "zerolinecolor": "white",
           "zerolinewidth": 2
          }
         }
        },
        "title": {
         "text": "Contour Plot"
        },
        "xaxis": {
         "anchor": "y",
         "domain": [
          0,
          0.2888888888888889
         ],
         "matches": "x7",
         "range": [
          -2.0483546552287666,
          -0.9645373869106595
         ],
         "showticklabels": false,
         "type": "log"
        },
        "xaxis2": {
         "anchor": "y2",
         "domain": [
          0.35555555555555557,
          0.6444444444444445
         ],
         "matches": "x8",
         "range": [
          2.65,
          10.35
         ],
         "showticklabels": false
        },
        "xaxis3": {
         "anchor": "y3",
         "domain": [
          0.7111111111111111,
          1
         ],
         "matches": "x9",
         "range": [
          -127.95000000000002,
          5238.95
         ],
         "showticklabels": false
        },
        "xaxis4": {
         "anchor": "y4",
         "domain": [
          0,
          0.2888888888888889
         ],
         "matches": "x7",
         "range": [
          -2.0483546552287666,
          -0.9645373869106595
         ],
         "showticklabels": false,
         "type": "log"
        },
        "xaxis5": {
         "anchor": "y5",
         "domain": [
          0.35555555555555557,
          0.6444444444444445
         ],
         "matches": "x8",
         "range": [
          2.65,
          10.35
         ],
         "showticklabels": false
        },
        "xaxis6": {
         "anchor": "y6",
         "domain": [
          0.7111111111111111,
          1
         ],
         "matches": "x9",
         "range": [
          -127.95000000000002,
          5238.95
         ],
         "showticklabels": false
        },
        "xaxis7": {
         "anchor": "y7",
         "domain": [
          0,
          0.2888888888888889
         ],
         "range": [
          -2.0483546552287666,
          -0.9645373869106595
         ],
         "title": {
          "text": "learning_rate"
         },
         "type": "log"
        },
        "xaxis8": {
         "anchor": "y8",
         "domain": [
          0.35555555555555557,
          0.6444444444444445
         ],
         "range": [
          2.65,
          10.35
         ],
         "title": {
          "text": "max_depth"
         }
        },
        "xaxis9": {
         "anchor": "y9",
         "domain": [
          0.7111111111111111,
          1
         ],
         "range": [
          -127.95000000000002,
          5238.95
         ],
         "title": {
          "text": "n_estimators"
         }
        },
        "yaxis": {
         "anchor": "x",
         "domain": [
          0.7333333333333333,
          1
         ],
         "range": [
          -2.0483546552287666,
          -0.9645373869106595
         ],
         "title": {
          "text": "learning_rate"
         },
         "type": "log"
        },
        "yaxis2": {
         "anchor": "x2",
         "domain": [
          0.7333333333333333,
          1
         ],
         "matches": "y",
         "range": [
          -2.0483546552287666,
          -0.9645373869106595
         ],
         "showticklabels": false,
         "type": "log"
        },
        "yaxis3": {
         "anchor": "x3",
         "domain": [
          0.7333333333333333,
          1
         ],
         "matches": "y",
         "range": [
          -2.0483546552287666,
          -0.9645373869106595
         ],
         "showticklabels": false,
         "type": "log"
        },
        "yaxis4": {
         "anchor": "x4",
         "domain": [
          0.36666666666666664,
          0.6333333333333333
         ],
         "range": [
          2.65,
          10.35
         ],
         "title": {
          "text": "max_depth"
         }
        },
        "yaxis5": {
         "anchor": "x5",
         "domain": [
          0.36666666666666664,
          0.6333333333333333
         ],
         "matches": "y4",
         "range": [
          2.65,
          10.35
         ],
         "showticklabels": false
        },
        "yaxis6": {
         "anchor": "x6",
         "domain": [
          0.36666666666666664,
          0.6333333333333333
         ],
         "matches": "y4",
         "range": [
          2.65,
          10.35
         ],
         "showticklabels": false
        },
        "yaxis7": {
         "anchor": "x7",
         "domain": [
          0,
          0.26666666666666666
         ],
         "range": [
          -127.95000000000002,
          5238.95
         ],
         "title": {
          "text": "n_estimators"
         }
        },
        "yaxis8": {
         "anchor": "x8",
         "domain": [
          0,
          0.26666666666666666
         ],
         "matches": "y7",
         "range": [
          -127.95000000000002,
          5238.95
         ],
         "showticklabels": false
        },
        "yaxis9": {
         "anchor": "x9",
         "domain": [
          0,
          0.26666666666666666
         ],
         "matches": "y7",
         "range": [
          -127.95000000000002,
          5238.95
         ],
         "showticklabels": false
        }
       }
      }
     },
     "metadata": {},
     "output_type": "display_data"
    },
    {
     "data": {
      "application/vnd.plotly.v1+json": {
       "config": {
        "plotlyServerURL": "https://plot.ly"
       },
       "data": [
        {
         "dimensions": [
          {
           "label": "Objective Value",
           "range": [
            0.17911076405846202,
            0.219367127522807
           ],
           "values": [
            0.20525047989684375,
            0.20180807192999226,
            0.19855714350173667,
            0.18055024312827941,
            0.21090628538223002,
            0.2003969337008486,
            0.2033778934197822,
            0.20166893040614423,
            0.2052989688618859,
            0.20380116468066484,
            0.18634824861512567,
            0.17911076405846202,
            0.18308107369234444,
            0.19107592818163782,
            0.20050496038506785,
            0.18883011051791745,
            0.1870312772879911,
            0.20685114754163933,
            0.19882720600407605,
            0.18326481257186455,
            0.19914854028731238,
            0.18424035600926203,
            0.18075657702602155,
            0.19673379224318305,
            0.18126668293593706,
            0.20132288627262596,
            0.18522468194274816,
            0.1850741023316105,
            0.2024232535555081,
            0.19961158083530198,
            0.2129231616074306,
            0.181339375827132,
            0.18578221846732126,
            0.207155218620212,
            0.18030849819881806,
            0.1836331785016697,
            0.19489066375494282,
            0.20605849133833587,
            0.219367127522807,
            0.21794621800098554,
            0.2057181248516735,
            0.18222907261241317,
            0.17935855909958953,
            0.1791878736399854,
            0.17916237768727414,
            0.17918005816818358,
            0.17936203517137342,
            0.1840235897537125,
            0.21628678955932207,
            0.1804355662567411
           ]
          },
          {
           "label": "learning_rate",
           "range": [
            -1.9990902339415797,
            -1.0138018081978462
           ],
           "ticktext": [
            "0.01",
            "0.0969"
           ],
           "tickvals": [
            -1.9990902339415797,
            -1.0138018081978462
           ],
           "values": [
            -1.627362646677093,
            -1.0307977395521646,
            -1.3866237064051865,
            -1.9392190108188512,
            -1.1583567579397758,
            -1.3724419994326786,
            -1.5039045426854227,
            -1.5006119911735756,
            -1.4969690673440483,
            -1.4699130879225673,
            -1.990331892804287,
            -1.9916717480731148,
            -1.9250370497045468,
            -1.8029207284452458,
            -1.7960802220255514,
            -1.8093674706032583,
            -1.647692861276893,
            -1.6938438918231438,
            -1.907492083398148,
            -1.9781394725118333,
            -1.8756866854053205,
            -1.8975480569430385,
            -1.994259093981202,
            -1.7262808611209493,
            -1.988059394917534,
            -1.801668136165948,
            -1.8649671953653024,
            -1.748043846289384,
            -1.6009497897705343,
            -1.9990902339415797,
            -1.2089793453952016,
            -1.9481535084058006,
            -1.8706927348746343,
            -1.9975786185025137,
            -1.9368195055435562,
            -1.8456552470676773,
            -1.9303117760816595,
            -1.2459465605757862,
            -1.0138018081978462,
            -1.0934304339023515,
            -1.6039475880518623,
            -1.957131931774498,
            -1.9144628266567894,
            -1.9385741613912921,
            -1.8421665872133417,
            -1.8340457541351896,
            -1.7574135891695313,
            -1.830700923665402,
            -1.6724957035905916,
            -1.403158683333268
           ]
          },
          {
           "label": "max_depth",
           "range": [
            3,
            10
           ],
           "values": [
            6,
            10,
            7,
            3,
            5,
            8,
            10,
            10,
            6,
            6,
            3,
            3,
            3,
            4,
            4,
            4,
            3,
            5,
            8,
            5,
            3,
            3,
            4,
            4,
            4,
            5,
            3,
            4,
            3,
            7,
            5,
            4,
            4,
            3,
            4,
            5,
            9,
            6,
            3,
            4,
            5,
            4,
            3,
            3,
            3,
            3,
            3,
            3,
            3,
            3
           ]
          },
          {
           "label": "n_estimators",
           "range": [
            116,
            4995
           ],
           "values": [
            2766,
            3887,
            4437,
            555,
            3489,
            1281,
            2455,
            1333,
            3879,
            4500,
            124,
            346,
            136,
            974,
            1853,
            846,
            618,
            1913,
            1843,
            502,
            2382,
            116,
            495,
            1213,
            573,
            1557,
            919,
            520,
            1532,
            2926,
            2883,
            532,
            770,
            4995,
            333,
            374,
            291,
            1131,
            847,
            1068,
            1481,
            603,
            350,
            305,
            280,
            271,
            257,
            742,
            3443,
            158
           ]
          }
         ],
         "labelangle": 30,
         "labelside": "bottom",
         "line": {
          "color": [
           0.20525047989684375,
           0.20180807192999226,
           0.19855714350173667,
           0.18055024312827941,
           0.21090628538223002,
           0.2003969337008486,
           0.2033778934197822,
           0.20166893040614423,
           0.2052989688618859,
           0.20380116468066484,
           0.18634824861512567,
           0.17911076405846202,
           0.18308107369234444,
           0.19107592818163782,
           0.20050496038506785,
           0.18883011051791745,
           0.1870312772879911,
           0.20685114754163933,
           0.19882720600407605,
           0.18326481257186455,
           0.19914854028731238,
           0.18424035600926203,
           0.18075657702602155,
           0.19673379224318305,
           0.18126668293593706,
           0.20132288627262596,
           0.18522468194274816,
           0.1850741023316105,
           0.2024232535555081,
           0.19961158083530198,
           0.2129231616074306,
           0.181339375827132,
           0.18578221846732126,
           0.207155218620212,
           0.18030849819881806,
           0.1836331785016697,
           0.19489066375494282,
           0.20605849133833587,
           0.219367127522807,
           0.21794621800098554,
           0.2057181248516735,
           0.18222907261241317,
           0.17935855909958953,
           0.1791878736399854,
           0.17916237768727414,
           0.17918005816818358,
           0.17936203517137342,
           0.1840235897537125,
           0.21628678955932207,
           0.1804355662567411
          ],
          "colorbar": {
           "title": {
            "text": "Objective Value"
           }
          },
          "colorscale": [
           [
            0,
            "rgb(247,251,255)"
           ],
           [
            0.125,
            "rgb(222,235,247)"
           ],
           [
            0.25,
            "rgb(198,219,239)"
           ],
           [
            0.375,
            "rgb(158,202,225)"
           ],
           [
            0.5,
            "rgb(107,174,214)"
           ],
           [
            0.625,
            "rgb(66,146,198)"
           ],
           [
            0.75,
            "rgb(33,113,181)"
           ],
           [
            0.875,
            "rgb(8,81,156)"
           ],
           [
            1,
            "rgb(8,48,107)"
           ]
          ],
          "reversescale": true,
          "showscale": true
         },
         "type": "parcoords"
        }
       ],
       "layout": {
        "template": {
         "data": {
          "bar": [
           {
            "error_x": {
             "color": "#2a3f5f"
            },
            "error_y": {
             "color": "#2a3f5f"
            },
            "marker": {
             "line": {
              "color": "#E5ECF6",
              "width": 0.5
             },
             "pattern": {
              "fillmode": "overlay",
              "size": 10,
              "solidity": 0.2
             }
            },
            "type": "bar"
           }
          ],
          "barpolar": [
           {
            "marker": {
             "line": {
              "color": "#E5ECF6",
              "width": 0.5
             },
             "pattern": {
              "fillmode": "overlay",
              "size": 10,
              "solidity": 0.2
             }
            },
            "type": "barpolar"
           }
          ],
          "carpet": [
           {
            "aaxis": {
             "endlinecolor": "#2a3f5f",
             "gridcolor": "white",
             "linecolor": "white",
             "minorgridcolor": "white",
             "startlinecolor": "#2a3f5f"
            },
            "baxis": {
             "endlinecolor": "#2a3f5f",
             "gridcolor": "white",
             "linecolor": "white",
             "minorgridcolor": "white",
             "startlinecolor": "#2a3f5f"
            },
            "type": "carpet"
           }
          ],
          "choropleth": [
           {
            "colorbar": {
             "outlinewidth": 0,
             "ticks": ""
            },
            "type": "choropleth"
           }
          ],
          "contour": [
           {
            "colorbar": {
             "outlinewidth": 0,
             "ticks": ""
            },
            "colorscale": [
             [
              0,
              "#0d0887"
             ],
             [
              0.1111111111111111,
              "#46039f"
             ],
             [
              0.2222222222222222,
              "#7201a8"
             ],
             [
              0.3333333333333333,
              "#9c179e"
             ],
             [
              0.4444444444444444,
              "#bd3786"
             ],
             [
              0.5555555555555556,
              "#d8576b"
             ],
             [
              0.6666666666666666,
              "#ed7953"
             ],
             [
              0.7777777777777778,
              "#fb9f3a"
             ],
             [
              0.8888888888888888,
              "#fdca26"
             ],
             [
              1,
              "#f0f921"
             ]
            ],
            "type": "contour"
           }
          ],
          "contourcarpet": [
           {
            "colorbar": {
             "outlinewidth": 0,
             "ticks": ""
            },
            "type": "contourcarpet"
           }
          ],
          "heatmap": [
           {
            "colorbar": {
             "outlinewidth": 0,
             "ticks": ""
            },
            "colorscale": [
             [
              0,
              "#0d0887"
             ],
             [
              0.1111111111111111,
              "#46039f"
             ],
             [
              0.2222222222222222,
              "#7201a8"
             ],
             [
              0.3333333333333333,
              "#9c179e"
             ],
             [
              0.4444444444444444,
              "#bd3786"
             ],
             [
              0.5555555555555556,
              "#d8576b"
             ],
             [
              0.6666666666666666,
              "#ed7953"
             ],
             [
              0.7777777777777778,
              "#fb9f3a"
             ],
             [
              0.8888888888888888,
              "#fdca26"
             ],
             [
              1,
              "#f0f921"
             ]
            ],
            "type": "heatmap"
           }
          ],
          "histogram": [
           {
            "marker": {
             "pattern": {
              "fillmode": "overlay",
              "size": 10,
              "solidity": 0.2
             }
            },
            "type": "histogram"
           }
          ],
          "histogram2d": [
           {
            "colorbar": {
             "outlinewidth": 0,
             "ticks": ""
            },
            "colorscale": [
             [
              0,
              "#0d0887"
             ],
             [
              0.1111111111111111,
              "#46039f"
             ],
             [
              0.2222222222222222,
              "#7201a8"
             ],
             [
              0.3333333333333333,
              "#9c179e"
             ],
             [
              0.4444444444444444,
              "#bd3786"
             ],
             [
              0.5555555555555556,
              "#d8576b"
             ],
             [
              0.6666666666666666,
              "#ed7953"
             ],
             [
              0.7777777777777778,
              "#fb9f3a"
             ],
             [
              0.8888888888888888,
              "#fdca26"
             ],
             [
              1,
              "#f0f921"
             ]
            ],
            "type": "histogram2d"
           }
          ],
          "histogram2dcontour": [
           {
            "colorbar": {
             "outlinewidth": 0,
             "ticks": ""
            },
            "colorscale": [
             [
              0,
              "#0d0887"
             ],
             [
              0.1111111111111111,
              "#46039f"
             ],
             [
              0.2222222222222222,
              "#7201a8"
             ],
             [
              0.3333333333333333,
              "#9c179e"
             ],
             [
              0.4444444444444444,
              "#bd3786"
             ],
             [
              0.5555555555555556,
              "#d8576b"
             ],
             [
              0.6666666666666666,
              "#ed7953"
             ],
             [
              0.7777777777777778,
              "#fb9f3a"
             ],
             [
              0.8888888888888888,
              "#fdca26"
             ],
             [
              1,
              "#f0f921"
             ]
            ],
            "type": "histogram2dcontour"
           }
          ],
          "mesh3d": [
           {
            "colorbar": {
             "outlinewidth": 0,
             "ticks": ""
            },
            "type": "mesh3d"
           }
          ],
          "parcoords": [
           {
            "line": {
             "colorbar": {
              "outlinewidth": 0,
              "ticks": ""
             }
            },
            "type": "parcoords"
           }
          ],
          "pie": [
           {
            "automargin": true,
            "type": "pie"
           }
          ],
          "scatter": [
           {
            "fillpattern": {
             "fillmode": "overlay",
             "size": 10,
             "solidity": 0.2
            },
            "type": "scatter"
           }
          ],
          "scatter3d": [
           {
            "line": {
             "colorbar": {
              "outlinewidth": 0,
              "ticks": ""
             }
            },
            "marker": {
             "colorbar": {
              "outlinewidth": 0,
              "ticks": ""
             }
            },
            "type": "scatter3d"
           }
          ],
          "scattercarpet": [
           {
            "marker": {
             "colorbar": {
              "outlinewidth": 0,
              "ticks": ""
             }
            },
            "type": "scattercarpet"
           }
          ],
          "scattergeo": [
           {
            "marker": {
             "colorbar": {
              "outlinewidth": 0,
              "ticks": ""
             }
            },
            "type": "scattergeo"
           }
          ],
          "scattergl": [
           {
            "marker": {
             "colorbar": {
              "outlinewidth": 0,
              "ticks": ""
             }
            },
            "type": "scattergl"
           }
          ],
          "scattermap": [
           {
            "marker": {
             "colorbar": {
              "outlinewidth": 0,
              "ticks": ""
             }
            },
            "type": "scattermap"
           }
          ],
          "scattermapbox": [
           {
            "marker": {
             "colorbar": {
              "outlinewidth": 0,
              "ticks": ""
             }
            },
            "type": "scattermapbox"
           }
          ],
          "scatterpolar": [
           {
            "marker": {
             "colorbar": {
              "outlinewidth": 0,
              "ticks": ""
             }
            },
            "type": "scatterpolar"
           }
          ],
          "scatterpolargl": [
           {
            "marker": {
             "colorbar": {
              "outlinewidth": 0,
              "ticks": ""
             }
            },
            "type": "scatterpolargl"
           }
          ],
          "scatterternary": [
           {
            "marker": {
             "colorbar": {
              "outlinewidth": 0,
              "ticks": ""
             }
            },
            "type": "scatterternary"
           }
          ],
          "surface": [
           {
            "colorbar": {
             "outlinewidth": 0,
             "ticks": ""
            },
            "colorscale": [
             [
              0,
              "#0d0887"
             ],
             [
              0.1111111111111111,
              "#46039f"
             ],
             [
              0.2222222222222222,
              "#7201a8"
             ],
             [
              0.3333333333333333,
              "#9c179e"
             ],
             [
              0.4444444444444444,
              "#bd3786"
             ],
             [
              0.5555555555555556,
              "#d8576b"
             ],
             [
              0.6666666666666666,
              "#ed7953"
             ],
             [
              0.7777777777777778,
              "#fb9f3a"
             ],
             [
              0.8888888888888888,
              "#fdca26"
             ],
             [
              1,
              "#f0f921"
             ]
            ],
            "type": "surface"
           }
          ],
          "table": [
           {
            "cells": {
             "fill": {
              "color": "#EBF0F8"
             },
             "line": {
              "color": "white"
             }
            },
            "header": {
             "fill": {
              "color": "#C8D4E3"
             },
             "line": {
              "color": "white"
             }
            },
            "type": "table"
           }
          ]
         },
         "layout": {
          "annotationdefaults": {
           "arrowcolor": "#2a3f5f",
           "arrowhead": 0,
           "arrowwidth": 1
          },
          "autotypenumbers": "strict",
          "coloraxis": {
           "colorbar": {
            "outlinewidth": 0,
            "ticks": ""
           }
          },
          "colorscale": {
           "diverging": [
            [
             0,
             "#8e0152"
            ],
            [
             0.1,
             "#c51b7d"
            ],
            [
             0.2,
             "#de77ae"
            ],
            [
             0.3,
             "#f1b6da"
            ],
            [
             0.4,
             "#fde0ef"
            ],
            [
             0.5,
             "#f7f7f7"
            ],
            [
             0.6,
             "#e6f5d0"
            ],
            [
             0.7,
             "#b8e186"
            ],
            [
             0.8,
             "#7fbc41"
            ],
            [
             0.9,
             "#4d9221"
            ],
            [
             1,
             "#276419"
            ]
           ],
           "sequential": [
            [
             0,
             "#0d0887"
            ],
            [
             0.1111111111111111,
             "#46039f"
            ],
            [
             0.2222222222222222,
             "#7201a8"
            ],
            [
             0.3333333333333333,
             "#9c179e"
            ],
            [
             0.4444444444444444,
             "#bd3786"
            ],
            [
             0.5555555555555556,
             "#d8576b"
            ],
            [
             0.6666666666666666,
             "#ed7953"
            ],
            [
             0.7777777777777778,
             "#fb9f3a"
            ],
            [
             0.8888888888888888,
             "#fdca26"
            ],
            [
             1,
             "#f0f921"
            ]
           ],
           "sequentialminus": [
            [
             0,
             "#0d0887"
            ],
            [
             0.1111111111111111,
             "#46039f"
            ],
            [
             0.2222222222222222,
             "#7201a8"
            ],
            [
             0.3333333333333333,
             "#9c179e"
            ],
            [
             0.4444444444444444,
             "#bd3786"
            ],
            [
             0.5555555555555556,
             "#d8576b"
            ],
            [
             0.6666666666666666,
             "#ed7953"
            ],
            [
             0.7777777777777778,
             "#fb9f3a"
            ],
            [
             0.8888888888888888,
             "#fdca26"
            ],
            [
             1,
             "#f0f921"
            ]
           ]
          },
          "colorway": [
           "#636efa",
           "#EF553B",
           "#00cc96",
           "#ab63fa",
           "#FFA15A",
           "#19d3f3",
           "#FF6692",
           "#B6E880",
           "#FF97FF",
           "#FECB52"
          ],
          "font": {
           "color": "#2a3f5f"
          },
          "geo": {
           "bgcolor": "white",
           "lakecolor": "white",
           "landcolor": "#E5ECF6",
           "showlakes": true,
           "showland": true,
           "subunitcolor": "white"
          },
          "hoverlabel": {
           "align": "left"
          },
          "hovermode": "closest",
          "mapbox": {
           "style": "light"
          },
          "paper_bgcolor": "white",
          "plot_bgcolor": "#E5ECF6",
          "polar": {
           "angularaxis": {
            "gridcolor": "white",
            "linecolor": "white",
            "ticks": ""
           },
           "bgcolor": "#E5ECF6",
           "radialaxis": {
            "gridcolor": "white",
            "linecolor": "white",
            "ticks": ""
           }
          },
          "scene": {
           "xaxis": {
            "backgroundcolor": "#E5ECF6",
            "gridcolor": "white",
            "gridwidth": 2,
            "linecolor": "white",
            "showbackground": true,
            "ticks": "",
            "zerolinecolor": "white"
           },
           "yaxis": {
            "backgroundcolor": "#E5ECF6",
            "gridcolor": "white",
            "gridwidth": 2,
            "linecolor": "white",
            "showbackground": true,
            "ticks": "",
            "zerolinecolor": "white"
           },
           "zaxis": {
            "backgroundcolor": "#E5ECF6",
            "gridcolor": "white",
            "gridwidth": 2,
            "linecolor": "white",
            "showbackground": true,
            "ticks": "",
            "zerolinecolor": "white"
           }
          },
          "shapedefaults": {
           "line": {
            "color": "#2a3f5f"
           }
          },
          "ternary": {
           "aaxis": {
            "gridcolor": "white",
            "linecolor": "white",
            "ticks": ""
           },
           "baxis": {
            "gridcolor": "white",
            "linecolor": "white",
            "ticks": ""
           },
           "bgcolor": "#E5ECF6",
           "caxis": {
            "gridcolor": "white",
            "linecolor": "white",
            "ticks": ""
           }
          },
          "title": {
           "x": 0.05
          },
          "xaxis": {
           "automargin": true,
           "gridcolor": "white",
           "linecolor": "white",
           "ticks": "",
           "title": {
            "standoff": 15
           },
           "zerolinecolor": "white",
           "zerolinewidth": 2
          },
          "yaxis": {
           "automargin": true,
           "gridcolor": "white",
           "linecolor": "white",
           "ticks": "",
           "title": {
            "standoff": 15
           },
           "zerolinecolor": "white",
           "zerolinewidth": 2
          }
         }
        },
        "title": {
         "text": "Parallel Coordinate Plot"
        }
       }
      }
     },
     "metadata": {},
     "output_type": "display_data"
    },
    {
     "data": {
      "application/vnd.plotly.v1+json": {
       "config": {
        "plotlyServerURL": "https://plot.ly"
       },
       "data": [
        {
         "marker": {
          "color": [
           0,
           1,
           2,
           3,
           4,
           5,
           6,
           7,
           8,
           9,
           10,
           11,
           12,
           13,
           14,
           15,
           16,
           17,
           18,
           19,
           20,
           21,
           22,
           23,
           24,
           25,
           26,
           27,
           28,
           29,
           30,
           31,
           32,
           33,
           34,
           35,
           36,
           37,
           38,
           39,
           40,
           41,
           42,
           43,
           44,
           45,
           46,
           47,
           48,
           49
          ],
          "colorbar": {
           "title": {
            "text": "Trial"
           },
           "x": 1,
           "xpad": 40
          },
          "colorscale": [
           [
            0,
            "rgb(247,251,255)"
           ],
           [
            0.125,
            "rgb(222,235,247)"
           ],
           [
            0.25,
            "rgb(198,219,239)"
           ],
           [
            0.375,
            "rgb(158,202,225)"
           ],
           [
            0.5,
            "rgb(107,174,214)"
           ],
           [
            0.625,
            "rgb(66,146,198)"
           ],
           [
            0.75,
            "rgb(33,113,181)"
           ],
           [
            0.875,
            "rgb(8,81,156)"
           ],
           [
            1,
            "rgb(8,48,107)"
           ]
          ],
          "line": {
           "color": "Grey",
           "width": 0.5
          },
          "showscale": true
         },
         "mode": "markers",
         "name": "Feasible Trial",
         "showlegend": false,
         "type": "scatter",
         "x": [
          0.02358507997950981,
          0.0931541613782206,
          0.041055967754144836,
          0.011502201969168803,
          0.06944536135195,
          0.04241876309125871,
          0.031339744917907746,
          0.03157824637687656,
          0.0318442432450233,
          0.0338911973248855,
          0.01022511278821562,
          0.010193615589609411,
          0.011884008405209737,
          0.01574270188993716,
          0.01599262588677877,
          0.015510740406665727,
          0.02250645729157905,
          0.020237464884070095,
          0.012373937457465463,
          0.010516240933212838,
          0.013314145986971995,
          0.012660531643925716,
          0.010133066808579087,
          0.01878101843065539,
          0.010278757143274194,
          0.015788172537313527,
          0.013646862149007096,
          0.017863072205062076,
          0.025063990094074114,
          0.01002097009419479,
          0.06180457930701315,
          0.011267991004181866,
          0.013468128926935488,
          0.010055910086152819,
          0.011565928267444223,
          0.014267397229415172,
          0.011740544092878148,
          0.0567614445400209,
          0.09687198340808519,
          0.08064353673260717,
          0.02489157699101714,
          0.011037432692707487,
          0.012176912164036973,
          0.011519293362194873,
          0.014382467879565097,
          0.014653934495354563,
          0.017481810604130787,
          0.014767231266736399,
          0.02125711374453153,
          0.03952221866583937
         ],
         "xaxis": "x",
         "y": [
          0.20525047989684375,
          0.20180807192999226,
          0.19855714350173667,
          0.18055024312827941,
          0.21090628538223002,
          0.2003969337008486,
          0.2033778934197822,
          0.20166893040614423,
          0.2052989688618859,
          0.20380116468066484,
          0.18634824861512567,
          0.17911076405846202,
          0.18308107369234444,
          0.19107592818163782,
          0.20050496038506785,
          0.18883011051791745,
          0.1870312772879911,
          0.20685114754163933,
          0.19882720600407605,
          0.18326481257186455,
          0.19914854028731238,
          0.18424035600926203,
          0.18075657702602155,
          0.19673379224318305,
          0.18126668293593706,
          0.20132288627262596,
          0.18522468194274816,
          0.1850741023316105,
          0.2024232535555081,
          0.19961158083530198,
          0.2129231616074306,
          0.181339375827132,
          0.18578221846732126,
          0.207155218620212,
          0.18030849819881806,
          0.1836331785016697,
          0.19489066375494282,
          0.20605849133833587,
          0.219367127522807,
          0.21794621800098554,
          0.2057181248516735,
          0.18222907261241317,
          0.17935855909958953,
          0.1791878736399854,
          0.17916237768727414,
          0.17918005816818358,
          0.17936203517137342,
          0.1840235897537125,
          0.21628678955932207,
          0.1804355662567411
         ],
         "yaxis": "y"
        },
        {
         "marker": {
          "color": [
           0,
           1,
           2,
           3,
           4,
           5,
           6,
           7,
           8,
           9,
           10,
           11,
           12,
           13,
           14,
           15,
           16,
           17,
           18,
           19,
           20,
           21,
           22,
           23,
           24,
           25,
           26,
           27,
           28,
           29,
           30,
           31,
           32,
           33,
           34,
           35,
           36,
           37,
           38,
           39,
           40,
           41,
           42,
           43,
           44,
           45,
           46,
           47,
           48,
           49
          ],
          "colorbar": {
           "title": {
            "text": "Trial"
           },
           "x": 1,
           "xpad": 40
          },
          "colorscale": [
           [
            0,
            "rgb(247,251,255)"
           ],
           [
            0.125,
            "rgb(222,235,247)"
           ],
           [
            0.25,
            "rgb(198,219,239)"
           ],
           [
            0.375,
            "rgb(158,202,225)"
           ],
           [
            0.5,
            "rgb(107,174,214)"
           ],
           [
            0.625,
            "rgb(66,146,198)"
           ],
           [
            0.75,
            "rgb(33,113,181)"
           ],
           [
            0.875,
            "rgb(8,81,156)"
           ],
           [
            1,
            "rgb(8,48,107)"
           ]
          ],
          "line": {
           "color": "Grey",
           "width": 0.5
          },
          "showscale": false
         },
         "mode": "markers",
         "name": "Feasible Trial",
         "showlegend": false,
         "type": "scatter",
         "x": [
          6,
          10,
          7,
          3,
          5,
          8,
          10,
          10,
          6,
          6,
          3,
          3,
          3,
          4,
          4,
          4,
          3,
          5,
          8,
          5,
          3,
          3,
          4,
          4,
          4,
          5,
          3,
          4,
          3,
          7,
          5,
          4,
          4,
          3,
          4,
          5,
          9,
          6,
          3,
          4,
          5,
          4,
          3,
          3,
          3,
          3,
          3,
          3,
          3,
          3
         ],
         "xaxis": "x2",
         "y": [
          0.20525047989684375,
          0.20180807192999226,
          0.19855714350173667,
          0.18055024312827941,
          0.21090628538223002,
          0.2003969337008486,
          0.2033778934197822,
          0.20166893040614423,
          0.2052989688618859,
          0.20380116468066484,
          0.18634824861512567,
          0.17911076405846202,
          0.18308107369234444,
          0.19107592818163782,
          0.20050496038506785,
          0.18883011051791745,
          0.1870312772879911,
          0.20685114754163933,
          0.19882720600407605,
          0.18326481257186455,
          0.19914854028731238,
          0.18424035600926203,
          0.18075657702602155,
          0.19673379224318305,
          0.18126668293593706,
          0.20132288627262596,
          0.18522468194274816,
          0.1850741023316105,
          0.2024232535555081,
          0.19961158083530198,
          0.2129231616074306,
          0.181339375827132,
          0.18578221846732126,
          0.207155218620212,
          0.18030849819881806,
          0.1836331785016697,
          0.19489066375494282,
          0.20605849133833587,
          0.219367127522807,
          0.21794621800098554,
          0.2057181248516735,
          0.18222907261241317,
          0.17935855909958953,
          0.1791878736399854,
          0.17916237768727414,
          0.17918005816818358,
          0.17936203517137342,
          0.1840235897537125,
          0.21628678955932207,
          0.1804355662567411
         ],
         "yaxis": "y2"
        },
        {
         "marker": {
          "color": [
           0,
           1,
           2,
           3,
           4,
           5,
           6,
           7,
           8,
           9,
           10,
           11,
           12,
           13,
           14,
           15,
           16,
           17,
           18,
           19,
           20,
           21,
           22,
           23,
           24,
           25,
           26,
           27,
           28,
           29,
           30,
           31,
           32,
           33,
           34,
           35,
           36,
           37,
           38,
           39,
           40,
           41,
           42,
           43,
           44,
           45,
           46,
           47,
           48,
           49
          ],
          "colorbar": {
           "title": {
            "text": "Trial"
           },
           "x": 1,
           "xpad": 40
          },
          "colorscale": [
           [
            0,
            "rgb(247,251,255)"
           ],
           [
            0.125,
            "rgb(222,235,247)"
           ],
           [
            0.25,
            "rgb(198,219,239)"
           ],
           [
            0.375,
            "rgb(158,202,225)"
           ],
           [
            0.5,
            "rgb(107,174,214)"
           ],
           [
            0.625,
            "rgb(66,146,198)"
           ],
           [
            0.75,
            "rgb(33,113,181)"
           ],
           [
            0.875,
            "rgb(8,81,156)"
           ],
           [
            1,
            "rgb(8,48,107)"
           ]
          ],
          "line": {
           "color": "Grey",
           "width": 0.5
          },
          "showscale": false
         },
         "mode": "markers",
         "name": "Feasible Trial",
         "showlegend": false,
         "type": "scatter",
         "x": [
          2766,
          3887,
          4437,
          555,
          3489,
          1281,
          2455,
          1333,
          3879,
          4500,
          124,
          346,
          136,
          974,
          1853,
          846,
          618,
          1913,
          1843,
          502,
          2382,
          116,
          495,
          1213,
          573,
          1557,
          919,
          520,
          1532,
          2926,
          2883,
          532,
          770,
          4995,
          333,
          374,
          291,
          1131,
          847,
          1068,
          1481,
          603,
          350,
          305,
          280,
          271,
          257,
          742,
          3443,
          158
         ],
         "xaxis": "x3",
         "y": [
          0.20525047989684375,
          0.20180807192999226,
          0.19855714350173667,
          0.18055024312827941,
          0.21090628538223002,
          0.2003969337008486,
          0.2033778934197822,
          0.20166893040614423,
          0.2052989688618859,
          0.20380116468066484,
          0.18634824861512567,
          0.17911076405846202,
          0.18308107369234444,
          0.19107592818163782,
          0.20050496038506785,
          0.18883011051791745,
          0.1870312772879911,
          0.20685114754163933,
          0.19882720600407605,
          0.18326481257186455,
          0.19914854028731238,
          0.18424035600926203,
          0.18075657702602155,
          0.19673379224318305,
          0.18126668293593706,
          0.20132288627262596,
          0.18522468194274816,
          0.1850741023316105,
          0.2024232535555081,
          0.19961158083530198,
          0.2129231616074306,
          0.181339375827132,
          0.18578221846732126,
          0.207155218620212,
          0.18030849819881806,
          0.1836331785016697,
          0.19489066375494282,
          0.20605849133833587,
          0.219367127522807,
          0.21794621800098554,
          0.2057181248516735,
          0.18222907261241317,
          0.17935855909958953,
          0.1791878736399854,
          0.17916237768727414,
          0.17918005816818358,
          0.17936203517137342,
          0.1840235897537125,
          0.21628678955932207,
          0.1804355662567411
         ],
         "yaxis": "y3"
        }
       ],
       "layout": {
        "template": {
         "data": {
          "bar": [
           {
            "error_x": {
             "color": "#2a3f5f"
            },
            "error_y": {
             "color": "#2a3f5f"
            },
            "marker": {
             "line": {
              "color": "#E5ECF6",
              "width": 0.5
             },
             "pattern": {
              "fillmode": "overlay",
              "size": 10,
              "solidity": 0.2
             }
            },
            "type": "bar"
           }
          ],
          "barpolar": [
           {
            "marker": {
             "line": {
              "color": "#E5ECF6",
              "width": 0.5
             },
             "pattern": {
              "fillmode": "overlay",
              "size": 10,
              "solidity": 0.2
             }
            },
            "type": "barpolar"
           }
          ],
          "carpet": [
           {
            "aaxis": {
             "endlinecolor": "#2a3f5f",
             "gridcolor": "white",
             "linecolor": "white",
             "minorgridcolor": "white",
             "startlinecolor": "#2a3f5f"
            },
            "baxis": {
             "endlinecolor": "#2a3f5f",
             "gridcolor": "white",
             "linecolor": "white",
             "minorgridcolor": "white",
             "startlinecolor": "#2a3f5f"
            },
            "type": "carpet"
           }
          ],
          "choropleth": [
           {
            "colorbar": {
             "outlinewidth": 0,
             "ticks": ""
            },
            "type": "choropleth"
           }
          ],
          "contour": [
           {
            "colorbar": {
             "outlinewidth": 0,
             "ticks": ""
            },
            "colorscale": [
             [
              0,
              "#0d0887"
             ],
             [
              0.1111111111111111,
              "#46039f"
             ],
             [
              0.2222222222222222,
              "#7201a8"
             ],
             [
              0.3333333333333333,
              "#9c179e"
             ],
             [
              0.4444444444444444,
              "#bd3786"
             ],
             [
              0.5555555555555556,
              "#d8576b"
             ],
             [
              0.6666666666666666,
              "#ed7953"
             ],
             [
              0.7777777777777778,
              "#fb9f3a"
             ],
             [
              0.8888888888888888,
              "#fdca26"
             ],
             [
              1,
              "#f0f921"
             ]
            ],
            "type": "contour"
           }
          ],
          "contourcarpet": [
           {
            "colorbar": {
             "outlinewidth": 0,
             "ticks": ""
            },
            "type": "contourcarpet"
           }
          ],
          "heatmap": [
           {
            "colorbar": {
             "outlinewidth": 0,
             "ticks": ""
            },
            "colorscale": [
             [
              0,
              "#0d0887"
             ],
             [
              0.1111111111111111,
              "#46039f"
             ],
             [
              0.2222222222222222,
              "#7201a8"
             ],
             [
              0.3333333333333333,
              "#9c179e"
             ],
             [
              0.4444444444444444,
              "#bd3786"
             ],
             [
              0.5555555555555556,
              "#d8576b"
             ],
             [
              0.6666666666666666,
              "#ed7953"
             ],
             [
              0.7777777777777778,
              "#fb9f3a"
             ],
             [
              0.8888888888888888,
              "#fdca26"
             ],
             [
              1,
              "#f0f921"
             ]
            ],
            "type": "heatmap"
           }
          ],
          "histogram": [
           {
            "marker": {
             "pattern": {
              "fillmode": "overlay",
              "size": 10,
              "solidity": 0.2
             }
            },
            "type": "histogram"
           }
          ],
          "histogram2d": [
           {
            "colorbar": {
             "outlinewidth": 0,
             "ticks": ""
            },
            "colorscale": [
             [
              0,
              "#0d0887"
             ],
             [
              0.1111111111111111,
              "#46039f"
             ],
             [
              0.2222222222222222,
              "#7201a8"
             ],
             [
              0.3333333333333333,
              "#9c179e"
             ],
             [
              0.4444444444444444,
              "#bd3786"
             ],
             [
              0.5555555555555556,
              "#d8576b"
             ],
             [
              0.6666666666666666,
              "#ed7953"
             ],
             [
              0.7777777777777778,
              "#fb9f3a"
             ],
             [
              0.8888888888888888,
              "#fdca26"
             ],
             [
              1,
              "#f0f921"
             ]
            ],
            "type": "histogram2d"
           }
          ],
          "histogram2dcontour": [
           {
            "colorbar": {
             "outlinewidth": 0,
             "ticks": ""
            },
            "colorscale": [
             [
              0,
              "#0d0887"
             ],
             [
              0.1111111111111111,
              "#46039f"
             ],
             [
              0.2222222222222222,
              "#7201a8"
             ],
             [
              0.3333333333333333,
              "#9c179e"
             ],
             [
              0.4444444444444444,
              "#bd3786"
             ],
             [
              0.5555555555555556,
              "#d8576b"
             ],
             [
              0.6666666666666666,
              "#ed7953"
             ],
             [
              0.7777777777777778,
              "#fb9f3a"
             ],
             [
              0.8888888888888888,
              "#fdca26"
             ],
             [
              1,
              "#f0f921"
             ]
            ],
            "type": "histogram2dcontour"
           }
          ],
          "mesh3d": [
           {
            "colorbar": {
             "outlinewidth": 0,
             "ticks": ""
            },
            "type": "mesh3d"
           }
          ],
          "parcoords": [
           {
            "line": {
             "colorbar": {
              "outlinewidth": 0,
              "ticks": ""
             }
            },
            "type": "parcoords"
           }
          ],
          "pie": [
           {
            "automargin": true,
            "type": "pie"
           }
          ],
          "scatter": [
           {
            "fillpattern": {
             "fillmode": "overlay",
             "size": 10,
             "solidity": 0.2
            },
            "type": "scatter"
           }
          ],
          "scatter3d": [
           {
            "line": {
             "colorbar": {
              "outlinewidth": 0,
              "ticks": ""
             }
            },
            "marker": {
             "colorbar": {
              "outlinewidth": 0,
              "ticks": ""
             }
            },
            "type": "scatter3d"
           }
          ],
          "scattercarpet": [
           {
            "marker": {
             "colorbar": {
              "outlinewidth": 0,
              "ticks": ""
             }
            },
            "type": "scattercarpet"
           }
          ],
          "scattergeo": [
           {
            "marker": {
             "colorbar": {
              "outlinewidth": 0,
              "ticks": ""
             }
            },
            "type": "scattergeo"
           }
          ],
          "scattergl": [
           {
            "marker": {
             "colorbar": {
              "outlinewidth": 0,
              "ticks": ""
             }
            },
            "type": "scattergl"
           }
          ],
          "scattermap": [
           {
            "marker": {
             "colorbar": {
              "outlinewidth": 0,
              "ticks": ""
             }
            },
            "type": "scattermap"
           }
          ],
          "scattermapbox": [
           {
            "marker": {
             "colorbar": {
              "outlinewidth": 0,
              "ticks": ""
             }
            },
            "type": "scattermapbox"
           }
          ],
          "scatterpolar": [
           {
            "marker": {
             "colorbar": {
              "outlinewidth": 0,
              "ticks": ""
             }
            },
            "type": "scatterpolar"
           }
          ],
          "scatterpolargl": [
           {
            "marker": {
             "colorbar": {
              "outlinewidth": 0,
              "ticks": ""
             }
            },
            "type": "scatterpolargl"
           }
          ],
          "scatterternary": [
           {
            "marker": {
             "colorbar": {
              "outlinewidth": 0,
              "ticks": ""
             }
            },
            "type": "scatterternary"
           }
          ],
          "surface": [
           {
            "colorbar": {
             "outlinewidth": 0,
             "ticks": ""
            },
            "colorscale": [
             [
              0,
              "#0d0887"
             ],
             [
              0.1111111111111111,
              "#46039f"
             ],
             [
              0.2222222222222222,
              "#7201a8"
             ],
             [
              0.3333333333333333,
              "#9c179e"
             ],
             [
              0.4444444444444444,
              "#bd3786"
             ],
             [
              0.5555555555555556,
              "#d8576b"
             ],
             [
              0.6666666666666666,
              "#ed7953"
             ],
             [
              0.7777777777777778,
              "#fb9f3a"
             ],
             [
              0.8888888888888888,
              "#fdca26"
             ],
             [
              1,
              "#f0f921"
             ]
            ],
            "type": "surface"
           }
          ],
          "table": [
           {
            "cells": {
             "fill": {
              "color": "#EBF0F8"
             },
             "line": {
              "color": "white"
             }
            },
            "header": {
             "fill": {
              "color": "#C8D4E3"
             },
             "line": {
              "color": "white"
             }
            },
            "type": "table"
           }
          ]
         },
         "layout": {
          "annotationdefaults": {
           "arrowcolor": "#2a3f5f",
           "arrowhead": 0,
           "arrowwidth": 1
          },
          "autotypenumbers": "strict",
          "coloraxis": {
           "colorbar": {
            "outlinewidth": 0,
            "ticks": ""
           }
          },
          "colorscale": {
           "diverging": [
            [
             0,
             "#8e0152"
            ],
            [
             0.1,
             "#c51b7d"
            ],
            [
             0.2,
             "#de77ae"
            ],
            [
             0.3,
             "#f1b6da"
            ],
            [
             0.4,
             "#fde0ef"
            ],
            [
             0.5,
             "#f7f7f7"
            ],
            [
             0.6,
             "#e6f5d0"
            ],
            [
             0.7,
             "#b8e186"
            ],
            [
             0.8,
             "#7fbc41"
            ],
            [
             0.9,
             "#4d9221"
            ],
            [
             1,
             "#276419"
            ]
           ],
           "sequential": [
            [
             0,
             "#0d0887"
            ],
            [
             0.1111111111111111,
             "#46039f"
            ],
            [
             0.2222222222222222,
             "#7201a8"
            ],
            [
             0.3333333333333333,
             "#9c179e"
            ],
            [
             0.4444444444444444,
             "#bd3786"
            ],
            [
             0.5555555555555556,
             "#d8576b"
            ],
            [
             0.6666666666666666,
             "#ed7953"
            ],
            [
             0.7777777777777778,
             "#fb9f3a"
            ],
            [
             0.8888888888888888,
             "#fdca26"
            ],
            [
             1,
             "#f0f921"
            ]
           ],
           "sequentialminus": [
            [
             0,
             "#0d0887"
            ],
            [
             0.1111111111111111,
             "#46039f"
            ],
            [
             0.2222222222222222,
             "#7201a8"
            ],
            [
             0.3333333333333333,
             "#9c179e"
            ],
            [
             0.4444444444444444,
             "#bd3786"
            ],
            [
             0.5555555555555556,
             "#d8576b"
            ],
            [
             0.6666666666666666,
             "#ed7953"
            ],
            [
             0.7777777777777778,
             "#fb9f3a"
            ],
            [
             0.8888888888888888,
             "#fdca26"
            ],
            [
             1,
             "#f0f921"
            ]
           ]
          },
          "colorway": [
           "#636efa",
           "#EF553B",
           "#00cc96",
           "#ab63fa",
           "#FFA15A",
           "#19d3f3",
           "#FF6692",
           "#B6E880",
           "#FF97FF",
           "#FECB52"
          ],
          "font": {
           "color": "#2a3f5f"
          },
          "geo": {
           "bgcolor": "white",
           "lakecolor": "white",
           "landcolor": "#E5ECF6",
           "showlakes": true,
           "showland": true,
           "subunitcolor": "white"
          },
          "hoverlabel": {
           "align": "left"
          },
          "hovermode": "closest",
          "mapbox": {
           "style": "light"
          },
          "paper_bgcolor": "white",
          "plot_bgcolor": "#E5ECF6",
          "polar": {
           "angularaxis": {
            "gridcolor": "white",
            "linecolor": "white",
            "ticks": ""
           },
           "bgcolor": "#E5ECF6",
           "radialaxis": {
            "gridcolor": "white",
            "linecolor": "white",
            "ticks": ""
           }
          },
          "scene": {
           "xaxis": {
            "backgroundcolor": "#E5ECF6",
            "gridcolor": "white",
            "gridwidth": 2,
            "linecolor": "white",
            "showbackground": true,
            "ticks": "",
            "zerolinecolor": "white"
           },
           "yaxis": {
            "backgroundcolor": "#E5ECF6",
            "gridcolor": "white",
            "gridwidth": 2,
            "linecolor": "white",
            "showbackground": true,
            "ticks": "",
            "zerolinecolor": "white"
           },
           "zaxis": {
            "backgroundcolor": "#E5ECF6",
            "gridcolor": "white",
            "gridwidth": 2,
            "linecolor": "white",
            "showbackground": true,
            "ticks": "",
            "zerolinecolor": "white"
           }
          },
          "shapedefaults": {
           "line": {
            "color": "#2a3f5f"
           }
          },
          "ternary": {
           "aaxis": {
            "gridcolor": "white",
            "linecolor": "white",
            "ticks": ""
           },
           "baxis": {
            "gridcolor": "white",
            "linecolor": "white",
            "ticks": ""
           },
           "bgcolor": "#E5ECF6",
           "caxis": {
            "gridcolor": "white",
            "linecolor": "white",
            "ticks": ""
           }
          },
          "title": {
           "x": 0.05
          },
          "xaxis": {
           "automargin": true,
           "gridcolor": "white",
           "linecolor": "white",
           "ticks": "",
           "title": {
            "standoff": 15
           },
           "zerolinecolor": "white",
           "zerolinewidth": 2
          },
          "yaxis": {
           "automargin": true,
           "gridcolor": "white",
           "linecolor": "white",
           "ticks": "",
           "title": {
            "standoff": 15
           },
           "zerolinecolor": "white",
           "zerolinewidth": 2
          }
         }
        },
        "title": {
         "text": "Slice Plot"
        },
        "xaxis": {
         "anchor": "y",
         "domain": [
          0,
          0.2888888888888889
         ],
         "title": {
          "text": "learning_rate"
         },
         "type": "log"
        },
        "xaxis2": {
         "anchor": "y2",
         "domain": [
          0.35555555555555557,
          0.6444444444444445
         ],
         "title": {
          "text": "max_depth"
         }
        },
        "xaxis3": {
         "anchor": "y3",
         "domain": [
          0.7111111111111111,
          1
         ],
         "title": {
          "text": "n_estimators"
         }
        },
        "yaxis": {
         "anchor": "x",
         "domain": [
          0,
          1
         ],
         "title": {
          "text": "Objective Value"
         }
        },
        "yaxis2": {
         "anchor": "x2",
         "domain": [
          0,
          1
         ],
         "matches": "y",
         "showticklabels": false
        },
        "yaxis3": {
         "anchor": "x3",
         "domain": [
          0,
          1
         ],
         "matches": "y",
         "showticklabels": false
        }
       }
      }
     },
     "metadata": {},
     "output_type": "display_data"
    }
   ],
   "source": [
    "# optuna.visualization.plot_optimization_history(study_xgb).show()\n",
    "# optuna.visualization.plot_param_importances(study_xgb).show()\n",
    "# optuna.visualization.plot_contour(study_xgb).show()\n",
    "# # 绘制平行坐标图\n",
    "# optuna.visualization.plot_parallel_coordinate(study_xgb, params=['n_estimators', 'learning_rate', 'max_depth']).show()\n",
    "\n",
    "# optuna.visualization.plot_slice(study_xgb, params=['n_estimators', 'learning_rate', 'max_depth']).show()\n"
   ]
  },
  {
   "cell_type": "markdown",
   "metadata": {},
   "source": [
    "# MLP"
   ]
  },
  {
   "cell_type": "markdown",
   "metadata": {},
   "source": [
    "## Params of MLP"
   ]
  },
  {
   "cell_type": "code",
   "execution_count": 15,
   "metadata": {},
   "outputs": [],
   "source": [
    "batch_size = 32  # Set batch size\n",
    "lr = 0.01\n",
    "n_layers = 2\n",
    "num_epochs = 5  # Adjust the number of epochs based on performance\n",
    "dropout_p = 0.3\n",
    "hidden_layers_count = 100\n"
   ]
  },
  {
   "cell_type": "markdown",
   "metadata": {},
   "source": [
    "## Funcs of MLP"
   ]
  },
  {
   "cell_type": "code",
   "execution_count": 16,
   "metadata": {},
   "outputs": [],
   "source": [
    "class NeuralNetwork(nn.Module):\n",
    "    def __init__(self, d_in, d_out, d_hidden, n_layers = n_layers, dropout_p = dropout_p):\n",
    "        super().__init__()\n",
    "        layers = [nn.Linear(d_in, d_hidden), nn.BatchNorm1d(d_hidden),\n",
    "            nn.ReLU()]\n",
    "        for layer in range(n_layers):\n",
    "            layers += [nn.Linear(d_hidden, d_hidden), nn.BatchNorm1d(d_hidden),nn.ReLU(), nn.Dropout(p=dropout_p)]\n",
    "        layers += [nn.Linear(d_hidden, d_out)]\n",
    "        self.linear_relu_stack = nn.Sequential(*layers)\n",
    "\n",
    "    def forward(self, x):\n",
    "        logits = self.linear_relu_stack(x)\n",
    "        return logits\n",
    "    \n",
    "# Training function\n",
    "def train(model, train_loader, loss_fn, optimizer, device):\n",
    "    model.train()  # Set model to training mode\n",
    "    total_loss = 0\n",
    "    \n",
    "    for batch_X, batch_y in train_loader:\n",
    "        batch_X, batch_y = batch_X.to(device), batch_y.to(device)  # Move data to GPU if available\n",
    "\n",
    "        optimizer.zero_grad()  # Reset gradients\n",
    "        outputs = model(batch_X).squeeze()  # Forward pass (ensure output shape matches labels)\n",
    "        loss = loss_fn(outputs, batch_y)  # Compute MSE loss\n",
    "        loss.backward()  # Backpropagation\n",
    "        optimizer.step()  # Update weights\n",
    "        \n",
    "        total_loss += loss.item()  # Accumulate loss\n",
    "    \n",
    "    return total_loss / len(train_loader)  # Return average loss per batch\n",
    "\n",
    "# Evaluation function\n",
    "def evaluate(model, val_loader, loss_fn, device):\n",
    "    model.eval()  # Set model to evaluation mode\n",
    "    total_loss = 0\n",
    "    \n",
    "    with torch.no_grad():  # Disable gradient computation\n",
    "        for batch_X, batch_y in val_loader:\n",
    "            batch_X, batch_y = batch_X.to(device), batch_y.to(device)\n",
    "            outputs = model(batch_X).squeeze()  # Ensure output shape matches labels\n",
    "            \n",
    "            loss = loss_fn(outputs, batch_y)\n",
    "            total_loss += loss.item()\n",
    "\n",
    "    avg_loss = total_loss / len(val_loader)\n",
    "    return avg_loss  # Return MSE loss (lower is better)"
   ]
  },
  {
   "cell_type": "markdown",
   "metadata": {},
   "source": [
    "## Predictions of the MLP method"
   ]
  },
  {
   "cell_type": "code",
   "execution_count": 17,
   "metadata": {},
   "outputs": [],
   "source": [
    "X = games[col].fillna(-1)\n",
    "y = games['Pred']\n",
    "\n",
    "imputer = SimpleImputer(strategy='mean')  \n",
    "scaler = StandardScaler()\n",
    "X_imputed = imputer.fit_transform(X)\n",
    "X_scaled = scaler.fit_transform(X_imputed)\n",
    "\n",
    "\n",
    "# turn numpy arrays into tensors\n",
    "X_train_tensor = torch.tensor(X_scaled, dtype=torch.float32)  # Convert features to float\n",
    "y_train_tensor = torch.tensor(y, dtype=torch.float32)  # Convert labels to long (for classification)\n",
    "train_dataset = TensorDataset(X_train_tensor, y_train_tensor)\n",
    "\n",
    "# Train, valid split\n",
    "train_size = int(0.8 * len(train_dataset))  # 80% for training\n",
    "val_size = len(train_dataset) - train_size  # Remaining 20% for validation\n",
    "train_dataset, val_dataset = random_split(train_dataset, [train_size, val_size])\n",
    "\n",
    "\n",
    "train_loader = DataLoader(train_dataset, batch_size=batch_size, shuffle=True)\n",
    "val_loader = DataLoader(val_dataset, batch_size=batch_size, shuffle=False)\n",
    "\n",
    "\n",
    "\n",
    "model = NeuralNetwork(X_scaled.shape[1], 1, hidden_layers_count)\n",
    "#print(model)\n",
    "loss_fn = nn.MSELoss()\n",
    "optimizer = optim.Adam(model.parameters(), lr=lr)  # Adjust learning rate as needed\n",
    "\n",
    "\n",
    "\n",
    "# Move model to GPU if available\n",
    "device = torch.device(\"cuda\" if torch.cuda.is_available() else \"cpu\")\n",
    "model.to(device)\n",
    "\n",
    "# Training loop\n",
    "\n",
    "for epoch in range(num_epochs):\n",
    "    train_loss = train(model, train_loader, loss_fn, optimizer, device)\n",
    "    val_loss = evaluate(model, val_loader, loss_fn, device)\n",
    "    \n",
    "    # print(f\"Epoch {epoch+1}/{num_epochs}:\")\n",
    "    # print(f\"  Train Loss (MSE): {train_loss:.4f}\")\n",
    "    # print(f\"  Validation Loss (MSE): {val_loss:.4f}\")\n",
    "\n",
    "X_submit = sub[col].fillna(-1)\n",
    "X_submit_imputed = imputer.transform(X_submit)\n",
    "X_submit_scaled = scaler.transform(X_submit_imputed)\n",
    "\n",
    "\n",
    "X_submit_tensor = torch.tensor(X_submit_scaled, dtype=torch.float32)\n",
    "\n",
    "# Move to GPU if available\n",
    "device = torch.device(\"cuda\" if torch.cuda.is_available() else \"cpu\")\n",
    "X_submit_tensor = X_submit_tensor.to(device)\n",
    "\n",
    "# Set model to evaluation mode\n",
    "model.eval()\n",
    "\n",
    "# Make predictions (disable gradients for efficiency)\n",
    "with torch.no_grad():\n",
    "    y_preds = model(X_submit_tensor).cpu().numpy()  # Move back to CPU for saving\n",
    "\n",
    "sub['Pred'] = y_preds\n",
    "# sub[['ID', 'Pred']].to_csv('submission.csv', index=False)\n",
    "\n",
    "pred_of_MLP = sub[['ID', 'Pred']]\n"
   ]
  },
  {
   "cell_type": "markdown",
   "metadata": {},
   "source": [
    "## Optuna for MLP"
   ]
  },
  {
   "cell_type": "code",
   "execution_count": 20,
   "metadata": {},
   "outputs": [
    {
     "name": "stderr",
     "output_type": "stream",
     "text": [
      "[I 2025-03-11 18:19:48,649] A new study created in memory with name: no-name-596b0f04-ac21-4eb1-ac06-6d74cad9f265\n"
     ]
    },
    {
     "data": {
      "application/vnd.jupyter.widget-view+json": {
       "model_id": "c12c9cc4920a4f35953efce82b61d9fb",
       "version_major": 2,
       "version_minor": 0
      },
      "text/plain": [
       "  0%|          | 0/50 [00:00<?, ?it/s]"
      ]
     },
     "metadata": {},
     "output_type": "display_data"
    },
    {
     "name": "stdout",
     "output_type": "stream",
     "text": [
      "[I 2025-03-11 18:19:51,327] Trial 0 finished with value: 0.228862339630723 and parameters: {'batch_size': 61, 'lr': 0.0041040758021117195, 'n_layers': 4, 'num_epochs': 22, 'dropout_p': 0.43042696018977034, 'hidden_layers_count': 69}. Best is trial 0 with value: 0.228862339630723.\n",
      "[I 2025-03-11 18:19:56,042] Trial 1 finished with value: 0.20668470300734043 and parameters: {'batch_size': 19, 'lr': 0.003968820978579438, 'n_layers': 5, 'num_epochs': 12, 'dropout_p': 0.1469178239954807, 'hidden_layers_count': 88}. Best is trial 1 with value: 0.20668470300734043.\n",
      "[I 2025-03-11 18:19:57,383] Trial 2 finished with value: 0.19549974240362644 and parameters: {'batch_size': 64, 'lr': 0.023682552281648162, 'n_layers': 4, 'num_epochs': 11, 'dropout_p': 0.42022691377609167, 'hidden_layers_count': 162}. Best is trial 2 with value: 0.19549974240362644.\n",
      "[I 2025-03-11 18:19:59,455] Trial 3 finished with value: 0.1769277515510718 and parameters: {'batch_size': 40, 'lr': 0.0076915927574110615, 'n_layers': 4, 'num_epochs': 12, 'dropout_p': 0.20496112265972688, 'hidden_layers_count': 84}. Best is trial 3 with value: 0.1769277515510718.\n"
     ]
    },
    {
     "name": "stderr",
     "output_type": "stream",
     "text": [
      "c:\\Users\\Li Nuo\\.conda\\envs\\mmmcatboost\\lib\\site-packages\\torch\\nn\\modules\\loss.py:610: UserWarning:\n",
      "\n",
      "Using a target size (torch.Size([1])) that is different to the input size (torch.Size([])). This will likely lead to incorrect results due to broadcasting. Please ensure they have the same size.\n",
      "\n"
     ]
    },
    {
     "name": "stdout",
     "output_type": "stream",
     "text": [
      "[I 2025-03-11 18:20:03,402] Trial 4 finished with value: 0.1980565626706396 and parameters: {'batch_size': 35, 'lr': 0.008273369084722548, 'n_layers': 4, 'num_epochs': 20, 'dropout_p': 0.13696766277358108, 'hidden_layers_count': 184}. Best is trial 3 with value: 0.1769277515510718.\n",
      "[I 2025-03-11 18:20:07,228] Trial 5 finished with value: 0.2019203285637655 and parameters: {'batch_size': 24, 'lr': 0.008409281040608398, 'n_layers': 4, 'num_epochs': 14, 'dropout_p': 0.2031884812196957, 'hidden_layers_count': 144}. Best is trial 3 with value: 0.1769277515510718.\n",
      "[I 2025-03-11 18:20:08,769] Trial 6 finished with value: 0.25172048434615135 and parameters: {'batch_size': 59, 'lr': 0.0824390642590262, 'n_layers': 4, 'num_epochs': 12, 'dropout_p': 0.436942896044774, 'hidden_layers_count': 104}. Best is trial 3 with value: 0.1769277515510718.\n",
      "[I 2025-03-11 18:20:11,588] Trial 7 finished with value: 0.1975752723713716 and parameters: {'batch_size': 38, 'lr': 0.011055202146496605, 'n_layers': 3, 'num_epochs': 18, 'dropout_p': 0.27930733649729844, 'hidden_layers_count': 91}. Best is trial 3 with value: 0.1769277515510718.\n",
      "[I 2025-03-11 18:20:13,852] Trial 8 finished with value: 0.19306213408708572 and parameters: {'batch_size': 64, 'lr': 0.050646333610629916, 'n_layers': 2, 'num_epochs': 25, 'dropout_p': 0.17568180309075676, 'hidden_layers_count': 161}. Best is trial 3 with value: 0.1769277515510718.\n",
      "[I 2025-03-11 18:20:15,473] Trial 9 finished with value: 0.19870905365262712 and parameters: {'batch_size': 22, 'lr': 0.01673298947959213, 'n_layers': 2, 'num_epochs': 7, 'dropout_p': 0.413465850365745, 'hidden_layers_count': 167}. Best is trial 3 with value: 0.1769277515510718.\n",
      "[I 2025-03-11 18:20:20,398] Trial 10 finished with value: 0.22251286655664443 and parameters: {'batch_size': 49, 'lr': 0.002499583881314499, 'n_layers': 5, 'num_epochs': 30, 'dropout_p': 0.27391822646120273, 'hidden_layers_count': 125}. Best is trial 3 with value: 0.1769277515510718.\n",
      "[I 2025-03-11 18:20:23,272] Trial 11 finished with value: 0.19332318007946014 and parameters: {'batch_size': 49, 'lr': 0.0010064435408321311, 'n_layers': 2, 'num_epochs': 27, 'dropout_p': 0.2052820356628044, 'hidden_layers_count': 55}. Best is trial 3 with value: 0.1769277515510718.\n",
      "[I 2025-03-11 18:20:26,440] Trial 12 finished with value: 0.17978038936853408 and parameters: {'batch_size': 48, 'lr': 0.07869330806093972, 'n_layers': 3, 'num_epochs': 24, 'dropout_p': 0.20991369723708805, 'hidden_layers_count': 121}. Best is trial 3 with value: 0.1769277515510718.\n",
      "[I 2025-03-11 18:20:27,187] Trial 13 finished with value: 0.20196734517812728 and parameters: {'batch_size': 46, 'lr': 0.030487442506440476, 'n_layers': 3, 'num_epochs': 5, 'dropout_p': 0.3327721658458914, 'hidden_layers_count': 116}. Best is trial 3 with value: 0.1769277515510718.\n"
     ]
    },
    {
     "name": "stderr",
     "output_type": "stream",
     "text": [
      "c:\\Users\\Li Nuo\\.conda\\envs\\mmmcatboost\\lib\\site-packages\\torch\\nn\\modules\\loss.py:610: UserWarning:\n",
      "\n",
      "Using a target size (torch.Size([1])) that is different to the input size (torch.Size([])). This will likely lead to incorrect results due to broadcasting. Please ensure they have the same size.\n",
      "\n"
     ]
    },
    {
     "name": "stdout",
     "output_type": "stream",
     "text": [
      "[I 2025-03-11 18:20:31,030] Trial 14 finished with value: 0.2503591701388359 and parameters: {'batch_size': 35, 'lr': 0.09662057616230096, 'n_layers': 3, 'num_epochs': 23, 'dropout_p': 0.23960333998761837, 'hidden_layers_count': 82}. Best is trial 3 with value: 0.1769277515510718.\n",
      "[I 2025-03-11 18:20:34,107] Trial 15 finished with value: 0.19590666983276606 and parameters: {'batch_size': 30, 'lr': 0.03375962897927286, 'n_layers': 3, 'num_epochs': 15, 'dropout_p': 0.10994195190855093, 'hidden_layers_count': 135}. Best is trial 3 with value: 0.1769277515510718.\n",
      "[I 2025-03-11 18:20:36,779] Trial 16 finished with value: 0.20889249940713248 and parameters: {'batch_size': 54, 'lr': 0.0050907553655596145, 'n_layers': 5, 'num_epochs': 18, 'dropout_p': 0.32814871653354066, 'hidden_layers_count': 108}. Best is trial 3 with value: 0.1769277515510718.\n",
      "[I 2025-03-11 18:20:38,109] Trial 17 finished with value: 0.1874992928721688 and parameters: {'batch_size': 43, 'lr': 0.0012833171088150429, 'n_layers': 3, 'num_epochs': 9, 'dropout_p': 0.2360666405143965, 'hidden_layers_count': 50}. Best is trial 3 with value: 0.1769277515510718.\n",
      "[I 2025-03-11 18:20:42,034] Trial 18 finished with value: 0.22474008798599243 and parameters: {'batch_size': 54, 'lr': 0.013958702866859624, 'n_layers': 4, 'num_epochs': 29, 'dropout_p': 0.35788636469345103, 'hidden_layers_count': 74}. Best is trial 3 with value: 0.1769277515510718.\n",
      "[I 2025-03-11 18:20:45,216] Trial 19 finished with value: 0.19546671211719513 and parameters: {'batch_size': 30, 'lr': 0.0021842391865817693, 'n_layers': 3, 'num_epochs': 16, 'dropout_p': 0.49233043353998174, 'hidden_layers_count': 97}. Best is trial 3 with value: 0.1769277515510718.\n",
      "[I 2025-03-11 18:20:49,296] Trial 20 finished with value: 0.19228154556317764 and parameters: {'batch_size': 42, 'lr': 0.04793905410873239, 'n_layers': 5, 'num_epochs': 21, 'dropout_p': 0.23654625821504993, 'hidden_layers_count': 199}. Best is trial 3 with value: 0.1769277515510718.\n",
      "[I 2025-03-11 18:20:50,626] Trial 21 finished with value: 0.1855826350775632 and parameters: {'batch_size': 43, 'lr': 0.001065369207775844, 'n_layers': 3, 'num_epochs': 9, 'dropout_p': 0.2470748141384736, 'hidden_layers_count': 55}. Best is trial 3 with value: 0.1769277515510718.\n",
      "[I 2025-03-11 18:20:51,749] Trial 22 finished with value: 0.1954469167523914 and parameters: {'batch_size': 52, 'lr': 0.002073604183550652, 'n_layers': 3, 'num_epochs': 9, 'dropout_p': 0.20348614228452644, 'hidden_layers_count': 62}. Best is trial 3 with value: 0.1769277515510718.\n",
      "[I 2025-03-11 18:20:52,490] Trial 23 finished with value: 0.19693983594576517 and parameters: {'batch_size': 39, 'lr': 0.00601493866203187, 'n_layers': 2, 'num_epochs': 5, 'dropout_p': 0.2739498753091009, 'hidden_layers_count': 76}. Best is trial 3 with value: 0.1769277515510718.\n",
      "[I 2025-03-11 18:20:53,780] Trial 24 finished with value: 0.2040051519870758 and parameters: {'batch_size': 45, 'lr': 0.003082553147093953, 'n_layers': 3, 'num_epochs': 9, 'dropout_p': 0.16933484087163705, 'hidden_layers_count': 66}. Best is trial 3 with value: 0.1769277515510718.\n",
      "[I 2025-03-11 18:20:56,583] Trial 25 finished with value: 0.20514860451221467 and parameters: {'batch_size': 32, 'lr': 0.019584862440908745, 'n_layers': 4, 'num_epochs': 13, 'dropout_p': 0.3069473018632688, 'hidden_layers_count': 118}. Best is trial 3 with value: 0.1769277515510718.\n",
      "[I 2025-03-11 18:20:59,937] Trial 26 finished with value: 0.25242952555418013 and parameters: {'batch_size': 47, 'lr': 0.06214329956499872, 'n_layers': 3, 'num_epochs': 25, 'dropout_p': 0.2495493947841688, 'hidden_layers_count': 140}. Best is trial 3 with value: 0.1769277515510718.\n",
      "[I 2025-03-11 18:21:01,271] Trial 27 finished with value: 0.2040145012239615 and parameters: {'batch_size': 41, 'lr': 0.006383737873856251, 'n_layers': 2, 'num_epochs': 10, 'dropout_p': 0.10192916970216762, 'hidden_layers_count': 60}. Best is trial 3 with value: 0.1769277515510718.\n",
      "[I 2025-03-11 18:21:02,672] Trial 28 finished with value: 0.19920054307350746 and parameters: {'batch_size': 36, 'lr': 0.0013869862081744026, 'n_layers': 4, 'num_epochs': 7, 'dropout_p': 0.18297672044457708, 'hidden_layers_count': 100}. Best is trial 3 with value: 0.1769277515510718.\n",
      "[I 2025-03-11 18:21:04,480] Trial 29 finished with value: 0.21511441469192505 and parameters: {'batch_size': 58, 'lr': 0.0037592039040655442, 'n_layers': 3, 'num_epochs': 16, 'dropout_p': 0.1441031618005435, 'hidden_layers_count': 67}. Best is trial 3 with value: 0.1769277515510718.\n",
      "[I 2025-03-11 18:21:07,623] Trial 30 finished with value: 0.22895095745722452 and parameters: {'batch_size': 51, 'lr': 0.01117626250706541, 'n_layers': 4, 'num_epochs': 23, 'dropout_p': 0.21357930931367405, 'hidden_layers_count': 86}. Best is trial 3 with value: 0.1769277515510718.\n",
      "[I 2025-03-11 18:21:08,701] Trial 31 finished with value: 0.19918504492803055 and parameters: {'batch_size': 43, 'lr': 0.0014453529375215532, 'n_layers': 3, 'num_epochs': 7, 'dropout_p': 0.23203428394402706, 'hidden_layers_count': 50}. Best is trial 3 with value: 0.1769277515510718.\n",
      "[I 2025-03-11 18:21:09,884] Trial 32 finished with value: 0.19391810623082248 and parameters: {'batch_size': 44, 'lr': 0.001175923533907097, 'n_layers': 3, 'num_epochs': 8, 'dropout_p': 0.2619077522097735, 'hidden_layers_count': 51}. Best is trial 3 with value: 0.1769277515510718.\n",
      "[I 2025-03-11 18:21:11,792] Trial 33 finished with value: 0.17337967082858086 and parameters: {'batch_size': 40, 'lr': 0.0019293823547573273, 'n_layers': 3, 'num_epochs': 12, 'dropout_p': 0.31006928181081633, 'hidden_layers_count': 82}. Best is trial 33 with value: 0.17337967082858086.\n",
      "[I 2025-03-11 18:21:13,976] Trial 34 finished with value: 0.19465425175925097 and parameters: {'batch_size': 39, 'lr': 0.0018332967358671045, 'n_layers': 4, 'num_epochs': 12, 'dropout_p': 0.2950714970275102, 'hidden_layers_count': 79}. Best is trial 33 with value: 0.17337967082858086.\n",
      "[I 2025-03-11 18:21:16,069] Trial 35 finished with value: 0.19915697276592254 and parameters: {'batch_size': 32, 'lr': 0.0027162944983952606, 'n_layers': 3, 'num_epochs': 11, 'dropout_p': 0.3824142788381577, 'hidden_layers_count': 95}. Best is trial 33 with value: 0.17337967082858086.\n",
      "[I 2025-03-11 18:21:21,834] Trial 36 finished with value: 0.19088456265885254 and parameters: {'batch_size': 16, 'lr': 0.0042312880460840165, 'n_layers': 4, 'num_epochs': 14, 'dropout_p': 0.3102500559311034, 'hidden_layers_count': 152}. Best is trial 33 with value: 0.17337967082858086.\n",
      "[I 2025-03-11 18:21:25,527] Trial 37 finished with value: 0.2158760783764032 and parameters: {'batch_size': 37, 'lr': 0.0017404736892714773, 'n_layers': 4, 'num_epochs': 19, 'dropout_p': 0.15943434880494806, 'hidden_layers_count': 109}. Best is trial 33 with value: 0.17337967082858086.\n",
      "[I 2025-03-11 18:21:26,870] Trial 38 finished with value: 0.21449260264635087 and parameters: {'batch_size': 48, 'lr': 0.008133786874387127, 'n_layers': 2, 'num_epochs': 11, 'dropout_p': 0.1908573960227243, 'hidden_layers_count': 131}. Best is trial 33 with value: 0.17337967082858086.\n",
      "[I 2025-03-11 18:21:29,835] Trial 39 finished with value: 0.19549053410689035 and parameters: {'batch_size': 26, 'lr': 0.0033403440648362634, 'n_layers': 3, 'num_epochs': 13, 'dropout_p': 0.29098341195426647, 'hidden_layers_count': 88}. Best is trial 33 with value: 0.17337967082858086.\n",
      "[I 2025-03-11 18:21:32,784] Trial 40 finished with value: 0.1963294061521689 and parameters: {'batch_size': 41, 'lr': 0.026025363667517634, 'n_layers': 4, 'num_epochs': 17, 'dropout_p': 0.12427323795461517, 'hidden_layers_count': 71}. Best is trial 33 with value: 0.17337967082858086.\n",
      "[I 2025-03-11 18:21:34,264] Trial 41 finished with value: 0.20348305051976984 and parameters: {'batch_size': 43, 'lr': 0.0014912534435186661, 'n_layers': 3, 'num_epochs': 10, 'dropout_p': 0.21895675427494907, 'hidden_layers_count': 57}. Best is trial 33 with value: 0.17337967082858086.\n",
      "[I 2025-03-11 18:21:35,440] Trial 42 finished with value: 0.20884809439832513 and parameters: {'batch_size': 45, 'lr': 0.0010252548588885692, 'n_layers': 3, 'num_epochs': 8, 'dropout_p': 0.2596846483162133, 'hidden_layers_count': 66}. Best is trial 33 with value: 0.17337967082858086.\n",
      "[I 2025-03-11 18:21:37,545] Trial 43 finished with value: 0.2034634823600451 and parameters: {'batch_size': 39, 'lr': 0.0015853288645463072, 'n_layers': 3, 'num_epochs': 13, 'dropout_p': 0.23450397132716538, 'hidden_layers_count': 81}. Best is trial 33 with value: 0.17337967082858086.\n",
      "[I 2025-03-11 18:21:38,662] Trial 44 finished with value: 0.20167597170386994 and parameters: {'batch_size': 34, 'lr': 0.0012653978291815688, 'n_layers': 3, 'num_epochs': 6, 'dropout_p': 0.33301711365335374, 'hidden_layers_count': 58}. Best is trial 33 with value: 0.17337967082858086.\n",
      "[I 2025-03-11 18:21:39,894] Trial 45 finished with value: 0.1976144567131996 and parameters: {'batch_size': 49, 'lr': 0.0023777912798421336, 'n_layers': 3, 'num_epochs': 9, 'dropout_p': 0.2226055586637245, 'hidden_layers_count': 116}. Best is trial 33 with value: 0.17337967082858086.\n",
      "[I 2025-03-11 18:21:41,562] Trial 46 finished with value: 0.23764344222015804 and parameters: {'batch_size': 51, 'lr': 0.00112293273697421, 'n_layers': 2, 'num_epochs': 15, 'dropout_p': 0.1931843527396152, 'hidden_layers_count': 123}. Best is trial 33 with value: 0.17337967082858086.\n",
      "[I 2025-03-11 18:21:43,175] Trial 47 finished with value: 0.24995422032144335 and parameters: {'batch_size': 55, 'lr': 0.0438859643209228, 'n_layers': 4, 'num_epochs': 12, 'dropout_p': 0.25534934253352043, 'hidden_layers_count': 72}. Best is trial 33 with value: 0.17337967082858086.\n",
      "[I 2025-03-11 18:21:44,591] Trial 48 finished with value: 0.19393492639064788 and parameters: {'batch_size': 47, 'lr': 0.01403567654848052, 'n_layers': 3, 'num_epochs': 10, 'dropout_p': 0.15894956653522432, 'hidden_layers_count': 152}. Best is trial 33 with value: 0.17337967082858086.\n",
      "[I 2025-03-11 18:21:46,044] Trial 49 finished with value: 0.20230054606993994 and parameters: {'batch_size': 41, 'lr': 0.004694691221426963, 'n_layers': 2, 'num_epochs': 11, 'dropout_p': 0.28552548563827734, 'hidden_layers_count': 106}. Best is trial 33 with value: 0.17337967082858086.\n",
      "Best Hyperparameters: {'batch_size': 40, 'lr': 0.0019293823547573273, 'n_layers': 3, 'num_epochs': 12, 'dropout_p': 0.31006928181081633, 'hidden_layers_count': 82}\n",
      "Best MSE: 0.17337967082858086\n"
     ]
    }
   ],
   "source": [
    "def objective_mlp(trial):\n",
    "    # 定义需要优化的参数\n",
    "    params = {\n",
    "    'batch_size': trial.suggest_int('batch_size', 16, 64),  # 批量大小\n",
    "    'lr': trial.suggest_float('lr', 0.001, 0.1, log=True),  # 学习率\n",
    "    'n_layers': trial.suggest_int('n_layers', 2, 5),  # 网络层数\n",
    "    'num_epochs': trial.suggest_int('num_epochs', 5, 30),  # 训练轮数\n",
    "    'dropout_p': trial.suggest_float('dropout_p', 0.1, 0.5),  # Dropout 概率\n",
    "    'hidden_layers_count': trial.suggest_int('hidden_layers_count', 50, 200)  # 隐藏层神经元数量\n",
    "    }\n",
    "\n",
    "    batch_size, lr, n_layers, num_epochs, dropout_p, hidden_layers_count = params.values()\n",
    "\n",
    "    try:\n",
    "\n",
    "        imputer = SimpleImputer(strategy='mean')  \n",
    "        scaler = StandardScaler()\n",
    "        X_imputed = imputer.fit_transform(X)\n",
    "        X_scaled = scaler.fit_transform(X_imputed)\n",
    "\n",
    "\n",
    "        # turn numpy arrays into tensors\n",
    "        X_train_tensor = torch.tensor(X_scaled, dtype=torch.float32)  # Convert features to float\n",
    "        y_train_tensor = torch.tensor(y, dtype=torch.float32)  # Convert labels to long (for classification)\n",
    "        train_dataset = TensorDataset(X_train_tensor, y_train_tensor)\n",
    "\n",
    "        # Train, valid split\n",
    "        train_size = int(0.8 * len(train_dataset))  # 80% for training\n",
    "        val_size = len(train_dataset) - train_size  # Remaining 20% for validation\n",
    "        train_dataset, val_dataset = random_split(train_dataset, [train_size, val_size])\n",
    "\n",
    "\n",
    "        train_loader = DataLoader(train_dataset, batch_size=batch_size, shuffle=True)\n",
    "        val_loader = DataLoader(val_dataset, batch_size=batch_size, shuffle=False)\n",
    "\n",
    "\n",
    "\n",
    "        model = NeuralNetwork(X_scaled.shape[1], 1, hidden_layers_count, n_layers=n_layers, dropout_p = dropout_p)\n",
    "        #print(model)\n",
    "        loss_fn = nn.MSELoss()\n",
    "        optimizer = optim.Adam(model.parameters(), lr=lr)  # Adjust learning rate as needed\n",
    "\n",
    "\n",
    "\n",
    "        # Move model to GPU if available\n",
    "        device = torch.device(\"cuda\" if torch.cuda.is_available() else \"cpu\")\n",
    "        model.to(device)\n",
    "\n",
    "        # Training loop\n",
    "\n",
    "        for epoch in range(num_epochs):\n",
    "            train_loss = train(model, train_loader, loss_fn, optimizer, device)\n",
    "            val_loss = evaluate(model, val_loader, loss_fn, device)\n",
    "            \n",
    "            # print(f\"Epoch {epoch+1}/{num_epochs}:\")\n",
    "            # print(f\"  Train Loss (MSE): {train_loss:.4f}\")\n",
    "            # print(f\"  Validation Loss (MSE): {val_loss:.4f}\")\n",
    "    except:\n",
    "        return 1\n",
    "\n",
    "    # X_submit = sub[col].fillna(-1)\n",
    "    # X_submit_imputed = imputer.transform(X_submit)\n",
    "    # X_submit_scaled = scaler.transform(X_submit_imputed)\n",
    "\n",
    "\n",
    "    # X_submit_tensor = torch.tensor(X_submit_scaled, dtype=torch.float32)\n",
    "\n",
    "    # # Move to GPU if available\n",
    "    # device = torch.device(\"cuda\" if torch.cuda.is_available() else \"cpu\")\n",
    "    # X_submit_tensor = X_submit_tensor.to(device)\n",
    "\n",
    "    # # Set model to evaluation mode\n",
    "    # model.eval()\n",
    "\n",
    "    # # Make predictions (disable gradients for efficiency)\n",
    "    # with torch.no_grad():\n",
    "    #     y_preds = model(X_submit_tensor).cpu().numpy()  # Move back to CPU for saving\n",
    "\n",
    "    # sub['Pred'] = y_preds\n",
    "    # # sub[['ID', 'Pred']].to_csv('submission.csv', index=False)\n",
    "\n",
    "    # pred_of_MLP = sub[['ID', 'Pred']]\n",
    "    \n",
    "    return val_loss\n",
    "\n",
    "# 创建 Optuna 研究对象\n",
    "study_MLP = optuna.create_study(direction='minimize')  # 最小化 MSE\n",
    "\n",
    "# 运行优化\n",
    "study_MLP.optimize(objective_mlp, n_trials=50, show_progress_bar=True)  # 运行 50 次试验\n",
    "\n",
    "# 获取最佳超参数\n",
    "best_params_mlp = study_MLP.best_params\n",
    "best_score_mlp = study_MLP.best_value\n",
    "\n",
    "print(\"Best Hyperparameters:\", best_params_mlp)\n",
    "print(\"Best MSE:\", best_score_mlp)\n"
   ]
  },
  {
   "cell_type": "markdown",
   "metadata": {},
   "source": [
    "# Catboost"
   ]
  },
  {
   "cell_type": "markdown",
   "metadata": {},
   "source": [
    "## EDA for catboost"
   ]
  },
  {
   "cell_type": "code",
   "execution_count": 22,
   "metadata": {},
   "outputs": [],
   "source": [
    "# men_results = pd.concat([regular_m, tourney_m])[['Season', 'WTeamID', 'LTeamID']].copy()\n",
    "men_results = tourney_m[['Season', 'WTeamID', 'LTeamID']].copy()\n",
    "men_results['Result'] = 1 \n",
    "m_inv = men_results.copy()\n",
    "m_inv[['WTeamID', 'LTeamID']] = men_results[['LTeamID', 'WTeamID']].values\n",
    "m_inv['Result'] = 0  # Loss label\n",
    "men_results_final = pd.concat([men_results, m_inv], ignore_index=True)\n",
    "# women_results = pd.concat([regular_w, tourney_w])[['Season', 'WTeamID', 'LTeamID']].copy()\n",
    "women_results = tourney_w[['Season', 'WTeamID', 'LTeamID']].copy()\n",
    "women_results['Result'] = 1 \n",
    "w_inv = women_results.copy()\n",
    "w_inv[['WTeamID', 'LTeamID']] = women_results[['LTeamID', 'WTeamID']].values\n",
    "w_inv['Result'] = 0  # Loss label\n",
    "women_results_final = pd.concat([women_results, w_inv], ignore_index=True)\n",
    "# 居然只用季后赛作为训练集吗，常规赛也值得尝试\n",
    "# 难道说模型的处理数据能力不足"
   ]
  },
  {
   "cell_type": "markdown",
   "metadata": {},
   "source": [
    "## Params of Catboost"
   ]
  },
  {
   "cell_type": "code",
   "execution_count": 23,
   "metadata": {},
   "outputs": [],
   "source": [
    "catboost_params = {\n",
    "    'iterations': 1000,\n",
    "    'depth': 6,\n",
    "    'learning_rate': 0.1,\n",
    "    'loss_function':\n",
    "    'Logloss',\n",
    "    'verbose': 200\n",
    "}"
   ]
  },
  {
   "cell_type": "markdown",
   "metadata": {},
   "source": [
    "## Predictions of Catboost"
   ]
  },
  {
   "cell_type": "code",
   "execution_count": 24,
   "metadata": {},
   "outputs": [
    {
     "name": "stdout",
     "output_type": "stream",
     "text": [
      "0:\tlearn: 0.6918510\ttest: 0.6925788\tbest: 0.6925788 (0)\ttotal: 134ms\tremaining: 2m 13s\n",
      "200:\tlearn: 0.5864055\ttest: 0.6387680\tbest: 0.6385212 (199)\ttotal: 601ms\tremaining: 2.39s\n",
      "400:\tlearn: 0.5197741\ttest: 0.6253272\tbest: 0.6253272 (400)\ttotal: 1.05s\tremaining: 1.57s\n",
      "600:\tlearn: 0.4741209\ttest: 0.6298693\tbest: 0.6245255 (415)\ttotal: 1.48s\tremaining: 982ms\n",
      "800:\tlearn: 0.4352536\ttest: 0.6313251\tbest: 0.6245255 (415)\ttotal: 1.97s\tremaining: 489ms\n",
      "999:\tlearn: 0.4046832\ttest: 0.6348452\tbest: 0.6245255 (415)\ttotal: 2.39s\tremaining: 0us\n",
      "\n",
      "bestTest = 0.6245255022\n",
      "bestIteration = 415\n",
      "\n",
      "Shrink model to first 416 iterations.\n",
      "Brier Score: 0.21737738992316263\n",
      "Submission file has 131407 rows.\n"
     ]
    }
   ],
   "source": [
    "# Train model\n",
    "all_results = pd.concat([men_results_final, women_results_final], ignore_index=True)\n",
    "\n",
    "X = all_results[['Season', 'WTeamID', 'LTeamID']]\n",
    "y = all_results['Result']\n",
    "X_train, X_test, y_train, y_test = train_test_split(X, y, test_size=0.2, random_state=42)\n",
    "\n",
    "model = CatBoostClassifier(**catboost_params)\n",
    "model.fit(X_train, y_train, eval_set=(X_test, y_test))\n",
    "\n",
    "# Evaluate model\n",
    "preds = model.predict_proba(X_test)[:, 1]\n",
    "print(f\"Brier Score: {brier_score_loss(y_test, preds)}\")\n",
    "\n",
    "# Generate submission\n",
    "input_folder = r\"./kaggle/input/march-machine-learning-mania-2025\"\n",
    "required_ids_df = pd.read_csv(os.path.join(input_folder, \"SampleSubmissionStage2.csv\"))\n",
    "team_ids = []\n",
    "for game_id in required_ids_df['ID']:\n",
    "    # 分割ID字符串，获取队伍ID\n",
    "    team_ids.extend(game_id.split('_')[1:])  # 去掉年份和下划线\n",
    "\n",
    "# 使用集合去重，然后转换为numpy数组并排序\n",
    "all_teams = np.sort(np.unique(team_ids))\n",
    "pairings = list(combinations(all_teams, 2))\n",
    "\n",
    "# Load required matchup IDs\n",
    "required_ids_df = pd.read_csv(os.path.join(input_folder, \"SampleSubmissionStage2.csv\"))\n",
    "required_ids = set(required_ids_df['ID'])\n",
    "\n",
    "def create_submission(pairings, season=2025, max_rows=131407):\n",
    "    submission = []\n",
    "    for (team1, team2) in pairings:\n",
    "        matchup_id = f\"{season}_{min(team1, team2)}_{max(team1, team2)}\"\n",
    "        if matchup_id in required_ids:\n",
    "            input_data = pd.DataFrame({'Season': [season], 'WTeamID': [min(team1, team2)], 'LTeamID': [max(team1, team2)]})\n",
    "            pred = model.predict_proba(input_data)[0, 1] if len(input_data) > 0 else 0.5\n",
    "            submission.append([matchup_id, pred])\n",
    "    submission_df = pd.DataFrame(submission, columns=[\"ID\", \"Pred\"])\n",
    "    print(f\"Submission file has {submission_df.shape[0]} rows.\")\n",
    "    return submission_df\n",
    "\n",
    "submission_df = create_submission(pairings)\n",
    "\n",
    "pred_of_Catboost = submission_df\n",
    "\n",
    "# 居然用更多的数据效果会更差吗"
   ]
  },
  {
   "cell_type": "markdown",
   "metadata": {},
   "source": [
    "## Optuna for Catboost"
   ]
  },
  {
   "cell_type": "code",
   "execution_count": 25,
   "metadata": {},
   "outputs": [
    {
     "name": "stderr",
     "output_type": "stream",
     "text": [
      "[I 2025-03-11 18:23:47,497] A new study created in memory with name: no-name-fec3e628-6221-4a67-a3b7-84925c4b3d30\n"
     ]
    },
    {
     "data": {
      "application/vnd.jupyter.widget-view+json": {
       "model_id": "a2b71d8a69a04e488e7eddc5a846b971",
       "version_major": 2,
       "version_minor": 0
      },
      "text/plain": [
       "  0%|          | 0/50 [00:00<?, ?it/s]"
      ]
     },
     "metadata": {},
     "output_type": "display_data"
    },
    {
     "name": "stdout",
     "output_type": "stream",
     "text": [
      "0:\tlearn: 0.6918648\ttest: 0.6926031\tbest: 0.6926031 (0)\ttotal: 28.7ms\tremaining: 15.8s\n",
      "200:\tlearn: 0.5878540\ttest: 0.6599343\tbest: 0.6598431 (199)\ttotal: 5.74s\tremaining: 9.97s\n",
      "400:\tlearn: 0.4965911\ttest: 0.6418544\tbest: 0.6418099 (362)\ttotal: 11.6s\tremaining: 4.31s\n",
      "549:\tlearn: 0.4483167\ttest: 0.6436452\tbest: 0.6403199 (468)\ttotal: 15.9s\tremaining: 0us\n",
      "\n",
      "bestTest = 0.6403199195\n",
      "bestIteration = 468\n",
      "\n",
      "Shrink model to first 469 iterations.\n",
      "[I 2025-03-11 18:24:03,604] Trial 0 finished with value: 0.22470767038239112 and parameters: {'iterations': 550, 'depth': 10, 'learning_rate': 0.05203190213890625, 'loss_function': 'Logloss'}. Best is trial 0 with value: 0.22470767038239112.\n",
      "0:\tlearn: 0.6930194\ttest: 0.6930718\tbest: 0.6930718 (0)\ttotal: 1.78ms\tremaining: 739ms\n",
      "200:\tlearn: 0.6791354\ttest: 0.6840167\tbest: 0.6840167 (200)\ttotal: 362ms\tremaining: 387ms\n",
      "400:\tlearn: 0.6693055\ttest: 0.6783292\tbest: 0.6783292 (400)\ttotal: 721ms\tremaining: 27ms\n",
      "415:\tlearn: 0.6685687\ttest: 0.6779581\tbest: 0.6779581 (415)\ttotal: 748ms\tremaining: 0us\n",
      "\n",
      "bestTest = 0.6779581476\n",
      "bestIteration = 415\n",
      "\n",
      "[I 2025-03-11 18:24:04,426] Trial 1 finished with value: 0.24245176575328142 and parameters: {'iterations': 416, 'depth': 5, 'learning_rate': 0.011251499594336816, 'loss_function': 'Logloss'}. Best is trial 0 with value: 0.22470767038239112.\n",
      "0:\tlearn: 0.6930032\ttest: 0.6930444\tbest: 0.6930444 (0)\ttotal: 1.62ms\tremaining: 889ms\n",
      "200:\tlearn: 0.6770883\ttest: 0.6825332\tbest: 0.6825332 (200)\ttotal: 316ms\tremaining: 546ms\n",
      "400:\tlearn: 0.6653881\ttest: 0.6758082\tbest: 0.6758082 (400)\ttotal: 630ms\tremaining: 232ms\n",
      "548:\tlearn: 0.6553611\ttest: 0.6687399\tbest: 0.6687399 (548)\ttotal: 871ms\tremaining: 0us\n",
      "\n",
      "bestTest = 0.6687399286\n",
      "bestIteration = 548\n",
      "\n",
      "[I 2025-03-11 18:24:05,378] Trial 2 finished with value: 0.23795089226108734 and parameters: {'iterations': 549, 'depth': 4, 'learning_rate': 0.018691470575681775, 'loss_function': 'Logloss'}. Best is trial 0 with value: 0.22470767038239112.\n",
      "0:\tlearn: 0.6926157\ttest: 0.6928392\tbest: 0.6928392 (0)\ttotal: 1.83ms\tremaining: 2.39s\n",
      "200:\tlearn: 0.6492948\ttest: 0.6677157\tbest: 0.6677157 (200)\ttotal: 368ms\tremaining: 2.03s\n",
      "400:\tlearn: 0.6069468\ttest: 0.6420002\tbest: 0.6419241 (398)\ttotal: 740ms\tremaining: 1.68s\n",
      "600:\tlearn: 0.5770897\ttest: 0.6285136\tbest: 0.6284629 (598)\ttotal: 1.11s\tremaining: 1.31s\n",
      "800:\tlearn: 0.5534087\ttest: 0.6223300\tbest: 0.6223300 (800)\ttotal: 1.49s\tremaining: 949ms\n",
      "1000:\tlearn: 0.5332516\ttest: 0.6202961\tbest: 0.6202961 (1000)\ttotal: 1.87s\tremaining: 578ms\n",
      "1200:\tlearn: 0.5164770\ttest: 0.6192858\tbest: 0.6189225 (1101)\ttotal: 2.25s\tremaining: 204ms\n",
      "1309:\tlearn: 0.5076961\ttest: 0.6188397\tbest: 0.6187463 (1304)\ttotal: 2.45s\tremaining: 0us\n",
      "\n",
      "bestTest = 0.6187462624\n",
      "bestIteration = 1304\n",
      "\n",
      "Shrink model to first 1305 iterations.\n",
      "[I 2025-03-11 18:24:07,973] Trial 3 finished with value: 0.21470338980397888 and parameters: {'iterations': 1310, 'depth': 5, 'learning_rate': 0.04733109980493728, 'loss_function': 'Logloss'}. Best is trial 3 with value: 0.21470338980397888.\n",
      "0:\tlearn: 0.6927916\ttest: 0.6930064\tbest: 0.6930064 (0)\ttotal: 5.21ms\tremaining: 4.1s\n",
      "200:\tlearn: 0.6547775\ttest: 0.6767296\tbest: 0.6767218 (199)\ttotal: 944ms\tremaining: 2.75s\n",
      "400:\tlearn: 0.6282690\ttest: 0.6689791\tbest: 0.6689791 (400)\ttotal: 1.88s\tremaining: 1.81s\n",
      "600:\tlearn: 0.5983007\ttest: 0.6575091\tbest: 0.6575091 (600)\ttotal: 2.82s\tremaining: 874ms\n",
      "786:\tlearn: 0.5676958\ttest: 0.6462367\tbest: 0.6462367 (786)\ttotal: 3.72s\tremaining: 0us\n",
      "\n",
      "bestTest = 0.6462367289\n",
      "bestIteration = 786\n",
      "\n",
      "[I 2025-03-11 18:24:11,839] Trial 4 finished with value: 0.22738484495506947 and parameters: {'iterations': 787, 'depth': 9, 'learning_rate': 0.01795364951384415, 'loss_function': 'Logloss'}. Best is trial 3 with value: 0.21470338980397888.\n",
      "0:\tlearn: 0.6912150\ttest: 0.6923841\tbest: 0.6923841 (0)\ttotal: 2.9ms\tremaining: 3.97s\n",
      "200:\tlearn: 0.5285242\ttest: 0.6333307\tbest: 0.6329213 (193)\ttotal: 520ms\tremaining: 3.03s\n",
      "400:\tlearn: 0.4385272\ttest: 0.6344275\tbest: 0.6303090 (268)\ttotal: 1.04s\tremaining: 2.52s\n",
      "600:\tlearn: 0.3762896\ttest: 0.6443570\tbest: 0.6303090 (268)\ttotal: 1.57s\tremaining: 2.01s\n",
      "800:\tlearn: 0.3277297\ttest: 0.6602344\tbest: 0.6303090 (268)\ttotal: 2.09s\tremaining: 1.48s\n",
      "1000:\tlearn: 0.2875589\ttest: 0.6830310\tbest: 0.6303090 (268)\ttotal: 2.6s\tremaining: 960ms\n",
      "1200:\tlearn: 0.2551229\ttest: 0.6994908\tbest: 0.6303090 (268)\ttotal: 3.12s\tremaining: 440ms\n",
      "1369:\tlearn: 0.2309759\ttest: 0.7144108\tbest: 0.6303090 (268)\ttotal: 3.56s\tremaining: 0us\n",
      "\n",
      "bestTest = 0.6303089939\n",
      "bestIteration = 268\n",
      "\n",
      "Shrink model to first 269 iterations.\n",
      "[I 2025-03-11 18:24:15,546] Trial 5 finished with value: 0.219844813835577 and parameters: {'iterations': 1370, 'depth': 7, 'learning_rate': 0.14587464158168575, 'loss_function': 'Logloss'}. Best is trial 3 with value: 0.21470338980397888.\n",
      "0:\tlearn: 0.6926790\ttest: 0.6929424\tbest: 0.6929424 (0)\ttotal: 3.51ms\tremaining: 1.01s\n",
      "200:\tlearn: 0.6483983\ttest: 0.6721935\tbest: 0.6721935 (200)\ttotal: 663ms\tremaining: 294ms\n",
      "289:\tlearn: 0.6337481\ttest: 0.6676784\tbest: 0.6676784 (289)\ttotal: 960ms\tremaining: 0us\n",
      "\n",
      "bestTest = 0.6676784177\n",
      "bestIteration = 289\n",
      "\n",
      "[I 2025-03-11 18:24:16,581] Trial 6 finished with value: 0.23748649460930465 and parameters: {'iterations': 290, 'depth': 8, 'learning_rate': 0.027605916031874813, 'loss_function': 'Logloss'}. Best is trial 3 with value: 0.21470338980397888.\n",
      "0:\tlearn: 0.6919996\ttest: 0.6925006\tbest: 0.6925006 (0)\ttotal: 29.3ms\tremaining: 3.32s\n",
      "113:\tlearn: 0.6422334\ttest: 0.6735980\tbest: 0.6735980 (113)\ttotal: 3.01s\tremaining: 0us\n",
      "\n",
      "bestTest = 0.6735980467\n",
      "bestIteration = 113\n",
      "\n",
      "[I 2025-03-11 18:24:19,665] Trial 7 finished with value: 0.24037574014890487 and parameters: {'iterations': 114, 'depth': 10, 'learning_rate': 0.07053343808062401, 'loss_function': 'Logloss'}. Best is trial 3 with value: 0.21470338980397888.\n",
      "0:\tlearn: 0.6930423\ttest: 0.6930771\tbest: 0.6930771 (0)\ttotal: 1.54ms\tremaining: 2.98s\n",
      "200:\tlearn: 0.6813184\ttest: 0.6844945\tbest: 0.6844945 (200)\ttotal: 283ms\tremaining: 2.44s\n",
      "400:\tlearn: 0.6736432\ttest: 0.6798049\tbest: 0.6797956 (399)\ttotal: 564ms\tremaining: 2.15s\n",
      "600:\tlearn: 0.6647760\ttest: 0.6743909\tbest: 0.6743909 (600)\ttotal: 849ms\tremaining: 1.88s\n",
      "800:\tlearn: 0.6543631\ttest: 0.6670474\tbest: 0.6670474 (800)\ttotal: 1.15s\tremaining: 1.62s\n",
      "1000:\tlearn: 0.6446977\ttest: 0.6601989\tbest: 0.6601989 (1000)\ttotal: 1.44s\tremaining: 1.34s\n",
      "1200:\tlearn: 0.6372737\ttest: 0.6551768\tbest: 0.6551768 (1200)\ttotal: 1.73s\tremaining: 1.05s\n",
      "1400:\tlearn: 0.6304291\ttest: 0.6503930\tbest: 0.6503930 (1400)\ttotal: 2.02s\tremaining: 766ms\n",
      "1600:\tlearn: 0.6240930\ttest: 0.6464709\tbest: 0.6464709 (1600)\ttotal: 2.32s\tremaining: 478ms\n",
      "1800:\tlearn: 0.6187255\ttest: 0.6436348\tbest: 0.6436348 (1800)\ttotal: 2.62s\tremaining: 189ms\n",
      "1930:\tlearn: 0.6150064\ttest: 0.6409322\tbest: 0.6409322 (1930)\ttotal: 2.81s\tremaining: 0us\n",
      "\n",
      "bestTest = 0.6409321919\n",
      "bestIteration = 1930\n",
      "\n",
      "[I 2025-03-11 18:24:22,644] Trial 8 finished with value: 0.2247174927014151 and parameters: {'iterations': 1931, 'depth': 3, 'learning_rate': 0.016599519572051434, 'loss_function': 'Logloss'}. Best is trial 3 with value: 0.21470338980397888.\n",
      "0:\tlearn: 0.6906817\ttest: 0.6921497\tbest: 0.6921497 (0)\ttotal: 3.47ms\tremaining: 6.26s\n",
      "200:\tlearn: 0.4917648\ttest: 0.6325123\tbest: 0.6310228 (194)\ttotal: 657ms\tremaining: 5.25s\n",
      "400:\tlearn: 0.3891385\ttest: 0.6489595\tbest: 0.6310228 (194)\ttotal: 1.32s\tremaining: 4.63s\n",
      "600:\tlearn: 0.3194015\ttest: 0.6717524\tbest: 0.6310228 (194)\ttotal: 2s\tremaining: 4.01s\n",
      "800:\tlearn: 0.2671601\ttest: 0.6975039\tbest: 0.6310228 (194)\ttotal: 2.67s\tremaining: 3.35s\n",
      "1000:\tlearn: 0.2263006\ttest: 0.7216897\tbest: 0.6310228 (194)\ttotal: 3.33s\tremaining: 2.68s\n",
      "1200:\tlearn: 0.1956392\ttest: 0.7495054\tbest: 0.6310228 (194)\ttotal: 4s\tremaining: 2.01s\n",
      "1400:\tlearn: 0.1682293\ttest: 0.7676682\tbest: 0.6310228 (194)\ttotal: 4.68s\tremaining: 1.35s\n",
      "1600:\tlearn: 0.1476831\ttest: 0.7827562\tbest: 0.6310228 (194)\ttotal: 5.34s\tremaining: 680ms\n",
      "1800:\tlearn: 0.1286095\ttest: 0.7999754\tbest: 0.6310228 (194)\ttotal: 6.01s\tremaining: 13.3ms\n",
      "1804:\tlearn: 0.1283135\ttest: 0.8003449\tbest: 0.6310228 (194)\ttotal: 6.02s\tremaining: 0us\n",
      "\n",
      "bestTest = 0.6310228092\n",
      "bestIteration = 194\n",
      "\n",
      "Shrink model to first 195 iterations.\n",
      "[I 2025-03-11 18:24:28,844] Trial 9 finished with value: 0.2202846534732221 and parameters: {'iterations': 1805, 'depth': 8, 'learning_rate': 0.15491595606842537, 'loss_function': 'Logloss'}. Best is trial 3 with value: 0.21470338980397888.\n",
      "0:\tlearn: 0.6921943\ttest: 0.6926027\tbest: 0.6926027 (0)\ttotal: 1.82ms\tremaining: 2.3s\n",
      "200:\tlearn: 0.6141334\ttest: 0.6479360\tbest: 0.6479360 (200)\ttotal: 368ms\tremaining: 1.94s\n",
      "400:\tlearn: 0.5618880\ttest: 0.6260399\tbest: 0.6259260 (397)\ttotal: 747ms\tremaining: 1.6s\n",
      "600:\tlearn: 0.5256518\ttest: 0.6232958\tbest: 0.6217865 (509)\ttotal: 1.13s\tremaining: 1.24s\n",
      "800:\tlearn: 0.4961408\ttest: 0.6210573\tbest: 0.6204437 (767)\ttotal: 1.52s\tremaining: 878ms\n",
      "1000:\tlearn: 0.4709326\ttest: 0.6214000\tbest: 0.6203415 (922)\ttotal: 1.9s\tremaining: 498ms\n",
      "1200:\tlearn: 0.4484581\ttest: 0.6220690\tbest: 0.6203415 (922)\ttotal: 2.28s\tremaining: 118ms\n",
      "1262:\tlearn: 0.4426567\ttest: 0.6236812\tbest: 0.6203415 (922)\ttotal: 2.4s\tremaining: 0us\n",
      "\n",
      "bestTest = 0.6203414758\n",
      "bestIteration = 922\n",
      "\n",
      "Shrink model to first 923 iterations.\n",
      "[I 2025-03-11 18:24:31,382] Trial 10 finished with value: 0.21546959748782224 and parameters: {'iterations': 1263, 'depth': 5, 'learning_rate': 0.08641469102798266, 'loss_function': 'Logloss'}. Best is trial 3 with value: 0.21470338980397888.\n",
      "0:\tlearn: 0.6922129\ttest: 0.6926132\tbest: 0.6926132 (0)\ttotal: 1.78ms\tremaining: 2.27s\n",
      "200:\tlearn: 0.6139196\ttest: 0.6449128\tbest: 0.6449128 (200)\ttotal: 367ms\tremaining: 1.96s\n",
      "400:\tlearn: 0.5630336\ttest: 0.6279431\tbest: 0.6278815 (394)\ttotal: 753ms\tremaining: 1.64s\n",
      "600:\tlearn: 0.5278855\ttest: 0.6225972\tbest: 0.6213093 (577)\ttotal: 1.14s\tremaining: 1.28s\n",
      "800:\tlearn: 0.4990998\ttest: 0.6216670\tbest: 0.6205067 (684)\ttotal: 1.53s\tremaining: 900ms\n",
      "1000:\tlearn: 0.4741292\ttest: 0.6226255\tbest: 0.6205067 (684)\ttotal: 1.91s\tremaining: 519ms\n",
      "1200:\tlearn: 0.4528807\ttest: 0.6254872\tbest: 0.6205067 (684)\ttotal: 2.29s\tremaining: 137ms\n",
      "1272:\tlearn: 0.4458252\ttest: 0.6252659\tbest: 0.6205067 (684)\ttotal: 2.43s\tremaining: 0us\n",
      "\n",
      "bestTest = 0.6205067465\n",
      "bestIteration = 684\n",
      "\n",
      "Shrink model to first 685 iterations.\n",
      "[I 2025-03-11 18:24:33,953] Trial 11 finished with value: 0.21574149434213616 and parameters: {'iterations': 1273, 'depth': 5, 'learning_rate': 0.08461658305372567, 'loss_function': 'Logloss'}. Best is trial 3 with value: 0.21470338980397888.\n",
      "0:\tlearn: 0.6925533\ttest: 0.6928797\tbest: 0.6928797 (0)\ttotal: 2.23ms\tremaining: 3.31s\n",
      "200:\tlearn: 0.6465494\ttest: 0.6670672\tbest: 0.6670672 (200)\ttotal: 421ms\tremaining: 2.68s\n",
      "400:\tlearn: 0.5963347\ttest: 0.6394592\tbest: 0.6394592 (400)\ttotal: 847ms\tremaining: 2.28s\n",
      "600:\tlearn: 0.5612578\ttest: 0.6272861\tbest: 0.6272861 (600)\ttotal: 1.28s\tremaining: 1.88s\n",
      "800:\tlearn: 0.5330002\ttest: 0.6228631\tbest: 0.6228631 (800)\ttotal: 1.72s\tremaining: 1.46s\n",
      "1000:\tlearn: 0.5092566\ttest: 0.6195281\tbest: 0.6193904 (962)\ttotal: 2.15s\tremaining: 1.03s\n",
      "1200:\tlearn: 0.4888127\ttest: 0.6177731\tbest: 0.6171758 (1132)\ttotal: 2.6s\tremaining: 606ms\n",
      "1400:\tlearn: 0.4697133\ttest: 0.6189190\tbest: 0.6171758 (1132)\ttotal: 3.03s\tremaining: 173ms\n",
      "1480:\tlearn: 0.4620678\ttest: 0.6193890\tbest: 0.6171758 (1132)\ttotal: 3.21s\tremaining: 0us\n",
      "\n",
      "bestTest = 0.617175799\n",
      "bestIteration = 1132\n",
      "\n",
      "Shrink model to first 1133 iterations.\n",
      "[I 2025-03-11 18:24:37,323] Trial 12 finished with value: 0.2142150739738122 and parameters: {'iterations': 1481, 'depth': 6, 'learning_rate': 0.044372190959356184, 'loss_function': 'Logloss'}. Best is trial 12 with value: 0.2142150739738122.\n",
      "0:\tlearn: 0.6926661\ttest: 0.6929297\tbest: 0.6929297 (0)\ttotal: 2.31ms\tremaining: 3.74s\n",
      "200:\tlearn: 0.6533604\ttest: 0.6725036\tbest: 0.6725036 (200)\ttotal: 417ms\tremaining: 2.94s\n",
      "400:\tlearn: 0.6122383\ttest: 0.6488190\tbest: 0.6488190 (400)\ttotal: 840ms\tremaining: 2.55s\n",
      "600:\tlearn: 0.5790838\ttest: 0.6345116\tbest: 0.6345116 (600)\ttotal: 1.27s\tremaining: 2.15s\n",
      "800:\tlearn: 0.5536978\ttest: 0.6269182\tbest: 0.6267669 (795)\ttotal: 1.7s\tremaining: 1.73s\n",
      "1000:\tlearn: 0.5324255\ttest: 0.6221539\tbest: 0.6221539 (1000)\ttotal: 2.13s\tremaining: 1.31s\n",
      "1200:\tlearn: 0.5132204\ttest: 0.6190226\tbest: 0.6188604 (1197)\ttotal: 2.56s\tremaining: 892ms\n",
      "1400:\tlearn: 0.4958386\ttest: 0.6192046\tbest: 0.6188155 (1265)\ttotal: 3s\tremaining: 467ms\n",
      "1600:\tlearn: 0.4800596\ttest: 0.6192252\tbest: 0.6185271 (1479)\ttotal: 3.48s\tremaining: 39.1ms\n",
      "1618:\tlearn: 0.4788718\ttest: 0.6192993\tbest: 0.6185271 (1479)\ttotal: 3.52s\tremaining: 0us\n",
      "\n",
      "bestTest = 0.6185271325\n",
      "bestIteration = 1479\n",
      "\n",
      "Shrink model to first 1480 iterations.\n",
      "[I 2025-03-11 18:24:41,017] Trial 13 finished with value: 0.21488833229829848 and parameters: {'iterations': 1619, 'depth': 6, 'learning_rate': 0.035761729279691935, 'loss_function': 'Logloss'}. Best is trial 12 with value: 0.2142150739738122.\n",
      "0:\tlearn: 0.6925143\ttest: 0.6928632\tbest: 0.6928632 (0)\ttotal: 2.3ms\tremaining: 2.23s\n",
      "200:\tlearn: 0.6429739\ttest: 0.6669951\tbest: 0.6669951 (200)\ttotal: 425ms\tremaining: 1.62s\n",
      "400:\tlearn: 0.5896196\ttest: 0.6374892\tbest: 0.6374655 (399)\ttotal: 854ms\tremaining: 1.21s\n",
      "600:\tlearn: 0.5535598\ttest: 0.6271961\tbest: 0.6271190 (596)\ttotal: 1.29s\tremaining: 788ms\n",
      "800:\tlearn: 0.5255479\ttest: 0.6228348\tbest: 0.6228348 (800)\ttotal: 1.72s\tremaining: 360ms\n",
      "968:\tlearn: 0.5047945\ttest: 0.6213574\tbest: 0.6212616 (967)\ttotal: 2.08s\tremaining: 0us\n",
      "\n",
      "bestTest = 0.6212615718\n",
      "bestIteration = 967\n",
      "\n",
      "Shrink model to first 968 iterations.\n",
      "[I 2025-03-11 18:24:43,228] Trial 14 finished with value: 0.21607843190979242 and parameters: {'iterations': 969, 'depth': 6, 'learning_rate': 0.04723914000969295, 'loss_function': 'Logloss'}. Best is trial 12 with value: 0.2142150739738122.\n",
      "0:\tlearn: 0.6929496\ttest: 0.6930218\tbest: 0.6930218 (0)\ttotal: 1.48ms\tremaining: 2.32s\n",
      "200:\tlearn: 0.6762314\ttest: 0.6820524\tbest: 0.6820524 (200)\ttotal: 273ms\tremaining: 1.86s\n",
      "400:\tlearn: 0.6585025\ttest: 0.6698514\tbest: 0.6698514 (400)\ttotal: 550ms\tremaining: 1.61s\n",
      "600:\tlearn: 0.6415096\ttest: 0.6576851\tbest: 0.6576851 (600)\ttotal: 840ms\tremaining: 1.36s\n",
      "800:\tlearn: 0.6285635\ttest: 0.6490517\tbest: 0.6490388 (799)\ttotal: 1.13s\tremaining: 1.09s\n",
      "1000:\tlearn: 0.6181619\ttest: 0.6425226\tbest: 0.6424270 (997)\ttotal: 1.43s\tremaining: 819ms\n",
      "1200:\tlearn: 0.6093145\ttest: 0.6372043\tbest: 0.6372043 (1200)\ttotal: 1.72s\tremaining: 535ms\n",
      "1400:\tlearn: 0.6010810\ttest: 0.6334299\tbest: 0.6334199 (1390)\ttotal: 2.02s\tremaining: 250ms\n",
      "1573:\tlearn: 0.5945576\ttest: 0.6301208\tbest: 0.6301208 (1573)\ttotal: 2.28s\tremaining: 0us\n",
      "\n",
      "bestTest = 0.6301207595\n",
      "bestIteration = 1573\n",
      "\n",
      "[I 2025-03-11 18:24:45,661] Trial 15 finished with value: 0.2198234375663873 and parameters: {'iterations': 1574, 'depth': 3, 'learning_rate': 0.0299628088359951, 'loss_function': 'Logloss'}. Best is trial 12 with value: 0.2142150739738122.\n",
      "0:\tlearn: 0.6922828\ttest: 0.6927870\tbest: 0.6927870 (0)\ttotal: 2.67ms\tremaining: 2.69s\n",
      "200:\tlearn: 0.6088837\ttest: 0.6518748\tbest: 0.6518748 (200)\ttotal: 507ms\tremaining: 2.03s\n",
      "400:\tlearn: 0.5427282\ttest: 0.6289160\tbest: 0.6285891 (391)\ttotal: 1.02s\tremaining: 1.54s\n",
      "600:\tlearn: 0.4967021\ttest: 0.6248492\tbest: 0.6245325 (580)\ttotal: 1.54s\tremaining: 1.03s\n",
      "800:\tlearn: 0.4594057\ttest: 0.6265986\tbest: 0.6239708 (621)\ttotal: 2.05s\tremaining: 523ms\n",
      "1000:\tlearn: 0.4281994\ttest: 0.6324854\tbest: 0.6239708 (621)\ttotal: 2.57s\tremaining: 10.3ms\n",
      "1004:\tlearn: 0.4276468\ttest: 0.6326022\tbest: 0.6239708 (621)\ttotal: 2.58s\tremaining: 0us\n",
      "\n",
      "bestTest = 0.6239707923\n",
      "bestIteration = 621\n",
      "\n",
      "Shrink model to first 622 iterations.\n",
      "[I 2025-03-11 18:24:48,375] Trial 16 finished with value: 0.21711310769771927 and parameters: {'iterations': 1005, 'depth': 7, 'learning_rate': 0.0625393172865486, 'loss_function': 'Logloss'}. Best is trial 12 with value: 0.2142150739738122.\n",
      "0:\tlearn: 0.6923682\ttest: 0.6926107\tbest: 0.6926107 (0)\ttotal: 1.67ms\tremaining: 2.49s\n",
      "200:\tlearn: 0.6166742\ttest: 0.6447329\tbest: 0.6447329 (200)\ttotal: 334ms\tremaining: 2.15s\n",
      "400:\tlearn: 0.5747991\ttest: 0.6252801\tbest: 0.6244628 (383)\ttotal: 670ms\tremaining: 1.83s\n",
      "600:\tlearn: 0.5458750\ttest: 0.6151081\tbest: 0.6151081 (600)\ttotal: 1.02s\tremaining: 1.51s\n",
      "800:\tlearn: 0.5212738\ttest: 0.6134889\tbest: 0.6116971 (730)\ttotal: 1.36s\tremaining: 1.17s\n",
      "1000:\tlearn: 0.5016857\ttest: 0.6134823\tbest: 0.6116971 (730)\ttotal: 1.7s\tremaining: 836ms\n",
      "1200:\tlearn: 0.4852724\ttest: 0.6128883\tbest: 0.6116971 (730)\ttotal: 2.05s\tremaining: 500ms\n",
      "1400:\tlearn: 0.4701863\ttest: 0.6148637\tbest: 0.6116971 (730)\ttotal: 2.39s\tremaining: 158ms\n",
      "1493:\tlearn: 0.4639782\ttest: 0.6156794\tbest: 0.6116971 (730)\ttotal: 2.54s\tremaining: 0us\n",
      "\n",
      "bestTest = 0.6116971231\n",
      "bestIteration = 730\n",
      "\n",
      "Shrink model to first 731 iterations.\n",
      "[I 2025-03-11 18:24:51,072] Trial 17 finished with value: 0.21190103325124 and parameters: {'iterations': 1494, 'depth': 4, 'learning_rate': 0.10339812826795142, 'loss_function': 'Logloss'}. Best is trial 17 with value: 0.21190103325124.\n",
      "0:\tlearn: 0.6921933\ttest: 0.6924884\tbest: 0.6924884 (0)\ttotal: 1.55ms\tremaining: 2.4s\n",
      "200:\tlearn: 0.6023372\ttest: 0.6339952\tbest: 0.6339952 (200)\ttotal: 332ms\tremaining: 2.22s\n",
      "400:\tlearn: 0.5560349\ttest: 0.6165021\tbest: 0.6163494 (399)\ttotal: 666ms\tremaining: 1.9s\n",
      "600:\tlearn: 0.5240861\ttest: 0.6121897\tbest: 0.6119212 (598)\ttotal: 1s\tremaining: 1.58s\n",
      "800:\tlearn: 0.5001140\ttest: 0.6131465\tbest: 0.6106832 (664)\ttotal: 1.34s\tremaining: 1.25s\n",
      "1000:\tlearn: 0.4784242\ttest: 0.6151148\tbest: 0.6106832 (664)\ttotal: 1.68s\tremaining: 918ms\n",
      "1200:\tlearn: 0.4605233\ttest: 0.6178731\tbest: 0.6106832 (664)\ttotal: 2.02s\tremaining: 582ms\n",
      "1400:\tlearn: 0.4432982\ttest: 0.6224942\tbest: 0.6106832 (664)\ttotal: 2.36s\tremaining: 246ms\n",
      "1546:\tlearn: 0.4316324\ttest: 0.6252161\tbest: 0.6106832 (664)\ttotal: 2.6s\tremaining: 0us\n",
      "\n",
      "bestTest = 0.6106831672\n",
      "bestIteration = 664\n",
      "\n",
      "Shrink model to first 665 iterations.\n",
      "[I 2025-03-11 18:24:53,834] Trial 18 finished with value: 0.21125042099772193 and parameters: {'iterations': 1547, 'depth': 4, 'learning_rate': 0.12937598495427421, 'loss_function': 'Logloss'}. Best is trial 18 with value: 0.21125042099772193.\n",
      "0:\tlearn: 0.6917834\ttest: 0.6922140\tbest: 0.6922140 (0)\ttotal: 1.59ms\tremaining: 2.8s\n",
      "200:\tlearn: 0.5794108\ttest: 0.6292459\tbest: 0.6292459 (200)\ttotal: 330ms\tremaining: 2.56s\n",
      "400:\tlearn: 0.5231075\ttest: 0.6187451\tbest: 0.6185323 (392)\ttotal: 668ms\tremaining: 2.27s\n",
      "600:\tlearn: 0.4874447\ttest: 0.6134048\tbest: 0.6132662 (579)\ttotal: 1.01s\tremaining: 1.94s\n",
      "800:\tlearn: 0.4569755\ttest: 0.6115920\tbest: 0.6103765 (763)\ttotal: 1.34s\tremaining: 1.61s\n",
      "1000:\tlearn: 0.4330940\ttest: 0.6163590\tbest: 0.6103765 (763)\ttotal: 1.68s\tremaining: 1.28s\n",
      "1200:\tlearn: 0.4114764\ttest: 0.6252208\tbest: 0.6103765 (763)\ttotal: 2.02s\tremaining: 942ms\n",
      "1400:\tlearn: 0.3932169\ttest: 0.6336827\tbest: 0.6103765 (763)\ttotal: 2.36s\tremaining: 607ms\n",
      "1600:\tlearn: 0.3752361\ttest: 0.6412918\tbest: 0.6103765 (763)\ttotal: 2.72s\tremaining: 272ms\n",
      "1760:\tlearn: 0.3618471\ttest: 0.6491740\tbest: 0.6103765 (763)\ttotal: 2.99s\tremaining: 0us\n",
      "\n",
      "bestTest = 0.6103764834\n",
      "bestIteration = 763\n",
      "\n",
      "Shrink model to first 764 iterations.\n",
      "[I 2025-03-11 18:24:56,994] Trial 19 finished with value: 0.21107574610984395 and parameters: {'iterations': 1761, 'depth': 4, 'learning_rate': 0.19194176013521586, 'loss_function': 'Logloss'}. Best is trial 19 with value: 0.21107574610984395.\n",
      "0:\tlearn: 0.6918376\ttest: 0.6922434\tbest: 0.6922434 (0)\ttotal: 1.66ms\tremaining: 2.92s\n",
      "200:\tlearn: 0.5811719\ttest: 0.6291413\tbest: 0.6290354 (199)\ttotal: 333ms\tremaining: 2.58s\n",
      "400:\tlearn: 0.5288538\ttest: 0.6129821\tbest: 0.6127360 (399)\ttotal: 672ms\tremaining: 2.28s\n",
      "600:\tlearn: 0.4897215\ttest: 0.6124834\tbest: 0.6108033 (560)\ttotal: 1.01s\tremaining: 1.95s\n",
      "800:\tlearn: 0.4598658\ttest: 0.6163159\tbest: 0.6108033 (560)\ttotal: 1.35s\tremaining: 1.62s\n",
      "1000:\tlearn: 0.4356184\ttest: 0.6245687\tbest: 0.6108033 (560)\ttotal: 1.69s\tremaining: 1.29s\n",
      "1200:\tlearn: 0.4141286\ttest: 0.6289298\tbest: 0.6108033 (560)\ttotal: 2.03s\tremaining: 947ms\n",
      "1400:\tlearn: 0.3951577\ttest: 0.6360231\tbest: 0.6108033 (560)\ttotal: 2.37s\tremaining: 609ms\n",
      "1600:\tlearn: 0.3796752\ttest: 0.6411260\tbest: 0.6108033 (560)\ttotal: 2.71s\tremaining: 270ms\n",
      "1760:\tlearn: 0.3671100\ttest: 0.6479358\tbest: 0.6108033 (560)\ttotal: 2.98s\tremaining: 0us\n",
      "\n",
      "bestTest = 0.6108033358\n",
      "bestIteration = 560\n",
      "\n",
      "Shrink model to first 561 iterations.\n",
      "[I 2025-03-11 18:25:00,147] Trial 20 finished with value: 0.21109961146624934 and parameters: {'iterations': 1761, 'depth': 4, 'learning_rate': 0.18492020767412812, 'loss_function': 'Logloss'}. Best is trial 19 with value: 0.21107574610984395.\n",
      "0:\tlearn: 0.6918052\ttest: 0.6922297\tbest: 0.6922297 (0)\ttotal: 1.58ms\tremaining: 2.77s\n",
      "200:\tlearn: 0.5826487\ttest: 0.6325727\tbest: 0.6324278 (199)\ttotal: 330ms\tremaining: 2.56s\n",
      "400:\tlearn: 0.5280176\ttest: 0.6173990\tbest: 0.6170816 (392)\ttotal: 676ms\tremaining: 2.29s\n",
      "600:\tlearn: 0.4897259\ttest: 0.6155619\tbest: 0.6143580 (473)\ttotal: 1.01s\tremaining: 1.96s\n",
      "800:\tlearn: 0.4596357\ttest: 0.6170782\tbest: 0.6142421 (666)\ttotal: 1.36s\tremaining: 1.63s\n",
      "1000:\tlearn: 0.4341655\ttest: 0.6196241\tbest: 0.6142421 (666)\ttotal: 1.7s\tremaining: 1.29s\n",
      "1200:\tlearn: 0.4141035\ttest: 0.6243915\tbest: 0.6142421 (666)\ttotal: 2.04s\tremaining: 950ms\n",
      "1400:\tlearn: 0.3955610\ttest: 0.6329360\tbest: 0.6142421 (666)\ttotal: 2.38s\tremaining: 609ms\n",
      "1600:\tlearn: 0.3783523\ttest: 0.6408828\tbest: 0.6142421 (666)\ttotal: 2.71s\tremaining: 270ms\n",
      "1759:\tlearn: 0.3653822\ttest: 0.6501962\tbest: 0.6142421 (666)\ttotal: 2.98s\tremaining: 0us\n",
      "\n",
      "bestTest = 0.6142420789\n",
      "bestIteration = 666\n",
      "\n",
      "Shrink model to first 667 iterations.\n",
      "[I 2025-03-11 18:25:03,295] Trial 21 finished with value: 0.21279284358625747 and parameters: {'iterations': 1760, 'depth': 4, 'learning_rate': 0.18816933502371472, 'loss_function': 'Logloss'}. Best is trial 19 with value: 0.21107574610984395.\n",
      "0:\tlearn: 0.6919700\ttest: 0.6924131\tbest: 0.6924131 (0)\ttotal: 1.48ms\tremaining: 2.96s\n",
      "200:\tlearn: 0.6013461\ttest: 0.6361671\tbest: 0.6361671 (200)\ttotal: 291ms\tremaining: 2.6s\n",
      "400:\tlearn: 0.5624205\ttest: 0.6211714\tbest: 0.6208317 (395)\ttotal: 593ms\tremaining: 2.36s\n",
      "600:\tlearn: 0.5365097\ttest: 0.6157066\tbest: 0.6144646 (580)\ttotal: 898ms\tremaining: 2.08s\n",
      "800:\tlearn: 0.5172811\ttest: 0.6159538\tbest: 0.6144646 (580)\ttotal: 1.2s\tremaining: 1.79s\n",
      "1000:\tlearn: 0.5003203\ttest: 0.6156215\tbest: 0.6138483 (874)\ttotal: 1.51s\tremaining: 1.5s\n",
      "1200:\tlearn: 0.4840295\ttest: 0.6144872\tbest: 0.6138483 (874)\ttotal: 1.82s\tremaining: 1.2s\n",
      "1400:\tlearn: 0.4706667\ttest: 0.6153443\tbest: 0.6132477 (1228)\ttotal: 2.12s\tremaining: 900ms\n",
      "1600:\tlearn: 0.4585496\ttest: 0.6154888\tbest: 0.6132477 (1228)\ttotal: 2.42s\tremaining: 596ms\n",
      "1800:\tlearn: 0.4485448\ttest: 0.6161120\tbest: 0.6132477 (1228)\ttotal: 2.72s\tremaining: 293ms\n",
      "1994:\tlearn: 0.4377104\ttest: 0.6193583\tbest: 0.6132477 (1228)\ttotal: 3.01s\tremaining: 0us\n",
      "\n",
      "bestTest = 0.6132476583\n",
      "bestIteration = 1228\n",
      "\n",
      "Shrink model to first 1229 iterations.\n",
      "[I 2025-03-11 18:25:06,491] Trial 22 finished with value: 0.2116536345237958 and parameters: {'iterations': 1995, 'depth': 3, 'learning_rate': 0.1992733932782437, 'loss_function': 'Logloss'}. Best is trial 19 with value: 0.21107574610984395.\n",
      "0:\tlearn: 0.6922268\ttest: 0.6925115\tbest: 0.6925115 (0)\ttotal: 1.64ms\tremaining: 2.87s\n",
      "200:\tlearn: 0.6071366\ttest: 0.6378225\tbest: 0.6376545 (199)\ttotal: 326ms\tremaining: 2.51s\n",
      "400:\tlearn: 0.5611692\ttest: 0.6243389\tbest: 0.6243389 (400)\ttotal: 664ms\tremaining: 2.23s\n",
      "600:\tlearn: 0.5282621\ttest: 0.6138526\tbest: 0.6136818 (588)\ttotal: 1s\tremaining: 1.92s\n",
      "800:\tlearn: 0.5044182\ttest: 0.6148162\tbest: 0.6124942 (718)\ttotal: 1.35s\tremaining: 1.6s\n",
      "1000:\tlearn: 0.4833535\ttest: 0.6160472\tbest: 0.6124942 (718)\ttotal: 1.69s\tremaining: 1.26s\n",
      "1200:\tlearn: 0.4654845\ttest: 0.6184738\tbest: 0.6124942 (718)\ttotal: 2.04s\tremaining: 933ms\n",
      "1400:\tlearn: 0.4487707\ttest: 0.6201671\tbest: 0.6124942 (718)\ttotal: 2.39s\tremaining: 593ms\n",
      "1600:\tlearn: 0.4337159\ttest: 0.6251529\tbest: 0.6124942 (718)\ttotal: 2.75s\tremaining: 254ms\n",
      "1748:\tlearn: 0.4227104\ttest: 0.6266306\tbest: 0.6124942 (718)\ttotal: 3.02s\tremaining: 0us\n",
      "\n",
      "bestTest = 0.6124941876\n",
      "bestIteration = 718\n",
      "\n",
      "Shrink model to first 719 iterations.\n",
      "[I 2025-03-11 18:25:09,691] Trial 23 finished with value: 0.21207714788515583 and parameters: {'iterations': 1749, 'depth': 4, 'learning_rate': 0.12438159603953643, 'loss_function': 'Logloss'}. Best is trial 19 with value: 0.21107574610984395.\n",
      "0:\tlearn: 0.6924224\ttest: 0.6926875\tbest: 0.6926875 (0)\ttotal: 1.47ms\tremaining: 2.53s\n",
      "200:\tlearn: 0.6313880\ttest: 0.6510483\tbest: 0.6510483 (200)\ttotal: 287ms\tremaining: 2.18s\n",
      "400:\tlearn: 0.5973154\ttest: 0.6306581\tbest: 0.6305677 (399)\ttotal: 590ms\tremaining: 1.95s\n",
      "600:\tlearn: 0.5732182\ttest: 0.6208095\tbest: 0.6208095 (600)\ttotal: 893ms\tremaining: 1.67s\n",
      "800:\tlearn: 0.5548263\ttest: 0.6176392\tbest: 0.6175134 (766)\ttotal: 1.2s\tremaining: 1.38s\n",
      "1000:\tlearn: 0.5409170\ttest: 0.6150690\tbest: 0.6145910 (986)\ttotal: 1.5s\tremaining: 1.08s\n",
      "1200:\tlearn: 0.5285139\ttest: 0.6128537\tbest: 0.6128524 (1199)\ttotal: 1.79s\tremaining: 782ms\n",
      "1400:\tlearn: 0.5176312\ttest: 0.6115200\tbest: 0.6114473 (1397)\ttotal: 2.1s\tremaining: 484ms\n",
      "1600:\tlearn: 0.5088215\ttest: 0.6110201\tbest: 0.6104577 (1583)\ttotal: 2.41s\tremaining: 185ms\n",
      "1723:\tlearn: 0.5031373\ttest: 0.6113733\tbest: 0.6104577 (1583)\ttotal: 2.59s\tremaining: 0us\n",
      "\n",
      "bestTest = 0.6104577371\n",
      "bestIteration = 1583\n",
      "\n",
      "Shrink model to first 1584 iterations.\n",
      "[I 2025-03-11 18:25:12,450] Trial 24 finished with value: 0.21109533047863996 and parameters: {'iterations': 1724, 'depth': 3, 'learning_rate': 0.11705442140907171, 'loss_function': 'Logloss'}. Best is trial 19 with value: 0.21107574610984395.\n",
      "0:\tlearn: 0.6924781\ttest: 0.6927239\tbest: 0.6927239 (0)\ttotal: 1.53ms\tremaining: 2.8s\n",
      "200:\tlearn: 0.6319297\ttest: 0.6504012\tbest: 0.6503782 (197)\ttotal: 297ms\tremaining: 2.41s\n",
      "400:\tlearn: 0.5993255\ttest: 0.6329720\tbest: 0.6329720 (400)\ttotal: 593ms\tremaining: 2.12s\n",
      "600:\tlearn: 0.5764397\ttest: 0.6213798\tbest: 0.6213798 (600)\ttotal: 894ms\tremaining: 1.83s\n",
      "800:\tlearn: 0.5590844\ttest: 0.6166417\tbest: 0.6165434 (795)\ttotal: 1.2s\tremaining: 1.54s\n",
      "1000:\tlearn: 0.5452759\ttest: 0.6137309\tbest: 0.6137309 (1000)\ttotal: 1.5s\tremaining: 1.24s\n",
      "1200:\tlearn: 0.5337123\ttest: 0.6140642\tbest: 0.6122020 (1087)\ttotal: 1.8s\tremaining: 946ms\n",
      "1400:\tlearn: 0.5230531\ttest: 0.6123388\tbest: 0.6119496 (1388)\ttotal: 2.1s\tremaining: 647ms\n",
      "1600:\tlearn: 0.5134868\ttest: 0.6123357\tbest: 0.6114236 (1490)\ttotal: 2.4s\tremaining: 346ms\n",
      "1800:\tlearn: 0.5050476\ttest: 0.6128965\tbest: 0.6114236 (1490)\ttotal: 2.7s\tremaining: 46.5ms\n",
      "1831:\tlearn: 0.5037286\ttest: 0.6132432\tbest: 0.6114236 (1490)\ttotal: 2.75s\tremaining: 0us\n",
      "\n",
      "bestTest = 0.6114235624\n",
      "bestIteration = 1490\n",
      "\n",
      "Shrink model to first 1491 iterations.\n",
      "[I 2025-03-11 18:25:15,366] Trial 25 finished with value: 0.21121140961756069 and parameters: {'iterations': 1832, 'depth': 3, 'learning_rate': 0.10698451272212786, 'loss_function': 'Logloss'}. Best is trial 19 with value: 0.21107574610984395.\n",
      "0:\tlearn: 0.6920791\ttest: 0.6924792\tbest: 0.6924792 (0)\ttotal: 1.48ms\tremaining: 1.67s\n",
      "200:\tlearn: 0.6094526\ttest: 0.6417676\tbest: 0.6415167 (193)\ttotal: 290ms\tremaining: 1.33s\n",
      "400:\tlearn: 0.5690843\ttest: 0.6227913\tbest: 0.6220922 (393)\ttotal: 589ms\tremaining: 1.06s\n",
      "600:\tlearn: 0.5439083\ttest: 0.6171792\tbest: 0.6168483 (566)\ttotal: 891ms\tremaining: 775ms\n",
      "800:\tlearn: 0.5249751\ttest: 0.6152372\tbest: 0.6145449 (785)\ttotal: 1.19s\tremaining: 481ms\n",
      "1000:\tlearn: 0.5079495\ttest: 0.6141418\tbest: 0.6139519 (986)\ttotal: 1.51s\tremaining: 185ms\n",
      "1123:\tlearn: 0.5000889\ttest: 0.6149245\tbest: 0.6135840 (1015)\ttotal: 1.69s\tremaining: 0us\n",
      "\n",
      "bestTest = 0.6135840485\n",
      "bestIteration = 1015\n",
      "\n",
      "Shrink model to first 1016 iterations.\n",
      "[I 2025-03-11 18:25:17,181] Trial 26 finished with value: 0.2127689295411168 and parameters: {'iterations': 1124, 'depth': 3, 'learning_rate': 0.17833487949580634, 'loss_function': 'Logloss'}. Best is trial 19 with value: 0.21107574610984395.\n",
      "0:\tlearn: 0.6920342\ttest: 0.6923784\tbest: 0.6923784 (0)\ttotal: 1.55ms\tremaining: 2.67s\n",
      "200:\tlearn: 0.5944952\ttest: 0.6337523\tbest: 0.6337523 (200)\ttotal: 326ms\tremaining: 2.47s\n",
      "400:\tlearn: 0.5436549\ttest: 0.6172603\tbest: 0.6168001 (398)\ttotal: 663ms\tremaining: 2.19s\n",
      "600:\tlearn: 0.5107404\ttest: 0.6121602\tbest: 0.6120189 (595)\ttotal: 1s\tremaining: 1.88s\n",
      "800:\tlearn: 0.4857290\ttest: 0.6108266\tbest: 0.6108266 (800)\ttotal: 1.34s\tremaining: 1.55s\n",
      "1000:\tlearn: 0.4648022\ttest: 0.6159099\tbest: 0.6099803 (825)\ttotal: 1.68s\tremaining: 1.22s\n",
      "1200:\tlearn: 0.4441281\ttest: 0.6187225\tbest: 0.6099803 (825)\ttotal: 2.02s\tremaining: 884ms\n",
      "1400:\tlearn: 0.4259898\ttest: 0.6218625\tbest: 0.6099803 (825)\ttotal: 2.36s\tremaining: 549ms\n",
      "1600:\tlearn: 0.4093080\ttest: 0.6254437\tbest: 0.6099803 (825)\ttotal: 2.7s\tremaining: 212ms\n",
      "1726:\tlearn: 0.3989739\ttest: 0.6287195\tbest: 0.6099803 (825)\ttotal: 2.92s\tremaining: 0us\n",
      "\n",
      "bestTest = 0.6099803387\n",
      "bestIteration = 825\n",
      "\n",
      "Shrink model to first 826 iterations.\n",
      "[I 2025-03-11 18:25:20,270] Trial 27 finished with value: 0.21056130451605626 and parameters: {'iterations': 1727, 'depth': 4, 'learning_rate': 0.1536630034231212, 'loss_function': 'Logloss'}. Best is trial 27 with value: 0.21056130451605626.\n",
      "0:\tlearn: 0.6918901\ttest: 0.6924334\tbest: 0.6924334 (0)\ttotal: 1.78ms\tremaining: 2.93s\n",
      "200:\tlearn: 0.5938117\ttest: 0.6360494\tbest: 0.6360494 (200)\ttotal: 378ms\tremaining: 2.71s\n",
      "400:\tlearn: 0.5357891\ttest: 0.6192725\tbest: 0.6192725 (400)\ttotal: 758ms\tremaining: 2.35s\n",
      "600:\tlearn: 0.4960788\ttest: 0.6151522\tbest: 0.6149332 (590)\ttotal: 1.14s\tremaining: 1.97s\n",
      "800:\tlearn: 0.4633125\ttest: 0.6177550\tbest: 0.6149007 (603)\ttotal: 1.52s\tremaining: 1.6s\n",
      "1000:\tlearn: 0.4368985\ttest: 0.6216254\tbest: 0.6149007 (603)\ttotal: 1.9s\tremaining: 1.22s\n",
      "1200:\tlearn: 0.4122035\ttest: 0.6272697\tbest: 0.6149007 (603)\ttotal: 2.28s\tremaining: 838ms\n",
      "1400:\tlearn: 0.3903710\ttest: 0.6323264\tbest: 0.6149007 (603)\ttotal: 2.66s\tremaining: 457ms\n",
      "1600:\tlearn: 0.3705666\ttest: 0.6407832\tbest: 0.6149007 (603)\ttotal: 3.04s\tremaining: 77.9ms\n",
      "1641:\tlearn: 0.3672219\ttest: 0.6415781\tbest: 0.6149007 (603)\ttotal: 3.12s\tremaining: 0us\n",
      "\n",
      "bestTest = 0.6149007078\n",
      "bestIteration = 603\n",
      "\n",
      "Shrink model to first 604 iterations.\n",
      "[I 2025-03-11 18:25:23,558] Trial 28 finished with value: 0.21314164681884096 and parameters: {'iterations': 1642, 'depth': 5, 'learning_rate': 0.11619387319505585, 'loss_function': 'Logloss'}. Best is trial 27 with value: 0.21056130451605626.\n",
      "0:\tlearn: 0.6926199\ttest: 0.6928087\tbest: 0.6928087 (0)\ttotal: 1.45ms\tremaining: 2.76s\n",
      "200:\tlearn: 0.6444862\ttest: 0.6592204\tbest: 0.6592204 (200)\ttotal: 296ms\tremaining: 2.51s\n",
      "400:\tlearn: 0.6117231\ttest: 0.6382822\tbest: 0.6382822 (400)\ttotal: 588ms\tremaining: 2.2s\n",
      "600:\tlearn: 0.5915630\ttest: 0.6303566\tbest: 0.6303566 (600)\ttotal: 892ms\tremaining: 1.93s\n",
      "800:\tlearn: 0.5755828\ttest: 0.6219917\tbest: 0.6218053 (792)\ttotal: 1.2s\tremaining: 1.65s\n",
      "1000:\tlearn: 0.5627112\ttest: 0.6184657\tbest: 0.6184551 (999)\ttotal: 1.5s\tremaining: 1.35s\n",
      "1200:\tlearn: 0.5529784\ttest: 0.6165688\tbest: 0.6165069 (1199)\ttotal: 1.8s\tremaining: 1.05s\n",
      "1400:\tlearn: 0.5434418\ttest: 0.6142145\tbest: 0.6142145 (1400)\ttotal: 2.1s\tremaining: 753ms\n",
      "1600:\tlearn: 0.5347949\ttest: 0.6129288\tbest: 0.6129288 (1600)\ttotal: 2.4s\tremaining: 453ms\n",
      "1800:\tlearn: 0.5271532\ttest: 0.6121558\tbest: 0.6119606 (1786)\ttotal: 2.71s\tremaining: 154ms\n",
      "1902:\tlearn: 0.5223397\ttest: 0.6110643\tbest: 0.6110368 (1900)\ttotal: 2.87s\tremaining: 0us\n",
      "\n",
      "bestTest = 0.6110368376\n",
      "bestIteration = 1900\n",
      "\n",
      "Shrink model to first 1901 iterations.\n",
      "[I 2025-03-11 18:25:26,600] Trial 29 finished with value: 0.2114064959819151 and parameters: {'iterations': 1903, 'depth': 3, 'learning_rate': 0.08411570095079172, 'loss_function': 'Logloss'}. Best is trial 27 with value: 0.21056130451605626.\n",
      "0:\tlearn: 0.6920446\ttest: 0.6923866\tbest: 0.6923866 (0)\ttotal: 1.59ms\tremaining: 1.25s\n",
      "200:\tlearn: 0.5937635\ttest: 0.6327992\tbest: 0.6327992 (200)\ttotal: 329ms\tremaining: 960ms\n",
      "400:\tlearn: 0.5453677\ttest: 0.6201723\tbest: 0.6200155 (397)\ttotal: 667ms\tremaining: 642ms\n",
      "600:\tlearn: 0.5111492\ttest: 0.6177001\tbest: 0.6167500 (489)\ttotal: 1s\tremaining: 311ms\n",
      "786:\tlearn: 0.4866320\ttest: 0.6184217\tbest: 0.6167500 (489)\ttotal: 1.32s\tremaining: 0us\n",
      "\n",
      "bestTest = 0.6167500195\n",
      "bestIteration = 489\n",
      "\n",
      "Shrink model to first 490 iterations.\n",
      "[I 2025-03-11 18:25:28,030] Trial 30 finished with value: 0.2140407724106213 and parameters: {'iterations': 787, 'depth': 4, 'learning_rate': 0.15183364173131964, 'loss_function': 'Logloss'}. Best is trial 27 with value: 0.21056130451605626.\n",
      "0:\tlearn: 0.6919735\ttest: 0.6923416\tbest: 0.6923416 (0)\ttotal: 1.55ms\tremaining: 2.63s\n",
      "200:\tlearn: 0.5904218\ttest: 0.6299170\tbest: 0.6299170 (200)\ttotal: 329ms\tremaining: 2.45s\n",
      "400:\tlearn: 0.5403969\ttest: 0.6173688\tbest: 0.6165709 (368)\ttotal: 681ms\tremaining: 2.19s\n",
      "600:\tlearn: 0.5061810\ttest: 0.6146625\tbest: 0.6145166 (491)\ttotal: 1.02s\tremaining: 1.85s\n",
      "800:\tlearn: 0.4796451\ttest: 0.6150514\tbest: 0.6130684 (670)\ttotal: 1.36s\tremaining: 1.51s\n",
      "1000:\tlearn: 0.4575545\ttest: 0.6193559\tbest: 0.6130684 (670)\ttotal: 1.7s\tremaining: 1.17s\n",
      "1200:\tlearn: 0.4381322\ttest: 0.6229791\tbest: 0.6130684 (670)\ttotal: 2.04s\tremaining: 835ms\n",
      "1400:\tlearn: 0.4196606\ttest: 0.6270781\tbest: 0.6130684 (670)\ttotal: 2.38s\tremaining: 497ms\n",
      "1600:\tlearn: 0.4017656\ttest: 0.6322097\tbest: 0.6130684 (670)\ttotal: 2.71s\tremaining: 158ms\n",
      "1693:\tlearn: 0.3939109\ttest: 0.6353507\tbest: 0.6130684 (670)\ttotal: 2.87s\tremaining: 0us\n",
      "\n",
      "bestTest = 0.6130684185\n",
      "bestIteration = 670\n",
      "\n",
      "Shrink model to first 671 iterations.\n",
      "[I 2025-03-11 18:25:31,066] Trial 31 finished with value: 0.21267505292795713 and parameters: {'iterations': 1694, 'depth': 4, 'learning_rate': 0.16201558647112208, 'loss_function': 'Logloss'}. Best is trial 27 with value: 0.21056130451605626.\n",
      "0:\tlearn: 0.6917082\ttest: 0.6923343\tbest: 0.6923343 (0)\ttotal: 1.82ms\tremaining: 2.61s\n",
      "200:\tlearn: 0.5818329\ttest: 0.6336148\tbest: 0.6336148 (200)\ttotal: 372ms\tremaining: 2.28s\n",
      "400:\tlearn: 0.5219103\ttest: 0.6176360\tbest: 0.6174222 (395)\ttotal: 748ms\tremaining: 1.93s\n",
      "600:\tlearn: 0.4809947\ttest: 0.6168880\tbest: 0.6151636 (476)\ttotal: 1.13s\tremaining: 1.57s\n",
      "800:\tlearn: 0.4472230\ttest: 0.6218102\tbest: 0.6151636 (476)\ttotal: 1.51s\tremaining: 1.19s\n",
      "1000:\tlearn: 0.4182778\ttest: 0.6293887\tbest: 0.6151636 (476)\ttotal: 1.9s\tremaining: 821ms\n",
      "1200:\tlearn: 0.3927992\ttest: 0.6369129\tbest: 0.6151636 (476)\ttotal: 2.28s\tremaining: 442ms\n",
      "1400:\tlearn: 0.3724590\ttest: 0.6425255\tbest: 0.6151636 (476)\ttotal: 2.66s\tremaining: 62.6ms\n",
      "1433:\tlearn: 0.3691363\ttest: 0.6446387\tbest: 0.6151636 (476)\ttotal: 2.72s\tremaining: 0us\n",
      "\n",
      "bestTest = 0.6151635732\n",
      "bestIteration = 476\n",
      "\n",
      "Shrink model to first 477 iterations.\n",
      "[I 2025-03-11 18:25:33,941] Trial 32 finished with value: 0.2132337668579015 and parameters: {'iterations': 1434, 'depth': 5, 'learning_rate': 0.13445214735755845, 'loss_function': 'Logloss'}. Best is trial 27 with value: 0.21056130451605626.\n",
      "0:\tlearn: 0.6917577\ttest: 0.6921982\tbest: 0.6921982 (0)\ttotal: 1.53ms\tremaining: 2.81s\n",
      "200:\tlearn: 0.5777023\ttest: 0.6260672\tbest: 0.6256992 (195)\ttotal: 328ms\tremaining: 2.66s\n",
      "400:\tlearn: 0.5235718\ttest: 0.6191928\tbest: 0.6163928 (352)\ttotal: 669ms\tremaining: 2.39s\n",
      "600:\tlearn: 0.4851962\ttest: 0.6144096\tbest: 0.6134310 (576)\ttotal: 1.01s\tremaining: 2.06s\n",
      "800:\tlearn: 0.4534457\ttest: 0.6176784\tbest: 0.6130055 (651)\ttotal: 1.35s\tremaining: 1.74s\n",
      "1000:\tlearn: 0.4276609\ttest: 0.6248204\tbest: 0.6130055 (651)\ttotal: 1.69s\tremaining: 1.4s\n",
      "1200:\tlearn: 0.4060334\ttest: 0.6330700\tbest: 0.6130055 (651)\ttotal: 2.03s\tremaining: 1.06s\n",
      "1400:\tlearn: 0.3884548\ttest: 0.6401568\tbest: 0.6130055 (651)\ttotal: 2.38s\tremaining: 729ms\n",
      "1600:\tlearn: 0.3713398\ttest: 0.6454304\tbest: 0.6130055 (651)\ttotal: 2.73s\tremaining: 392ms\n",
      "1800:\tlearn: 0.3543454\ttest: 0.6541944\tbest: 0.6130055 (651)\ttotal: 3.07s\tremaining: 51.2ms\n",
      "1830:\tlearn: 0.3514926\ttest: 0.6553173\tbest: 0.6130055 (651)\ttotal: 3.13s\tremaining: 0us\n",
      "\n",
      "bestTest = 0.6130055004\n",
      "bestIteration = 651\n",
      "\n",
      "Shrink model to first 652 iterations.\n",
      "[I 2025-03-11 18:25:37,242] Trial 33 finished with value: 0.2121136652438182 and parameters: {'iterations': 1831, 'depth': 4, 'learning_rate': 0.19576828695103266, 'loss_function': 'Logloss'}. Best is trial 27 with value: 0.21056130451605626.\n",
      "0:\tlearn: 0.6924721\ttest: 0.6927191\tbest: 0.6927191 (0)\ttotal: 1.49ms\tremaining: 2.56s\n",
      "200:\tlearn: 0.6337138\ttest: 0.6538031\tbest: 0.6538031 (200)\ttotal: 285ms\tremaining: 2.15s\n",
      "400:\tlearn: 0.5982323\ttest: 0.6323523\tbest: 0.6323523 (400)\ttotal: 580ms\tremaining: 1.91s\n",
      "600:\tlearn: 0.5758206\ttest: 0.6231883\tbest: 0.6230235 (597)\ttotal: 879ms\tremaining: 1.64s\n",
      "800:\tlearn: 0.5593045\ttest: 0.6188367\tbest: 0.6183714 (780)\ttotal: 1.18s\tremaining: 1.36s\n",
      "1000:\tlearn: 0.5469105\ttest: 0.6168724\tbest: 0.6160041 (979)\ttotal: 1.49s\tremaining: 1.07s\n",
      "1200:\tlearn: 0.5339070\ttest: 0.6125925\tbest: 0.6123619 (1197)\ttotal: 1.79s\tremaining: 776ms\n",
      "1400:\tlearn: 0.5237342\ttest: 0.6128193\tbest: 0.6117470 (1273)\ttotal: 2.1s\tremaining: 481ms\n",
      "1600:\tlearn: 0.5150160\ttest: 0.6121217\tbest: 0.6117470 (1273)\ttotal: 2.4s\tremaining: 181ms\n",
      "1721:\tlearn: 0.5092646\ttest: 0.6115616\tbest: 0.6112809 (1668)\ttotal: 2.58s\tremaining: 0us\n",
      "\n",
      "bestTest = 0.6112809436\n",
      "bestIteration = 1668\n",
      "\n",
      "Shrink model to first 1669 iterations.\n",
      "[I 2025-03-11 18:25:39,986] Trial 34 finished with value: 0.21153489144235796 and parameters: {'iterations': 1722, 'depth': 3, 'learning_rate': 0.1083129487350908, 'loss_function': 'Logloss'}. Best is trial 27 with value: 0.21056130451605626.\n",
      "0:\tlearn: 0.6915211\ttest: 0.6922336\tbest: 0.6922336 (0)\ttotal: 2ms\tremaining: 3.82s\n",
      "200:\tlearn: 0.5723784\ttest: 0.6290398\tbest: 0.6289718 (198)\ttotal: 401ms\tremaining: 3.4s\n",
      "400:\tlearn: 0.5084560\ttest: 0.6201482\tbest: 0.6189137 (339)\ttotal: 823ms\tremaining: 3.09s\n",
      "600:\tlearn: 0.4634160\ttest: 0.6218590\tbest: 0.6179492 (483)\ttotal: 1.24s\tremaining: 2.7s\n",
      "800:\tlearn: 0.4282306\ttest: 0.6310805\tbest: 0.6179492 (483)\ttotal: 1.67s\tremaining: 2.3s\n",
      "1000:\tlearn: 0.3979372\ttest: 0.6361983\tbest: 0.6179492 (483)\ttotal: 2.09s\tremaining: 1.89s\n",
      "1200:\tlearn: 0.3700700\ttest: 0.6455030\tbest: 0.6179492 (483)\ttotal: 2.5s\tremaining: 1.47s\n",
      "1400:\tlearn: 0.3477364\ttest: 0.6522529\tbest: 0.6179492 (483)\ttotal: 2.88s\tremaining: 1.04s\n",
      "1600:\tlearn: 0.3268841\ttest: 0.6638663\tbest: 0.6179492 (483)\ttotal: 3.26s\tremaining: 622ms\n",
      "1800:\tlearn: 0.3081782\ttest: 0.6722730\tbest: 0.6179492 (483)\ttotal: 3.64s\tremaining: 214ms\n",
      "1906:\tlearn: 0.2996699\ttest: 0.6776926\tbest: 0.6179492 (483)\ttotal: 3.84s\tremaining: 0us\n",
      "\n",
      "bestTest = 0.6179491945\n",
      "bestIteration = 483\n",
      "\n",
      "Shrink model to first 484 iterations.\n",
      "[I 2025-03-11 18:25:44,018] Trial 35 finished with value: 0.21447362218481072 and parameters: {'iterations': 1907, 'depth': 5, 'learning_rate': 0.1537007159473694, 'loss_function': 'Logloss'}. Best is trial 27 with value: 0.21056130451605626.\n",
      "0:\tlearn: 0.6919232\ttest: 0.6923088\tbest: 0.6923088 (0)\ttotal: 1.56ms\tremaining: 1.81s\n",
      "200:\tlearn: 0.5872559\ttest: 0.6286274\tbest: 0.6285995 (199)\ttotal: 328ms\tremaining: 1.57s\n",
      "400:\tlearn: 0.5362833\ttest: 0.6169639\tbest: 0.6161952 (351)\ttotal: 680ms\tremaining: 1.29s\n",
      "600:\tlearn: 0.5004162\ttest: 0.6168264\tbest: 0.6161952 (351)\ttotal: 1.04s\tremaining: 969ms\n",
      "800:\tlearn: 0.4711717\ttest: 0.6197056\tbest: 0.6161952 (351)\ttotal: 1.38s\tremaining: 623ms\n",
      "1000:\tlearn: 0.4469611\ttest: 0.6213504\tbest: 0.6161952 (351)\ttotal: 1.72s\tremaining: 278ms\n",
      "1162:\tlearn: 0.4311491\ttest: 0.6269531\tbest: 0.6161952 (351)\ttotal: 1.99s\tremaining: 0us\n",
      "\n",
      "bestTest = 0.616195169\n",
      "bestIteration = 351\n",
      "\n",
      "Shrink model to first 352 iterations.\n",
      "[I 2025-03-11 18:25:46,138] Trial 36 finished with value: 0.21383419496576067 and parameters: {'iterations': 1163, 'depth': 4, 'learning_rate': 0.16957105727440552, 'loss_function': 'Logloss'}. Best is trial 27 with value: 0.21056130451605626.\n",
      "0:\tlearn: 0.6921290\ttest: 0.6925648\tbest: 0.6925648 (0)\ttotal: 1.84ms\tremaining: 3.66s\n",
      "200:\tlearn: 0.6075648\ttest: 0.6442691\tbest: 0.6442691 (200)\ttotal: 372ms\tremaining: 3.31s\n",
      "400:\tlearn: 0.5538788\ttest: 0.6229006\tbest: 0.6229006 (400)\ttotal: 812ms\tremaining: 3.21s\n",
      "600:\tlearn: 0.5165943\ttest: 0.6186212\tbest: 0.6186212 (600)\ttotal: 1.25s\tremaining: 2.9s\n",
      "800:\tlearn: 0.4866787\ttest: 0.6203205\tbest: 0.6180319 (715)\ttotal: 1.68s\tremaining: 2.48s\n",
      "1000:\tlearn: 0.4626786\ttest: 0.6243735\tbest: 0.6180319 (715)\ttotal: 2.05s\tremaining: 2.02s\n",
      "1200:\tlearn: 0.4414200\ttest: 0.6279907\tbest: 0.6180319 (715)\ttotal: 2.43s\tremaining: 1.59s\n",
      "1400:\tlearn: 0.4219064\ttest: 0.6308523\tbest: 0.6180319 (715)\ttotal: 2.82s\tremaining: 1.18s\n",
      "1600:\tlearn: 0.4039132\ttest: 0.6371829\tbest: 0.6180319 (715)\ttotal: 3.2s\tremaining: 773ms\n",
      "1800:\tlearn: 0.3879003\ttest: 0.6409601\tbest: 0.6180319 (715)\ttotal: 3.58s\tremaining: 372ms\n",
      "1987:\tlearn: 0.3741366\ttest: 0.6434135\tbest: 0.6180319 (715)\ttotal: 3.94s\tremaining: 0us\n",
      "\n",
      "bestTest = 0.618031913\n",
      "bestIteration = 715\n",
      "\n",
      "Shrink model to first 716 iterations.\n",
      "[I 2025-03-11 18:25:50,262] Trial 37 finished with value: 0.2144232951587147 and parameters: {'iterations': 1988, 'depth': 5, 'learning_rate': 0.09294014648009792, 'loss_function': 'Logloss'}. Best is trial 27 with value: 0.21056130451605626.\n",
      "0:\tlearn: 0.6923329\ttest: 0.6926315\tbest: 0.6926315 (0)\ttotal: 1.49ms\tremaining: 2.03s\n",
      "200:\tlearn: 0.6249682\ttest: 0.6503804\tbest: 0.6499813 (197)\ttotal: 290ms\tremaining: 1.68s\n",
      "400:\tlearn: 0.5873995\ttest: 0.6289115\tbest: 0.6285544 (397)\ttotal: 590ms\tremaining: 1.42s\n",
      "600:\tlearn: 0.5640954\ttest: 0.6198231\tbest: 0.6198231 (600)\ttotal: 892ms\tremaining: 1.14s\n",
      "800:\tlearn: 0.5468368\ttest: 0.6171956\tbest: 0.6171956 (800)\ttotal: 1.19s\tremaining: 845ms\n",
      "1000:\tlearn: 0.5331492\ttest: 0.6130657\tbest: 0.6130657 (1000)\ttotal: 1.49s\tremaining: 548ms\n",
      "1200:\tlearn: 0.5214906\ttest: 0.6108142\tbest: 0.6107353 (1192)\ttotal: 1.8s\tremaining: 250ms\n",
      "1367:\tlearn: 0.5119646\ttest: 0.6114149\tbest: 0.6105123 (1314)\ttotal: 2.06s\tremaining: 0us\n",
      "\n",
      "bestTest = 0.6105122612\n",
      "bestIteration = 1314\n",
      "\n",
      "Shrink model to first 1315 iterations.\n",
      "[I 2025-03-11 18:25:52,469] Trial 38 finished with value: 0.21107022033037479 and parameters: {'iterations': 1368, 'depth': 3, 'learning_rate': 0.13292073460341974, 'loss_function': 'Logloss'}. Best is trial 27 with value: 0.21056130451605626.\n",
      "0:\tlearn: 0.6927167\ttest: 0.6928716\tbest: 0.6928716 (0)\ttotal: 1.47ms\tremaining: 2.07s\n",
      "200:\tlearn: 0.6534770\ttest: 0.6659993\tbest: 0.6659993 (200)\ttotal: 292ms\tremaining: 1.76s\n",
      "400:\tlearn: 0.6220173\ttest: 0.6436526\tbest: 0.6436526 (400)\ttotal: 584ms\tremaining: 1.47s\n",
      "600:\tlearn: 0.6022002\ttest: 0.6329187\tbest: 0.6329187 (600)\ttotal: 880ms\tremaining: 1.19s\n",
      "800:\tlearn: 0.5862121\ttest: 0.6259090\tbest: 0.6259090 (800)\ttotal: 1.19s\tremaining: 909ms\n",
      "1000:\tlearn: 0.5735715\ttest: 0.6213868\tbest: 0.6213490 (999)\ttotal: 1.49s\tremaining: 613ms\n",
      "1200:\tlearn: 0.5629416\ttest: 0.6169394\tbest: 0.6169257 (1198)\ttotal: 1.79s\tremaining: 315ms\n",
      "1400:\tlearn: 0.5539950\ttest: 0.6151979\tbest: 0.6151129 (1399)\ttotal: 2.1s\tremaining: 16.5ms\n",
      "1411:\tlearn: 0.5535004\ttest: 0.6152422\tbest: 0.6151129 (1399)\ttotal: 2.12s\tremaining: 0us\n",
      "\n",
      "bestTest = 0.6151129434\n",
      "bestIteration = 1399\n",
      "\n",
      "Shrink model to first 1400 iterations.\n",
      "[I 2025-03-11 18:25:54,732] Trial 39 finished with value: 0.2130490109042578 and parameters: {'iterations': 1412, 'depth': 3, 'learning_rate': 0.06766510706003083, 'loss_function': 'Logloss'}. Best is trial 27 with value: 0.21056130451605626.\n",
      "0:\tlearn: 0.6930825\ttest: 0.6931039\tbest: 0.6931039 (0)\ttotal: 1.44ms\tremaining: 1.94s\n",
      "200:\tlearn: 0.6853445\ttest: 0.6873309\tbest: 0.6873309 (200)\ttotal: 272ms\tremaining: 1.56s\n",
      "400:\tlearn: 0.6798070\ttest: 0.6840004\tbest: 0.6840004 (400)\ttotal: 544ms\tremaining: 1.29s\n",
      "600:\tlearn: 0.6750091\ttest: 0.6812203\tbest: 0.6812174 (597)\ttotal: 818ms\tremaining: 1.02s\n",
      "800:\tlearn: 0.6700609\ttest: 0.6776380\tbest: 0.6776380 (800)\ttotal: 1.09s\tremaining: 754ms\n",
      "1000:\tlearn: 0.6641357\ttest: 0.6735738\tbest: 0.6735738 (1000)\ttotal: 1.38s\tremaining: 484ms\n",
      "1200:\tlearn: 0.6572561\ttest: 0.6685544\tbest: 0.6685544 (1200)\ttotal: 1.66s\tremaining: 211ms\n",
      "1352:\tlearn: 0.6529173\ttest: 0.6653649\tbest: 0.6653567 (1350)\ttotal: 1.89s\tremaining: 0us\n",
      "\n",
      "bestTest = 0.6653567169\n",
      "bestIteration = 1350\n",
      "\n",
      "Shrink model to first 1351 iterations.\n",
      "[I 2025-03-11 18:25:56,755] Trial 40 finished with value: 0.23630217186288646 and parameters: {'iterations': 1353, 'depth': 3, 'learning_rate': 0.010209222962853684, 'loss_function': 'Logloss'}. Best is trial 27 with value: 0.21056130451605626.\n",
      "0:\tlearn: 0.6921048\ttest: 0.6924270\tbest: 0.6924270 (0)\ttotal: 1.72ms\tremaining: 2.78s\n",
      "200:\tlearn: 0.5983843\ttest: 0.6348861\tbest: 0.6348861 (200)\ttotal: 325ms\tremaining: 2.29s\n",
      "400:\tlearn: 0.5506435\ttest: 0.6195456\tbest: 0.6193507 (396)\ttotal: 669ms\tremaining: 2.03s\n",
      "600:\tlearn: 0.5185321\ttest: 0.6129030\tbest: 0.6127616 (598)\ttotal: 1.01s\tremaining: 1.7s\n",
      "800:\tlearn: 0.4928707\ttest: 0.6128944\tbest: 0.6117559 (634)\ttotal: 1.35s\tremaining: 1.37s\n",
      "1000:\tlearn: 0.4707176\ttest: 0.6151031\tbest: 0.6116440 (874)\ttotal: 1.68s\tremaining: 1.03s\n",
      "1200:\tlearn: 0.4521293\ttest: 0.6179041\tbest: 0.6116440 (874)\ttotal: 2.02s\tremaining: 699ms\n",
      "1400:\tlearn: 0.4359736\ttest: 0.6213014\tbest: 0.6116440 (874)\ttotal: 2.36s\tremaining: 363ms\n",
      "1600:\tlearn: 0.4200983\ttest: 0.6268823\tbest: 0.6116440 (874)\ttotal: 2.7s\tremaining: 25.3ms\n",
      "1615:\tlearn: 0.4191164\ttest: 0.6262556\tbest: 0.6116440 (874)\ttotal: 2.73s\tremaining: 0us\n",
      "\n",
      "bestTest = 0.611644001\n",
      "bestIteration = 874\n",
      "\n",
      "Shrink model to first 875 iterations.\n",
      "[I 2025-03-11 18:25:59,640] Trial 41 finished with value: 0.21173199843361937 and parameters: {'iterations': 1616, 'depth': 4, 'learning_rate': 0.14281913655682835, 'loss_function': 'Logloss'}. Best is trial 27 with value: 0.21056130451605626.\n",
      "0:\tlearn: 0.6923661\ttest: 0.6926527\tbest: 0.6926527 (0)\ttotal: 1.51ms\tremaining: 2.57s\n",
      "200:\tlearn: 0.6268575\ttest: 0.6490970\tbest: 0.6489275 (197)\ttotal: 289ms\tremaining: 2.15s\n",
      "400:\tlearn: 0.5908971\ttest: 0.6286980\tbest: 0.6286129 (399)\ttotal: 610ms\tremaining: 1.97s\n",
      "600:\tlearn: 0.5680081\ttest: 0.6194938\tbest: 0.6194691 (599)\ttotal: 945ms\tremaining: 1.72s\n",
      "800:\tlearn: 0.5497477\ttest: 0.6134697\tbest: 0.6134697 (800)\ttotal: 1.27s\tremaining: 1.42s\n",
      "1000:\tlearn: 0.5350032\ttest: 0.6097944\tbest: 0.6094860 (995)\ttotal: 1.58s\tremaining: 1.1s\n",
      "1200:\tlearn: 0.5231016\ttest: 0.6093272\tbest: 0.6091331 (1179)\ttotal: 1.88s\tremaining: 777ms\n",
      "1400:\tlearn: 0.5114644\ttest: 0.6091871\tbest: 0.6082848 (1357)\ttotal: 2.19s\tremaining: 462ms\n",
      "1600:\tlearn: 0.5015161\ttest: 0.6103433\tbest: 0.6082848 (1357)\ttotal: 2.49s\tremaining: 149ms\n",
      "1696:\tlearn: 0.4970767\ttest: 0.6099649\tbest: 0.6082848 (1357)\ttotal: 2.63s\tremaining: 0us\n",
      "\n",
      "bestTest = 0.608284841\n",
      "bestIteration = 1357\n",
      "\n",
      "Shrink model to first 1358 iterations.\n",
      "[I 2025-03-11 18:26:02,441] Trial 42 finished with value: 0.2103372475673833 and parameters: {'iterations': 1697, 'depth': 3, 'learning_rate': 0.1268541335709034, 'loss_function': 'Logloss'}. Best is trial 42 with value: 0.2103372475673833.\n",
      "0:\tlearn: 0.6925517\ttest: 0.6927652\tbest: 0.6927652 (0)\ttotal: 2.31ms\tremaining: 3.53s\n",
      "200:\tlearn: 0.6377305\ttest: 0.6560383\tbest: 0.6560383 (200)\ttotal: 308ms\tremaining: 2.03s\n",
      "400:\tlearn: 0.6035748\ttest: 0.6332965\tbest: 0.6332965 (400)\ttotal: 609ms\tremaining: 1.71s\n",
      "600:\tlearn: 0.5815164\ttest: 0.6249041\tbest: 0.6248648 (599)\ttotal: 909ms\tremaining: 1.41s\n",
      "800:\tlearn: 0.5646492\ttest: 0.6196260\tbest: 0.6195950 (799)\ttotal: 1.21s\tremaining: 1.1s\n",
      "1000:\tlearn: 0.5507085\ttest: 0.6171586\tbest: 0.6170959 (993)\ttotal: 1.52s\tremaining: 804ms\n",
      "1200:\tlearn: 0.5386082\ttest: 0.6137948\tbest: 0.6137360 (1163)\ttotal: 1.83s\tremaining: 502ms\n",
      "1400:\tlearn: 0.5280653\ttest: 0.6113548\tbest: 0.6111645 (1382)\ttotal: 2.14s\tremaining: 197ms\n",
      "1529:\tlearn: 0.5226228\ttest: 0.6101987\tbest: 0.6101987 (1529)\ttotal: 2.35s\tremaining: 0us\n",
      "\n",
      "bestTest = 0.6101986796\n",
      "bestIteration = 1529\n",
      "\n",
      "[I 2025-03-11 18:26:04,982] Trial 43 finished with value: 0.21114302635748086 and parameters: {'iterations': 1530, 'depth': 3, 'learning_rate': 0.09574672373504299, 'loss_function': 'Logloss'}. Best is trial 42 with value: 0.2103372475673833.\n",
      "0:\tlearn: 0.6913160\ttest: 0.6923779\tbest: 0.6923779 (0)\ttotal: 29.4ms\tremaining: 48.6s\n",
      "200:\tlearn: 0.5402553\ttest: 0.6457394\tbest: 0.6457394 (200)\ttotal: 5.78s\tremaining: 41.9s\n",
      "400:\tlearn: 0.4388437\ttest: 0.6396430\tbest: 0.6380483 (317)\ttotal: 11.7s\tremaining: 36.6s\n",
      "600:\tlearn: 0.3695196\ttest: 0.6498984\tbest: 0.6380483 (317)\ttotal: 17.6s\tremaining: 31s\n",
      "800:\tlearn: 0.3170064\ttest: 0.6643516\tbest: 0.6380483 (317)\ttotal: 23.6s\tremaining: 25.2s\n",
      "1000:\tlearn: 0.2756693\ttest: 0.6802620\tbest: 0.6380483 (317)\ttotal: 29.5s\tremaining: 19.3s\n",
      "1200:\tlearn: 0.2401942\ttest: 0.6960230\tbest: 0.6380483 (317)\ttotal: 35.4s\tremaining: 13.4s\n",
      "1400:\tlearn: 0.2114547\ttest: 0.7134448\tbest: 0.6380483 (317)\ttotal: 41.3s\tremaining: 7.55s\n",
      "1600:\tlearn: 0.1872817\ttest: 0.7312514\tbest: 0.6380483 (317)\ttotal: 47.2s\tremaining: 1.65s\n",
      "1656:\tlearn: 0.1811999\ttest: 0.7347703\tbest: 0.6380483 (317)\ttotal: 48.9s\tremaining: 0us\n",
      "\n",
      "bestTest = 0.6380483057\n",
      "bestIteration = 317\n",
      "\n",
      "Shrink model to first 318 iterations.\n",
      "[I 2025-03-11 18:26:54,081] Trial 44 finished with value: 0.22357507065975876 and parameters: {'iterations': 1657, 'depth': 10, 'learning_rate': 0.07546184071193376, 'loss_function': 'Logloss'}. Best is trial 42 with value: 0.2103372475673833.\n",
      "0:\tlearn: 0.6927822\ttest: 0.6929125\tbest: 0.6929125 (0)\ttotal: 1.53ms\tremaining: 2.83s\n",
      "200:\tlearn: 0.6595921\ttest: 0.6707280\tbest: 0.6707280 (200)\ttotal: 281ms\tremaining: 2.31s\n",
      "400:\tlearn: 0.6303490\ttest: 0.6503511\tbest: 0.6503511 (400)\ttotal: 576ms\tremaining: 2.09s\n",
      "600:\tlearn: 0.6111317\ttest: 0.6387814\tbest: 0.6387814 (600)\ttotal: 875ms\tremaining: 1.82s\n",
      "800:\tlearn: 0.5959956\ttest: 0.6322965\tbest: 0.6322965 (800)\ttotal: 1.18s\tremaining: 1.55s\n",
      "1000:\tlearn: 0.5832633\ttest: 0.6271265\tbest: 0.6271163 (999)\ttotal: 1.48s\tremaining: 1.26s\n",
      "1200:\tlearn: 0.5738027\ttest: 0.6235718\tbest: 0.6235718 (1200)\ttotal: 1.78s\tremaining: 968ms\n",
      "1400:\tlearn: 0.5646544\ttest: 0.6198141\tbest: 0.6198141 (1400)\ttotal: 2.08s\tremaining: 674ms\n",
      "1600:\tlearn: 0.5569283\ttest: 0.6173953\tbest: 0.6173953 (1600)\ttotal: 2.4s\tremaining: 379ms\n",
      "1800:\tlearn: 0.5501773\ttest: 0.6148726\tbest: 0.6147953 (1788)\ttotal: 2.71s\tremaining: 79.6ms\n",
      "1853:\tlearn: 0.5485445\ttest: 0.6145600\tbest: 0.6145568 (1847)\ttotal: 2.79s\tremaining: 0us\n",
      "\n",
      "bestTest = 0.6145567808\n",
      "bestIteration = 1847\n",
      "\n",
      "Shrink model to first 1848 iterations.\n",
      "[I 2025-03-11 18:26:57,618] Trial 45 finished with value: 0.2130152904695656 and parameters: {'iterations': 1854, 'depth': 3, 'learning_rate': 0.05718722941216592, 'loss_function': 'Logloss'}. Best is trial 42 with value: 0.2103372475673833.\n",
      "0:\tlearn: 0.6908735\ttest: 0.6923037\tbest: 0.6923037 (0)\ttotal: 5.58ms\tremaining: 6.64s\n",
      "200:\tlearn: 0.5022214\ttest: 0.6393512\tbest: 0.6383703 (182)\ttotal: 946ms\tremaining: 4.66s\n",
      "400:\tlearn: 0.3916396\ttest: 0.6488177\tbest: 0.6381496 (219)\ttotal: 1.89s\tremaining: 3.73s\n",
      "600:\tlearn: 0.3211670\ttest: 0.6688440\tbest: 0.6381496 (219)\ttotal: 2.84s\tremaining: 2.78s\n",
      "800:\tlearn: 0.2667064\ttest: 0.6865184\tbest: 0.6381496 (219)\ttotal: 3.81s\tremaining: 1.85s\n",
      "1000:\tlearn: 0.2253613\ttest: 0.7035856\tbest: 0.6381496 (219)\ttotal: 4.77s\tremaining: 900ms\n",
      "1189:\tlearn: 0.1945940\ttest: 0.7239011\tbest: 0.6381496 (219)\ttotal: 5.67s\tremaining: 0us\n",
      "\n",
      "bestTest = 0.6381496141\n",
      "bestIteration = 219\n",
      "\n",
      "Shrink model to first 220 iterations.\n",
      "[I 2025-03-11 18:27:03,442] Trial 46 finished with value: 0.22355087918474673 and parameters: {'iterations': 1190, 'depth': 9, 'learning_rate': 0.12223431596390893, 'loss_function': 'Logloss'}. Best is trial 42 with value: 0.2103372475673833.\n",
      "0:\tlearn: 0.6923176\ttest: 0.6926232\tbest: 0.6926232 (0)\ttotal: 1.44ms\tremaining: 1.89s\n",
      "200:\tlearn: 0.6219827\ttest: 0.6449565\tbest: 0.6449565 (200)\ttotal: 300ms\tremaining: 1.67s\n",
      "400:\tlearn: 0.5850884\ttest: 0.6244188\tbest: 0.6242406 (395)\ttotal: 610ms\tremaining: 1.39s\n",
      "600:\tlearn: 0.5598162\ttest: 0.6178543\tbest: 0.6178543 (600)\ttotal: 916ms\tremaining: 1.09s\n",
      "800:\tlearn: 0.5417013\ttest: 0.6134618\tbest: 0.6134210 (794)\ttotal: 1.23s\tremaining: 797ms\n",
      "1000:\tlearn: 0.5269262\ttest: 0.6125759\tbest: 0.6111555 (966)\ttotal: 1.55s\tremaining: 492ms\n",
      "1200:\tlearn: 0.5144679\ttest: 0.6118962\tbest: 0.6110744 (1110)\ttotal: 1.87s\tremaining: 182ms\n",
      "1317:\tlearn: 0.5077319\ttest: 0.6116288\tbest: 0.6110744 (1110)\ttotal: 2.05s\tremaining: 0us\n",
      "\n",
      "bestTest = 0.6110744206\n",
      "bestIteration = 1110\n",
      "\n",
      "Shrink model to first 1111 iterations.\n",
      "[I 2025-03-11 18:27:05,628] Trial 47 finished with value: 0.21146476165218148 and parameters: {'iterations': 1318, 'depth': 3, 'learning_rate': 0.1352910177532662, 'loss_function': 'Logloss'}. Best is trial 42 with value: 0.2103372475673833.\n",
      "0:\tlearn: 0.6921533\ttest: 0.6925221\tbest: 0.6925221 (0)\ttotal: 1.67ms\tremaining: 2.8s\n",
      "200:\tlearn: 0.6119348\ttest: 0.6384419\tbest: 0.6383538 (197)\ttotal: 310ms\tremaining: 2.29s\n",
      "400:\tlearn: 0.5746530\ttest: 0.6219431\tbest: 0.6219308 (399)\ttotal: 616ms\tremaining: 1.97s\n",
      "600:\tlearn: 0.5506543\ttest: 0.6164497\tbest: 0.6163138 (593)\ttotal: 949ms\tremaining: 1.71s\n",
      "800:\tlearn: 0.5311487\ttest: 0.6113068\tbest: 0.6113068 (800)\ttotal: 1.26s\tremaining: 1.38s\n",
      "1000:\tlearn: 0.5155275\ttest: 0.6109356\tbest: 0.6105011 (962)\ttotal: 1.56s\tremaining: 1.06s\n",
      "1200:\tlearn: 0.5016239\ttest: 0.6111889\tbest: 0.6094481 (1123)\ttotal: 1.86s\tremaining: 746ms\n",
      "1400:\tlearn: 0.4893349\ttest: 0.6116835\tbest: 0.6094481 (1123)\ttotal: 2.16s\tremaining: 434ms\n",
      "1600:\tlearn: 0.4779918\ttest: 0.6120196\tbest: 0.6094481 (1123)\ttotal: 2.47s\tremaining: 125ms\n",
      "1681:\tlearn: 0.4739052\ttest: 0.6125917\tbest: 0.6094481 (1123)\ttotal: 2.59s\tremaining: 0us\n",
      "\n",
      "bestTest = 0.6094480633\n",
      "bestIteration = 1123\n",
      "\n",
      "Shrink model to first 1124 iterations.\n",
      "[I 2025-03-11 18:27:08,401] Trial 48 finished with value: 0.21027378853064 and parameters: {'iterations': 1682, 'depth': 3, 'learning_rate': 0.16515110127645888, 'loss_function': 'Logloss'}. Best is trial 48 with value: 0.21027378853064.\n",
      "0:\tlearn: 0.6929236\ttest: 0.6930465\tbest: 0.6930465 (0)\ttotal: 2.31ms\tremaining: 3.34s\n",
      "200:\tlearn: 0.6718330\ttest: 0.6813563\tbest: 0.6813404 (199)\ttotal: 446ms\tremaining: 2.75s\n",
      "400:\tlearn: 0.6559176\ttest: 0.6734257\tbest: 0.6733804 (398)\ttotal: 899ms\tremaining: 2.33s\n",
      "600:\tlearn: 0.6399412\ttest: 0.6649397\tbest: 0.6649397 (600)\ttotal: 1.34s\tremaining: 1.87s\n",
      "800:\tlearn: 0.6198187\ttest: 0.6527431\tbest: 0.6527301 (799)\ttotal: 1.8s\tremaining: 1.44s\n",
      "1000:\tlearn: 0.6025102\ttest: 0.6444532\tbest: 0.6444532 (1000)\ttotal: 2.23s\tremaining: 982ms\n",
      "1200:\tlearn: 0.5877423\ttest: 0.6380918\tbest: 0.6380918 (1200)\ttotal: 2.66s\tremaining: 534ms\n",
      "1400:\tlearn: 0.5742212\ttest: 0.6324673\tbest: 0.6324673 (1400)\ttotal: 3.1s\tremaining: 90.6ms\n",
      "1441:\tlearn: 0.5717487\ttest: 0.6317377\tbest: 0.6317377 (1441)\ttotal: 3.19s\tremaining: 0us\n",
      "\n",
      "bestTest = 0.6317377266\n",
      "bestIteration = 1441\n",
      "\n",
      "[I 2025-03-11 18:27:11,752] Trial 49 finished with value: 0.2205254580261987 and parameters: {'iterations': 1442, 'depth': 6, 'learning_rate': 0.016233215209451847, 'loss_function': 'Logloss'}. Best is trial 48 with value: 0.21027378853064.\n",
      "Best Hyperparameters: {'iterations': 1682, 'depth': 3, 'learning_rate': 0.16515110127645888, 'loss_function': 'Logloss'}\n",
      "Best MSE: 0.21027378853064\n"
     ]
    }
   ],
   "source": [
    "def objective_catboost(trial):\n",
    "    # 定义需要优化的参\n",
    "    catboost_params = {\n",
    "        'iterations': trial.suggest_int('iterations', 100, 2000),  # 迭代次数\n",
    "        'depth': trial.suggest_int('depth', 3, 10),  # 树的深度\n",
    "        'learning_rate': trial.suggest_float('learning_rate', 0.01, 0.2, log=True),  # 学习率\n",
    "        'loss_function': trial.suggest_categorical('loss_function', ['Logloss']),  # 损失函数\n",
    "        'verbose': 200  # 打印日志的频率（固定值）\n",
    "    }\n",
    "\n",
    "    X_train, X_test, y_train, y_test = train_test_split(X, y, test_size=0.2, random_state=42)\n",
    "\n",
    "    model = CatBoostClassifier(**catboost_params)\n",
    "    model.fit(X_train, y_train, eval_set=(X_test, y_test))\n",
    "\n",
    "    # Evaluate model\n",
    "    preds = model.predict_proba(X_test)[:, 1]\n",
    "    #print(f\"Brier Score: {brier_score_loss(y_test, preds)}\")\n",
    "\n",
    "\n",
    "    return brier_score_loss(y_test, preds)\n",
    "\n",
    "# 创建 Optuna 研究对象\n",
    "study_catboost = optuna.create_study(direction='minimize')  # 最小化 MSE\n",
    "\n",
    "# 运行优化\n",
    "study_catboost.optimize(objective_catboost, n_trials=50, show_progress_bar=True)  # 运行 50 次试验\n",
    "\n",
    "# 获取最佳超参数\n",
    "best_params_catboost = study_catboost.best_params\n",
    "best_score_catboost = study_catboost.best_value\n",
    "\n",
    "print(\"Best Hyperparameters:\", best_params_catboost)\n",
    "print(\"Best MSE:\", best_score_catboost)\n"
   ]
  },
  {
   "cell_type": "markdown",
   "metadata": {},
   "source": [
    "# ELO"
   ]
  },
  {
   "cell_type": "markdown",
   "metadata": {},
   "source": [
    "## Params of ELO"
   ]
  },
  {
   "cell_type": "code",
   "execution_count": 4,
   "metadata": {},
   "outputs": [],
   "source": [
    "init_rating_m = 1200\n",
    "init_rating_w = 1250\n",
    "k_m = 125\n",
    "k_w = 190\n",
    "alpha_m = None\n",
    "alpha_w = None\n",
    "weights_regular_m = 1\n",
    "weights_tournament_m = 0.7\n",
    "weights_regular_w = 0.95\n",
    "weights_tournament_w = 1\n",
    "\n",
    "# Best Hyperparameters: {'init_rating_w': 1283, 'k_w': 129, 'weights_regular_w': 1.4277066442472455, 'weights_tournament_w': 0.8193976618959419}\n",
    "# Best Hyperparameters: {'init_rating_m': 1288, 'k_m': 119, 'weights_regular_m': 1.1419791822297913, 'weights_tournament_m': 0.5484016402812285}\n",
    "\n"
   ]
  },
  {
   "cell_type": "markdown",
   "metadata": {},
   "source": [
    "## Functions of ELO"
   ]
  },
  {
   "cell_type": "code",
   "execution_count": 19,
   "metadata": {},
   "outputs": [],
   "source": [
    "def calculate_elo(teams, data, initial_rating=2000, k=140, alpha=None, weights=False, nan_score=1):\n",
    "    '''\n",
    "    Calculate Elo ratings for each team based on match data.\n",
    "\n",
    "    Parameters:\n",
    "    - teams (array-like): Containing Team-IDs.\n",
    "    - data (pd.DataFrame): DataFrame with all matches in chronological order.\n",
    "    - initial_rating (float): Initial rating of an unranked team (default: 2000).\n",
    "    - k (float): K-factor, determining the impact of each match on team ratings (default: 140).\n",
    "    - alpha (float or None): Tuning parameter for the multiplier for the margin of victory. No multiplier if None.\n",
    "\n",
    "    Returns: \n",
    "    - list: Historical ratings of the winning team (WTeam).\n",
    "    - list: Historical ratings of the losing team (LTeam).\n",
    "    '''\n",
    "    \n",
    "    # Dictionary to keep track of current ratings for each team\n",
    "    team_dict = {}\n",
    "    for team in teams:\n",
    "        team_dict[team] = initial_rating\n",
    "        \n",
    "    # Lists to store ratings for each team in each game\n",
    "    r1, r2 = [], []\n",
    "    loss = []\n",
    "    margin_of_victory = 1\n",
    "    weight = 1\n",
    "\n",
    "    # Iterate through the game data\n",
    "    for wteam, lteam, ws, ls, w  in tqdm(zip(data.WTeamID, data.LTeamID, data.WScore, data.LScore, data.weight), total=len(data)):\n",
    "\n",
    "        # Calculate expected outcomes based on Elo ratings\n",
    "        rateW = 1 / (1 + 10 ** ((team_dict[lteam] - team_dict[wteam]) / initial_rating))\n",
    "        rateL = 1 / (1 + 10 ** ((team_dict[wteam] - team_dict[lteam]) / initial_rating))\n",
    "        \n",
    "        if alpha:\n",
    "                margin_of_victory = (ws - ls)/alpha\n",
    "        if isinstance(weights, (list, np.ndarray, pd.Series)):\n",
    "            weight = w\n",
    "\n",
    "        # Update ratings for winning and losing teams\n",
    "        team_dict[wteam] += w * k * margin_of_victory * (1 - rateW)\n",
    "        team_dict[lteam] += w * k * margin_of_victory * (0 - rateL)\n",
    "\n",
    "        # Ensure that ratings do not go below 1\n",
    "        if team_dict[lteam] < 1:\n",
    "            team_dict[lteam] = 1\n",
    "            \n",
    "        # Append current ratings for teams to lists\n",
    "        r1.append(team_dict[wteam])\n",
    "        r2.append(team_dict[lteam])\n",
    "        loss.append((1-rateW)**2)\n",
    "        \n",
    "    return r1, r2, loss\n",
    "\n",
    "def create_elo_data(teams, data, initial_rating=2000, k=140, alpha=None, weights=None, nan_score=1):\n",
    "    '''\n",
    "    Create a DataFrame with summary statistics of Elo ratings for teams based on historical match data.\n",
    "\n",
    "    Parameters:\n",
    "    - teams (array-like): Containing Team-IDs.\n",
    "    - data (pd.DataFrame): DataFrame with all matches in chronological order.\n",
    "    - initial_rating (float): Initial rating of an unranked team (default: 2000).\n",
    "    - k (float): K-factor, determining the impact of each match on team ratings (default: 140).\n",
    "    - weights (array-like): Containing weights for each match.\n",
    "\n",
    "    Returns: \n",
    "    - DataFrame: Summary statistics of Elo ratings for teams throughout a season.\n",
    "    '''\n",
    "    \n",
    "    if isinstance(weights, (list, np.ndarray, pd.Series)):\n",
    "        data['weight'] = weights\n",
    "    else:\n",
    "        data['weight'] = 1\n",
    "    \n",
    "    r1, r2, loss = calculate_elo(teams, data, initial_rating, k, alpha, weights, nan_score)\n",
    "    # Calculate loss only on tourney results\n",
    "    loss = np.mean(np.array(loss)[data.tourney == 1])\n",
    "    print(f\"Loss: {loss}\")\n",
    "    \n",
    "    # Concatenate arrays vertically\n",
    "    seasons = np.concatenate([data.Season, data.Season])\n",
    "    days = np.concatenate([data.DayNum, data.DayNum])\n",
    "    teams = np.concatenate([data.WTeamID, data.LTeamID])\n",
    "    tourney = np.concatenate([data.tourney, data.tourney])\n",
    "    ratings = np.concatenate([r1, r2])\n",
    "    # Create a DataFrame\n",
    "    rating_df = pd.DataFrame({\n",
    "        'Season': seasons,\n",
    "        'DayNum': days,\n",
    "        'TeamID': teams,\n",
    "        'Rating': ratings,\n",
    "        'Tourney': tourney\n",
    "    })\n",
    "\n",
    "    # Sort DataFrame and remove tournament data\n",
    "    rating_df.sort_values(['TeamID', 'Season', 'DayNum'], inplace=True)\n",
    "    rating_df = rating_df[rating_df['Tourney'] == 0]\n",
    "    grouped = rating_df.groupby(['TeamID', 'Season'])\n",
    "    results = grouped['Rating'].agg(['mean', 'median', 'std', 'min', 'max', 'last'])\n",
    "    results.columns = ['Rating_Mean', 'Rating_Median', 'Rating_Std', 'Rating_Min', 'Rating_Max', 'Rating_Last']\n",
    "    results['Rating_Trend'] = grouped.apply(lambda x: linregress(range(len(x)), x['Rating']).slope, include_groups=False)\n",
    "    results.reset_index(inplace=True)\n",
    "    \n",
    "    return results, loss\n",
    "\n",
    "def generate_2025_match_predictions(elo_df, teams, season=2025):\n",
    "    predictions = []\n",
    "    \n",
    "    for i in range(len(teams)):\n",
    "        for j in range(i + 1, len(teams)):\n",
    "            team1_id = teams[i]\n",
    "            team2_id = teams[j]\n",
    "            \n",
    "            # 获取两支队伍的 Elo 评分\n",
    "            rating_team1 = elo_df[(elo_df['TeamID'] == team1_id) & (elo_df['Season'] == season)]['Rating_Last'].values[0]\n",
    "            rating_team2 = elo_df[(elo_df['TeamID'] == team2_id) & (elo_df['Season'] == season)]['Rating_Last'].values[0]\n",
    "            \n",
    "            # 计算胜率\n",
    "            expected_score_team1 = 1 / (1 + 10 ** ((rating_team2 - rating_team1) / 400))\n",
    "            \n",
    "            # 生成 ID\n",
    "            match_id = f\"{season}_{team1_id}_{team2_id}\"\n",
    "            \n",
    "            # 添加到预测列表\n",
    "            predictions.append([match_id, expected_score_team1])\n",
    "    \n",
    "    # 创建 DataFrame\n",
    "    predictions_df = pd.DataFrame(predictions, columns=['ID', 'Pred'])\n",
    "    return predictions_df\n",
    "\n",
    "def generate_match_predictions(elo_df, match_data):\n",
    "    \"\"\"\n",
    "    根据 ELO 分数计算比赛的胜率。\n",
    "    \n",
    "    参数:\n",
    "        elo_df (pd.DataFrame): 包含队伍 ELO 分数的 DataFrame，列包括 ['Season', 'TeamID', 'ELO']。\n",
    "        match_data (pd.DataFrame): 包含比赛数据的 DataFrame，列包括 ['Season', 'DayNum', 'WTeamID', 'LTeamID', 'WScore', 'LScore', 'WLoc', 'NumOT', 'tourney', 'weight']。\n",
    "    \n",
    "    返回:\n",
    "        pd.DataFrame: 包含比赛预测结果的 DataFrame，列包括 ['Season', 'WTeamID', 'LTeamID', 'WTeamELO', 'LTeamELO', 'WinProbability']。\n",
    "    \"\"\"\n",
    "    # 初始化结果 DataFrame\n",
    "    results = []\n",
    "\n",
    "    # 遍历每场比赛\n",
    "    for _, row in match_data.iterrows():\n",
    "        season = row['Season']\n",
    "        w_team_id = row['WTeamID']\n",
    "        l_team_id = row['LTeamID']\n",
    "\n",
    "        # 提取对应赛季的 ELO 分数\n",
    "        w_team_elo = elo_df[(elo_df['Season'] == season) & (elo_df['TeamID'] == w_team_id)]['Rating_Mean'].values\n",
    "        l_team_elo = elo_df[(elo_df['Season'] == season) & (elo_df['TeamID'] == l_team_id)]['Rating_Mean'].values\n",
    "\n",
    "        # 检查是否找到 ELO 分数\n",
    "        if len(w_team_elo) == 0 or len(l_team_elo) == 0:\n",
    "            print(f\"ELO 分数未找到：赛季 {season}, 队伍 {w_team_id} 或 {l_team_id}\")\n",
    "            w_team_elo = elo_df[(elo_df['Season'] == season) & (elo_df['TeamID'] == w_team_id)]['Rating_Last'].values\n",
    "            l_team_elo = elo_df[(elo_df['Season'] == season) & (elo_df['TeamID'] == l_team_id)]['Rating_Last'].values\n",
    "            continue\n",
    "\n",
    "        w_team_elo = w_team_elo[0]\n",
    "        l_team_elo = l_team_elo[0]\n",
    "\n",
    "        # 计算胜率\n",
    "        # 使用 ELO 公式：P(A 胜 B) = 1 / (1 + 10^((ELO_B - ELO_A) / 400))\n",
    "        win_probability = 1 / (1 + 10 ** ((l_team_elo - w_team_elo) / 400))\n",
    "\n",
    "        # 将结果存储到列表中\n",
    "        results.append({\n",
    "            'Season': season,\n",
    "            'WTeamID': w_team_id,\n",
    "            'LTeamID': l_team_id,\n",
    "            'WTeamELO': w_team_elo,\n",
    "            'LTeamELO': l_team_elo,\n",
    "            'WinProbability': win_probability\n",
    "        })\n",
    "\n",
    "    # 将结果列表转换为 DataFrame\n",
    "    result_df = pd.DataFrame(results)\n",
    "    return result_df"
   ]
  },
  {
   "cell_type": "markdown",
   "metadata": {},
   "source": [
    "## EDA for ELO"
   ]
  },
  {
   "cell_type": "code",
   "execution_count": 7,
   "metadata": {},
   "outputs": [],
   "source": [
    "regular_m['tourney'] = 0\n",
    "tourney_m['tourney'] = 1\n",
    "regular_m['weight'] = weights_regular_m\n",
    "tourney_m['weight'] = weights_tournament_m\n",
    "\n",
    "data_m = pd.concat([regular_m, tourney_m])\n",
    "data_m.sort_values(['Season', 'DayNum'], inplace=True)\n",
    "data_m.reset_index(inplace=True, drop=True)\n",
    "\n",
    "regular_w['tourney'] = 0\n",
    "tourney_w['tourney'] = 1\n",
    "regular_w['weight'] = weights_regular_w\n",
    "tourney_w['weight'] = weights_tournament_w\n",
    "\n",
    "data_w = pd.concat([regular_w, tourney_w])\n",
    "data_w.sort_values(['Season', 'DayNum'], inplace=True)\n",
    "data_w.reset_index(inplace=True, drop=True)"
   ]
  },
  {
   "cell_type": "code",
   "execution_count": 8,
   "metadata": {},
   "outputs": [
    {
     "name": "stdout",
     "output_type": "stream",
     "text": [
      "0    1101\n",
      "1    1102\n",
      "2    1103\n",
      "3    1104\n",
      "4    1105\n",
      "Name: TeamID, dtype: int64\n",
      "        Season  DayNum  WTeamID  WScore  LTeamID  LScore WLoc  NumOT  tourney  \\\n",
      "194309    2025     106     1461      69     1102      62    H      0        0   \n",
      "194310    2025     106     1462      76     1139      63    H      0        0   \n",
      "194311    2025     106     1466      80     1480      62    H      0        0   \n",
      "194312    2025     106     1468      94     1122      68    H      0        0   \n",
      "194313    2025     106     1474      89     1146      72    H      0        0   \n",
      "\n",
      "        weight  \n",
      "194309     1.0  \n",
      "194310     1.0  \n",
      "194311     1.0  \n",
      "194312     1.0  \n",
      "194313     1.0  \n"
     ]
    }
   ],
   "source": [
    "print(teams_m['TeamID'].head())\n",
    "print(data_m.tail())"
   ]
  },
  {
   "cell_type": "markdown",
   "metadata": {},
   "source": [
    "## Predictions of ELO"
   ]
  },
  {
   "cell_type": "code",
   "execution_count": null,
   "metadata": {},
   "outputs": [],
   "source": [
    "elo_df_men, _ = create_elo_data(teams_m.TeamID, data_m, initial_rating=init_rating_m, k=k_m, alpha=alpha_m, weights=data_m['weight'])\n",
    "elo_df_women, _ = create_elo_data(teams_w.TeamID, data_w, initial_rating=init_rating_w, k=k_w, alpha=alpha_w, weights=data_w['weight'])\n",
    "\n",
    "\n",
    "# 生成男子组比赛预测\n",
    "men_teams_2025 = teams_m[teams_m['TeamID'].isin(elo_df_men[elo_df_men['Season'] == 2025]['TeamID'])]['TeamID'].values\n",
    "men_predictions = generate_2025_match_predictions(elo_df_men, men_teams_2025)\n",
    "\n",
    "# 生成女子组比赛预测\n",
    "women_teams_2025 = teams_w[teams_w['TeamID'].isin(elo_df_women[elo_df_women['Season'] == 2025]['TeamID'])]['TeamID'].values\n",
    "women_predictions = generate_2025_match_predictions(elo_df_women, women_teams_2025)\n",
    "\n",
    "# 合并所有预测\n",
    "all_predictions = pd.concat([men_predictions, women_predictions])\n",
    "\n",
    "pred_of_ELO = all_predictions\n"
   ]
  },
  {
   "cell_type": "code",
   "execution_count": 26,
   "metadata": {},
   "outputs": [
    {
     "data": {
      "text/html": [
       "<div>\n",
       "<style scoped>\n",
       "    .dataframe tbody tr th:only-of-type {\n",
       "        vertical-align: middle;\n",
       "    }\n",
       "\n",
       "    .dataframe tbody tr th {\n",
       "        vertical-align: top;\n",
       "    }\n",
       "\n",
       "    .dataframe thead th {\n",
       "        text-align: right;\n",
       "    }\n",
       "</style>\n",
       "<table border=\"1\" class=\"dataframe\">\n",
       "  <thead>\n",
       "    <tr style=\"text-align: right;\">\n",
       "      <th></th>\n",
       "      <th>Season</th>\n",
       "      <th>DayNum</th>\n",
       "      <th>WTeamID</th>\n",
       "      <th>WScore</th>\n",
       "      <th>LTeamID</th>\n",
       "      <th>LScore</th>\n",
       "      <th>WLoc</th>\n",
       "      <th>NumOT</th>\n",
       "      <th>tourney</th>\n",
       "      <th>weight</th>\n",
       "    </tr>\n",
       "  </thead>\n",
       "  <tbody>\n",
       "    <tr>\n",
       "      <th>0</th>\n",
       "      <td>1985</td>\n",
       "      <td>20</td>\n",
       "      <td>1228</td>\n",
       "      <td>81</td>\n",
       "      <td>1328</td>\n",
       "      <td>64</td>\n",
       "      <td>N</td>\n",
       "      <td>0</td>\n",
       "      <td>0</td>\n",
       "      <td>1.0</td>\n",
       "    </tr>\n",
       "    <tr>\n",
       "      <th>1</th>\n",
       "      <td>1985</td>\n",
       "      <td>25</td>\n",
       "      <td>1106</td>\n",
       "      <td>77</td>\n",
       "      <td>1354</td>\n",
       "      <td>70</td>\n",
       "      <td>H</td>\n",
       "      <td>0</td>\n",
       "      <td>0</td>\n",
       "      <td>1.0</td>\n",
       "    </tr>\n",
       "    <tr>\n",
       "      <th>2</th>\n",
       "      <td>1985</td>\n",
       "      <td>25</td>\n",
       "      <td>1112</td>\n",
       "      <td>63</td>\n",
       "      <td>1223</td>\n",
       "      <td>56</td>\n",
       "      <td>H</td>\n",
       "      <td>0</td>\n",
       "      <td>0</td>\n",
       "      <td>1.0</td>\n",
       "    </tr>\n",
       "    <tr>\n",
       "      <th>3</th>\n",
       "      <td>1985</td>\n",
       "      <td>25</td>\n",
       "      <td>1165</td>\n",
       "      <td>70</td>\n",
       "      <td>1432</td>\n",
       "      <td>54</td>\n",
       "      <td>H</td>\n",
       "      <td>0</td>\n",
       "      <td>0</td>\n",
       "      <td>1.0</td>\n",
       "    </tr>\n",
       "    <tr>\n",
       "      <th>4</th>\n",
       "      <td>1985</td>\n",
       "      <td>25</td>\n",
       "      <td>1192</td>\n",
       "      <td>86</td>\n",
       "      <td>1447</td>\n",
       "      <td>74</td>\n",
       "      <td>H</td>\n",
       "      <td>0</td>\n",
       "      <td>0</td>\n",
       "      <td>1.0</td>\n",
       "    </tr>\n",
       "    <tr>\n",
       "      <th>...</th>\n",
       "      <td>...</td>\n",
       "      <td>...</td>\n",
       "      <td>...</td>\n",
       "      <td>...</td>\n",
       "      <td>...</td>\n",
       "      <td>...</td>\n",
       "      <td>...</td>\n",
       "      <td>...</td>\n",
       "      <td>...</td>\n",
       "      <td>...</td>\n",
       "    </tr>\n",
       "    <tr>\n",
       "      <th>194309</th>\n",
       "      <td>2025</td>\n",
       "      <td>106</td>\n",
       "      <td>1461</td>\n",
       "      <td>69</td>\n",
       "      <td>1102</td>\n",
       "      <td>62</td>\n",
       "      <td>H</td>\n",
       "      <td>0</td>\n",
       "      <td>0</td>\n",
       "      <td>1.0</td>\n",
       "    </tr>\n",
       "    <tr>\n",
       "      <th>194310</th>\n",
       "      <td>2025</td>\n",
       "      <td>106</td>\n",
       "      <td>1462</td>\n",
       "      <td>76</td>\n",
       "      <td>1139</td>\n",
       "      <td>63</td>\n",
       "      <td>H</td>\n",
       "      <td>0</td>\n",
       "      <td>0</td>\n",
       "      <td>1.0</td>\n",
       "    </tr>\n",
       "    <tr>\n",
       "      <th>194311</th>\n",
       "      <td>2025</td>\n",
       "      <td>106</td>\n",
       "      <td>1466</td>\n",
       "      <td>80</td>\n",
       "      <td>1480</td>\n",
       "      <td>62</td>\n",
       "      <td>H</td>\n",
       "      <td>0</td>\n",
       "      <td>0</td>\n",
       "      <td>1.0</td>\n",
       "    </tr>\n",
       "    <tr>\n",
       "      <th>194312</th>\n",
       "      <td>2025</td>\n",
       "      <td>106</td>\n",
       "      <td>1468</td>\n",
       "      <td>94</td>\n",
       "      <td>1122</td>\n",
       "      <td>68</td>\n",
       "      <td>H</td>\n",
       "      <td>0</td>\n",
       "      <td>0</td>\n",
       "      <td>1.0</td>\n",
       "    </tr>\n",
       "    <tr>\n",
       "      <th>194313</th>\n",
       "      <td>2025</td>\n",
       "      <td>106</td>\n",
       "      <td>1474</td>\n",
       "      <td>89</td>\n",
       "      <td>1146</td>\n",
       "      <td>72</td>\n",
       "      <td>H</td>\n",
       "      <td>0</td>\n",
       "      <td>0</td>\n",
       "      <td>1.0</td>\n",
       "    </tr>\n",
       "  </tbody>\n",
       "</table>\n",
       "<p>194314 rows × 10 columns</p>\n",
       "</div>"
      ],
      "text/plain": [
       "        Season  DayNum  WTeamID  WScore  LTeamID  LScore WLoc  NumOT  tourney  \\\n",
       "0         1985      20     1228      81     1328      64    N      0        0   \n",
       "1         1985      25     1106      77     1354      70    H      0        0   \n",
       "2         1985      25     1112      63     1223      56    H      0        0   \n",
       "3         1985      25     1165      70     1432      54    H      0        0   \n",
       "4         1985      25     1192      86     1447      74    H      0        0   \n",
       "...        ...     ...      ...     ...      ...     ...  ...    ...      ...   \n",
       "194309    2025     106     1461      69     1102      62    H      0        0   \n",
       "194310    2025     106     1462      76     1139      63    H      0        0   \n",
       "194311    2025     106     1466      80     1480      62    H      0        0   \n",
       "194312    2025     106     1468      94     1122      68    H      0        0   \n",
       "194313    2025     106     1474      89     1146      72    H      0        0   \n",
       "\n",
       "        weight  \n",
       "0          1.0  \n",
       "1          1.0  \n",
       "2          1.0  \n",
       "3          1.0  \n",
       "4          1.0  \n",
       "...        ...  \n",
       "194309     1.0  \n",
       "194310     1.0  \n",
       "194311     1.0  \n",
       "194312     1.0  \n",
       "194313     1.0  \n",
       "\n",
       "[194314 rows x 10 columns]"
      ]
     },
     "execution_count": 26,
     "metadata": {},
     "output_type": "execute_result"
    }
   ],
   "source": [
    "data_m"
   ]
  },
  {
   "cell_type": "markdown",
   "metadata": {},
   "source": [
    "## Crossval for ELO"
   ]
  },
  {
   "cell_type": "code",
   "execution_count": 30,
   "metadata": {},
   "outputs": [
    {
     "name": "stderr",
     "output_type": "stream",
     "text": [
      "100%|██████████| 192370/192370 [00:00<00:00, 306937.26it/s]\n"
     ]
    },
    {
     "name": "stdout",
     "output_type": "stream",
     "text": [
      "Loss: 0.20064670800352777\n"
     ]
    }
   ],
   "source": [
    "train_df, test_df = train_test_split(data_m, test_size=0.01, random_state=874, stratify=data_m['Season'])\n",
    "# train_df, test_df = train_test_split(data_m, test_size=0.05, random_state=42, stratify=None, shuffle=False)\n",
    "train_df = train_df.sort_values(by='Season')\n",
    "# 3. 构建 ELO 模型\n",
    "# 使用训练集构建 ELO 分数\n",
    "# 假设所有队伍的初始 ELO 分数为初始值，例如 1500\n",
    "initial_rating = 1500\n",
    "k = 120  # 调整参数\n",
    "alpha = 10.1  # 调整参数\n",
    "\n",
    "# 提取所有队伍的 ID\n",
    "teams = pd.concat([train_df['WTeamID'], train_df['LTeamID']]).unique()\n",
    "\n",
    "# 创建 ELO 数据\n",
    "elo_df, _ = create_elo_data(teams, train_df, initial_rating=initial_rating, k=k, alpha=alpha, weights=train_df['weight'])\n",
    "\n",
    "# 4. 生成测试集的预测\n",
    "# 提取测试集中所有队伍\n",
    "test_teams = np.array(sorted(pd.concat([test_df['WTeamID'], test_df['LTeamID']]).unique()))\n",
    "\n",
    "\n"
   ]
  },
  {
   "cell_type": "code",
   "execution_count": 18,
   "metadata": {},
   "outputs": [
    {
     "data": {
      "text/html": [
       "<div>\n",
       "<style scoped>\n",
       "    .dataframe tbody tr th:only-of-type {\n",
       "        vertical-align: middle;\n",
       "    }\n",
       "\n",
       "    .dataframe tbody tr th {\n",
       "        vertical-align: top;\n",
       "    }\n",
       "\n",
       "    .dataframe thead th {\n",
       "        text-align: right;\n",
       "    }\n",
       "</style>\n",
       "<table border=\"1\" class=\"dataframe\">\n",
       "  <thead>\n",
       "    <tr style=\"text-align: right;\">\n",
       "      <th></th>\n",
       "      <th>TeamID</th>\n",
       "      <th>Season</th>\n",
       "      <th>Rating_Mean</th>\n",
       "      <th>Rating_Median</th>\n",
       "      <th>Rating_Std</th>\n",
       "      <th>Rating_Min</th>\n",
       "      <th>Rating_Max</th>\n",
       "      <th>Rating_Last</th>\n",
       "      <th>Rating_Trend</th>\n",
       "    </tr>\n",
       "  </thead>\n",
       "  <tbody>\n",
       "    <tr>\n",
       "      <th>0</th>\n",
       "      <td>1101</td>\n",
       "      <td>2014</td>\n",
       "      <td>1022.434646</td>\n",
       "      <td>1002.126285</td>\n",
       "      <td>194.726983</td>\n",
       "      <td>714.662853</td>\n",
       "      <td>1415.523182</td>\n",
       "      <td>974.619528</td>\n",
       "      <td>-2.360962</td>\n",
       "    </tr>\n",
       "    <tr>\n",
       "      <th>1</th>\n",
       "      <td>1101</td>\n",
       "      <td>2015</td>\n",
       "      <td>526.171849</td>\n",
       "      <td>528.438036</td>\n",
       "      <td>48.781895</td>\n",
       "      <td>418.764534</td>\n",
       "      <td>647.376160</td>\n",
       "      <td>515.136008</td>\n",
       "      <td>-0.367596</td>\n",
       "    </tr>\n",
       "    <tr>\n",
       "      <th>2</th>\n",
       "      <td>1101</td>\n",
       "      <td>2016</td>\n",
       "      <td>570.881261</td>\n",
       "      <td>555.765886</td>\n",
       "      <td>53.831340</td>\n",
       "      <td>493.812669</td>\n",
       "      <td>668.459153</td>\n",
       "      <td>493.812669</td>\n",
       "      <td>-3.040630</td>\n",
       "    </tr>\n",
       "    <tr>\n",
       "      <th>3</th>\n",
       "      <td>1101</td>\n",
       "      <td>2017</td>\n",
       "      <td>684.097064</td>\n",
       "      <td>693.883524</td>\n",
       "      <td>75.867878</td>\n",
       "      <td>506.683465</td>\n",
       "      <td>846.521323</td>\n",
       "      <td>506.683465</td>\n",
       "      <td>-3.289195</td>\n",
       "    </tr>\n",
       "    <tr>\n",
       "      <th>4</th>\n",
       "      <td>1101</td>\n",
       "      <td>2018</td>\n",
       "      <td>843.098899</td>\n",
       "      <td>886.531004</td>\n",
       "      <td>146.237754</td>\n",
       "      <td>537.012638</td>\n",
       "      <td>1065.404025</td>\n",
       "      <td>1020.452028</td>\n",
       "      <td>1.074494</td>\n",
       "    </tr>\n",
       "    <tr>\n",
       "      <th>...</th>\n",
       "      <td>...</td>\n",
       "      <td>...</td>\n",
       "      <td>...</td>\n",
       "      <td>...</td>\n",
       "      <td>...</td>\n",
       "      <td>...</td>\n",
       "      <td>...</td>\n",
       "      <td>...</td>\n",
       "      <td>...</td>\n",
       "    </tr>\n",
       "    <tr>\n",
       "      <th>13383</th>\n",
       "      <td>1477</td>\n",
       "      <td>2025</td>\n",
       "      <td>373.115391</td>\n",
       "      <td>377.846111</td>\n",
       "      <td>104.162978</td>\n",
       "      <td>180.576366</td>\n",
       "      <td>562.818030</td>\n",
       "      <td>180.576366</td>\n",
       "      <td>0.403862</td>\n",
       "    </tr>\n",
       "    <tr>\n",
       "      <th>13384</th>\n",
       "      <td>1478</td>\n",
       "      <td>2024</td>\n",
       "      <td>1128.968154</td>\n",
       "      <td>1100.181782</td>\n",
       "      <td>120.065138</td>\n",
       "      <td>928.160772</td>\n",
       "      <td>1392.062984</td>\n",
       "      <td>1181.161603</td>\n",
       "      <td>6.344942</td>\n",
       "    </tr>\n",
       "    <tr>\n",
       "      <th>13385</th>\n",
       "      <td>1478</td>\n",
       "      <td>2025</td>\n",
       "      <td>813.814606</td>\n",
       "      <td>829.432813</td>\n",
       "      <td>99.887290</td>\n",
       "      <td>593.495363</td>\n",
       "      <td>983.686372</td>\n",
       "      <td>874.358394</td>\n",
       "      <td>-2.921788</td>\n",
       "    </tr>\n",
       "    <tr>\n",
       "      <th>13386</th>\n",
       "      <td>1479</td>\n",
       "      <td>2025</td>\n",
       "      <td>1152.973653</td>\n",
       "      <td>1139.798423</td>\n",
       "      <td>132.520391</td>\n",
       "      <td>937.908480</td>\n",
       "      <td>1478.093875</td>\n",
       "      <td>1377.042722</td>\n",
       "      <td>4.563133</td>\n",
       "    </tr>\n",
       "    <tr>\n",
       "      <th>13387</th>\n",
       "      <td>1480</td>\n",
       "      <td>2025</td>\n",
       "      <td>1024.928490</td>\n",
       "      <td>1024.945635</td>\n",
       "      <td>206.974468</td>\n",
       "      <td>744.682645</td>\n",
       "      <td>1427.291923</td>\n",
       "      <td>803.271356</td>\n",
       "      <td>-1.958659</td>\n",
       "    </tr>\n",
       "  </tbody>\n",
       "</table>\n",
       "<p>13388 rows × 9 columns</p>\n",
       "</div>"
      ],
      "text/plain": [
       "       TeamID  Season  Rating_Mean  Rating_Median  Rating_Std  Rating_Min  \\\n",
       "0        1101    2014  1022.434646    1002.126285  194.726983  714.662853   \n",
       "1        1101    2015   526.171849     528.438036   48.781895  418.764534   \n",
       "2        1101    2016   570.881261     555.765886   53.831340  493.812669   \n",
       "3        1101    2017   684.097064     693.883524   75.867878  506.683465   \n",
       "4        1101    2018   843.098899     886.531004  146.237754  537.012638   \n",
       "...       ...     ...          ...            ...         ...         ...   \n",
       "13383    1477    2025   373.115391     377.846111  104.162978  180.576366   \n",
       "13384    1478    2024  1128.968154    1100.181782  120.065138  928.160772   \n",
       "13385    1478    2025   813.814606     829.432813   99.887290  593.495363   \n",
       "13386    1479    2025  1152.973653    1139.798423  132.520391  937.908480   \n",
       "13387    1480    2025  1024.928490    1024.945635  206.974468  744.682645   \n",
       "\n",
       "        Rating_Max  Rating_Last  Rating_Trend  \n",
       "0      1415.523182   974.619528     -2.360962  \n",
       "1       647.376160   515.136008     -0.367596  \n",
       "2       668.459153   493.812669     -3.040630  \n",
       "3       846.521323   506.683465     -3.289195  \n",
       "4      1065.404025  1020.452028      1.074494  \n",
       "...            ...          ...           ...  \n",
       "13383   562.818030   180.576366      0.403862  \n",
       "13384  1392.062984  1181.161603      6.344942  \n",
       "13385   983.686372   874.358394     -2.921788  \n",
       "13386  1478.093875  1377.042722      4.563133  \n",
       "13387  1427.291923   803.271356     -1.958659  \n",
       "\n",
       "[13388 rows x 9 columns]"
      ]
     },
     "execution_count": 18,
     "metadata": {},
     "output_type": "execute_result"
    }
   ],
   "source": [
    "elo_df"
   ]
  },
  {
   "cell_type": "code",
   "execution_count": 31,
   "metadata": {},
   "outputs": [
    {
     "name": "stdout",
     "output_type": "stream",
     "text": [
      "brier score: 0.24\n"
     ]
    }
   ],
   "source": [
    "# 生成预测\n",
    "predictions = generate_match_predictions(elo_df, test_df)\n",
    "\n",
    "# 5. 评估预测性能\n",
    "# 创建一个新列，表示比赛结果（1 表示 WTeamID 获胜，0 表示 LTeamID 获胜）\n",
    "test_df['result'] = 1\n",
    "\n",
    "# 计算预测准确率\n",
    "# 假设 predictions 是一个 DataFrame，包含预测结果\n",
    "# 需要将预测结果与实际结果进行对比\n",
    "# 例如，predictions 应该包含 'WTeamID', 'LTeamID', 'predicted_winner' 等列\n",
    "\n",
    "# 将测试集的实际结果与预测结果合并\n",
    "#test_df = test_df.merge(predictions, on=['WTeamID', 'LTeamID'], how='left')\n",
    "\n",
    "# 计算准确率\n",
    "\n",
    "import random\n",
    "# predictions['WinProbability'] = np.random.rand(len(predictions))\n",
    "\n",
    "brierscore_elo = brier_score_loss(test_df['result'], predictions['WinProbability'])\n",
    "print(f\"brier score: {brierscore_elo:.2f}\")\n",
    "\n"
   ]
  },
  {
   "cell_type": "code",
   "execution_count": 28,
   "metadata": {},
   "outputs": [
    {
     "data": {
      "text/plain": [
       "0       0.414288\n",
       "1       0.955987\n",
       "2       0.705376\n",
       "3       0.607257\n",
       "4       0.770818\n",
       "          ...   \n",
       "9711    0.208172\n",
       "9712    0.636051\n",
       "9713    0.582616\n",
       "9714    0.105872\n",
       "9715    0.246067\n",
       "Name: WinProbability, Length: 9716, dtype: float64"
      ]
     },
     "execution_count": 28,
     "metadata": {},
     "output_type": "execute_result"
    }
   ],
   "source": [
    "import random\n",
    "predictions['WinProbability'] = np.random.rand(len(predictions))\n",
    "predictions['WinProbability']"
   ]
  },
  {
   "cell_type": "markdown",
   "metadata": {},
   "source": [
    "## Optuna for ELO"
   ]
  },
  {
   "cell_type": "code",
   "execution_count": 33,
   "metadata": {},
   "outputs": [
    {
     "name": "stderr",
     "output_type": "stream",
     "text": [
      "[I 2025-03-11 18:28:22,408] A new study created in memory with name: no-name-8e00e49b-208a-4307-913d-61fdcc35f28b\n"
     ]
    },
    {
     "data": {
      "application/vnd.jupyter.widget-view+json": {
       "model_id": "0d369ae9192b487498239626f35df6f2",
       "version_major": 2,
       "version_minor": 0
      },
      "text/plain": [
       "  0%|          | 0/50 [00:00<?, ?it/s]"
      ]
     },
     "metadata": {},
     "output_type": "display_data"
    },
    {
     "name": "stderr",
     "output_type": "stream",
     "text": [
      "100%|██████████| 194314/194314 [00:00<00:00, 652871.90it/s]\n"
     ]
    },
    {
     "name": "stdout",
     "output_type": "stream",
     "text": [
      "Loss: 0.18856764993309508\n",
      "[I 2025-03-11 18:28:24,587] Trial 0 finished with value: 0.18856764993309508 and parameters: {'init_rating_m': 1339, 'k_m': 129, 'weights_regular_m': 0.9667691858259447, 'weights_tournament_m': 1.1877917159721196}. Best is trial 0 with value: 0.18856764993309508.\n"
     ]
    },
    {
     "name": "stderr",
     "output_type": "stream",
     "text": [
      "100%|██████████| 194314/194314 [00:00<00:00, 630746.37it/s]\n"
     ]
    },
    {
     "name": "stdout",
     "output_type": "stream",
     "text": [
      "Loss: 0.1889159270768219\n",
      "[I 2025-03-11 18:28:26,784] Trial 1 finished with value: 0.1889159270768219 and parameters: {'init_rating_m': 1020, 'k_m': 236, 'weights_regular_m': 0.619672320864413, 'weights_tournament_m': 0.5216893658252347}. Best is trial 0 with value: 0.18856764993309508.\n"
     ]
    },
    {
     "name": "stderr",
     "output_type": "stream",
     "text": [
      "100%|██████████| 194314/194314 [00:00<00:00, 637437.26it/s]\n"
     ]
    },
    {
     "name": "stdout",
     "output_type": "stream",
     "text": [
      "Loss: 0.18913579074867376\n",
      "[I 2025-03-11 18:28:28,967] Trial 2 finished with value: 0.18913579074867376 and parameters: {'init_rating_m': 1445, 'k_m': 216, 'weights_regular_m': 1.0048305024500346, 'weights_tournament_m': 0.8393768688604691}. Best is trial 0 with value: 0.18856764993309508.\n"
     ]
    },
    {
     "name": "stderr",
     "output_type": "stream",
     "text": [
      "100%|██████████| 194314/194314 [00:00<00:00, 641155.09it/s]\n"
     ]
    },
    {
     "name": "stdout",
     "output_type": "stream",
     "text": [
      "Loss: 0.1890143195346967\n",
      "[I 2025-03-11 18:28:31,109] Trial 3 finished with value: 0.1890143195346967 and parameters: {'init_rating_m': 1017, 'k_m': 179, 'weights_regular_m': 0.6758799779700756, 'weights_tournament_m': 1.044035142804401}. Best is trial 0 with value: 0.18856764993309508.\n"
     ]
    },
    {
     "name": "stderr",
     "output_type": "stream",
     "text": [
      "100%|██████████| 194314/194314 [00:00<00:00, 654109.54it/s]\n"
     ]
    },
    {
     "name": "stdout",
     "output_type": "stream",
     "text": [
      "Loss: 0.19130081908162044\n",
      "[I 2025-03-11 18:28:33,298] Trial 4 finished with value: 0.19130081908162044 and parameters: {'init_rating_m': 1060, 'k_m': 222, 'weights_regular_m': 0.8824189090084338, 'weights_tournament_m': 1.3027132401469155}. Best is trial 0 with value: 0.18856764993309508.\n"
     ]
    },
    {
     "name": "stderr",
     "output_type": "stream",
     "text": [
      "100%|██████████| 194314/194314 [00:00<00:00, 622445.42it/s]\n"
     ]
    },
    {
     "name": "stdout",
     "output_type": "stream",
     "text": [
      "Loss: 0.19134346465695068\n",
      "[I 2025-03-11 18:28:35,482] Trial 5 finished with value: 0.19134346465695068 and parameters: {'init_rating_m': 1165, 'k_m': 166, 'weights_regular_m': 1.4147938021442996, 'weights_tournament_m': 0.5254849406716562}. Best is trial 0 with value: 0.18856764993309508.\n"
     ]
    },
    {
     "name": "stderr",
     "output_type": "stream",
     "text": [
      "100%|██████████| 194314/194314 [00:00<00:00, 639047.66it/s]\n"
     ]
    },
    {
     "name": "stdout",
     "output_type": "stream",
     "text": [
      "Loss: 0.18803575391261965\n",
      "[I 2025-03-11 18:28:37,693] Trial 6 finished with value: 0.18803575391261965 and parameters: {'init_rating_m': 1288, 'k_m': 119, 'weights_regular_m': 1.1419791822297913, 'weights_tournament_m': 0.5484016402812285}. Best is trial 6 with value: 0.18803575391261965.\n"
     ]
    },
    {
     "name": "stderr",
     "output_type": "stream",
     "text": [
      "100%|██████████| 194314/194314 [00:00<00:00, 648692.44it/s]\n"
     ]
    },
    {
     "name": "stdout",
     "output_type": "stream",
     "text": [
      "Loss: 0.1935386539216897\n",
      "[I 2025-03-11 18:28:40,087] Trial 7 finished with value: 0.1935386539216897 and parameters: {'init_rating_m': 1226, 'k_m': 226, 'weights_regular_m': 1.2986285312098096, 'weights_tournament_m': 1.0066848327498992}. Best is trial 6 with value: 0.18803575391261965.\n"
     ]
    },
    {
     "name": "stderr",
     "output_type": "stream",
     "text": [
      "100%|██████████| 194314/194314 [00:00<00:00, 618694.62it/s]\n"
     ]
    },
    {
     "name": "stdout",
     "output_type": "stream",
     "text": [
      "Loss: 0.1886815496268269\n",
      "[I 2025-03-11 18:28:42,298] Trial 8 finished with value: 0.1886815496268269 and parameters: {'init_rating_m': 1158, 'k_m': 103, 'weights_regular_m': 1.473041783816577, 'weights_tournament_m': 1.454386206979391}. Best is trial 6 with value: 0.18803575391261965.\n"
     ]
    },
    {
     "name": "stderr",
     "output_type": "stream",
     "text": [
      "100%|██████████| 194314/194314 [00:00<00:00, 657155.38it/s]\n"
     ]
    },
    {
     "name": "stdout",
     "output_type": "stream",
     "text": [
      "Loss: 0.195956434078255\n",
      "[I 2025-03-11 18:28:44,461] Trial 9 finished with value: 0.195956434078255 and parameters: {'init_rating_m': 1129, 'k_m': 227, 'weights_regular_m': 1.3799379282328035, 'weights_tournament_m': 0.7031569692564541}. Best is trial 6 with value: 0.18803575391261965.\n"
     ]
    },
    {
     "name": "stderr",
     "output_type": "stream",
     "text": [
      "100%|██████████| 194314/194314 [00:00<00:00, 651912.59it/s]\n"
     ]
    },
    {
     "name": "stdout",
     "output_type": "stream",
     "text": [
      "Loss: 0.18841550996159764\n",
      "[I 2025-03-11 18:28:46,638] Trial 10 finished with value: 0.18841550996159764 and parameters: {'init_rating_m': 1338, 'k_m': 145, 'weights_regular_m': 1.1725456740969247, 'weights_tournament_m': 0.846518155288811}. Best is trial 6 with value: 0.18803575391261965.\n"
     ]
    },
    {
     "name": "stderr",
     "output_type": "stream",
     "text": [
      "100%|██████████| 194314/194314 [00:00<00:00, 576664.05it/s]\n"
     ]
    },
    {
     "name": "stdout",
     "output_type": "stream",
     "text": [
      "Loss: 0.1882659907612972\n",
      "[I 2025-03-11 18:28:48,862] Trial 11 finished with value: 0.1882659907612972 and parameters: {'init_rating_m': 1345, 'k_m': 139, 'weights_regular_m': 1.1705475011730422, 'weights_tournament_m': 0.7664123551328483}. Best is trial 6 with value: 0.18803575391261965.\n"
     ]
    },
    {
     "name": "stderr",
     "output_type": "stream",
     "text": [
      "100%|██████████| 194314/194314 [00:00<00:00, 656108.96it/s]\n"
     ]
    },
    {
     "name": "stdout",
     "output_type": "stream",
     "text": [
      "Loss: 0.18812475535023016\n",
      "[I 2025-03-11 18:28:51,039] Trial 12 finished with value: 0.18812475535023016 and parameters: {'init_rating_m': 1336, 'k_m': 110, 'weights_regular_m': 1.1541637507696247, 'weights_tournament_m': 0.7026780120172623}. Best is trial 6 with value: 0.18803575391261965.\n"
     ]
    },
    {
     "name": "stderr",
     "output_type": "stream",
     "text": [
      "100%|██████████| 194314/194314 [00:00<00:00, 651914.67it/s]\n"
     ]
    },
    {
     "name": "stdout",
     "output_type": "stream",
     "text": [
      "Loss: 0.18841434118196848\n",
      "[I 2025-03-11 18:28:53,255] Trial 13 finished with value: 0.18841434118196848 and parameters: {'init_rating_m': 1424, 'k_m': 101, 'weights_regular_m': 1.1306952754155484, 'weights_tournament_m': 0.6414552853478478}. Best is trial 6 with value: 0.18803575391261965.\n"
     ]
    },
    {
     "name": "stderr",
     "output_type": "stream",
     "text": [
      "100%|██████████| 194314/194314 [00:00<00:00, 651778.08it/s]\n"
     ]
    },
    {
     "name": "stdout",
     "output_type": "stream",
     "text": [
      "Loss: 0.18874638409069117\n",
      "[I 2025-03-11 18:28:55,458] Trial 14 finished with value: 0.18874638409069117 and parameters: {'init_rating_m': 1270, 'k_m': 120, 'weights_regular_m': 0.7896600484762004, 'weights_tournament_m': 0.6296149099973556}. Best is trial 6 with value: 0.18803575391261965.\n"
     ]
    },
    {
     "name": "stderr",
     "output_type": "stream",
     "text": [
      "100%|██████████| 194314/194314 [00:00<00:00, 639048.66it/s]\n"
     ]
    },
    {
     "name": "stdout",
     "output_type": "stream",
     "text": [
      "Loss: 0.18872105408608575\n",
      "[I 2025-03-11 18:28:57,704] Trial 15 finished with value: 0.18872105408608575 and parameters: {'init_rating_m': 1500, 'k_m': 164, 'weights_regular_m': 1.2717472278328112, 'weights_tournament_m': 0.9304484744679097}. Best is trial 6 with value: 0.18803575391261965.\n"
     ]
    },
    {
     "name": "stderr",
     "output_type": "stream",
     "text": [
      "100%|██████████| 194314/194314 [00:00<00:00, 601209.77it/s]\n"
     ]
    },
    {
     "name": "stdout",
     "output_type": "stream",
     "text": [
      "Loss: 0.18948621678474728\n",
      "[I 2025-03-11 18:29:00,145] Trial 16 finished with value: 0.18948621678474728 and parameters: {'init_rating_m': 1265, 'k_m': 194, 'weights_regular_m': 1.0614233651278215, 'weights_tournament_m': 0.6009869632613933}. Best is trial 6 with value: 0.18803575391261965.\n"
     ]
    },
    {
     "name": "stderr",
     "output_type": "stream",
     "text": [
      "100%|██████████| 194314/194314 [00:00<00:00, 612630.67it/s]\n"
     ]
    },
    {
     "name": "stdout",
     "output_type": "stream",
     "text": [
      "Loss: 0.18808312761790522\n",
      "[I 2025-03-11 18:29:02,386] Trial 17 finished with value: 0.18808312761790522 and parameters: {'init_rating_m': 1387, 'k_m': 118, 'weights_regular_m': 1.2677027545979014, 'weights_tournament_m': 0.7283199155974526}. Best is trial 6 with value: 0.18803575391261965.\n"
     ]
    },
    {
     "name": "stderr",
     "output_type": "stream",
     "text": [
      "100%|██████████| 194314/194314 [00:00<00:00, 653761.67it/s]\n"
     ]
    },
    {
     "name": "stdout",
     "output_type": "stream",
     "text": [
      "Loss: 0.18847359003469094\n",
      "[I 2025-03-11 18:29:04,596] Trial 18 finished with value: 0.18847359003469094 and parameters: {'init_rating_m': 1390, 'k_m': 149, 'weights_regular_m': 1.2535529305882274, 'weights_tournament_m': 0.5018840058147739}. Best is trial 6 with value: 0.18803575391261965.\n"
     ]
    },
    {
     "name": "stderr",
     "output_type": "stream",
     "text": [
      "100%|██████████| 194314/194314 [00:00<00:00, 611779.46it/s]\n"
     ]
    },
    {
     "name": "stdout",
     "output_type": "stream",
     "text": [
      "Loss: 0.18842794689813883\n",
      "[I 2025-03-11 18:29:06,829] Trial 19 finished with value: 0.18842794689813883 and parameters: {'init_rating_m': 1208, 'k_m': 124, 'weights_regular_m': 0.8711754329315485, 'weights_tournament_m': 0.8602952064562088}. Best is trial 6 with value: 0.18803575391261965.\n"
     ]
    },
    {
     "name": "stderr",
     "output_type": "stream",
     "text": [
      "100%|██████████| 194314/194314 [00:00<00:00, 647348.68it/s]\n"
     ]
    },
    {
     "name": "stdout",
     "output_type": "stream",
     "text": [
      "Loss: 0.1899184821457777\n",
      "[I 2025-03-11 18:29:09,011] Trial 20 finished with value: 0.1899184821457777 and parameters: {'init_rating_m': 1286, 'k_m': 193, 'weights_regular_m': 0.5051797345745939, 'weights_tournament_m': 1.100353829394741}. Best is trial 6 with value: 0.18803575391261965.\n"
     ]
    },
    {
     "name": "stderr",
     "output_type": "stream",
     "text": [
      "100%|██████████| 194314/194314 [00:00<00:00, 649733.96it/s]\n"
     ]
    },
    {
     "name": "stdout",
     "output_type": "stream",
     "text": [
      "Loss: 0.1882642304928471\n",
      "[I 2025-03-11 18:29:11,196] Trial 21 finished with value: 0.1882642304928471 and parameters: {'init_rating_m': 1379, 'k_m': 113, 'weights_regular_m': 1.0748600249220415, 'weights_tournament_m': 0.7349796283770775}. Best is trial 6 with value: 0.18803575391261965.\n"
     ]
    },
    {
     "name": "stderr",
     "output_type": "stream",
     "text": [
      "100%|██████████| 194314/194314 [00:00<00:00, 638808.23it/s]\n"
     ]
    },
    {
     "name": "stdout",
     "output_type": "stream",
     "text": [
      "Loss: 0.1881147909870548\n",
      "[I 2025-03-11 18:29:13,461] Trial 22 finished with value: 0.1881147909870548 and parameters: {'init_rating_m': 1300, 'k_m': 111, 'weights_regular_m': 1.337159935498663, 'weights_tournament_m': 0.7024726171423773}. Best is trial 6 with value: 0.18803575391261965.\n"
     ]
    },
    {
     "name": "stderr",
     "output_type": "stream",
     "text": [
      "100%|██████████| 194314/194314 [00:00<00:00, 612838.89it/s]\n"
     ]
    },
    {
     "name": "stdout",
     "output_type": "stream",
     "text": [
      "Loss: 0.18852299214589444\n",
      "[I 2025-03-11 18:29:15,692] Trial 23 finished with value: 0.18852299214589444 and parameters: {'init_rating_m': 1301, 'k_m': 132, 'weights_regular_m': 1.337627864268897, 'weights_tournament_m': 0.6161662480658854}. Best is trial 6 with value: 0.18803575391261965.\n"
     ]
    },
    {
     "name": "stderr",
     "output_type": "stream",
     "text": [
      "100%|██████████| 194314/194314 [00:00<00:00, 639264.20it/s]\n"
     ]
    },
    {
     "name": "stdout",
     "output_type": "stream",
     "text": [
      "Loss: 0.18927340496676934\n",
      "[I 2025-03-11 18:29:17,941] Trial 24 finished with value: 0.18927340496676934 and parameters: {'init_rating_m': 1454, 'k_m': 155, 'weights_regular_m': 1.4773811592771913, 'weights_tournament_m': 0.8170193491068988}. Best is trial 6 with value: 0.18803575391261965.\n"
     ]
    },
    {
     "name": "stderr",
     "output_type": "stream",
     "text": [
      "100%|██████████| 194314/194314 [00:00<00:00, 651913.63it/s]\n"
     ]
    },
    {
     "name": "stdout",
     "output_type": "stream",
     "text": [
      "Loss: 0.18827224423405653\n",
      "[I 2025-03-11 18:29:20,356] Trial 25 finished with value: 0.18827224423405653 and parameters: {'init_rating_m': 1215, 'k_m': 118, 'weights_regular_m': 1.1967402639278233, 'weights_tournament_m': 0.9483745253501596}. Best is trial 6 with value: 0.18803575391261965.\n"
     ]
    },
    {
     "name": "stderr",
     "output_type": "stream",
     "text": [
      "100%|██████████| 194314/194314 [00:00<00:00, 638773.69it/s]\n"
     ]
    },
    {
     "name": "stdout",
     "output_type": "stream",
     "text": [
      "Loss: 0.18847950045662196\n",
      "[I 2025-03-11 18:29:22,597] Trial 26 finished with value: 0.18847950045662196 and parameters: {'init_rating_m': 1389, 'k_m': 134, 'weights_regular_m': 1.3942981104720347, 'weights_tournament_m': 0.5746132831202702}. Best is trial 6 with value: 0.18803575391261965.\n"
     ]
    },
    {
     "name": "stderr",
     "output_type": "stream",
     "text": [
      "100%|██████████| 194314/194314 [00:00<00:00, 651914.67it/s]\n"
     ]
    },
    {
     "name": "stdout",
     "output_type": "stream",
     "text": [
      "Loss: 0.18806360729715235\n",
      "[I 2025-03-11 18:29:24,783] Trial 27 finished with value: 0.18806360729715235 and parameters: {'init_rating_m': 1298, 'k_m': 112, 'weights_regular_m': 1.2341635910332864, 'weights_tournament_m': 0.6701004391296143}. Best is trial 6 with value: 0.18803575391261965.\n"
     ]
    },
    {
     "name": "stderr",
     "output_type": "stream",
     "text": [
      "100%|██████████| 194314/194314 [00:00<00:00, 656145.41it/s]\n"
     ]
    },
    {
     "name": "stdout",
     "output_type": "stream",
     "text": [
      "Loss: 0.1881905341508939\n",
      "[I 2025-03-11 18:29:27,005] Trial 28 finished with value: 0.1881905341508939 and parameters: {'init_rating_m': 1369, 'k_m': 100, 'weights_regular_m': 1.236573938168531, 'weights_tournament_m': 0.764621344183321}. Best is trial 6 with value: 0.18803575391261965.\n"
     ]
    },
    {
     "name": "stderr",
     "output_type": "stream",
     "text": [
      "100%|██████████| 194314/194314 [00:00<00:00, 654109.02it/s]\n"
     ]
    },
    {
     "name": "stdout",
     "output_type": "stream",
     "text": [
      "Loss: 0.18861548486158985\n",
      "[I 2025-03-11 18:29:29,193] Trial 29 finished with value: 0.18861548486158985 and parameters: {'init_rating_m': 1322, 'k_m': 127, 'weights_regular_m': 0.9702991510554041, 'weights_tournament_m': 1.245062706733857}. Best is trial 6 with value: 0.18803575391261965.\n"
     ]
    },
    {
     "name": "stderr",
     "output_type": "stream",
     "text": [
      "100%|██████████| 194314/194314 [00:00<00:00, 649459.03it/s]\n"
     ]
    },
    {
     "name": "stdout",
     "output_type": "stream",
     "text": [
      "Loss: 0.18844281932656345\n",
      "[I 2025-03-11 18:29:31,382] Trial 30 finished with value: 0.18844281932656345 and parameters: {'init_rating_m': 1240, 'k_m': 142, 'weights_regular_m': 1.0884828625409833, 'weights_tournament_m': 0.9233429767720535}. Best is trial 6 with value: 0.18803575391261965.\n"
     ]
    },
    {
     "name": "stderr",
     "output_type": "stream",
     "text": [
      "100%|██████████| 194314/194314 [00:00<00:00, 654873.22it/s]\n"
     ]
    },
    {
     "name": "stdout",
     "output_type": "stream",
     "text": [
      "Loss: 0.1880940401542526\n",
      "[I 2025-03-11 18:29:33,568] Trial 31 finished with value: 0.1880940401542526 and parameters: {'init_rating_m': 1295, 'k_m': 112, 'weights_regular_m': 1.3017213383790422, 'weights_tournament_m': 0.6702750198750771}. Best is trial 6 with value: 0.18803575391261965.\n"
     ]
    },
    {
     "name": "stderr",
     "output_type": "stream",
     "text": [
      "100%|██████████| 194314/194314 [00:00<00:00, 649733.44it/s]\n"
     ]
    },
    {
     "name": "stdout",
     "output_type": "stream",
     "text": [
      "Loss: 0.1880829901770668\n",
      "[I 2025-03-11 18:29:35,775] Trial 32 finished with value: 0.1880829901770668 and parameters: {'init_rating_m': 1416, 'k_m': 127, 'weights_regular_m': 1.2311529699439556, 'weights_tournament_m': 0.6587622261865358}. Best is trial 6 with value: 0.18803575391261965.\n"
     ]
    },
    {
     "name": "stderr",
     "output_type": "stream",
     "text": [
      "100%|██████████| 194314/194314 [00:00<00:00, 638706.61it/s]\n"
     ]
    },
    {
     "name": "stdout",
     "output_type": "stream",
     "text": [
      "Loss: 0.1880461193127968\n",
      "[I 2025-03-11 18:29:37,970] Trial 33 finished with value: 0.1880461193127968 and parameters: {'init_rating_m': 1427, 'k_m': 128, 'weights_regular_m': 1.2154814380495125, 'weights_tournament_m': 0.5623771323459791}. Best is trial 6 with value: 0.18803575391261965.\n"
     ]
    },
    {
     "name": "stderr",
     "output_type": "stream",
     "text": [
      "100%|██████████| 194314/194314 [00:00<00:00, 648564.42it/s]\n"
     ]
    },
    {
     "name": "stdout",
     "output_type": "stream",
     "text": [
      "Loss: 0.1880541555276753\n",
      "[I 2025-03-11 18:29:40,403] Trial 34 finished with value: 0.1880541555276753 and parameters: {'init_rating_m': 1466, 'k_m': 130, 'weights_regular_m': 1.107625309779503, 'weights_tournament_m': 0.5587971693332856}. Best is trial 6 with value: 0.18803575391261965.\n"
     ]
    },
    {
     "name": "stderr",
     "output_type": "stream",
     "text": [
      "100%|██████████| 194314/194314 [00:00<00:00, 651831.25it/s]\n"
     ]
    },
    {
     "name": "stdout",
     "output_type": "stream",
     "text": [
      "Loss: 0.18806075733981506\n",
      "[I 2025-03-11 18:29:42,676] Trial 35 finished with value: 0.18806075733981506 and parameters: {'init_rating_m': 1486, 'k_m': 154, 'weights_regular_m': 1.0262345023725763, 'weights_tournament_m': 0.551411638788139}. Best is trial 6 with value: 0.18803575391261965.\n"
     ]
    },
    {
     "name": "stderr",
     "output_type": "stream",
     "text": [
      "100%|██████████| 194314/194314 [00:00<00:00, 640410.98it/s]\n"
     ]
    },
    {
     "name": "stdout",
     "output_type": "stream",
     "text": [
      "Loss: 0.18813872888436992\n",
      "[I 2025-03-11 18:29:44,899] Trial 36 finished with value: 0.18813872888436992 and parameters: {'init_rating_m': 1483, 'k_m': 157, 'weights_regular_m': 0.8832195827605251, 'weights_tournament_m': 0.533115698582978}. Best is trial 6 with value: 0.18803575391261965.\n"
     ]
    },
    {
     "name": "stderr",
     "output_type": "stream",
     "text": [
      "100%|██████████| 194314/194314 [00:00<00:00, 613680.11it/s]\n"
     ]
    },
    {
     "name": "stdout",
     "output_type": "stream",
     "text": [
      "Loss: 0.18991042263902827\n",
      "[I 2025-03-11 18:29:47,138] Trial 37 finished with value: 0.18991042263902827 and parameters: {'init_rating_m': 1459, 'k_m': 248, 'weights_regular_m': 1.0163872113157222, 'weights_tournament_m': 0.5678888726949028}. Best is trial 6 with value: 0.18803575391261965.\n"
     ]
    },
    {
     "name": "stderr",
     "output_type": "stream",
     "text": [
      "100%|██████████| 194314/194314 [00:00<00:00, 638860.31it/s]\n"
     ]
    },
    {
     "name": "stdout",
     "output_type": "stream",
     "text": [
      "Loss: 0.18827198040704857\n",
      "[I 2025-03-11 18:29:49,373] Trial 38 finished with value: 0.18827198040704857 and parameters: {'init_rating_m': 1428, 'k_m': 174, 'weights_regular_m': 1.0174216575522907, 'weights_tournament_m': 0.5527045694111317}. Best is trial 6 with value: 0.18803575391261965.\n"
     ]
    },
    {
     "name": "stderr",
     "output_type": "stream",
     "text": [
      "100%|██████████| 194314/194314 [00:00<00:00, 640860.16it/s]\n"
     ]
    },
    {
     "name": "stdout",
     "output_type": "stream",
     "text": [
      "Loss: 0.18897682165800297\n",
      "[I 2025-03-11 18:29:51,589] Trial 39 finished with value: 0.18897682165800297 and parameters: {'init_rating_m': 1472, 'k_m': 135, 'weights_regular_m': 0.9333461741561113, 'weights_tournament_m': 1.43912988085543}. Best is trial 6 with value: 0.18803575391261965.\n"
     ]
    },
    {
     "name": "stderr",
     "output_type": "stream",
     "text": [
      "100%|██████████| 194314/194314 [00:00<00:00, 651914.67it/s]\n"
     ]
    },
    {
     "name": "stdout",
     "output_type": "stream",
     "text": [
      "Loss: 0.18932765545116112\n",
      "[I 2025-03-11 18:29:53,816] Trial 40 finished with value: 0.18932765545116112 and parameters: {'init_rating_m': 1055, 'k_m': 150, 'weights_regular_m': 1.1209391270853113, 'weights_tournament_m': 0.5019260794030573}. Best is trial 6 with value: 0.18803575391261965.\n"
     ]
    },
    {
     "name": "stderr",
     "output_type": "stream",
     "text": [
      "100%|██████████| 194314/194314 [00:00<00:00, 653808.35it/s]\n"
     ]
    },
    {
     "name": "stdout",
     "output_type": "stream",
     "text": [
      "Loss: 0.18806196388782714\n",
      "[I 2025-03-11 18:29:55,999] Trial 41 finished with value: 0.18806196388782714 and parameters: {'init_rating_m': 1437, 'k_m': 140, 'weights_regular_m': 1.0581791598539096, 'weights_tournament_m': 0.586991840805751}. Best is trial 6 with value: 0.18803575391261965.\n"
     ]
    },
    {
     "name": "stderr",
     "output_type": "stream",
     "text": [
      "100%|██████████| 194314/194314 [00:00<00:00, 643278.50it/s]\n"
     ]
    },
    {
     "name": "stdout",
     "output_type": "stream",
     "text": [
      "Loss: 0.1880787612907176\n",
      "[I 2025-03-11 18:29:58,204] Trial 42 finished with value: 0.1880787612907176 and parameters: {'init_rating_m': 1499, 'k_m': 141, 'weights_regular_m': 1.0432655257736658, 'weights_tournament_m': 0.5857892980831569}. Best is trial 6 with value: 0.18803575391261965.\n"
     ]
    },
    {
     "name": "stderr",
     "output_type": "stream",
     "text": [
      "100%|██████████| 194314/194314 [00:00<00:00, 596412.93it/s]\n"
     ]
    },
    {
     "name": "stdout",
     "output_type": "stream",
     "text": [
      "Loss: 0.18825526247829502\n",
      "[I 2025-03-11 18:30:00,642] Trial 43 finished with value: 0.18825526247829502 and parameters: {'init_rating_m': 1444, 'k_m': 162, 'weights_regular_m': 1.1046702073294798, 'weights_tournament_m': 0.5496069310906414}. Best is trial 6 with value: 0.18803575391261965.\n"
     ]
    },
    {
     "name": "stderr",
     "output_type": "stream",
     "text": [
      "100%|██████████| 194314/194314 [00:00<00:00, 625001.52it/s]\n"
     ]
    },
    {
     "name": "stdout",
     "output_type": "stream",
     "text": [
      "Loss: 0.1881834604510053\n",
      "[I 2025-03-11 18:30:02,864] Trial 44 finished with value: 0.1881834604510053 and parameters: {'init_rating_m': 1419, 'k_m': 173, 'weights_regular_m': 0.9539175500690809, 'weights_tournament_m': 0.5977376463954243}. Best is trial 6 with value: 0.18803575391261965.\n"
     ]
    },
    {
     "name": "stderr",
     "output_type": "stream",
     "text": [
      "100%|██████████| 194314/194314 [00:00<00:00, 645184.57it/s]\n"
     ]
    },
    {
     "name": "stdout",
     "output_type": "stream",
     "text": [
      "Loss: 0.18833887174542135\n",
      "[I 2025-03-11 18:30:05,136] Trial 45 finished with value: 0.18833887174542135 and parameters: {'init_rating_m': 1437, 'k_m': 148, 'weights_regular_m': 0.8112460229589182, 'weights_tournament_m': 0.5045850724656572}. Best is trial 6 with value: 0.18803575391261965.\n"
     ]
    },
    {
     "name": "stderr",
     "output_type": "stream",
     "text": [
      "100%|██████████| 194314/194314 [00:00<00:00, 639101.78it/s]\n"
     ]
    },
    {
     "name": "stdout",
     "output_type": "stream",
     "text": [
      "Loss: 0.18813719304399967\n",
      "[I 2025-03-11 18:30:07,323] Trial 46 finished with value: 0.18813719304399967 and parameters: {'init_rating_m': 1477, 'k_m': 136, 'weights_regular_m': 1.1836415233092852, 'weights_tournament_m': 0.7980442952873175}. Best is trial 6 with value: 0.18803575391261965.\n"
     ]
    },
    {
     "name": "stderr",
     "output_type": "stream",
     "text": [
      "100%|██████████| 194314/194314 [00:00<00:00, 647736.60it/s]\n"
     ]
    },
    {
     "name": "stdout",
     "output_type": "stream",
     "text": [
      "Loss: 0.18842071683222253\n",
      "[I 2025-03-11 18:30:09,527] Trial 47 finished with value: 0.18842071683222253 and parameters: {'init_rating_m': 1358, 'k_m': 156, 'weights_regular_m': 1.1375073427898088, 'weights_tournament_m': 0.6300657384236775}. Best is trial 6 with value: 0.18803575391261965.\n"
     ]
    },
    {
     "name": "stderr",
     "output_type": "stream",
     "text": [
      "100%|██████████| 194314/194314 [00:00<00:00, 569707.38it/s]\n"
     ]
    },
    {
     "name": "stdout",
     "output_type": "stream",
     "text": [
      "Loss: 0.18822467769376447\n",
      "[I 2025-03-11 18:30:11,771] Trial 48 finished with value: 0.18822467769376447 and parameters: {'init_rating_m': 1415, 'k_m': 123, 'weights_regular_m': 0.9977023977544791, 'weights_tournament_m': 0.5423334242389282}. Best is trial 6 with value: 0.18803575391261965.\n"
     ]
    },
    {
     "name": "stderr",
     "output_type": "stream",
     "text": [
      "100%|██████████| 194314/194314 [00:00<00:00, 640848.57it/s]\n"
     ]
    },
    {
     "name": "stdout",
     "output_type": "stream",
     "text": [
      "Loss: 0.1884926213248297\n"
     ]
    },
    {
     "name": "stderr",
     "output_type": "stream",
     "text": [
      "[I 2025-03-11 18:30:13,984] A new study created in memory with name: no-name-ca3af9af-31d3-4faf-876d-671afb1c3e76\n"
     ]
    },
    {
     "name": "stdout",
     "output_type": "stream",
     "text": [
      "[I 2025-03-11 18:30:13,982] Trial 49 finished with value: 0.1884926213248297 and parameters: {'init_rating_m': 1180, 'k_m': 130, 'weights_regular_m': 1.052023324493436, 'weights_tournament_m': 1.1520637161996712}. Best is trial 6 with value: 0.18803575391261965.\n",
      "Best Hyperparameters: {'init_rating_m': 1288, 'k_m': 119, 'weights_regular_m': 1.1419791822297913, 'weights_tournament_m': 0.5484016402812285}\n",
      "Best MSE: 0.18803575391261965\n"
     ]
    },
    {
     "data": {
      "application/vnd.jupyter.widget-view+json": {
       "model_id": "96b72c6ef6b84cb9b28551208ee6e182",
       "version_major": 2,
       "version_minor": 0
      },
      "text/plain": [
       "  0%|          | 0/50 [00:00<?, ?it/s]"
      ]
     },
     "metadata": {},
     "output_type": "display_data"
    },
    {
     "name": "stderr",
     "output_type": "stream",
     "text": [
      "100%|██████████| 137598/137598 [00:00<00:00, 566120.20it/s]\n"
     ]
    },
    {
     "name": "stdout",
     "output_type": "stream",
     "text": [
      "Loss: 0.14894044003841778\n",
      "[I 2025-03-11 18:30:15,571] Trial 0 finished with value: 0.14894044003841778 and parameters: {'init_rating_w': 1209, 'k_w': 232, 'weights_regular_w': 0.6277650423248311, 'weights_tournament_w': 0.9855686581712743}. Best is trial 0 with value: 0.14894044003841778.\n"
     ]
    },
    {
     "name": "stderr",
     "output_type": "stream",
     "text": [
      "100%|██████████| 137598/137598 [00:00<00:00, 645850.90it/s]\n"
     ]
    },
    {
     "name": "stdout",
     "output_type": "stream",
     "text": [
      "Loss: 0.14833157485714657\n",
      "[I 2025-03-11 18:30:17,149] Trial 1 finished with value: 0.14833157485714657 and parameters: {'init_rating_w': 1262, 'k_w': 176, 'weights_regular_w': 1.0621066589087889, 'weights_tournament_w': 1.075388465160931}. Best is trial 1 with value: 0.14833157485714657.\n"
     ]
    },
    {
     "name": "stderr",
     "output_type": "stream",
     "text": [
      "100%|██████████| 137598/137598 [00:00<00:00, 651975.99it/s]\n"
     ]
    },
    {
     "name": "stdout",
     "output_type": "stream",
     "text": [
      "Loss: 0.15016481608028825\n",
      "[I 2025-03-11 18:30:18,942] Trial 2 finished with value: 0.15016481608028825 and parameters: {'init_rating_w': 1014, 'k_w': 182, 'weights_regular_w': 0.6032990202137971, 'weights_tournament_w': 1.474818491084687}. Best is trial 1 with value: 0.14833157485714657.\n"
     ]
    },
    {
     "name": "stderr",
     "output_type": "stream",
     "text": [
      "100%|██████████| 137598/137598 [00:00<00:00, 615497.33it/s]\n"
     ]
    },
    {
     "name": "stdout",
     "output_type": "stream",
     "text": [
      "Loss: 0.1487564932508669\n",
      "[I 2025-03-11 18:30:20,527] Trial 3 finished with value: 0.1487564932508669 and parameters: {'init_rating_w': 1045, 'k_w': 156, 'weights_regular_w': 1.2314409324085935, 'weights_tournament_w': 0.6234215429395079}. Best is trial 1 with value: 0.14833157485714657.\n"
     ]
    },
    {
     "name": "stderr",
     "output_type": "stream",
     "text": [
      "100%|██████████| 137598/137598 [00:00<00:00, 645856.68it/s]\n"
     ]
    },
    {
     "name": "stdout",
     "output_type": "stream",
     "text": [
      "Loss: 0.14835028047062315\n",
      "[I 2025-03-11 18:30:22,090] Trial 4 finished with value: 0.14835028047062315 and parameters: {'init_rating_w': 1252, 'k_w': 242, 'weights_regular_w': 0.7770109169339329, 'weights_tournament_w': 0.8056024601421742}. Best is trial 1 with value: 0.14833157485714657.\n"
     ]
    },
    {
     "name": "stderr",
     "output_type": "stream",
     "text": [
      "100%|██████████| 137598/137598 [00:00<00:00, 619672.71it/s]\n"
     ]
    },
    {
     "name": "stdout",
     "output_type": "stream",
     "text": [
      "Loss: 0.15033665260010382\n",
      "[I 2025-03-11 18:30:23,662] Trial 5 finished with value: 0.15033665260010382 and parameters: {'init_rating_w': 1169, 'k_w': 119, 'weights_regular_w': 0.86054882864997, 'weights_tournament_w': 0.8851697908692825}. Best is trial 1 with value: 0.14833157485714657.\n"
     ]
    },
    {
     "name": "stderr",
     "output_type": "stream",
     "text": [
      "100%|██████████| 137598/137598 [00:00<00:00, 639846.92it/s]\n"
     ]
    },
    {
     "name": "stdout",
     "output_type": "stream",
     "text": [
      "Loss: 0.14942107133442406\n",
      "[I 2025-03-11 18:30:25,224] Trial 6 finished with value: 0.14942107133442406 and parameters: {'init_rating_w': 1170, 'k_w': 250, 'weights_regular_w': 0.802550799386127, 'weights_tournament_w': 1.4933046416316422}. Best is trial 1 with value: 0.14833157485714657.\n"
     ]
    },
    {
     "name": "stderr",
     "output_type": "stream",
     "text": [
      "100%|██████████| 137598/137598 [00:00<00:00, 590010.12it/s]\n"
     ]
    },
    {
     "name": "stdout",
     "output_type": "stream",
     "text": [
      "Loss: 0.14922380539367575\n",
      "[I 2025-03-11 18:30:26,837] Trial 7 finished with value: 0.14922380539367575 and parameters: {'init_rating_w': 1321, 'k_w': 111, 'weights_regular_w': 1.2258857727841361, 'weights_tournament_w': 1.0051121614784981}. Best is trial 1 with value: 0.14833157485714657.\n"
     ]
    },
    {
     "name": "stderr",
     "output_type": "stream",
     "text": [
      "100%|██████████| 137598/137598 [00:00<00:00, 639578.88it/s]\n"
     ]
    },
    {
     "name": "stdout",
     "output_type": "stream",
     "text": [
      "Loss: 0.14872065472045726\n",
      "[I 2025-03-11 18:30:28,398] Trial 8 finished with value: 0.14872065472045726 and parameters: {'init_rating_w': 1144, 'k_w': 142, 'weights_regular_w': 0.9484698800025032, 'weights_tournament_w': 1.0509970530049846}. Best is trial 1 with value: 0.14833157485714657.\n"
     ]
    },
    {
     "name": "stderr",
     "output_type": "stream",
     "text": [
      "100%|██████████| 137598/137598 [00:00<00:00, 651740.38it/s]\n"
     ]
    },
    {
     "name": "stdout",
     "output_type": "stream",
     "text": [
      "Loss: 0.15679673431915228\n",
      "[I 2025-03-11 18:30:29,955] Trial 9 finished with value: 0.15679673431915228 and parameters: {'init_rating_w': 1074, 'k_w': 104, 'weights_regular_w': 0.507128204500021, 'weights_tournament_w': 0.8811921880359092}. Best is trial 1 with value: 0.14833157485714657.\n"
     ]
    },
    {
     "name": "stderr",
     "output_type": "stream",
     "text": [
      "100%|██████████| 137598/137598 [00:00<00:00, 573197.43it/s]\n"
     ]
    },
    {
     "name": "stdout",
     "output_type": "stream",
     "text": [
      "Loss: 0.14884662097815834\n",
      "[I 2025-03-11 18:30:31,549] Trial 10 finished with value: 0.14884662097815834 and parameters: {'init_rating_w': 1493, 'k_w': 198, 'weights_regular_w': 1.4052637068317941, 'weights_tournament_w': 1.2420922151588978}. Best is trial 1 with value: 0.14833157485714657.\n"
     ]
    },
    {
     "name": "stderr",
     "output_type": "stream",
     "text": [
      "100%|██████████| 137598/137598 [00:00<00:00, 639848.33it/s]\n"
     ]
    },
    {
     "name": "stdout",
     "output_type": "stream",
     "text": [
      "Loss: 0.1485840533521767\n",
      "[I 2025-03-11 18:30:33,150] Trial 11 finished with value: 0.1485840533521767 and parameters: {'init_rating_w': 1323, 'k_w': 211, 'weights_regular_w': 1.1071533963996743, 'weights_tournament_w': 0.6373329114864049}. Best is trial 1 with value: 0.14833157485714657.\n"
     ]
    },
    {
     "name": "stderr",
     "output_type": "stream",
     "text": [
      "100%|██████████| 137598/137598 [00:00<00:00, 635169.64it/s]\n"
     ]
    },
    {
     "name": "stdout",
     "output_type": "stream",
     "text": [
      "Loss: 0.14884775176416135\n",
      "[I 2025-03-11 18:30:34,719] Trial 12 finished with value: 0.14884775176416135 and parameters: {'init_rating_w': 1303, 'k_w': 218, 'weights_regular_w': 0.7611491243533389, 'weights_tournament_w': 1.2221825469300223}. Best is trial 1 with value: 0.14833157485714657.\n"
     ]
    },
    {
     "name": "stderr",
     "output_type": "stream",
     "text": [
      "100%|██████████| 137598/137598 [00:00<00:00, 585175.17it/s]\n"
     ]
    },
    {
     "name": "stdout",
     "output_type": "stream",
     "text": [
      "Loss: 0.14833403545626908\n",
      "[I 2025-03-11 18:30:36,323] Trial 13 finished with value: 0.14833403545626908 and parameters: {'init_rating_w': 1415, 'k_w': 176, 'weights_regular_w': 1.0498858779035485, 'weights_tournament_w': 0.754354274151943}. Best is trial 1 with value: 0.14833157485714657.\n"
     ]
    },
    {
     "name": "stderr",
     "output_type": "stream",
     "text": [
      "100%|██████████| 137598/137598 [00:00<00:00, 630882.85it/s]\n"
     ]
    },
    {
     "name": "stdout",
     "output_type": "stream",
     "text": [
      "Loss: 0.14849053370398338\n",
      "[I 2025-03-11 18:30:37,915] Trial 14 finished with value: 0.14849053370398338 and parameters: {'init_rating_w': 1440, 'k_w': 165, 'weights_regular_w': 1.062954242517598, 'weights_tournament_w': 0.5282722212803651}. Best is trial 1 with value: 0.14833157485714657.\n"
     ]
    },
    {
     "name": "stderr",
     "output_type": "stream",
     "text": [
      "100%|██████████| 137598/137598 [00:00<00:00, 644056.95it/s]\n"
     ]
    },
    {
     "name": "stdout",
     "output_type": "stream",
     "text": [
      "Loss: 0.14836341574639678\n",
      "[I 2025-03-11 18:30:39,510] Trial 15 finished with value: 0.14836341574639678 and parameters: {'init_rating_w': 1390, 'k_w': 185, 'weights_regular_w': 1.1749164075311396, 'weights_tournament_w': 1.1481142276534195}. Best is trial 1 with value: 0.14833157485714657.\n"
     ]
    },
    {
     "name": "stderr",
     "output_type": "stream",
     "text": [
      "100%|██████████| 137598/137598 [00:00<00:00, 590418.15it/s]\n"
     ]
    },
    {
     "name": "stdout",
     "output_type": "stream",
     "text": [
      "Loss: 0.1482617024425404\n",
      "[I 2025-03-11 18:30:41,322] Trial 16 finished with value: 0.1482617024425404 and parameters: {'init_rating_w': 1394, 'k_w': 137, 'weights_regular_w': 1.3877486799307803, 'weights_tournament_w': 0.7419030245661254}. Best is trial 16 with value: 0.1482617024425404.\n"
     ]
    },
    {
     "name": "stderr",
     "output_type": "stream",
     "text": [
      "100%|██████████| 137598/137598 [00:00<00:00, 648630.97it/s]\n"
     ]
    },
    {
     "name": "stdout",
     "output_type": "stream",
     "text": [
      "Loss: 0.14824491288139974\n",
      "[I 2025-03-11 18:30:42,901] Trial 17 finished with value: 0.14824491288139974 and parameters: {'init_rating_w': 1380, 'k_w': 133, 'weights_regular_w': 1.449519851322866, 'weights_tournament_w': 0.7018580080146232}. Best is trial 17 with value: 0.14824491288139974.\n"
     ]
    },
    {
     "name": "stderr",
     "output_type": "stream",
     "text": [
      "100%|██████████| 137598/137598 [00:00<00:00, 642626.24it/s]\n"
     ]
    },
    {
     "name": "stdout",
     "output_type": "stream",
     "text": [
      "Loss: 0.14823664996871275\n",
      "[I 2025-03-11 18:30:44,476] Trial 18 finished with value: 0.14823664996871275 and parameters: {'init_rating_w': 1359, 'k_w': 132, 'weights_regular_w': 1.4978701750414043, 'weights_tournament_w': 0.6972087607218321}. Best is trial 18 with value: 0.14823664996871275.\n"
     ]
    },
    {
     "name": "stderr",
     "output_type": "stream",
     "text": [
      "100%|██████████| 137598/137598 [00:00<00:00, 606021.11it/s]\n"
     ]
    },
    {
     "name": "stdout",
     "output_type": "stream",
     "text": [
      "Loss: 0.14840894350921438\n",
      "[I 2025-03-11 18:30:46,058] Trial 19 finished with value: 0.14840894350921438 and parameters: {'init_rating_w': 1500, 'k_w': 130, 'weights_regular_w': 1.4570725897961891, 'weights_tournament_w': 0.5515626472324534}. Best is trial 18 with value: 0.14823664996871275.\n"
     ]
    },
    {
     "name": "stderr",
     "output_type": "stream",
     "text": [
      "100%|██████████| 137598/137598 [00:00<00:00, 645853.07it/s]\n"
     ]
    },
    {
     "name": "stdout",
     "output_type": "stream",
     "text": [
      "Loss: 0.14847848204044714\n",
      "[I 2025-03-11 18:30:47,618] Trial 20 finished with value: 0.14847848204044714 and parameters: {'init_rating_w': 1358, 'k_w': 156, 'weights_regular_w': 1.4799191365728204, 'weights_tournament_w': 0.6552258248662385}. Best is trial 18 with value: 0.14823664996871275.\n"
     ]
    },
    {
     "name": "stderr",
     "output_type": "stream",
     "text": [
      "100%|██████████| 137598/137598 [00:00<00:00, 568459.40it/s]\n"
     ]
    },
    {
     "name": "stdout",
     "output_type": "stream",
     "text": [
      "Loss: 0.14840135704617083\n",
      "[I 2025-03-11 18:30:49,215] Trial 21 finished with value: 0.14840135704617083 and parameters: {'init_rating_w': 1445, 'k_w': 137, 'weights_regular_w': 1.3270475522742489, 'weights_tournament_w': 0.7501594961893736}. Best is trial 18 with value: 0.14823664996871275.\n"
     ]
    },
    {
     "name": "stderr",
     "output_type": "stream",
     "text": [
      "100%|██████████| 137598/137598 [00:00<00:00, 644167.66it/s]\n"
     ]
    },
    {
     "name": "stdout",
     "output_type": "stream",
     "text": [
      "Loss: 0.1485093079914486\n",
      "[I 2025-03-11 18:30:50,786] Trial 22 finished with value: 0.1485093079914486 and parameters: {'init_rating_w': 1377, 'k_w': 124, 'weights_regular_w': 1.3434297163902882, 'weights_tournament_w': 0.711565867948654}. Best is trial 18 with value: 0.14823664996871275.\n"
     ]
    },
    {
     "name": "stderr",
     "output_type": "stream",
     "text": [
      "100%|██████████| 137598/137598 [00:00<00:00, 627107.70it/s]\n"
     ]
    },
    {
     "name": "stdout",
     "output_type": "stream",
     "text": [
      "Loss: 0.14823112791167267\n",
      "[I 2025-03-11 18:30:52,370] Trial 23 finished with value: 0.14823112791167267 and parameters: {'init_rating_w': 1348, 'k_w': 146, 'weights_regular_w': 1.3416954707332553, 'weights_tournament_w': 0.8570798190231459}. Best is trial 23 with value: 0.14823112791167267.\n"
     ]
    },
    {
     "name": "stderr",
     "output_type": "stream",
     "text": [
      "100%|██████████| 137598/137598 [00:00<00:00, 569202.27it/s]\n"
     ]
    },
    {
     "name": "stdout",
     "output_type": "stream",
     "text": [
      "Loss: 0.14843601936941125\n",
      "[I 2025-03-11 18:30:53,976] Trial 24 finished with value: 0.14843601936941125 and parameters: {'init_rating_w': 1295, 'k_w': 146, 'weights_regular_w': 1.495113951332411, 'weights_tournament_w': 0.8479354803373926}. Best is trial 23 with value: 0.14823112791167267.\n"
     ]
    },
    {
     "name": "stderr",
     "output_type": "stream",
     "text": [
      "100%|██████████| 137598/137598 [00:00<00:00, 645854.51it/s]\n"
     ]
    },
    {
     "name": "stdout",
     "output_type": "stream",
     "text": [
      "Loss: 0.14825582091728795\n",
      "[I 2025-03-11 18:30:55,554] Trial 25 finished with value: 0.14825582091728795 and parameters: {'init_rating_w': 1344, 'k_w': 153, 'weights_regular_w': 1.3267338840199645, 'weights_tournament_w': 0.5941253872160733}. Best is trial 23 with value: 0.14823112791167267.\n"
     ]
    },
    {
     "name": "stderr",
     "output_type": "stream",
     "text": [
      "100%|██████████| 137598/137598 [00:00<00:00, 648901.54it/s]\n"
     ]
    },
    {
     "name": "stdout",
     "output_type": "stream",
     "text": [
      "Loss: 0.1499873937421453\n",
      "[I 2025-03-11 18:30:57,120] Trial 26 finished with value: 0.1499873937421453 and parameters: {'init_rating_w': 1446, 'k_w': 102, 'weights_regular_w': 1.2943388847081356, 'weights_tournament_w': 0.9424736339587385}. Best is trial 23 with value: 0.14823112791167267.\n"
     ]
    },
    {
     "name": "stderr",
     "output_type": "stream",
     "text": [
      "100%|██████████| 137598/137598 [00:00<00:00, 592960.48it/s]\n"
     ]
    },
    {
     "name": "stdout",
     "output_type": "stream",
     "text": [
      "Loss: 0.14855265604346332\n",
      "[I 2025-03-11 18:30:58,953] Trial 27 finished with value: 0.14855265604346332 and parameters: {'init_rating_w': 1273, 'k_w': 123, 'weights_regular_w': 1.2391679692630908, 'weights_tournament_w': 0.5036086739124461}. Best is trial 23 with value: 0.14823112791167267.\n"
     ]
    },
    {
     "name": "stderr",
     "output_type": "stream",
     "text": [
      "100%|██████████| 137598/137598 [00:00<00:00, 639846.21it/s]\n"
     ]
    },
    {
     "name": "stdout",
     "output_type": "stream",
     "text": [
      "Loss: 0.14832152707873822\n",
      "[I 2025-03-11 18:31:00,528] Trial 28 finished with value: 0.14832152707873822 and parameters: {'init_rating_w': 1218, 'k_w': 112, 'weights_regular_w': 1.4213835983205514, 'weights_tournament_w': 0.8126828286769593}. Best is trial 23 with value: 0.14823112791167267.\n"
     ]
    },
    {
     "name": "stderr",
     "output_type": "stream",
     "text": [
      "100%|██████████| 137598/137598 [00:00<00:00, 642836.68it/s]\n"
     ]
    },
    {
     "name": "stdout",
     "output_type": "stream",
     "text": [
      "Loss: 0.14823148204703104\n",
      "[I 2025-03-11 18:31:02,096] Trial 29 finished with value: 0.14823148204703104 and parameters: {'init_rating_w': 1349, 'k_w': 165, 'weights_regular_w': 1.16559663688047, 'weights_tournament_w': 0.6736398279191278}. Best is trial 23 with value: 0.14823112791167267.\n"
     ]
    },
    {
     "name": "stderr",
     "output_type": "stream",
     "text": [
      "100%|██████████| 137598/137598 [00:00<00:00, 608704.38it/s]\n"
     ]
    },
    {
     "name": "stdout",
     "output_type": "stream",
     "text": [
      "Loss: 0.14828385987149142\n",
      "[I 2025-03-11 18:31:03,685] Trial 30 finished with value: 0.14828385987149142 and parameters: {'init_rating_w': 1232, 'k_w': 148, 'weights_regular_w': 1.14712226460285, 'weights_tournament_w': 0.9496180502013062}. Best is trial 23 with value: 0.14823112791167267.\n"
     ]
    },
    {
     "name": "stderr",
     "output_type": "stream",
     "text": [
      "100%|██████████| 137598/137598 [00:00<00:00, 648683.47it/s]\n"
     ]
    },
    {
     "name": "stdout",
     "output_type": "stream",
     "text": [
      "Loss: 0.1484276992216741\n",
      "[I 2025-03-11 18:31:05,267] Trial 31 finished with value: 0.1484276992216741 and parameters: {'init_rating_w': 1340, 'k_w': 164, 'weights_regular_w': 1.3708316912818874, 'weights_tournament_w': 0.710718037057946}. Best is trial 23 with value: 0.14823112791167267.\n"
     ]
    },
    {
     "name": "stderr",
     "output_type": "stream",
     "text": [
      "100%|██████████| 137598/137598 [00:00<00:00, 645486.83it/s]\n"
     ]
    },
    {
     "name": "stdout",
     "output_type": "stream",
     "text": [
      "Loss: 0.14874881248522848\n",
      "[I 2025-03-11 18:31:06,829] Trial 32 finished with value: 0.14874881248522848 and parameters: {'init_rating_w': 1368, 'k_w': 167, 'weights_regular_w': 1.499209011812457, 'weights_tournament_w': 0.6778712090662934}. Best is trial 23 with value: 0.14823112791167267.\n"
     ]
    },
    {
     "name": "stderr",
     "output_type": "stream",
     "text": [
      "100%|██████████| 137598/137598 [00:00<00:00, 575377.54it/s]\n"
     ]
    },
    {
     "name": "stdout",
     "output_type": "stream",
     "text": [
      "Loss: 0.14843250661177043\n",
      "[I 2025-03-11 18:31:08,423] Trial 33 finished with value: 0.14843250661177043 and parameters: {'init_rating_w': 1406, 'k_w': 137, 'weights_regular_w': 1.2779366765853086, 'weights_tournament_w': 0.5852131678831721}. Best is trial 23 with value: 0.14823112791167267.\n"
     ]
    },
    {
     "name": "stderr",
     "output_type": "stream",
     "text": [
      "100%|██████████| 137598/137598 [00:00<00:00, 647113.13it/s]\n"
     ]
    },
    {
     "name": "stdout",
     "output_type": "stream",
     "text": [
      "Loss: 0.14823002216658998\n",
      "[I 2025-03-11 18:31:09,991] Trial 34 finished with value: 0.14823002216658998 and parameters: {'init_rating_w': 1283, 'k_w': 129, 'weights_regular_w': 1.4277066442472455, 'weights_tournament_w': 0.8193976618959419}. Best is trial 34 with value: 0.14823002216658998.\n"
     ]
    },
    {
     "name": "stderr",
     "output_type": "stream",
     "text": [
      "100%|██████████| 137598/137598 [00:00<00:00, 645855.96it/s]\n"
     ]
    },
    {
     "name": "stdout",
     "output_type": "stream",
     "text": [
      "Loss: 0.14856971552565648\n",
      "[I 2025-03-11 18:31:11,552] Trial 35 finished with value: 0.14856971552565648 and parameters: {'init_rating_w': 1263, 'k_w': 189, 'weights_regular_w': 1.175359624281546, 'weights_tournament_w': 0.794174622758349}. Best is trial 34 with value: 0.14823002216658998.\n"
     ]
    },
    {
     "name": "stderr",
     "output_type": "stream",
     "text": [
      "100%|██████████| 137598/137598 [00:00<00:00, 580450.92it/s]\n"
     ]
    },
    {
     "name": "stdout",
     "output_type": "stream",
     "text": [
      "Loss: 0.1483054325379206\n",
      "[I 2025-03-11 18:31:13,175] Trial 36 finished with value: 0.1483054325379206 and parameters: {'init_rating_w': 1286, 'k_w': 161, 'weights_regular_w': 1.2620107617793639, 'weights_tournament_w': 0.9168803614333155}. Best is trial 34 with value: 0.14823002216658998.\n"
     ]
    },
    {
     "name": "stderr",
     "output_type": "stream",
     "text": [
      "100%|██████████| 137598/137598 [00:00<00:00, 644180.60it/s]\n"
     ]
    },
    {
     "name": "stdout",
     "output_type": "stream",
     "text": [
      "Loss: 0.14824766932621922\n",
      "[I 2025-03-11 18:31:14,735] Trial 37 finished with value: 0.14824766932621922 and parameters: {'init_rating_w': 1193, 'k_w': 128, 'weights_regular_w': 1.413152309314338, 'weights_tournament_w': 0.8271544150650925}. Best is trial 34 with value: 0.14823002216658998.\n"
     ]
    },
    {
     "name": "stderr",
     "output_type": "stream",
     "text": [
      "100%|██████████| 137598/137598 [00:00<00:00, 630812.51it/s]\n"
     ]
    },
    {
     "name": "stdout",
     "output_type": "stream",
     "text": [
      "Loss: 0.15082461631702962\n",
      "[I 2025-03-11 18:31:16,302] Trial 38 finished with value: 0.15082461631702962 and parameters: {'init_rating_w': 1322, 'k_w': 112, 'weights_regular_w': 0.9866915509797175, 'weights_tournament_w': 1.4067323935423381}. Best is trial 34 with value: 0.14823002216658998.\n"
     ]
    },
    {
     "name": "stderr",
     "output_type": "stream",
     "text": [
      "100%|██████████| 137598/137598 [00:00<00:00, 633436.55it/s]\n"
     ]
    },
    {
     "name": "stdout",
     "output_type": "stream",
     "text": [
      "Loss: 0.14823897201919278\n",
      "[I 2025-03-11 18:31:17,911] Trial 39 finished with value: 0.14823897201919278 and parameters: {'init_rating_w': 1243, 'k_w': 148, 'weights_regular_w': 1.209023425752025, 'weights_tournament_w': 0.8608843159798479}. Best is trial 34 with value: 0.14823002216658998.\n"
     ]
    },
    {
     "name": "stderr",
     "output_type": "stream",
     "text": [
      "100%|██████████| 137598/137598 [00:00<00:00, 647234.32it/s]\n"
     ]
    },
    {
     "name": "stdout",
     "output_type": "stream",
     "text": [
      "Loss: 0.1483817074470673\n",
      "[I 2025-03-11 18:31:19,485] Trial 40 finished with value: 0.1483817074470673 and parameters: {'init_rating_w': 1425, 'k_w': 172, 'weights_regular_w': 1.3575239809925772, 'weights_tournament_w': 1.055686528646337}. Best is trial 34 with value: 0.14823002216658998.\n"
     ]
    },
    {
     "name": "stderr",
     "output_type": "stream",
     "text": [
      "100%|██████████| 137598/137598 [00:00<00:00, 600731.80it/s]\n"
     ]
    },
    {
     "name": "stdout",
     "output_type": "stream",
     "text": [
      "Loss: 0.14824305584936304\n",
      "[I 2025-03-11 18:31:21,305] Trial 41 finished with value: 0.14824305584936304 and parameters: {'init_rating_w': 1244, 'k_w': 145, 'weights_regular_w': 1.2182900942460653, 'weights_tournament_w': 0.8738654741800536}. Best is trial 34 with value: 0.14823002216658998.\n"
     ]
    },
    {
     "name": "stderr",
     "output_type": "stream",
     "text": [
      "100%|██████████| 137598/137598 [00:00<00:00, 636443.06it/s]\n"
     ]
    },
    {
     "name": "stdout",
     "output_type": "stream",
     "text": [
      "Loss: 0.14828281576790778\n",
      "[I 2025-03-11 18:31:22,864] Trial 42 finished with value: 0.14828281576790778 and parameters: {'init_rating_w': 1138, 'k_w': 152, 'weights_regular_w': 1.1173797934677465, 'weights_tournament_w': 0.9787172191691584}. Best is trial 34 with value: 0.14823002216658998.\n"
     ]
    },
    {
     "name": "stderr",
     "output_type": "stream",
     "text": [
      "100%|██████████| 137598/137598 [00:00<00:00, 645367.74it/s]\n"
     ]
    },
    {
     "name": "stdout",
     "output_type": "stream",
     "text": [
      "Loss: 0.14823863064973666\n",
      "[I 2025-03-11 18:31:24,436] Trial 43 finished with value: 0.14823863064973666 and parameters: {'init_rating_w': 1306, 'k_w': 141, 'weights_regular_w': 1.2997568262482984, 'weights_tournament_w': 0.7881633978008573}. Best is trial 34 with value: 0.14823002216658998.\n"
     ]
    },
    {
     "name": "stderr",
     "output_type": "stream",
     "text": [
      "100%|██████████| 137598/137598 [00:00<00:00, 628158.15it/s]\n"
     ]
    },
    {
     "name": "stdout",
     "output_type": "stream",
     "text": [
      "Loss: 0.14836644507200883\n",
      "[I 2025-03-11 18:31:26,009] Trial 44 finished with value: 0.14836644507200883 and parameters: {'init_rating_w': 1309, 'k_w': 117, 'weights_regular_w': 1.429430763159259, 'weights_tournament_w': 0.7803788700358202}. Best is trial 34 with value: 0.14823002216658998.\n"
     ]
    },
    {
     "name": "stderr",
     "output_type": "stream",
     "text": [
      "100%|██████████| 137598/137598 [00:00<00:00, 585392.41it/s]\n"
     ]
    },
    {
     "name": "stdout",
     "output_type": "stream",
     "text": [
      "Loss: 0.1482520435415524\n",
      "[I 2025-03-11 18:31:27,604] Trial 45 finished with value: 0.1482520435415524 and parameters: {'init_rating_w': 1346, 'k_w': 158, 'weights_regular_w': 1.291774573248674, 'weights_tournament_w': 0.6479039899575181}. Best is trial 34 with value: 0.14823002216658998.\n"
     ]
    },
    {
     "name": "stderr",
     "output_type": "stream",
     "text": [
      "100%|██████████| 137598/137598 [00:00<00:00, 648900.08it/s]\n"
     ]
    },
    {
     "name": "stdout",
     "output_type": "stream",
     "text": [
      "Loss: 0.14825368399847408\n",
      "[I 2025-03-11 18:31:29,175] Trial 46 finished with value: 0.14825368399847408 and parameters: {'init_rating_w': 1285, 'k_w': 141, 'weights_regular_w': 1.3725363406074758, 'weights_tournament_w': 0.61472932156524}. Best is trial 34 with value: 0.14823002216658998.\n"
     ]
    },
    {
     "name": "stderr",
     "output_type": "stream",
     "text": [
      "100%|██████████| 137598/137598 [00:00<00:00, 642836.68it/s]\n"
     ]
    },
    {
     "name": "stdout",
     "output_type": "stream",
     "text": [
      "Loss: 0.14845594485093389\n",
      "[I 2025-03-11 18:31:30,759] Trial 47 finished with value: 0.14845594485093389 and parameters: {'init_rating_w': 1330, 'k_w': 125, 'weights_regular_w': 1.3143793560643948, 'weights_tournament_w': 0.9113537714329933}. Best is trial 34 with value: 0.14823002216658998.\n"
     ]
    },
    {
     "name": "stderr",
     "output_type": "stream",
     "text": [
      "100%|██████████| 137598/137598 [00:00<00:00, 622118.86it/s]\n"
     ]
    },
    {
     "name": "stdout",
     "output_type": "stream",
     "text": [
      "Loss: 0.14839890783433998\n",
      "[I 2025-03-11 18:31:32,333] Trial 48 finished with value: 0.14839890783433998 and parameters: {'init_rating_w': 1310, 'k_w': 118, 'weights_regular_w': 1.3985419459880926, 'weights_tournament_w': 0.7428162264758171}. Best is trial 34 with value: 0.14823002216658998.\n"
     ]
    },
    {
     "name": "stderr",
     "output_type": "stream",
     "text": [
      "100%|██████████| 137598/137598 [00:00<00:00, 636494.30it/s]\n"
     ]
    },
    {
     "name": "stdout",
     "output_type": "stream",
     "text": [
      "Loss: 0.14845288814426785\n",
      "[I 2025-03-11 18:31:33,909] Trial 49 finished with value: 0.14845288814426785 and parameters: {'init_rating_w': 1197, 'k_w': 171, 'weights_regular_w': 0.9142697596420633, 'weights_tournament_w': 1.0014575736465894}. Best is trial 34 with value: 0.14823002216658998.\n",
      "Best Hyperparameters: {'init_rating_w': 1283, 'k_w': 129, 'weights_regular_w': 1.4277066442472455, 'weights_tournament_w': 0.8193976618959419}\n",
      "Best MSE: 0.14823002216658998\n"
     ]
    }
   ],
   "source": [
    "def objective_elo_m(trial):\n",
    "    # 定义需要优化的参\n",
    "    params_elo_m = {\n",
    "        # 男性相关参数\n",
    "        'init_rating_m': trial.suggest_int('init_rating_m', 1000, 1500),  # 初始评分（男性）\n",
    "        'k_m': trial.suggest_int('k_m', 100, 250),  # K 值（男性）\n",
    "        'weights_regular_m': trial.suggest_float('weights_regular_m', 0.5, 1.5),  # 普通比赛权重（男性）\n",
    "        'weights_tournament_m': trial.suggest_float('weights_tournament_m', 0.5, 1.5),  # 锦标赛权重（男性）\n",
    "        'alpha_m': None,  # 男性相关固定参数\n",
    "\n",
    "    }\n",
    "\n",
    "    init_rating_m, k_m, weights_regular_m, weights_tournament_m, alpha_m =params_elo_m.values()\n",
    "\n",
    "    regular_m['tourney'] = 0\n",
    "    tourney_m['tourney'] = 1\n",
    "    regular_m['weight'] = weights_regular_m\n",
    "    tourney_m['weight'] = weights_tournament_m\n",
    "\n",
    "    data_m = pd.concat([regular_m, tourney_m])\n",
    "    data_m.sort_values(['Season', 'DayNum'], inplace=True)\n",
    "    data_m.reset_index(inplace=True, drop=True)\n",
    "\n",
    "    _, loss = create_elo_data(teams_m.TeamID, data_m, initial_rating=init_rating_m, k=k_m, alpha=alpha_m, weights=data_m['weight'])\n",
    "\n",
    "    return loss\n",
    "\n",
    "# 创建 Optuna 研究对象\n",
    "study_elo_m = optuna.create_study(direction='minimize')  # 最小化 MSE\n",
    "\n",
    "# 运行优化\n",
    "study_elo_m.optimize(objective_elo_m, n_trials=50, show_progress_bar=True)  # 运行 50 次试验\n",
    "\n",
    "# 获取最佳超参数\n",
    "best_params_elo_m = study_elo_m.best_params\n",
    "best_score_elo_m = study_elo_m.best_value\n",
    "\n",
    "print(\"Best Hyperparameters:\", best_params_elo_m)\n",
    "print(\"Best MSE:\", best_score_elo_m)\n",
    "\n",
    "def objective_elo_w(trial):\n",
    "    # 定义需要优化的参\n",
    "    params_elo_w = {\n",
    "        # 女性相关参数\n",
    "        'init_rating_w': trial.suggest_int('init_rating_w', 1000, 1500),  # 初始评分（女性）\n",
    "        'k_w': trial.suggest_int('k_w', 100, 250),  # K 值（女性）\n",
    "        'weights_regular_w': trial.suggest_float('weights_regular_w', 0.5, 1.5),  # 普通比赛权重（女性）\n",
    "        'weights_tournament_w': trial.suggest_float('weights_tournament_w', 0.5, 1.5),  # 锦标赛权重（女性）\n",
    "        'alpha_w': None,  # 女性相关固定参数\n",
    "    }\n",
    "\n",
    "    init_rating_w, k_w, weights_regular_w, weights_tournament_w, alpha_w =params_elo_w.values()\n",
    "\n",
    "    regular_w['tourney'] = 0\n",
    "    tourney_w['tourney'] = 1\n",
    "    regular_w['weight'] = weights_regular_w\n",
    "    tourney_w['weight'] = weights_tournament_w\n",
    "\n",
    "    data_w = pd.concat([regular_w, tourney_w])\n",
    "    data_w.sort_values(['Season', 'DayNum'], inplace=True)\n",
    "    data_w.reset_index(inplace=True, drop=True)\n",
    "\n",
    "    _, loss = create_elo_data(teams_w.TeamID, data_w, initial_rating=init_rating_w, k=k_w, alpha=alpha_w, weights=data_w['weight'])\n",
    "\n",
    "    return loss\n",
    "\n",
    "# 创建 Optuna 研究对象\n",
    "study_elo_w = optuna.create_study(direction='minimize')  # 最小化 MSE\n",
    "\n",
    "# 运行优化\n",
    "study_elo_w.optimize(objective_elo_w, n_trials=50, show_progress_bar=True)  # 运行 50 次试验\n",
    "\n",
    "# 获取最佳超参数\n",
    "best_params_elo_w = study_elo_w.best_params\n",
    "best_score_elo_w = study_elo_w.best_value\n",
    "\n",
    "print(\"Best Hyperparameters:\", best_params_elo_w)\n",
    "print(\"Best MSE:\", best_score_elo_w)\n"
   ]
  },
  {
   "cell_type": "code",
   "execution_count": 34,
   "metadata": {},
   "outputs": [],
   "source": [
    "# print('Catboost', pred_of_Catboost.head(), len(pred_of_Catboost))\n",
    "# print('XGBoost', pred_of_XGBoost.head(), len(pred_of_XGBoost))\n",
    "# print('MLP', pred_of_MLP.head(), len(pred_of_MLP))\n",
    "# print('ELO', pred_of_ELO.head(), len(pred_of_ELO))\n",
    "\n",
    "# 汇总了和分开跑不一样，TMD\n"
   ]
  }
 ],
 "metadata": {
  "kernelspec": {
   "display_name": "mmmcatboost",
   "language": "python",
   "name": "python3"
  },
  "language_info": {
   "codemirror_mode": {
    "name": "ipython",
    "version": 3
   },
   "file_extension": ".py",
   "mimetype": "text/x-python",
   "name": "python",
   "nbconvert_exporter": "python",
   "pygments_lexer": "ipython3",
   "version": "3.9.21"
  }
 },
 "nbformat": 4,
 "nbformat_minor": 2
}
